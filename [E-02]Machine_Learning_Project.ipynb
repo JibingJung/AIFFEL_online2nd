{
 "cells": [
  {
   "cell_type": "markdown",
   "id": "006ae698",
   "metadata": {},
   "source": [
    "## 프로젝트 목적\n",
    "\n",
    "미국 NYC Airbnb 목록(2019)으로 MSE 평가방식을 통한 가격 예측"
   ]
  },
  {
   "cell_type": "markdown",
   "id": "0d5bc92f",
   "metadata": {},
   "source": [
    "### 1. Baseline"
   ]
  },
  {
   "cell_type": "markdown",
   "id": "48b0394b",
   "metadata": {},
   "source": [
    "라이브러리 불러오기"
   ]
  },
  {
   "cell_type": "code",
   "execution_count": 1,
   "id": "8438dc63",
   "metadata": {},
   "outputs": [],
   "source": [
    "import pandas as pd"
   ]
  },
  {
   "cell_type": "markdown",
   "id": "493c7591",
   "metadata": {},
   "source": [
    "데이터 불러오기"
   ]
  },
  {
   "cell_type": "code",
   "execution_count": 2,
   "id": "936a30a2",
   "metadata": {},
   "outputs": [],
   "source": [
    "train = pd.read_csv('/aiffel/data/train.csv')\n",
    "test = pd.read_csv('/aiffel/data/test.csv')"
   ]
  },
  {
   "cell_type": "markdown",
   "id": "831a1982",
   "metadata": {},
   "source": [
    "### 2. EDA (탐색적 데이터 분석)"
   ]
  },
  {
   "cell_type": "markdown",
   "id": "cefa765f",
   "metadata": {},
   "source": [
    "데이터 크기"
   ]
  },
  {
   "cell_type": "code",
   "execution_count": 3,
   "id": "fef813a6",
   "metadata": {},
   "outputs": [
    {
     "data": {
      "text/plain": [
       "((39116, 16), (9779, 15))"
      ]
     },
     "execution_count": 3,
     "metadata": {},
     "output_type": "execute_result"
    }
   ],
   "source": [
    "train.shape, test.shape"
   ]
  },
  {
   "cell_type": "markdown",
   "id": "f544ac4e",
   "metadata": {},
   "source": [
    "데이터 샘플"
   ]
  },
  {
   "cell_type": "code",
   "execution_count": 4,
   "id": "142f1c07",
   "metadata": {},
   "outputs": [
    {
     "data": {
      "text/html": [
       "<div>\n",
       "<style scoped>\n",
       "    .dataframe tbody tr th:only-of-type {\n",
       "        vertical-align: middle;\n",
       "    }\n",
       "\n",
       "    .dataframe tbody tr th {\n",
       "        vertical-align: top;\n",
       "    }\n",
       "\n",
       "    .dataframe thead th {\n",
       "        text-align: right;\n",
       "    }\n",
       "</style>\n",
       "<table border=\"1\" class=\"dataframe\">\n",
       "  <thead>\n",
       "    <tr style=\"text-align: right;\">\n",
       "      <th></th>\n",
       "      <th>id</th>\n",
       "      <th>name</th>\n",
       "      <th>host_id</th>\n",
       "      <th>host_name</th>\n",
       "      <th>neighbourhood_group</th>\n",
       "      <th>neighbourhood</th>\n",
       "      <th>latitude</th>\n",
       "      <th>longitude</th>\n",
       "      <th>room_type</th>\n",
       "      <th>price</th>\n",
       "      <th>minimum_nights</th>\n",
       "      <th>number_of_reviews</th>\n",
       "      <th>last_review</th>\n",
       "      <th>reviews_per_month</th>\n",
       "      <th>calculated_host_listings_count</th>\n",
       "      <th>availability_365</th>\n",
       "    </tr>\n",
       "  </thead>\n",
       "  <tbody>\n",
       "    <tr>\n",
       "      <th>0</th>\n",
       "      <td>14963583</td>\n",
       "      <td>Room in South Harlem near Central Park</td>\n",
       "      <td>94219511</td>\n",
       "      <td>Gilles</td>\n",
       "      <td>Manhattan</td>\n",
       "      <td>Harlem</td>\n",
       "      <td>40.80167</td>\n",
       "      <td>-73.95781</td>\n",
       "      <td>Private room</td>\n",
       "      <td>70</td>\n",
       "      <td>3</td>\n",
       "      <td>3</td>\n",
       "      <td>2019-01-01</td>\n",
       "      <td>0.09</td>\n",
       "      <td>2</td>\n",
       "      <td>0</td>\n",
       "    </tr>\n",
       "    <tr>\n",
       "      <th>1</th>\n",
       "      <td>9458704</td>\n",
       "      <td>Large 1BR Apartment, near Times Sq (2nd Floor)</td>\n",
       "      <td>49015331</td>\n",
       "      <td>Iradj</td>\n",
       "      <td>Manhattan</td>\n",
       "      <td>Hell's Kitchen</td>\n",
       "      <td>40.76037</td>\n",
       "      <td>-73.99016</td>\n",
       "      <td>Entire home/apt</td>\n",
       "      <td>240</td>\n",
       "      <td>2</td>\n",
       "      <td>64</td>\n",
       "      <td>2019-06-30</td>\n",
       "      <td>1.68</td>\n",
       "      <td>2</td>\n",
       "      <td>262</td>\n",
       "    </tr>\n",
       "    <tr>\n",
       "      <th>2</th>\n",
       "      <td>26871281</td>\n",
       "      <td>West Village Apartment</td>\n",
       "      <td>440022</td>\n",
       "      <td>Petter</td>\n",
       "      <td>Manhattan</td>\n",
       "      <td>West Village</td>\n",
       "      <td>40.73001</td>\n",
       "      <td>-74.00562</td>\n",
       "      <td>Entire home/apt</td>\n",
       "      <td>150</td>\n",
       "      <td>60</td>\n",
       "      <td>1</td>\n",
       "      <td>2019-02-07</td>\n",
       "      <td>0.20</td>\n",
       "      <td>1</td>\n",
       "      <td>0</td>\n",
       "    </tr>\n",
       "    <tr>\n",
       "      <th>3</th>\n",
       "      <td>698132</td>\n",
       "      <td>LARGE PRIVATE FLOOR IN BROOKLYN, NY</td>\n",
       "      <td>3577509</td>\n",
       "      <td>Eric</td>\n",
       "      <td>Brooklyn</td>\n",
       "      <td>Bedford-Stuyvesant</td>\n",
       "      <td>40.69128</td>\n",
       "      <td>-73.93653</td>\n",
       "      <td>Entire home/apt</td>\n",
       "      <td>85</td>\n",
       "      <td>4</td>\n",
       "      <td>239</td>\n",
       "      <td>2019-06-26</td>\n",
       "      <td>2.89</td>\n",
       "      <td>2</td>\n",
       "      <td>1</td>\n",
       "    </tr>\n",
       "    <tr>\n",
       "      <th>4</th>\n",
       "      <td>15783953</td>\n",
       "      <td>Sun-drenched apartment, 20 mins to Manhattan</td>\n",
       "      <td>12475280</td>\n",
       "      <td>George</td>\n",
       "      <td>Brooklyn</td>\n",
       "      <td>Bedford-Stuyvesant</td>\n",
       "      <td>40.68899</td>\n",
       "      <td>-73.95555</td>\n",
       "      <td>Private room</td>\n",
       "      <td>44</td>\n",
       "      <td>28</td>\n",
       "      <td>0</td>\n",
       "      <td>NaN</td>\n",
       "      <td>NaN</td>\n",
       "      <td>1</td>\n",
       "      <td>0</td>\n",
       "    </tr>\n",
       "  </tbody>\n",
       "</table>\n",
       "</div>"
      ],
      "text/plain": [
       "         id                                            name   host_id  \\\n",
       "0  14963583          Room in South Harlem near Central Park  94219511   \n",
       "1   9458704  Large 1BR Apartment, near Times Sq (2nd Floor)  49015331   \n",
       "2  26871281                          West Village Apartment    440022   \n",
       "3    698132             LARGE PRIVATE FLOOR IN BROOKLYN, NY   3577509   \n",
       "4  15783953    Sun-drenched apartment, 20 mins to Manhattan  12475280   \n",
       "\n",
       "  host_name neighbourhood_group       neighbourhood  latitude  longitude  \\\n",
       "0    Gilles           Manhattan              Harlem  40.80167  -73.95781   \n",
       "1     Iradj           Manhattan      Hell's Kitchen  40.76037  -73.99016   \n",
       "2    Petter           Manhattan        West Village  40.73001  -74.00562   \n",
       "3      Eric            Brooklyn  Bedford-Stuyvesant  40.69128  -73.93653   \n",
       "4    George            Brooklyn  Bedford-Stuyvesant  40.68899  -73.95555   \n",
       "\n",
       "         room_type  price  minimum_nights  number_of_reviews last_review  \\\n",
       "0     Private room     70               3                  3  2019-01-01   \n",
       "1  Entire home/apt    240               2                 64  2019-06-30   \n",
       "2  Entire home/apt    150              60                  1  2019-02-07   \n",
       "3  Entire home/apt     85               4                239  2019-06-26   \n",
       "4     Private room     44              28                  0         NaN   \n",
       "\n",
       "   reviews_per_month  calculated_host_listings_count  availability_365  \n",
       "0               0.09                               2                 0  \n",
       "1               1.68                               2               262  \n",
       "2               0.20                               1                 0  \n",
       "3               2.89                               2                 1  \n",
       "4                NaN                               1                 0  "
      ]
     },
     "metadata": {},
     "output_type": "display_data"
    },
    {
     "data": {
      "text/html": [
       "<div>\n",
       "<style scoped>\n",
       "    .dataframe tbody tr th:only-of-type {\n",
       "        vertical-align: middle;\n",
       "    }\n",
       "\n",
       "    .dataframe tbody tr th {\n",
       "        vertical-align: top;\n",
       "    }\n",
       "\n",
       "    .dataframe thead th {\n",
       "        text-align: right;\n",
       "    }\n",
       "</style>\n",
       "<table border=\"1\" class=\"dataframe\">\n",
       "  <thead>\n",
       "    <tr style=\"text-align: right;\">\n",
       "      <th></th>\n",
       "      <th>id</th>\n",
       "      <th>name</th>\n",
       "      <th>host_id</th>\n",
       "      <th>host_name</th>\n",
       "      <th>neighbourhood_group</th>\n",
       "      <th>neighbourhood</th>\n",
       "      <th>latitude</th>\n",
       "      <th>longitude</th>\n",
       "      <th>room_type</th>\n",
       "      <th>minimum_nights</th>\n",
       "      <th>number_of_reviews</th>\n",
       "      <th>last_review</th>\n",
       "      <th>reviews_per_month</th>\n",
       "      <th>calculated_host_listings_count</th>\n",
       "      <th>availability_365</th>\n",
       "    </tr>\n",
       "  </thead>\n",
       "  <tbody>\n",
       "    <tr>\n",
       "      <th>0</th>\n",
       "      <td>30913224</td>\n",
       "      <td>Cozy and Sunny Room Williamsburg, Luxury Building</td>\n",
       "      <td>33771081</td>\n",
       "      <td>Rémy</td>\n",
       "      <td>Brooklyn</td>\n",
       "      <td>Williamsburg</td>\n",
       "      <td>40.70959</td>\n",
       "      <td>-73.94652</td>\n",
       "      <td>Private room</td>\n",
       "      <td>3</td>\n",
       "      <td>2</td>\n",
       "      <td>2019-05-08</td>\n",
       "      <td>0.31</td>\n",
       "      <td>1</td>\n",
       "      <td>0</td>\n",
       "    </tr>\n",
       "    <tr>\n",
       "      <th>1</th>\n",
       "      <td>971247</td>\n",
       "      <td>Sunny Artist Live/Work Apartment</td>\n",
       "      <td>5308961</td>\n",
       "      <td>Larry</td>\n",
       "      <td>Manhattan</td>\n",
       "      <td>Upper West Side</td>\n",
       "      <td>40.79368</td>\n",
       "      <td>-73.96487</td>\n",
       "      <td>Entire home/apt</td>\n",
       "      <td>3</td>\n",
       "      <td>159</td>\n",
       "      <td>2019-07-03</td>\n",
       "      <td>2.09</td>\n",
       "      <td>1</td>\n",
       "      <td>244</td>\n",
       "    </tr>\n",
       "    <tr>\n",
       "      <th>2</th>\n",
       "      <td>414801</td>\n",
       "      <td>Industrial Brooklyn Loft with Tree-Lined Windows</td>\n",
       "      <td>319077</td>\n",
       "      <td>Shell</td>\n",
       "      <td>Brooklyn</td>\n",
       "      <td>Clinton Hill</td>\n",
       "      <td>40.68722</td>\n",
       "      <td>-73.96289</td>\n",
       "      <td>Entire home/apt</td>\n",
       "      <td>1</td>\n",
       "      <td>54</td>\n",
       "      <td>2019-03-24</td>\n",
       "      <td>0.65</td>\n",
       "      <td>4</td>\n",
       "      <td>365</td>\n",
       "    </tr>\n",
       "    <tr>\n",
       "      <th>3</th>\n",
       "      <td>21815842</td>\n",
       "      <td>Spacious 2 bedroom in beautiful Clinton Hill</td>\n",
       "      <td>1931990</td>\n",
       "      <td>Yarden</td>\n",
       "      <td>Brooklyn</td>\n",
       "      <td>Clinton Hill</td>\n",
       "      <td>40.68859</td>\n",
       "      <td>-73.96035</td>\n",
       "      <td>Entire home/apt</td>\n",
       "      <td>3</td>\n",
       "      <td>2</td>\n",
       "      <td>2018-05-11</td>\n",
       "      <td>0.13</td>\n",
       "      <td>1</td>\n",
       "      <td>0</td>\n",
       "    </tr>\n",
       "    <tr>\n",
       "      <th>4</th>\n",
       "      <td>13576581</td>\n",
       "      <td>Modern Central Park Apartment close to everything</td>\n",
       "      <td>78325795</td>\n",
       "      <td>Bozhena</td>\n",
       "      <td>Manhattan</td>\n",
       "      <td>Harlem</td>\n",
       "      <td>40.80573</td>\n",
       "      <td>-73.94994</td>\n",
       "      <td>Entire home/apt</td>\n",
       "      <td>1</td>\n",
       "      <td>160</td>\n",
       "      <td>2019-06-23</td>\n",
       "      <td>4.31</td>\n",
       "      <td>3</td>\n",
       "      <td>246</td>\n",
       "    </tr>\n",
       "  </tbody>\n",
       "</table>\n",
       "</div>"
      ],
      "text/plain": [
       "         id                                               name   host_id  \\\n",
       "0  30913224  Cozy and Sunny Room Williamsburg, Luxury Building  33771081   \n",
       "1    971247                   Sunny Artist Live/Work Apartment   5308961   \n",
       "2    414801   Industrial Brooklyn Loft with Tree-Lined Windows    319077   \n",
       "3  21815842       Spacious 2 bedroom in beautiful Clinton Hill   1931990   \n",
       "4  13576581  Modern Central Park Apartment close to everything  78325795   \n",
       "\n",
       "  host_name neighbourhood_group    neighbourhood  latitude  longitude  \\\n",
       "0      Rémy            Brooklyn     Williamsburg  40.70959  -73.94652   \n",
       "1     Larry           Manhattan  Upper West Side  40.79368  -73.96487   \n",
       "2     Shell            Brooklyn     Clinton Hill  40.68722  -73.96289   \n",
       "3    Yarden            Brooklyn     Clinton Hill  40.68859  -73.96035   \n",
       "4   Bozhena           Manhattan           Harlem  40.80573  -73.94994   \n",
       "\n",
       "         room_type  minimum_nights  number_of_reviews last_review  \\\n",
       "0     Private room               3                  2  2019-05-08   \n",
       "1  Entire home/apt               3                159  2019-07-03   \n",
       "2  Entire home/apt               1                 54  2019-03-24   \n",
       "3  Entire home/apt               3                  2  2018-05-11   \n",
       "4  Entire home/apt               1                160  2019-06-23   \n",
       "\n",
       "   reviews_per_month  calculated_host_listings_count  availability_365  \n",
       "0               0.31                               1                 0  \n",
       "1               2.09                               1               244  \n",
       "2               0.65                               4               365  \n",
       "3               0.13                               1                 0  \n",
       "4               4.31                               3               246  "
      ]
     },
     "metadata": {},
     "output_type": "display_data"
    }
   ],
   "source": [
    "display(train.head())\n",
    "display(test.head())"
   ]
  },
  {
   "cell_type": "markdown",
   "id": "5bcfc612",
   "metadata": {},
   "source": [
    "데이터 타입"
   ]
  },
  {
   "cell_type": "code",
   "execution_count": 5,
   "id": "43256cea",
   "metadata": {},
   "outputs": [
    {
     "name": "stdout",
     "output_type": "stream",
     "text": [
      "<class 'pandas.core.frame.DataFrame'>\n",
      "RangeIndex: 39116 entries, 0 to 39115\n",
      "Data columns (total 16 columns):\n",
      " #   Column                          Non-Null Count  Dtype  \n",
      "---  ------                          --------------  -----  \n",
      " 0   id                              39116 non-null  int64  \n",
      " 1   name                            39104 non-null  object \n",
      " 2   host_id                         39116 non-null  int64  \n",
      " 3   host_name                       39099 non-null  object \n",
      " 4   neighbourhood_group             39116 non-null  object \n",
      " 5   neighbourhood                   39116 non-null  object \n",
      " 6   latitude                        39116 non-null  float64\n",
      " 7   longitude                       39116 non-null  float64\n",
      " 8   room_type                       39116 non-null  object \n",
      " 9   price                           39116 non-null  int64  \n",
      " 10  minimum_nights                  39116 non-null  int64  \n",
      " 11  number_of_reviews               39116 non-null  int64  \n",
      " 12  last_review                     31122 non-null  object \n",
      " 13  reviews_per_month               31122 non-null  float64\n",
      " 14  calculated_host_listings_count  39116 non-null  int64  \n",
      " 15  availability_365                39116 non-null  int64  \n",
      "dtypes: float64(3), int64(7), object(6)\n",
      "memory usage: 4.8+ MB\n",
      "<class 'pandas.core.frame.DataFrame'>\n",
      "RangeIndex: 9779 entries, 0 to 9778\n",
      "Data columns (total 15 columns):\n",
      " #   Column                          Non-Null Count  Dtype  \n",
      "---  ------                          --------------  -----  \n",
      " 0   id                              9779 non-null   int64  \n",
      " 1   name                            9775 non-null   object \n",
      " 2   host_id                         9779 non-null   int64  \n",
      " 3   host_name                       9775 non-null   object \n",
      " 4   neighbourhood_group             9779 non-null   object \n",
      " 5   neighbourhood                   9779 non-null   object \n",
      " 6   latitude                        9779 non-null   float64\n",
      " 7   longitude                       9779 non-null   float64\n",
      " 8   room_type                       9779 non-null   object \n",
      " 9   minimum_nights                  9779 non-null   int64  \n",
      " 10  number_of_reviews               9779 non-null   int64  \n",
      " 11  last_review                     7721 non-null   object \n",
      " 12  reviews_per_month               7721 non-null   float64\n",
      " 13  calculated_host_listings_count  9779 non-null   int64  \n",
      " 14  availability_365                9779 non-null   int64  \n",
      "dtypes: float64(3), int64(6), object(6)\n",
      "memory usage: 1.1+ MB\n"
     ]
    },
    {
     "data": {
      "text/plain": [
       "None"
      ]
     },
     "metadata": {},
     "output_type": "display_data"
    },
    {
     "data": {
      "text/plain": [
       "None"
      ]
     },
     "metadata": {},
     "output_type": "display_data"
    }
   ],
   "source": [
    "display(train.info(),test.info())"
   ]
  },
  {
   "cell_type": "markdown",
   "id": "0c789eb0",
   "metadata": {},
   "source": [
    "결측치"
   ]
  },
  {
   "cell_type": "code",
   "execution_count": 6,
   "id": "c00dea60",
   "metadata": {},
   "outputs": [
    {
     "data": {
      "text/plain": [
       "id                                   0\n",
       "name                                12\n",
       "host_id                              0\n",
       "host_name                           17\n",
       "neighbourhood_group                  0\n",
       "neighbourhood                        0\n",
       "latitude                             0\n",
       "longitude                            0\n",
       "room_type                            0\n",
       "price                                0\n",
       "minimum_nights                       0\n",
       "number_of_reviews                    0\n",
       "last_review                       7994\n",
       "reviews_per_month                 7994\n",
       "calculated_host_listings_count       0\n",
       "availability_365                     0\n",
       "dtype: int64"
      ]
     },
     "metadata": {},
     "output_type": "display_data"
    },
    {
     "data": {
      "text/plain": [
       "id                                   0\n",
       "name                                 4\n",
       "host_id                              0\n",
       "host_name                            4\n",
       "neighbourhood_group                  0\n",
       "neighbourhood                        0\n",
       "latitude                             0\n",
       "longitude                            0\n",
       "room_type                            0\n",
       "minimum_nights                       0\n",
       "number_of_reviews                    0\n",
       "last_review                       2058\n",
       "reviews_per_month                 2058\n",
       "calculated_host_listings_count       0\n",
       "availability_365                     0\n",
       "dtype: int64"
      ]
     },
     "metadata": {},
     "output_type": "display_data"
    }
   ],
   "source": [
    "display(train.isnull().sum(),test.isnull().sum())"
   ]
  },
  {
   "cell_type": "markdown",
   "id": "9a69ea21",
   "metadata": {},
   "source": [
    "train, test 모두 __name, host_name, last_review, reviews_per_month__ 컬럼들에 결측치가 있는 것을 확인했다."
   ]
  },
  {
   "cell_type": "markdown",
   "id": "5d0de399",
   "metadata": {},
   "source": [
    "### 3. 데이터 전처리"
   ]
  },
  {
   "cell_type": "code",
   "execution_count": 7,
   "id": "04168a0b",
   "metadata": {},
   "outputs": [
    {
     "data": {
      "text/plain": [
       "id                                39116\n",
       "name                              38420\n",
       "host_id                           30845\n",
       "host_name                          9977\n",
       "neighbourhood_group                   5\n",
       "neighbourhood                       221\n",
       "latitude                          17408\n",
       "longitude                         13621\n",
       "room_type                             3\n",
       "price                               645\n",
       "minimum_nights                      101\n",
       "number_of_reviews                   379\n",
       "last_review                        1702\n",
       "reviews_per_month                   898\n",
       "calculated_host_listings_count       47\n",
       "availability_365                    366\n",
       "dtype: int64"
      ]
     },
     "metadata": {},
     "output_type": "display_data"
    },
    {
     "data": {
      "text/plain": [
       "id                                9779\n",
       "name                              9719\n",
       "host_id                           8749\n",
       "host_name                         4066\n",
       "neighbourhood_group                  5\n",
       "neighbourhood                      192\n",
       "latitude                          7561\n",
       "longitude                         6679\n",
       "room_type                            3\n",
       "minimum_nights                      63\n",
       "number_of_reviews                  283\n",
       "last_review                       1206\n",
       "reviews_per_month                  689\n",
       "calculated_host_listings_count      47\n",
       "availability_365                   366\n",
       "dtype: int64"
      ]
     },
     "metadata": {},
     "output_type": "display_data"
    }
   ],
   "source": [
    "display(train.nunique(), test.nunique())"
   ]
  },
  {
   "cell_type": "markdown",
   "id": "6b9ad570",
   "metadata": {},
   "source": [
    "name과 host_name의 개수는 인코딩하기에 수가 너무 많으므로 제거하겠다."
   ]
  },
  {
   "cell_type": "code",
   "execution_count": 8,
   "id": "9a036f4b",
   "metadata": {},
   "outputs": [],
   "source": [
    "train = train.drop(['name','host_name'], axis=1)\n",
    "test = test.drop(['name','host_name'], axis=1)"
   ]
  },
  {
   "cell_type": "markdown",
   "id": "bf571e0c",
   "metadata": {},
   "source": [
    "id는 공식 문서를 찾아본 결과 listing id로 어떤 이름으로 에어비엔비에 올렸는지를 구분하는 정보이기 때문에 name을 제거했으니 이것 또한 제거하기로 했다."
   ]
  },
  {
   "cell_type": "code",
   "execution_count": 9,
   "id": "e9020201",
   "metadata": {},
   "outputs": [],
   "source": [
    "train = train.drop(['id'], axis=1)\n",
    "test = test.drop(['id'], axis=1)"
   ]
  },
  {
   "cell_type": "code",
   "execution_count": 10,
   "id": "4154cc00",
   "metadata": {},
   "outputs": [
    {
     "name": "stdout",
     "output_type": "stream",
     "text": [
      "<class 'pandas.core.frame.DataFrame'>\n",
      "RangeIndex: 39116 entries, 0 to 39115\n",
      "Data columns (total 13 columns):\n",
      " #   Column                          Non-Null Count  Dtype  \n",
      "---  ------                          --------------  -----  \n",
      " 0   host_id                         39116 non-null  int64  \n",
      " 1   neighbourhood_group             39116 non-null  object \n",
      " 2   neighbourhood                   39116 non-null  object \n",
      " 3   latitude                        39116 non-null  float64\n",
      " 4   longitude                       39116 non-null  float64\n",
      " 5   room_type                       39116 non-null  object \n",
      " 6   price                           39116 non-null  int64  \n",
      " 7   minimum_nights                  39116 non-null  int64  \n",
      " 8   number_of_reviews               39116 non-null  int64  \n",
      " 9   last_review                     31122 non-null  object \n",
      " 10  reviews_per_month               31122 non-null  float64\n",
      " 11  calculated_host_listings_count  39116 non-null  int64  \n",
      " 12  availability_365                39116 non-null  int64  \n",
      "dtypes: float64(3), int64(6), object(4)\n",
      "memory usage: 3.9+ MB\n",
      "<class 'pandas.core.frame.DataFrame'>\n",
      "RangeIndex: 9779 entries, 0 to 9778\n",
      "Data columns (total 12 columns):\n",
      " #   Column                          Non-Null Count  Dtype  \n",
      "---  ------                          --------------  -----  \n",
      " 0   host_id                         9779 non-null   int64  \n",
      " 1   neighbourhood_group             9779 non-null   object \n",
      " 2   neighbourhood                   9779 non-null   object \n",
      " 3   latitude                        9779 non-null   float64\n",
      " 4   longitude                       9779 non-null   float64\n",
      " 5   room_type                       9779 non-null   object \n",
      " 6   minimum_nights                  9779 non-null   int64  \n",
      " 7   number_of_reviews               9779 non-null   int64  \n",
      " 8   last_review                     7721 non-null   object \n",
      " 9   reviews_per_month               7721 non-null   float64\n",
      " 10  calculated_host_listings_count  9779 non-null   int64  \n",
      " 11  availability_365                9779 non-null   int64  \n",
      "dtypes: float64(3), int64(5), object(4)\n",
      "memory usage: 916.9+ KB\n"
     ]
    },
    {
     "data": {
      "text/plain": [
       "None"
      ]
     },
     "metadata": {},
     "output_type": "display_data"
    },
    {
     "data": {
      "text/plain": [
       "None"
      ]
     },
     "metadata": {},
     "output_type": "display_data"
    }
   ],
   "source": [
    "display(train.info(),test.info())"
   ]
  },
  {
   "cell_type": "markdown",
   "id": "93856aeb",
   "metadata": {},
   "source": [
    "__last_review__를 년, 월만 드러나도록 숫자형식으로 바꿔주기로 했다."
   ]
  },
  {
   "cell_type": "code",
   "execution_count": 11,
   "id": "ac538bc8",
   "metadata": {},
   "outputs": [],
   "source": [
    "train['last_review'] = train['last_review'].str.replace('-', '')\n",
    "test['last_review'] = test['last_review'].str.replace('-', '')"
   ]
  },
  {
   "cell_type": "code",
   "execution_count": 12,
   "id": "f08026ae",
   "metadata": {},
   "outputs": [
    {
     "data": {
      "text/html": [
       "<div>\n",
       "<style scoped>\n",
       "    .dataframe tbody tr th:only-of-type {\n",
       "        vertical-align: middle;\n",
       "    }\n",
       "\n",
       "    .dataframe tbody tr th {\n",
       "        vertical-align: top;\n",
       "    }\n",
       "\n",
       "    .dataframe thead th {\n",
       "        text-align: right;\n",
       "    }\n",
       "</style>\n",
       "<table border=\"1\" class=\"dataframe\">\n",
       "  <thead>\n",
       "    <tr style=\"text-align: right;\">\n",
       "      <th></th>\n",
       "      <th>host_id</th>\n",
       "      <th>latitude</th>\n",
       "      <th>longitude</th>\n",
       "      <th>price</th>\n",
       "      <th>minimum_nights</th>\n",
       "      <th>number_of_reviews</th>\n",
       "      <th>reviews_per_month</th>\n",
       "      <th>calculated_host_listings_count</th>\n",
       "      <th>availability_365</th>\n",
       "    </tr>\n",
       "  </thead>\n",
       "  <tbody>\n",
       "    <tr>\n",
       "      <th>count</th>\n",
       "      <td>3.911600e+04</td>\n",
       "      <td>39116.000000</td>\n",
       "      <td>39116.000000</td>\n",
       "      <td>39116.000000</td>\n",
       "      <td>39116.000000</td>\n",
       "      <td>39116.000000</td>\n",
       "      <td>31122.000000</td>\n",
       "      <td>39116.000000</td>\n",
       "      <td>39116.000000</td>\n",
       "    </tr>\n",
       "    <tr>\n",
       "      <th>mean</th>\n",
       "      <td>6.774143e+07</td>\n",
       "      <td>40.728848</td>\n",
       "      <td>-73.952125</td>\n",
       "      <td>152.751150</td>\n",
       "      <td>6.990720</td>\n",
       "      <td>23.272855</td>\n",
       "      <td>1.372444</td>\n",
       "      <td>7.090756</td>\n",
       "      <td>112.980826</td>\n",
       "    </tr>\n",
       "    <tr>\n",
       "      <th>std</th>\n",
       "      <td>7.881383e+07</td>\n",
       "      <td>0.054499</td>\n",
       "      <td>0.046354</td>\n",
       "      <td>241.752501</td>\n",
       "      <td>20.310323</td>\n",
       "      <td>44.589170</td>\n",
       "      <td>1.683963</td>\n",
       "      <td>32.661136</td>\n",
       "      <td>131.674306</td>\n",
       "    </tr>\n",
       "    <tr>\n",
       "      <th>min</th>\n",
       "      <td>2.438000e+03</td>\n",
       "      <td>40.499790</td>\n",
       "      <td>-74.244420</td>\n",
       "      <td>0.000000</td>\n",
       "      <td>1.000000</td>\n",
       "      <td>0.000000</td>\n",
       "      <td>0.010000</td>\n",
       "      <td>1.000000</td>\n",
       "      <td>0.000000</td>\n",
       "    </tr>\n",
       "    <tr>\n",
       "      <th>25%</th>\n",
       "      <td>7.834978e+06</td>\n",
       "      <td>40.690038</td>\n",
       "      <td>-73.983190</td>\n",
       "      <td>69.000000</td>\n",
       "      <td>1.000000</td>\n",
       "      <td>1.000000</td>\n",
       "      <td>0.190000</td>\n",
       "      <td>1.000000</td>\n",
       "      <td>0.000000</td>\n",
       "    </tr>\n",
       "    <tr>\n",
       "      <th>50%</th>\n",
       "      <td>3.070949e+07</td>\n",
       "      <td>40.723000</td>\n",
       "      <td>-73.955740</td>\n",
       "      <td>105.000000</td>\n",
       "      <td>2.000000</td>\n",
       "      <td>5.000000</td>\n",
       "      <td>0.710000</td>\n",
       "      <td>1.000000</td>\n",
       "      <td>45.000000</td>\n",
       "    </tr>\n",
       "    <tr>\n",
       "      <th>75%</th>\n",
       "      <td>1.074344e+08</td>\n",
       "      <td>40.762943</td>\n",
       "      <td>-73.936338</td>\n",
       "      <td>175.000000</td>\n",
       "      <td>5.000000</td>\n",
       "      <td>23.000000</td>\n",
       "      <td>2.010000</td>\n",
       "      <td>2.000000</td>\n",
       "      <td>228.000000</td>\n",
       "    </tr>\n",
       "    <tr>\n",
       "      <th>max</th>\n",
       "      <td>2.743213e+08</td>\n",
       "      <td>40.912340</td>\n",
       "      <td>-73.712990</td>\n",
       "      <td>10000.000000</td>\n",
       "      <td>1250.000000</td>\n",
       "      <td>629.000000</td>\n",
       "      <td>58.500000</td>\n",
       "      <td>327.000000</td>\n",
       "      <td>365.000000</td>\n",
       "    </tr>\n",
       "  </tbody>\n",
       "</table>\n",
       "</div>"
      ],
      "text/plain": [
       "            host_id      latitude     longitude         price  minimum_nights  \\\n",
       "count  3.911600e+04  39116.000000  39116.000000  39116.000000    39116.000000   \n",
       "mean   6.774143e+07     40.728848    -73.952125    152.751150        6.990720   \n",
       "std    7.881383e+07      0.054499      0.046354    241.752501       20.310323   \n",
       "min    2.438000e+03     40.499790    -74.244420      0.000000        1.000000   \n",
       "25%    7.834978e+06     40.690038    -73.983190     69.000000        1.000000   \n",
       "50%    3.070949e+07     40.723000    -73.955740    105.000000        2.000000   \n",
       "75%    1.074344e+08     40.762943    -73.936338    175.000000        5.000000   \n",
       "max    2.743213e+08     40.912340    -73.712990  10000.000000     1250.000000   \n",
       "\n",
       "       number_of_reviews  reviews_per_month  calculated_host_listings_count  \\\n",
       "count       39116.000000       31122.000000                    39116.000000   \n",
       "mean           23.272855           1.372444                        7.090756   \n",
       "std            44.589170           1.683963                       32.661136   \n",
       "min             0.000000           0.010000                        1.000000   \n",
       "25%             1.000000           0.190000                        1.000000   \n",
       "50%             5.000000           0.710000                        1.000000   \n",
       "75%            23.000000           2.010000                        2.000000   \n",
       "max           629.000000          58.500000                      327.000000   \n",
       "\n",
       "       availability_365  \n",
       "count      39116.000000  \n",
       "mean         112.980826  \n",
       "std          131.674306  \n",
       "min            0.000000  \n",
       "25%            0.000000  \n",
       "50%           45.000000  \n",
       "75%          228.000000  \n",
       "max          365.000000  "
      ]
     },
     "metadata": {},
     "output_type": "display_data"
    },
    {
     "data": {
      "text/html": [
       "<div>\n",
       "<style scoped>\n",
       "    .dataframe tbody tr th:only-of-type {\n",
       "        vertical-align: middle;\n",
       "    }\n",
       "\n",
       "    .dataframe tbody tr th {\n",
       "        vertical-align: top;\n",
       "    }\n",
       "\n",
       "    .dataframe thead th {\n",
       "        text-align: right;\n",
       "    }\n",
       "</style>\n",
       "<table border=\"1\" class=\"dataframe\">\n",
       "  <thead>\n",
       "    <tr style=\"text-align: right;\">\n",
       "      <th></th>\n",
       "      <th>host_id</th>\n",
       "      <th>latitude</th>\n",
       "      <th>longitude</th>\n",
       "      <th>minimum_nights</th>\n",
       "      <th>number_of_reviews</th>\n",
       "      <th>reviews_per_month</th>\n",
       "      <th>calculated_host_listings_count</th>\n",
       "      <th>availability_365</th>\n",
       "    </tr>\n",
       "  </thead>\n",
       "  <tbody>\n",
       "    <tr>\n",
       "      <th>count</th>\n",
       "      <td>9.779000e+03</td>\n",
       "      <td>9779.000000</td>\n",
       "      <td>9779.000000</td>\n",
       "      <td>9779.000000</td>\n",
       "      <td>9779.000000</td>\n",
       "      <td>7721.000000</td>\n",
       "      <td>9779.000000</td>\n",
       "      <td>9779.000000</td>\n",
       "    </tr>\n",
       "    <tr>\n",
       "      <th>mean</th>\n",
       "      <td>6.713435e+07</td>\n",
       "      <td>40.729351</td>\n",
       "      <td>-73.952348</td>\n",
       "      <td>7.186931</td>\n",
       "      <td>23.280908</td>\n",
       "      <td>1.376354</td>\n",
       "      <td>7.356887</td>\n",
       "      <td>111.983332</td>\n",
       "    </tr>\n",
       "    <tr>\n",
       "      <th>std</th>\n",
       "      <td>7.779631e+07</td>\n",
       "      <td>0.054657</td>\n",
       "      <td>0.045361</td>\n",
       "      <td>21.292983</td>\n",
       "      <td>44.398170</td>\n",
       "      <td>1.666277</td>\n",
       "      <td>34.094038</td>\n",
       "      <td>131.417711</td>\n",
       "    </tr>\n",
       "    <tr>\n",
       "      <th>min</th>\n",
       "      <td>2.787000e+03</td>\n",
       "      <td>40.507080</td>\n",
       "      <td>-74.242850</td>\n",
       "      <td>1.000000</td>\n",
       "      <td>0.000000</td>\n",
       "      <td>0.010000</td>\n",
       "      <td>1.000000</td>\n",
       "      <td>0.000000</td>\n",
       "    </tr>\n",
       "    <tr>\n",
       "      <th>25%</th>\n",
       "      <td>7.656150e+06</td>\n",
       "      <td>40.690265</td>\n",
       "      <td>-73.982600</td>\n",
       "      <td>1.000000</td>\n",
       "      <td>1.000000</td>\n",
       "      <td>0.190000</td>\n",
       "      <td>1.000000</td>\n",
       "      <td>0.000000</td>\n",
       "    </tr>\n",
       "    <tr>\n",
       "      <th>50%</th>\n",
       "      <td>3.130494e+07</td>\n",
       "      <td>40.723390</td>\n",
       "      <td>-73.955280</td>\n",
       "      <td>3.000000</td>\n",
       "      <td>5.000000</td>\n",
       "      <td>0.720000</td>\n",
       "      <td>1.000000</td>\n",
       "      <td>44.000000</td>\n",
       "    </tr>\n",
       "    <tr>\n",
       "      <th>75%</th>\n",
       "      <td>1.072729e+08</td>\n",
       "      <td>40.763815</td>\n",
       "      <td>-73.936100</td>\n",
       "      <td>5.000000</td>\n",
       "      <td>24.000000</td>\n",
       "      <td>2.040000</td>\n",
       "      <td>2.000000</td>\n",
       "      <td>222.000000</td>\n",
       "    </tr>\n",
       "    <tr>\n",
       "      <th>max</th>\n",
       "      <td>2.743115e+08</td>\n",
       "      <td>40.913060</td>\n",
       "      <td>-73.716900</td>\n",
       "      <td>1000.000000</td>\n",
       "      <td>597.000000</td>\n",
       "      <td>19.750000</td>\n",
       "      <td>327.000000</td>\n",
       "      <td>365.000000</td>\n",
       "    </tr>\n",
       "  </tbody>\n",
       "</table>\n",
       "</div>"
      ],
      "text/plain": [
       "            host_id     latitude    longitude  minimum_nights  \\\n",
       "count  9.779000e+03  9779.000000  9779.000000     9779.000000   \n",
       "mean   6.713435e+07    40.729351   -73.952348        7.186931   \n",
       "std    7.779631e+07     0.054657     0.045361       21.292983   \n",
       "min    2.787000e+03    40.507080   -74.242850        1.000000   \n",
       "25%    7.656150e+06    40.690265   -73.982600        1.000000   \n",
       "50%    3.130494e+07    40.723390   -73.955280        3.000000   \n",
       "75%    1.072729e+08    40.763815   -73.936100        5.000000   \n",
       "max    2.743115e+08    40.913060   -73.716900     1000.000000   \n",
       "\n",
       "       number_of_reviews  reviews_per_month  calculated_host_listings_count  \\\n",
       "count        9779.000000        7721.000000                     9779.000000   \n",
       "mean           23.280908           1.376354                        7.356887   \n",
       "std            44.398170           1.666277                       34.094038   \n",
       "min             0.000000           0.010000                        1.000000   \n",
       "25%             1.000000           0.190000                        1.000000   \n",
       "50%             5.000000           0.720000                        1.000000   \n",
       "75%            24.000000           2.040000                        2.000000   \n",
       "max           597.000000          19.750000                      327.000000   \n",
       "\n",
       "       availability_365  \n",
       "count       9779.000000  \n",
       "mean         111.983332  \n",
       "std          131.417711  \n",
       "min            0.000000  \n",
       "25%            0.000000  \n",
       "50%           44.000000  \n",
       "75%          222.000000  \n",
       "max          365.000000  "
      ]
     },
     "metadata": {},
     "output_type": "display_data"
    }
   ],
   "source": [
    "display(train.describe(), test.describe())"
   ]
  },
  {
   "cell_type": "markdown",
   "id": "7963ae84",
   "metadata": {},
   "source": [
    "마지막 리뷰가 없는 결측치를 채우기 위해 한 가지 가정을 했다.\n",
    "마지막 리뷰가 없다는 것은 리뷰 자체가 없다는 것으로, 리뷰가 없으면 소비자의 신뢰도가 낮아져 가격에도 영향을 미쳤다고 보았다.\n",
    "마지막 리뷰가 10년 전이었던 매물이나 리뷰가 없는 매물이나 소비자에게는 비슷한 신뢰도를 가질 것이라고 예상하여 결측치에 최소값을 추가하는 대신, 마지막 리뷰월인 201103과의 차이를 두기 위해 20110000으로 채우기로 했다."
   ]
  },
  {
   "cell_type": "code",
   "execution_count": 13,
   "id": "e816717b",
   "metadata": {},
   "outputs": [],
   "source": [
    "train['last_review'] = train['last_review'].fillna('20110000') \n",
    "test['last_review'] = test['last_review'].fillna('20110000')"
   ]
  },
  {
   "cell_type": "code",
   "execution_count": 14,
   "id": "06d839fa",
   "metadata": {},
   "outputs": [],
   "source": [
    "train['last_review'] = train['last_review'].str[:6].astype(int)\n",
    "test['last_review'] = test['last_review'].str[:6].astype(int)"
   ]
  },
  {
   "cell_type": "markdown",
   "id": "60ac3c43",
   "metadata": {},
   "source": [
    "한 달 간 평균 리뷰 값이 없는 결측치는 0으로 채워줬다."
   ]
  },
  {
   "cell_type": "code",
   "execution_count": 15,
   "id": "5a1eab06",
   "metadata": {},
   "outputs": [],
   "source": [
    "train['reviews_per_month'] = train['reviews_per_month'].fillna(0)\n",
    "test['reviews_per_month'] = test['reviews_per_month'].fillna(0)"
   ]
  },
  {
   "cell_type": "markdown",
   "id": "31ae4a01",
   "metadata": {},
   "source": [
    "last_review의 분포가 최근으로 갈 수록 많다는 것을 알 수 있다."
   ]
  },
  {
   "cell_type": "code",
   "execution_count": 16,
   "id": "d3a599aa",
   "metadata": {},
   "outputs": [
    {
     "data": {
      "text/plain": [
       "<AxesSubplot:>"
      ]
     },
     "execution_count": 16,
     "metadata": {},
     "output_type": "execute_result"
    },
    {
     "data": {
      "image/png": "[encoded data removed]",
      "text/plain": [
       "<Figure size 432x288 with 1 Axes>"
      ]
     },
     "metadata": {
      "needs_background": "light"
     },
     "output_type": "display_data"
    }
   ],
   "source": [
    "train['last_review'].hist(bins=100)"
   ]
  },
  {
   "cell_type": "markdown",
   "id": "7ff6e22e",
   "metadata": {},
   "source": [
    "수치형 데이터와 범주형 데이터 분리 "
   ]
  },
  {
   "cell_type": "code",
   "execution_count": 17,
   "id": "3e119c69",
   "metadata": {},
   "outputs": [],
   "source": [
    "n_train = train.select_dtypes(exclude='object').copy()\n",
    "c_train = train.select_dtypes(include='object').copy()\n",
    "n_test = test.select_dtypes(exclude='object').copy()\n",
    "c_test = test.select_dtypes(include='object').copy()"
   ]
  },
  {
   "cell_type": "markdown",
   "id": "1a6d68f1",
   "metadata": {},
   "source": [
    "범주형 변수를 인코딩해줬다."
   ]
  },
  {
   "cell_type": "code",
   "execution_count": 18,
   "id": "86c82b19",
   "metadata": {},
   "outputs": [],
   "source": [
    "from sklearn.preprocessing import LabelEncoder\n",
    "le = LabelEncoder()\n",
    "cols = [\n",
    "        'neighbourhood_group',\n",
    "        'neighbourhood',\n",
    "        'room_type',\n",
    "        ]\n",
    "\n",
    "for col in cols:\n",
    "    c_train[col] = le.fit_transform(c_train[col])\n",
    "    c_test[col] = le.transform(c_test[col])"
   ]
  },
  {
   "cell_type": "markdown",
   "id": "f4e83b6e",
   "metadata": {},
   "source": [
    "분리한 데이터를 다시 합쳤다."
   ]
  },
  {
   "cell_type": "code",
   "execution_count": 19,
   "id": "ef13aeaf",
   "metadata": {},
   "outputs": [],
   "source": [
    "train = pd.concat([n_train, c_train], axis=1)\n",
    "test = pd.concat([n_test, c_test], axis=1)"
   ]
  },
  {
   "cell_type": "code",
   "execution_count": 20,
   "id": "ba9fd24f",
   "metadata": {},
   "outputs": [],
   "source": [
    "import matplotlib.pyplot as plt\n",
    "import seaborn as sns"
   ]
  },
  {
   "cell_type": "markdown",
   "id": "d1b1bbe7",
   "metadata": {},
   "source": [
    "가격과 다른 피쳐들과의 상관관계를 알아보기 위해 그래프로 확인해보기로 했다.\n",
    "\n",
    "선형 데이터와 비선형 데이터가 섞여있기 때문에 다양한 방식으로 확인해봤다."
   ]
  },
  {
   "cell_type": "code",
   "execution_count": 21,
   "id": "c58760df",
   "metadata": {},
   "outputs": [
    {
     "data": {
      "text/plain": [
       "<AxesSubplot:>"
      ]
     },
     "execution_count": 21,
     "metadata": {},
     "output_type": "execute_result"
    },
    {
     "data": {
      "image/png": "[encoded data removed]",
      "text/plain": [
       "<Figure size 1080x720 with 2 Axes>"
      ]
     },
     "metadata": {
      "needs_background": "light"
     },
     "output_type": "display_data"
    }
   ],
   "source": [
    "corr = train.corr(method='pearson')\n",
    "plt.figure(figsize=(15,10))\n",
    "sns.heatmap(corr, annot=True, cmap = 'Dark2')"
   ]
  },
  {
   "cell_type": "code",
   "execution_count": 22,
   "id": "2d66ffda",
   "metadata": {},
   "outputs": [
    {
     "data": {
      "text/plain": [
       "<AxesSubplot:>"
      ]
     },
     "execution_count": 22,
     "metadata": {},
     "output_type": "execute_result"
    },
    {
     "data": {
      "image/png": "[encoded data removed]",
      "text/plain": [
       "<Figure size 1080x720 with 2 Axes>"
      ]
     },
     "metadata": {
      "needs_background": "light"
     },
     "output_type": "display_data"
    }
   ],
   "source": [
    "corr = train.corr(method='kendall')\n",
    "plt.figure(figsize=(15,10))\n",
    "sns.heatmap(corr, annot=True,cmap = 'Dark2')"
   ]
  },
  {
   "cell_type": "code",
   "execution_count": 23,
   "id": "b6c3c81e",
   "metadata": {},
   "outputs": [
    {
     "data": {
      "text/plain": [
       "<AxesSubplot:>"
      ]
     },
     "execution_count": 23,
     "metadata": {},
     "output_type": "execute_result"
    },
    {
     "data": {
      "image/png": "[encoded data removed]",
      "text/plain": [
       "<Figure size 1080x720 with 2 Axes>"
      ]
     },
     "metadata": {
      "needs_background": "light"
     },
     "output_type": "display_data"
    }
   ],
   "source": [
    "corr = train.corr(method='spearman')\n",
    "plt.figure(figsize=(15,10))\n",
    "sns.heatmap(corr, annot=True,cmap = 'Dark2')"
   ]
  },
  {
   "cell_type": "markdown",
   "id": "cac072c4",
   "metadata": {},
   "source": [
    "그 결과 __price__와 __room_type, longitude, availability_365__는 관계가 있고 __host_id__는 관계가 없는 것으로 드러났다."
   ]
  },
  {
   "cell_type": "markdown",
   "id": "f3863a34",
   "metadata": {},
   "source": [
    "우선 현재 상태에서 결과값을 보기로 했다."
   ]
  },
  {
   "cell_type": "markdown",
   "id": "527263e3",
   "metadata": {},
   "source": [
    "가격 값 복사"
   ]
  },
  {
   "cell_type": "code",
   "execution_count": 24,
   "id": "52250c97",
   "metadata": {},
   "outputs": [],
   "source": [
    "target = train['price']"
   ]
  },
  {
   "cell_type": "code",
   "execution_count": 25,
   "id": "68e1c57e",
   "metadata": {},
   "outputs": [],
   "source": [
    "train = train.drop(['price'], axis=1)"
   ]
  },
  {
   "cell_type": "markdown",
   "id": "3eb8e985",
   "metadata": {},
   "source": [
    "### 4. 검증 데이터 분리"
   ]
  },
  {
   "cell_type": "code",
   "execution_count": 26,
   "id": "338b8a58",
   "metadata": {},
   "outputs": [
    {
     "data": {
      "text/plain": [
       "((31292, 12), (7824, 12), (31292,), (7824,))"
      ]
     },
     "execution_count": 26,
     "metadata": {},
     "output_type": "execute_result"
    }
   ],
   "source": [
    "from sklearn.model_selection import train_test_split\n",
    "\n",
    "X_train, X_val, y_train, y_val = train_test_split(train, target, test_size=0.2, random_state=2022)\n",
    "X_train.shape, X_val.shape, y_train.shape, y_val.shape"
   ]
  },
  {
   "cell_type": "markdown",
   "id": "5e83e98e",
   "metadata": {},
   "source": [
    "### 5. 머신러닝"
   ]
  },
  {
   "cell_type": "markdown",
   "id": "0e04f54d",
   "metadata": {},
   "source": [
    "### 머신러닝(회귀)"
   ]
  },
  {
   "cell_type": "code",
   "execution_count": 27,
   "id": "8e1956be",
   "metadata": {},
   "outputs": [
    {
     "data": {
      "text/plain": [
       "49002.097170953704"
      ]
     },
     "execution_count": 27,
     "metadata": {},
     "output_type": "execute_result"
    }
   ],
   "source": [
    "from sklearn.linear_model import LinearRegression\n",
    "from sklearn.metrics import mean_squared_error\n",
    "\n",
    "model = LinearRegression()\n",
    "model.fit(X_train, y_train)\n",
    "pred = model.predict(X_val)\n",
    "mean_squared_error(y_val, pred)\n",
    "\n",
    "y_test = pd.read_csv('/aiffel/data/y_test.csv')\n",
    "\n",
    "pred = model.predict(test)\n",
    "mean_squared_error(y_test, pred)"
   ]
  },
  {
   "cell_type": "markdown",
   "id": "6658b939",
   "metadata": {},
   "source": [
    "### 릿지 회귀 alpha =100"
   ]
  },
  {
   "cell_type": "code",
   "execution_count": 28,
   "id": "78a09f44",
   "metadata": {},
   "outputs": [
    {
     "name": "stderr",
     "output_type": "stream",
     "text": [
      "/opt/conda/lib/python3.9/site-packages/sklearn/linear_model/_ridge.py:156: LinAlgWarning: Ill-conditioned matrix (rcond=7.84339e-19): result may not be accurate.\n",
      "  return linalg.solve(A, Xy, sym_pos=True, overwrite_a=True).T\n"
     ]
    },
    {
     "data": {
      "text/plain": [
       "49245.50400497123"
      ]
     },
     "execution_count": 28,
     "metadata": {},
     "output_type": "execute_result"
    }
   ],
   "source": [
    "from sklearn.linear_model import Ridge\n",
    "\n",
    "model = Ridge(alpha =100)\n",
    "model.fit(X_train, y_train)\n",
    "pred = model.predict(X_val)\n",
    "mean_squared_error(y_val, pred)\n",
    "\n",
    "y_test = pd.read_csv('/aiffel/data/y_test.csv')\n",
    "\n",
    "pred = model.predict(test)\n",
    "mean_squared_error(y_test, pred)"
   ]
  },
  {
   "cell_type": "markdown",
   "id": "18432aa1",
   "metadata": {},
   "source": [
    "### 릿지 회귀 alpha =10"
   ]
  },
  {
   "cell_type": "code",
   "execution_count": 29,
   "id": "c6ac0c93",
   "metadata": {},
   "outputs": [
    {
     "name": "stderr",
     "output_type": "stream",
     "text": [
      "/opt/conda/lib/python3.9/site-packages/sklearn/linear_model/_ridge.py:156: LinAlgWarning: Ill-conditioned matrix (rcond=3.33579e-19): result may not be accurate.\n",
      "  return linalg.solve(A, Xy, sym_pos=True, overwrite_a=True).T\n"
     ]
    },
    {
     "data": {
      "text/plain": [
       "49008.45311929186"
      ]
     },
     "execution_count": 29,
     "metadata": {},
     "output_type": "execute_result"
    }
   ],
   "source": [
    "model = Ridge(alpha =10)\n",
    "model.fit(X_train, y_train)\n",
    "pred = model.predict(X_val)\n",
    "mean_squared_error(y_val, pred)\n",
    "\n",
    "y_test = pd.read_csv('/aiffel/data/y_test.csv')\n",
    "\n",
    "pred = model.predict(test)\n",
    "mean_squared_error(y_test, pred)"
   ]
  },
  {
   "cell_type": "markdown",
   "id": "40f035bf",
   "metadata": {},
   "source": [
    "### 릿지 회귀 alpha =1"
   ]
  },
  {
   "cell_type": "code",
   "execution_count": 30,
   "id": "c32c6668",
   "metadata": {},
   "outputs": [
    {
     "name": "stderr",
     "output_type": "stream",
     "text": [
      "/opt/conda/lib/python3.9/site-packages/sklearn/linear_model/_ridge.py:156: LinAlgWarning: Ill-conditioned matrix (rcond=2.88841e-19): result may not be accurate.\n",
      "  return linalg.solve(A, Xy, sym_pos=True, overwrite_a=True).T\n"
     ]
    },
    {
     "data": {
      "text/plain": [
       "49001.32346235989"
      ]
     },
     "execution_count": 30,
     "metadata": {},
     "output_type": "execute_result"
    }
   ],
   "source": [
    "model = Ridge(alpha =1)\n",
    "model.fit(X_train, y_train)\n",
    "pred = model.predict(X_val)\n",
    "mean_squared_error(y_val, pred)\n",
    "\n",
    "y_test = pd.read_csv('/aiffel/data/y_test.csv')\n",
    "\n",
    "pred = model.predict(test)\n",
    "mean_squared_error(y_test, pred)"
   ]
  },
  {
   "cell_type": "markdown",
   "id": "510af123",
   "metadata": {},
   "source": [
    "### 릿지 회귀 alpha =0.1"
   ]
  },
  {
   "cell_type": "code",
   "execution_count": 31,
   "id": "ae5ef9f9",
   "metadata": {},
   "outputs": [
    {
     "name": "stderr",
     "output_type": "stream",
     "text": [
      "/opt/conda/lib/python3.9/site-packages/sklearn/linear_model/_ridge.py:156: LinAlgWarning: Ill-conditioned matrix (rcond=2.84374e-19): result may not be accurate.\n",
      "  return linalg.solve(A, Xy, sym_pos=True, overwrite_a=True).T\n"
     ]
    },
    {
     "data": {
      "text/plain": [
       "49002.00080698013"
      ]
     },
     "execution_count": 31,
     "metadata": {},
     "output_type": "execute_result"
    }
   ],
   "source": [
    "model = Ridge(alpha =0.1)\n",
    "model.fit(X_train, y_train)\n",
    "pred = model.predict(X_val)\n",
    "mean_squared_error(y_val, pred)\n",
    "\n",
    "y_test = pd.read_csv('/aiffel/data/y_test.csv')\n",
    "\n",
    "pred = model.predict(test)\n",
    "mean_squared_error(y_test, pred)"
   ]
  },
  {
   "cell_type": "markdown",
   "id": "2bfd5182",
   "metadata": {},
   "source": [
    "### 릿지 회귀 alpha =0.01"
   ]
  },
  {
   "cell_type": "code",
   "execution_count": 32,
   "id": "49f9b60c",
   "metadata": {},
   "outputs": [
    {
     "name": "stderr",
     "output_type": "stream",
     "text": [
      "/opt/conda/lib/python3.9/site-packages/sklearn/linear_model/_ridge.py:156: LinAlgWarning: Ill-conditioned matrix (rcond=2.83927e-19): result may not be accurate.\n",
      "  return linalg.solve(A, Xy, sym_pos=True, overwrite_a=True).T\n"
     ]
    },
    {
     "data": {
      "text/plain": [
       "49002.08733846722"
      ]
     },
     "execution_count": 32,
     "metadata": {},
     "output_type": "execute_result"
    }
   ],
   "source": [
    "model = Ridge(alpha =0.01)\n",
    "model.fit(X_train, y_train)\n",
    "pred = model.predict(X_val)\n",
    "mean_squared_error(y_val, pred)\n",
    "\n",
    "y_test = pd.read_csv('/aiffel/data/y_test.csv')\n",
    "\n",
    "pred = model.predict(test)\n",
    "mean_squared_error(y_test, pred)"
   ]
  },
  {
   "cell_type": "markdown",
   "id": "7d601365",
   "metadata": {},
   "source": [
    "### 라쏘 회귀 alpha =1"
   ]
  },
  {
   "cell_type": "code",
   "execution_count": 33,
   "id": "477fafb6",
   "metadata": {},
   "outputs": [
    {
     "data": {
      "text/plain": [
       "49482.15288575695"
      ]
     },
     "execution_count": 33,
     "metadata": {},
     "output_type": "execute_result"
    }
   ],
   "source": [
    "from sklearn.linear_model import Lasso\n",
    "\n",
    "model = Lasso(alpha =1)\n",
    "model.fit(X_train, y_train)\n",
    "pred = model.predict(X_val)\n",
    "mean_squared_error(y_val, pred)\n",
    "\n",
    "y_test = pd.read_csv('/aiffel/data/y_test.csv')\n",
    "\n",
    "pred = model.predict(test)\n",
    "mean_squared_error(y_test, pred)"
   ]
  },
  {
   "cell_type": "markdown",
   "id": "1226a258",
   "metadata": {},
   "source": [
    "### 라쏘 회귀 alpha =2"
   ]
  },
  {
   "cell_type": "code",
   "execution_count": 34,
   "id": "051f0db6",
   "metadata": {},
   "outputs": [
    {
     "data": {
      "text/plain": [
       "49669.53264027392"
      ]
     },
     "execution_count": 34,
     "metadata": {},
     "output_type": "execute_result"
    }
   ],
   "source": [
    "model = Lasso(alpha =2)\n",
    "model.fit(X_train, y_train)\n",
    "pred = model.predict(X_val)\n",
    "mean_squared_error(y_val, pred)\n",
    "\n",
    "y_test = pd.read_csv('/aiffel/data/y_test.csv')\n",
    "\n",
    "pred = model.predict(test)\n",
    "mean_squared_error(y_test, pred)"
   ]
  },
  {
   "cell_type": "markdown",
   "id": "d7aef939",
   "metadata": {},
   "source": [
    "### 라쏘 회귀 alpha =0.1"
   ]
  },
  {
   "cell_type": "code",
   "execution_count": 35,
   "id": "17af8589",
   "metadata": {},
   "outputs": [
    {
     "data": {
      "text/plain": [
       "49004.44814413113"
      ]
     },
     "execution_count": 35,
     "metadata": {},
     "output_type": "execute_result"
    }
   ],
   "source": [
    "model = Lasso(alpha =0.1)\n",
    "model.fit(X_train, y_train)\n",
    "pred = model.predict(X_val)\n",
    "mean_squared_error(y_val, pred)\n",
    "\n",
    "y_test = pd.read_csv('/aiffel/data/y_test.csv')\n",
    "\n",
    "pred = model.predict(test)\n",
    "mean_squared_error(y_test, pred)"
   ]
  },
  {
   "cell_type": "markdown",
   "id": "be9dd4ea",
   "metadata": {},
   "source": [
    "### 라쏘 회귀 alpha =0.01"
   ]
  },
  {
   "cell_type": "code",
   "execution_count": 36,
   "id": "9b095a2e",
   "metadata": {},
   "outputs": [
    {
     "data": {
      "text/plain": [
       "49001.49816798772"
      ]
     },
     "execution_count": 36,
     "metadata": {},
     "output_type": "execute_result"
    }
   ],
   "source": [
    "model = Lasso(alpha =0.01)\n",
    "model.fit(X_train, y_train)\n",
    "pred = model.predict(X_val)\n",
    "mean_squared_error(y_val, pred)\n",
    "\n",
    "y_test = pd.read_csv('/aiffel/data/y_test.csv')\n",
    "\n",
    "pred = model.predict(test)\n",
    "mean_squared_error(y_test, pred)"
   ]
  },
  {
   "cell_type": "markdown",
   "id": "c9119374",
   "metadata": {},
   "source": [
    "### 라쏘 회귀 alpha =0.001"
   ]
  },
  {
   "cell_type": "code",
   "execution_count": 37,
   "id": "e2efb233",
   "metadata": {},
   "outputs": [
    {
     "data": {
      "text/plain": [
       "49002.02892965421"
      ]
     },
     "execution_count": 37,
     "metadata": {},
     "output_type": "execute_result"
    }
   ],
   "source": [
    "model = Lasso(alpha =0.001)\n",
    "model.fit(X_train, y_train)\n",
    "pred = model.predict(X_val)\n",
    "mean_squared_error(y_val, pred)\n",
    "\n",
    "y_test = pd.read_csv('/aiffel/data/y_test.csv')\n",
    "\n",
    "pred = model.predict(test)\n",
    "mean_squared_error(y_test, pred)"
   ]
  },
  {
   "cell_type": "markdown",
   "id": "1bb3e30f",
   "metadata": {},
   "source": [
    "### 엘라스틱넷 회귀 alpha =1"
   ]
  },
  {
   "cell_type": "code",
   "execution_count": 38,
   "id": "ead3657d",
   "metadata": {},
   "outputs": [
    {
     "data": {
      "text/plain": [
       "51167.77111109067"
      ]
     },
     "execution_count": 38,
     "metadata": {},
     "output_type": "execute_result"
    }
   ],
   "source": [
    "from sklearn.linear_model import ElasticNet\n",
    "\n",
    "model = ElasticNet(alpha =1)\n",
    "model.fit(X_train, y_train)\n",
    "pred = model.predict(X_val)\n",
    "mean_squared_error(y_val, pred)\n",
    "\n",
    "y_test = pd.read_csv('/aiffel/data/y_test.csv')\n",
    "\n",
    "pred = model.predict(test)\n",
    "mean_squared_error(y_test, pred)"
   ]
  },
  {
   "cell_type": "markdown",
   "id": "c904206b",
   "metadata": {},
   "source": [
    "### 엘라스틱넷 회귀 alpha =10"
   ]
  },
  {
   "cell_type": "code",
   "execution_count": 39,
   "id": "75ae8b8c",
   "metadata": {},
   "outputs": [
    {
     "data": {
      "text/plain": [
       "53000.31903977342"
      ]
     },
     "execution_count": 39,
     "metadata": {},
     "output_type": "execute_result"
    }
   ],
   "source": [
    "model = ElasticNet(alpha =10)\n",
    "model.fit(X_train, y_train)\n",
    "pred = model.predict(X_val)\n",
    "mean_squared_error(y_val, pred)\n",
    "\n",
    "y_test = pd.read_csv('/aiffel/data/y_test.csv')\n",
    "\n",
    "pred = model.predict(test)\n",
    "mean_squared_error(y_test, pred)"
   ]
  },
  {
   "cell_type": "markdown",
   "id": "91c7e2ab",
   "metadata": {},
   "source": [
    "### 엘라스틱넷 회귀 alpha =0.1"
   ]
  },
  {
   "cell_type": "code",
   "execution_count": 40,
   "id": "9f7df9ac",
   "metadata": {},
   "outputs": [
    {
     "data": {
      "text/plain": [
       "49697.74346038662"
      ]
     },
     "execution_count": 40,
     "metadata": {},
     "output_type": "execute_result"
    }
   ],
   "source": [
    "model = ElasticNet(alpha =0.1)\n",
    "model.fit(X_train, y_train)\n",
    "pred = model.predict(X_val)\n",
    "mean_squared_error(y_val, pred)\n",
    "\n",
    "y_test = pd.read_csv('/aiffel/data/y_test.csv')\n",
    "\n",
    "pred = model.predict(test)\n",
    "mean_squared_error(y_test, pred)"
   ]
  },
  {
   "cell_type": "markdown",
   "id": "2a8d9a06",
   "metadata": {},
   "source": [
    "### 엘라스틱넷 회귀 alpha =0.01"
   ]
  },
  {
   "cell_type": "code",
   "execution_count": 41,
   "id": "64ac5917",
   "metadata": {},
   "outputs": [
    {
     "data": {
      "text/plain": [
       "49335.43479002921"
      ]
     },
     "execution_count": 41,
     "metadata": {},
     "output_type": "execute_result"
    }
   ],
   "source": [
    "model = ElasticNet(alpha =0.01)\n",
    "model.fit(X_train, y_train)\n",
    "pred = model.predict(X_val)\n",
    "mean_squared_error(y_val, pred)\n",
    "\n",
    "y_test = pd.read_csv('/aiffel/data/y_test.csv')\n",
    "\n",
    "pred = model.predict(test)\n",
    "mean_squared_error(y_test, pred)"
   ]
  },
  {
   "cell_type": "markdown",
   "id": "881b08ea",
   "metadata": {},
   "source": [
    "### 엘라스틱넷 회귀 alpha =0.001"
   ]
  },
  {
   "cell_type": "code",
   "execution_count": 42,
   "id": "adafc732",
   "metadata": {},
   "outputs": [
    {
     "data": {
      "text/plain": [
       "49020.93608104351"
      ]
     },
     "execution_count": 42,
     "metadata": {},
     "output_type": "execute_result"
    }
   ],
   "source": [
    "model = ElasticNet(alpha =0.001)\n",
    "model.fit(X_train, y_train)\n",
    "pred = model.predict(X_val)\n",
    "mean_squared_error(y_val, pred)\n",
    "\n",
    "y_test = pd.read_csv('/aiffel/data/y_test.csv')\n",
    "\n",
    "pred = model.predict(test)\n",
    "mean_squared_error(y_test, pred)"
   ]
  },
  {
   "cell_type": "markdown",
   "id": "a14e8112",
   "metadata": {},
   "source": [
    "### 엘라스틱넷 회귀 alpha =0.0001"
   ]
  },
  {
   "cell_type": "code",
   "execution_count": 43,
   "id": "acca8273",
   "metadata": {},
   "outputs": [
    {
     "data": {
      "text/plain": [
       "49001.06285418177"
      ]
     },
     "execution_count": 43,
     "metadata": {},
     "output_type": "execute_result"
    }
   ],
   "source": [
    "model = ElasticNet(alpha =0.0001)\n",
    "model.fit(X_train, y_train)\n",
    "pred = model.predict(X_val)\n",
    "mean_squared_error(y_val, pred)\n",
    "\n",
    "y_test = pd.read_csv('/aiffel/data/y_test.csv')\n",
    "\n",
    "pred = model.predict(test)\n",
    "mean_squared_error(y_test, pred)"
   ]
  },
  {
   "cell_type": "markdown",
   "id": "67a6d64d",
   "metadata": {},
   "source": [
    "### 엘라스틱넷 회귀 alpha =0.00001"
   ]
  },
  {
   "cell_type": "code",
   "execution_count": 44,
   "id": "c42f8186",
   "metadata": {},
   "outputs": [
    {
     "data": {
      "text/plain": [
       "49001.94798914079"
      ]
     },
     "execution_count": 44,
     "metadata": {},
     "output_type": "execute_result"
    }
   ],
   "source": [
    "model = ElasticNet(alpha =0.00001)\n",
    "model.fit(X_train, y_train)\n",
    "pred = model.predict(X_val)\n",
    "mean_squared_error(y_val, pred)\n",
    "\n",
    "y_test = pd.read_csv('/aiffel/data/y_test.csv')\n",
    "\n",
    "pred = model.predict(test)\n",
    "mean_squared_error(y_test, pred)"
   ]
  },
  {
   "cell_type": "markdown",
   "id": "448cd3c2",
   "metadata": {},
   "source": [
    "### 랜덤포레스트"
   ]
  },
  {
   "cell_type": "code",
   "execution_count": 45,
   "id": "fba28a22",
   "metadata": {},
   "outputs": [
    {
     "data": {
      "text/plain": [
       "49107.03956163207"
      ]
     },
     "execution_count": 45,
     "metadata": {},
     "output_type": "execute_result"
    }
   ],
   "source": [
    "from sklearn.ensemble import RandomForestRegressor\n",
    "\n",
    "model = RandomForestRegressor(random_state=2022)\n",
    "model.fit(X_train, y_train)\n",
    "pred = model.predict(X_val)\n",
    "mean_squared_error(y_val, pred)\n",
    "\n",
    "y_test = pd.read_csv('/aiffel/data/y_test.csv')\n",
    "\n",
    "pred = model.predict(test)\n",
    "mean_squared_error(y_test, pred)"
   ]
  },
  {
   "cell_type": "markdown",
   "id": "0a6c542e",
   "metadata": {},
   "source": [
    "### 하이퍼파라미터 튜닝"
   ]
  },
  {
   "cell_type": "code",
   "execution_count": 46,
   "id": "65f08e4f",
   "metadata": {},
   "outputs": [
    {
     "name": "stderr",
     "output_type": "stream",
     "text": [
      "/opt/conda/lib/python3.9/site-packages/pkg_resources/__init__.py:122: PkgResourcesDeprecationWarning: 0.996-ko-0.9.2 is an invalid version and will not be supported in a future release\n",
      "  warnings.warn(\n"
     ]
    }
   ],
   "source": [
    "from sklearn.model_selection import RandomizedSearchCV\n",
    "from xgboost import XGBRegressor\n",
    "import numpy as np"
   ]
  },
  {
   "cell_type": "code",
   "execution_count": 47,
   "id": "f6a4e953",
   "metadata": {},
   "outputs": [],
   "source": [
    "params={'learning_rate':[1.01, 0.09, 0.07, 0.05, 0.03, 0.01], \n",
    "        'max_depth':[1, 3, 5, 7, 9, 11], \n",
    "        'n_estimators':[50, 100, 200, 400],\n",
    "        'subsample':[0.9, 0.8, 0.7, 0.6, 0.5]\n",
    "        }"
   ]
  },
  {
   "cell_type": "code",
   "execution_count": 48,
   "id": "a9b2556c",
   "metadata": {},
   "outputs": [
    {
     "name": "stderr",
     "output_type": "stream",
     "text": [
      "/opt/conda/lib/python3.9/site-packages/pkg_resources/__init__.py:122: PkgResourcesDeprecationWarning: 0.996-ko-0.9.2 is an invalid version and will not be supported in a future release\n",
      "  warnings.warn(\n",
      "/opt/conda/lib/python3.9/site-packages/pkg_resources/__init__.py:122: PkgResourcesDeprecationWarning: 0.996-ko-0.9.2 is an invalid version and will not be supported in a future release\n",
      "  warnings.warn(\n",
      "/opt/conda/lib/python3.9/site-packages/joblib/externals/loky/process_executor.py:702: UserWarning: A worker stopped while some jobs were given to the executor. This can be caused by a too short worker timeout or by a memory leak.\n",
      "  warnings.warn(\n",
      "/opt/conda/lib/python3.9/site-packages/pkg_resources/__init__.py:122: PkgResourcesDeprecationWarning: 0.996-ko-0.9.2 is an invalid version and will not be supported in a future release\n",
      "  warnings.warn(\n"
     ]
    },
    {
     "data": {
      "text/plain": [
       "RandomizedSearchCV(cv=3,\n",
       "                   estimator=XGBRegressor(base_score=None, booster=None,\n",
       "                                          colsample_bylevel=None,\n",
       "                                          colsample_bynode=None,\n",
       "                                          colsample_bytree=None, gamma=None,\n",
       "                                          gpu_id=None, importance_type='gain',\n",
       "                                          interaction_constraints=None,\n",
       "                                          learning_rate=None,\n",
       "                                          max_delta_step=None, max_depth=None,\n",
       "                                          min_child_weight=None, missing=nan,\n",
       "                                          monotone_constraints=None,\n",
       "                                          n_estimators=100, n...\n",
       "                                          num_parallel_tree=None,\n",
       "                                          random_state=None, reg_alpha=None,\n",
       "                                          reg_lambda=None,\n",
       "                                          scale_pos_weight=None, subsample=None,\n",
       "                                          tree_method=None,\n",
       "                                          validate_parameters=None,\n",
       "                                          verbosity=None),\n",
       "                   n_iter=20, n_jobs=-1,\n",
       "                   param_distributions={'learning_rate': [1.01, 0.09, 0.07,\n",
       "                                                          0.05, 0.03, 0.01],\n",
       "                                        'max_depth': [1, 3, 5, 7, 9, 11],\n",
       "                                        'n_estimators': [50, 100, 200, 400],\n",
       "                                        'subsample': [0.9, 0.8, 0.7, 0.6, 0.5]})"
      ]
     },
     "execution_count": 48,
     "metadata": {},
     "output_type": "execute_result"
    }
   ],
   "source": [
    "xgb = XGBRegressor()\n",
    "grid = RandomizedSearchCV(xgb, params, cv=3, n_iter=20, n_jobs=-1)\n",
    "grid.fit(X_train, y_train)"
   ]
  },
  {
   "cell_type": "code",
   "execution_count": 49,
   "id": "6398f43e",
   "metadata": {},
   "outputs": [
    {
     "data": {
      "text/plain": [
       "{'subsample': 0.7, 'n_estimators': 400, 'max_depth': 5, 'learning_rate': 0.05}"
      ]
     },
     "execution_count": 49,
     "metadata": {},
     "output_type": "execute_result"
    }
   ],
   "source": [
    "grid.best_params_"
   ]
  },
  {
   "cell_type": "markdown",
   "id": "4690be06",
   "metadata": {},
   "source": [
    "### Xgboost"
   ]
  },
  {
   "cell_type": "code",
   "execution_count": 50,
   "id": "1e8b3901",
   "metadata": {},
   "outputs": [
    {
     "data": {
      "text/plain": [
       "45584.029118075734"
      ]
     },
     "execution_count": 50,
     "metadata": {},
     "output_type": "execute_result"
    }
   ],
   "source": [
    "model = XGBRegressor(subsample=0.7, n_estimators= 400, max_depth= 5, learning_rate= 0.05)\n",
    "\n",
    "model.fit(X_train, y_train)\n",
    "pred = model.predict(X_val)\n",
    "mean_squared_error(y_val, pred)\n",
    "\n",
    "y_test = pd.read_csv('/aiffel/data/y_test.csv')\n",
    "\n",
    "pred = model.predict(test)\n",
    "mean_squared_error(y_test, pred)"
   ]
  },
  {
   "cell_type": "markdown",
   "id": "90943e1c",
   "metadata": {},
   "source": [
    "### 6. 채점"
   ]
  },
  {
   "cell_type": "markdown",
   "id": "d0e9e0d7",
   "metadata": {},
   "source": [
    "### 전처리를 최소로 했을 때의 결과"
   ]
  },
  {
   "cell_type": "markdown",
   "id": "e2703cb8",
   "metadata": {},
   "source": [
    "- __엘라스틱넷 회귀 alpha =0.0001__이 __'49001.06285418177'__로 최소였다."
   ]
  },
  {
   "cell_type": "markdown",
   "id": "3ec8d0df",
   "metadata": {},
   "source": [
    "------------"
   ]
  },
  {
   "cell_type": "markdown",
   "id": "fad9eea3",
   "metadata": {},
   "source": [
    "### 3. 데이터 전처리"
   ]
  },
  {
   "cell_type": "markdown",
   "id": "761d1e44",
   "metadata": {},
   "source": [
    "target(hist)"
   ]
  },
  {
   "cell_type": "markdown",
   "id": "eebfdaf7",
   "metadata": {},
   "source": [
    "타겟의 값이 너무 몰려있어서 로그화해서 정규분포처럼 만들어주자."
   ]
  },
  {
   "cell_type": "code",
   "execution_count": 51,
   "id": "068864fb",
   "metadata": {
    "scrolled": true
   },
   "outputs": [
    {
     "data": {
      "text/plain": [
       "<AxesSubplot:>"
      ]
     },
     "execution_count": 51,
     "metadata": {},
     "output_type": "execute_result"
    },
    {
     "data": {
      "image/png": "[encoded data removed]",
      "text/plain": [
       "<Figure size 432x288 with 1 Axes>"
      ]
     },
     "metadata": {
      "needs_background": "light"
     },
     "output_type": "display_data"
    }
   ],
   "source": [
    "target.hist(bins=100)"
   ]
  },
  {
   "cell_type": "code",
   "execution_count": 52,
   "id": "d7e4a25e",
   "metadata": {},
   "outputs": [],
   "source": [
    "import numpy as np"
   ]
  },
  {
   "cell_type": "code",
   "execution_count": 53,
   "id": "03871fc9",
   "metadata": {
    "scrolled": false
   },
   "outputs": [
    {
     "data": {
      "text/plain": [
       "<AxesSubplot:>"
      ]
     },
     "execution_count": 53,
     "metadata": {},
     "output_type": "execute_result"
    },
    {
     "data": {
      "image/png": "[encoded data removed]",
      "text/plain": [
       "<Figure size 432x288 with 1 Axes>"
      ]
     },
     "metadata": {
      "needs_background": "light"
     },
     "output_type": "display_data"
    }
   ],
   "source": [
    "target = np.log1p(target)\n",
    "target.hist(bins=100)"
   ]
  },
  {
   "cell_type": "markdown",
   "id": "add3f0bd",
   "metadata": {},
   "source": [
    "### 4. 검증 데이터 분리"
   ]
  },
  {
   "cell_type": "code",
   "execution_count": 26,
   "id": "0e8b6617",
   "metadata": {},
   "outputs": [
    {
     "data": {
      "text/plain": [
       "((31292, 12), (7824, 12), (31292,), (7824,))"
      ]
     },
     "execution_count": 26,
     "metadata": {},
     "output_type": "execute_result"
    }
   ],
   "source": [
    "X_train, X_val, y_train, y_val = train_test_split(train, target, test_size=0.2, random_state=2022)\n",
    "X_train.shape, X_val.shape, y_train.shape, y_val.shape"
   ]
  },
  {
   "cell_type": "markdown",
   "id": "a297cd6a",
   "metadata": {},
   "source": [
    "### 5. 머신러닝"
   ]
  },
  {
   "cell_type": "markdown",
   "id": "7be2ff22",
   "metadata": {},
   "source": [
    "### 머신러닝(회귀)"
   ]
  },
  {
   "cell_type": "code",
   "execution_count": 53,
   "id": "1c5e121e",
   "metadata": {},
   "outputs": [
    {
     "data": {
      "text/plain": [
       "49002.097170953704"
      ]
     },
     "execution_count": 53,
     "metadata": {},
     "output_type": "execute_result"
    }
   ],
   "source": [
    "model = LinearRegression()\n",
    "model.fit(X_train, y_train)\n",
    "pred = model.predict(X_val)\n",
    "mean_squared_error(y_val, pred)\n",
    "\n",
    "y_test = pd.read_csv('/aiffel/data/y_test.csv')\n",
    "\n",
    "pred = model.predict(test)\n",
    "mean_squared_error(y_test, pred)"
   ]
  },
  {
   "cell_type": "markdown",
   "id": "4db40b15",
   "metadata": {},
   "source": [
    "### 릿지 회귀 alpha =100"
   ]
  },
  {
   "cell_type": "code",
   "execution_count": 54,
   "id": "2e3522ea",
   "metadata": {},
   "outputs": [
    {
     "name": "stderr",
     "output_type": "stream",
     "text": [
      "/opt/conda/lib/python3.9/site-packages/sklearn/linear_model/_ridge.py:156: LinAlgWarning: Ill-conditioned matrix (rcond=7.84339e-19): result may not be accurate.\n",
      "  return linalg.solve(A, Xy, sym_pos=True, overwrite_a=True).T\n"
     ]
    },
    {
     "data": {
      "text/plain": [
       "49245.50400497123"
      ]
     },
     "execution_count": 54,
     "metadata": {},
     "output_type": "execute_result"
    }
   ],
   "source": [
    "model = Ridge(alpha =100)\n",
    "model.fit(X_train, y_train)\n",
    "pred = model.predict(X_val)\n",
    "mean_squared_error(y_val, pred)\n",
    "\n",
    "y_test = pd.read_csv('/aiffel/data/y_test.csv')\n",
    "\n",
    "pred = model.predict(test)\n",
    "mean_squared_error(y_test, pred)"
   ]
  },
  {
   "cell_type": "markdown",
   "id": "29da9059",
   "metadata": {},
   "source": [
    "### 릿지 회귀 alpha =10"
   ]
  },
  {
   "cell_type": "code",
   "execution_count": 55,
   "id": "f08eccb4",
   "metadata": {},
   "outputs": [
    {
     "name": "stderr",
     "output_type": "stream",
     "text": [
      "/opt/conda/lib/python3.9/site-packages/sklearn/linear_model/_ridge.py:156: LinAlgWarning: Ill-conditioned matrix (rcond=3.33579e-19): result may not be accurate.\n",
      "  return linalg.solve(A, Xy, sym_pos=True, overwrite_a=True).T\n"
     ]
    },
    {
     "data": {
      "text/plain": [
       "49008.45311929186"
      ]
     },
     "execution_count": 55,
     "metadata": {},
     "output_type": "execute_result"
    }
   ],
   "source": [
    "model = Ridge(alpha =10)\n",
    "model.fit(X_train, y_train)\n",
    "pred = model.predict(X_val)\n",
    "mean_squared_error(y_val, pred)\n",
    "\n",
    "y_test = pd.read_csv('/aiffel/data/y_test.csv')\n",
    "\n",
    "pred = model.predict(test)\n",
    "mean_squared_error(y_test, pred)"
   ]
  },
  {
   "cell_type": "markdown",
   "id": "424a15f5",
   "metadata": {},
   "source": [
    "### 릿지 회귀 alpha =1"
   ]
  },
  {
   "cell_type": "code",
   "execution_count": 56,
   "id": "089a104c",
   "metadata": {},
   "outputs": [
    {
     "name": "stderr",
     "output_type": "stream",
     "text": [
      "/opt/conda/lib/python3.9/site-packages/sklearn/linear_model/_ridge.py:156: LinAlgWarning: Ill-conditioned matrix (rcond=2.88841e-19): result may not be accurate.\n",
      "  return linalg.solve(A, Xy, sym_pos=True, overwrite_a=True).T\n"
     ]
    },
    {
     "data": {
      "text/plain": [
       "49001.32346235989"
      ]
     },
     "execution_count": 56,
     "metadata": {},
     "output_type": "execute_result"
    }
   ],
   "source": [
    "model = Ridge(alpha =1)\n",
    "model.fit(X_train, y_train)\n",
    "pred = model.predict(X_val)\n",
    "mean_squared_error(y_val, pred)\n",
    "\n",
    "y_test = pd.read_csv('/aiffel/data/y_test.csv')\n",
    "\n",
    "pred = model.predict(test)\n",
    "mean_squared_error(y_test, pred)"
   ]
  },
  {
   "cell_type": "markdown",
   "id": "23e26326",
   "metadata": {},
   "source": [
    "### 릿지 회귀 alpha =0.1"
   ]
  },
  {
   "cell_type": "code",
   "execution_count": 57,
   "id": "19647491",
   "metadata": {},
   "outputs": [
    {
     "name": "stderr",
     "output_type": "stream",
     "text": [
      "/opt/conda/lib/python3.9/site-packages/sklearn/linear_model/_ridge.py:156: LinAlgWarning: Ill-conditioned matrix (rcond=2.84374e-19): result may not be accurate.\n",
      "  return linalg.solve(A, Xy, sym_pos=True, overwrite_a=True).T\n"
     ]
    },
    {
     "data": {
      "text/plain": [
       "49002.00080698013"
      ]
     },
     "execution_count": 57,
     "metadata": {},
     "output_type": "execute_result"
    }
   ],
   "source": [
    "model = Ridge(alpha =0.1)\n",
    "model.fit(X_train, y_train)\n",
    "pred = model.predict(X_val)\n",
    "mean_squared_error(y_val, pred)\n",
    "\n",
    "y_test = pd.read_csv('/aiffel/data/y_test.csv')\n",
    "\n",
    "pred = model.predict(test)\n",
    "mean_squared_error(y_test, pred)"
   ]
  },
  {
   "cell_type": "markdown",
   "id": "a0c17d52",
   "metadata": {},
   "source": [
    "### 릿지 회귀 alpha =0.01"
   ]
  },
  {
   "cell_type": "code",
   "execution_count": 58,
   "id": "154d3061",
   "metadata": {},
   "outputs": [
    {
     "name": "stderr",
     "output_type": "stream",
     "text": [
      "/opt/conda/lib/python3.9/site-packages/sklearn/linear_model/_ridge.py:156: LinAlgWarning: Ill-conditioned matrix (rcond=2.83927e-19): result may not be accurate.\n",
      "  return linalg.solve(A, Xy, sym_pos=True, overwrite_a=True).T\n"
     ]
    },
    {
     "data": {
      "text/plain": [
       "49002.08733846722"
      ]
     },
     "execution_count": 58,
     "metadata": {},
     "output_type": "execute_result"
    }
   ],
   "source": [
    "model = Ridge(alpha =0.01)\n",
    "model.fit(X_train, y_train)\n",
    "pred = model.predict(X_val)\n",
    "mean_squared_error(y_val, pred)\n",
    "\n",
    "y_test = pd.read_csv('/aiffel/data/y_test.csv')\n",
    "\n",
    "pred = model.predict(test)\n",
    "mean_squared_error(y_test, pred)"
   ]
  },
  {
   "cell_type": "markdown",
   "id": "ec0c2732",
   "metadata": {},
   "source": [
    "### 라쏘 회귀 alpha =1"
   ]
  },
  {
   "cell_type": "code",
   "execution_count": 59,
   "id": "0059d372",
   "metadata": {},
   "outputs": [
    {
     "data": {
      "text/plain": [
       "49482.15288575695"
      ]
     },
     "execution_count": 59,
     "metadata": {},
     "output_type": "execute_result"
    }
   ],
   "source": [
    "model = Lasso(alpha =1)\n",
    "model.fit(X_train, y_train)\n",
    "pred = model.predict(X_val)\n",
    "mean_squared_error(y_val, pred)\n",
    "\n",
    "y_test = pd.read_csv('/aiffel/data/y_test.csv')\n",
    "\n",
    "pred = model.predict(test)\n",
    "mean_squared_error(y_test, pred)"
   ]
  },
  {
   "cell_type": "markdown",
   "id": "9d990212",
   "metadata": {},
   "source": [
    "### 라쏘 회귀 alpha =2"
   ]
  },
  {
   "cell_type": "code",
   "execution_count": 60,
   "id": "f68bbfa1",
   "metadata": {},
   "outputs": [
    {
     "data": {
      "text/plain": [
       "49669.53264027392"
      ]
     },
     "execution_count": 60,
     "metadata": {},
     "output_type": "execute_result"
    }
   ],
   "source": [
    "model = Lasso(alpha =2)\n",
    "model.fit(X_train, y_train)\n",
    "pred = model.predict(X_val)\n",
    "mean_squared_error(y_val, pred)\n",
    "\n",
    "y_test = pd.read_csv('/aiffel/data/y_test.csv')\n",
    "\n",
    "pred = model.predict(test)\n",
    "mean_squared_error(y_test, pred)"
   ]
  },
  {
   "cell_type": "markdown",
   "id": "43061013",
   "metadata": {},
   "source": [
    "### 라쏘 회귀 alpha =0.1"
   ]
  },
  {
   "cell_type": "code",
   "execution_count": 61,
   "id": "929afb75",
   "metadata": {},
   "outputs": [
    {
     "data": {
      "text/plain": [
       "49004.44814413113"
      ]
     },
     "execution_count": 61,
     "metadata": {},
     "output_type": "execute_result"
    }
   ],
   "source": [
    "model = Lasso(alpha =0.1)\n",
    "model.fit(X_train, y_train)\n",
    "pred = model.predict(X_val)\n",
    "mean_squared_error(y_val, pred)\n",
    "\n",
    "y_test = pd.read_csv('/aiffel/data/y_test.csv')\n",
    "\n",
    "pred = model.predict(test)\n",
    "mean_squared_error(y_test, pred)"
   ]
  },
  {
   "cell_type": "markdown",
   "id": "48a064f7",
   "metadata": {},
   "source": [
    "### 라쏘 회귀 alpha =0.01"
   ]
  },
  {
   "cell_type": "code",
   "execution_count": 62,
   "id": "8bcc8f00",
   "metadata": {},
   "outputs": [
    {
     "data": {
      "text/plain": [
       "49001.49816798772"
      ]
     },
     "execution_count": 62,
     "metadata": {},
     "output_type": "execute_result"
    }
   ],
   "source": [
    "model = Lasso(alpha =0.01)\n",
    "model.fit(X_train, y_train)\n",
    "pred = model.predict(X_val)\n",
    "mean_squared_error(y_val, pred)\n",
    "\n",
    "y_test = pd.read_csv('/aiffel/data/y_test.csv')\n",
    "\n",
    "pred = model.predict(test)\n",
    "mean_squared_error(y_test, pred)"
   ]
  },
  {
   "cell_type": "markdown",
   "id": "e61db6bf",
   "metadata": {},
   "source": [
    "### 라쏘 회귀 alpha =0.001"
   ]
  },
  {
   "cell_type": "code",
   "execution_count": 63,
   "id": "db88fe07",
   "metadata": {},
   "outputs": [
    {
     "data": {
      "text/plain": [
       "49002.02892965421"
      ]
     },
     "execution_count": 63,
     "metadata": {},
     "output_type": "execute_result"
    }
   ],
   "source": [
    "model = Lasso(alpha =0.001)\n",
    "model.fit(X_train, y_train)\n",
    "pred = model.predict(X_val)\n",
    "mean_squared_error(y_val, pred)\n",
    "\n",
    "y_test = pd.read_csv('/aiffel/data/y_test.csv')\n",
    "\n",
    "pred = model.predict(test)\n",
    "mean_squared_error(y_test, pred)"
   ]
  },
  {
   "cell_type": "markdown",
   "id": "2dc9a8c5",
   "metadata": {},
   "source": [
    "### 엘라스틱넷 회귀 alpha =1"
   ]
  },
  {
   "cell_type": "code",
   "execution_count": 64,
   "id": "6dc0e498",
   "metadata": {},
   "outputs": [
    {
     "data": {
      "text/plain": [
       "51167.77111109067"
      ]
     },
     "execution_count": 64,
     "metadata": {},
     "output_type": "execute_result"
    }
   ],
   "source": [
    "model = ElasticNet(alpha =1)\n",
    "model.fit(X_train, y_train)\n",
    "pred = model.predict(X_val)\n",
    "mean_squared_error(y_val, pred)\n",
    "\n",
    "y_test = pd.read_csv('/aiffel/data/y_test.csv')\n",
    "\n",
    "pred = model.predict(test)\n",
    "mean_squared_error(y_test, pred)"
   ]
  },
  {
   "cell_type": "markdown",
   "id": "7ea3c7bd",
   "metadata": {},
   "source": [
    "### 엘라스틱넷 회귀 alpha =10"
   ]
  },
  {
   "cell_type": "code",
   "execution_count": 65,
   "id": "e53ca73d",
   "metadata": {},
   "outputs": [
    {
     "data": {
      "text/plain": [
       "53000.31903977342"
      ]
     },
     "execution_count": 65,
     "metadata": {},
     "output_type": "execute_result"
    }
   ],
   "source": [
    "model = ElasticNet(alpha =10)\n",
    "model.fit(X_train, y_train)\n",
    "pred = model.predict(X_val)\n",
    "mean_squared_error(y_val, pred)\n",
    "\n",
    "y_test = pd.read_csv('/aiffel/data/y_test.csv')\n",
    "\n",
    "pred = model.predict(test)\n",
    "mean_squared_error(y_test, pred)"
   ]
  },
  {
   "cell_type": "markdown",
   "id": "855d0456",
   "metadata": {},
   "source": [
    "### 엘라스틱넷 회귀 alpha =0.1"
   ]
  },
  {
   "cell_type": "code",
   "execution_count": 66,
   "id": "025d48d9",
   "metadata": {},
   "outputs": [
    {
     "data": {
      "text/plain": [
       "49697.74346038662"
      ]
     },
     "execution_count": 66,
     "metadata": {},
     "output_type": "execute_result"
    }
   ],
   "source": [
    "model = ElasticNet(alpha =0.1)\n",
    "model.fit(X_train, y_train)\n",
    "pred = model.predict(X_val)\n",
    "mean_squared_error(y_val, pred)\n",
    "\n",
    "y_test = pd.read_csv('/aiffel/data/y_test.csv')\n",
    "\n",
    "pred = model.predict(test)\n",
    "mean_squared_error(y_test, pred)"
   ]
  },
  {
   "cell_type": "markdown",
   "id": "3e8bfe5c",
   "metadata": {},
   "source": [
    "### 엘라스틱넷 회귀 alpha =0.01"
   ]
  },
  {
   "cell_type": "code",
   "execution_count": 67,
   "id": "1a1cff23",
   "metadata": {},
   "outputs": [
    {
     "data": {
      "text/plain": [
       "49335.43479002921"
      ]
     },
     "execution_count": 67,
     "metadata": {},
     "output_type": "execute_result"
    }
   ],
   "source": [
    "model = ElasticNet(alpha =0.01)\n",
    "model.fit(X_train, y_train)\n",
    "pred = model.predict(X_val)\n",
    "mean_squared_error(y_val, pred)\n",
    "\n",
    "y_test = pd.read_csv('/aiffel/data/y_test.csv')\n",
    "\n",
    "pred = model.predict(test)\n",
    "mean_squared_error(y_test, pred)"
   ]
  },
  {
   "cell_type": "markdown",
   "id": "5b7a501a",
   "metadata": {},
   "source": [
    "### 엘라스틱넷 회귀 alpha =0.001"
   ]
  },
  {
   "cell_type": "code",
   "execution_count": 68,
   "id": "6a92b2eb",
   "metadata": {},
   "outputs": [
    {
     "data": {
      "text/plain": [
       "49020.93608104351"
      ]
     },
     "execution_count": 68,
     "metadata": {},
     "output_type": "execute_result"
    }
   ],
   "source": [
    "model = ElasticNet(alpha =0.001)\n",
    "model.fit(X_train, y_train)\n",
    "pred = model.predict(X_val)\n",
    "mean_squared_error(y_val, pred)\n",
    "\n",
    "y_test = pd.read_csv('/aiffel/data/y_test.csv')\n",
    "\n",
    "pred = model.predict(test)\n",
    "mean_squared_error(y_test, pred)"
   ]
  },
  {
   "cell_type": "markdown",
   "id": "b80f89ff",
   "metadata": {},
   "source": [
    "### 엘라스틱넷 회귀 alpha =0.0001"
   ]
  },
  {
   "cell_type": "code",
   "execution_count": 69,
   "id": "dd0ae620",
   "metadata": {},
   "outputs": [
    {
     "data": {
      "text/plain": [
       "49001.06285418177"
      ]
     },
     "execution_count": 69,
     "metadata": {},
     "output_type": "execute_result"
    }
   ],
   "source": [
    "model = ElasticNet(alpha =0.0001)\n",
    "model.fit(X_train, y_train)\n",
    "pred = model.predict(X_val)\n",
    "mean_squared_error(y_val, pred)\n",
    "\n",
    "y_test = pd.read_csv('/aiffel/data/y_test.csv')\n",
    "\n",
    "pred = model.predict(test)\n",
    "mean_squared_error(y_test, pred)"
   ]
  },
  {
   "cell_type": "markdown",
   "id": "41cef4e8",
   "metadata": {},
   "source": [
    "### 엘라스틱넷 회귀 alpha =0.00001"
   ]
  },
  {
   "cell_type": "code",
   "execution_count": 70,
   "id": "3d18dd29",
   "metadata": {},
   "outputs": [
    {
     "data": {
      "text/plain": [
       "49001.94798914079"
      ]
     },
     "execution_count": 70,
     "metadata": {},
     "output_type": "execute_result"
    }
   ],
   "source": [
    "model = ElasticNet(alpha =0.00001)\n",
    "model.fit(X_train, y_train)\n",
    "pred = model.predict(X_val)\n",
    "mean_squared_error(y_val, pred)\n",
    "\n",
    "y_test = pd.read_csv('/aiffel/data/y_test.csv')\n",
    "\n",
    "pred = model.predict(test)\n",
    "mean_squared_error(y_test, pred)"
   ]
  },
  {
   "cell_type": "markdown",
   "id": "362c46ca",
   "metadata": {},
   "source": [
    "### 랜덤포레스트"
   ]
  },
  {
   "cell_type": "code",
   "execution_count": 71,
   "id": "5fbff79f",
   "metadata": {},
   "outputs": [
    {
     "data": {
      "text/plain": [
       "49107.03956163207"
      ]
     },
     "execution_count": 71,
     "metadata": {},
     "output_type": "execute_result"
    }
   ],
   "source": [
    "model = RandomForestRegressor(random_state=2022)\n",
    "model.fit(X_train, y_train)\n",
    "pred = model.predict(X_val)\n",
    "mean_squared_error(y_val, pred)\n",
    "\n",
    "y_test = pd.read_csv('/aiffel/data/y_test.csv')\n",
    "\n",
    "pred = model.predict(test)\n",
    "mean_squared_error(y_test, pred)"
   ]
  },
  {
   "cell_type": "markdown",
   "id": "b9354e10",
   "metadata": {},
   "source": [
    "### 하이퍼파라미터 튜닝"
   ]
  },
  {
   "cell_type": "code",
   "execution_count": 73,
   "id": "9c72d840",
   "metadata": {},
   "outputs": [],
   "source": [
    "params={'learning_rate':[1.01, 0.09, 0.07, 0.05, 0.03, 0.01], \n",
    "        'max_depth':[1, 3, 5, 7, 9, 11], \n",
    "        'n_estimators':[50, 100, 200, 400],\n",
    "        'subsample':[0.9, 0.8, 0.7, 0.6, 0.5]\n",
    "        }"
   ]
  },
  {
   "cell_type": "code",
   "execution_count": 74,
   "id": "5a663de6",
   "metadata": {},
   "outputs": [
    {
     "name": "stderr",
     "output_type": "stream",
     "text": [
      "/opt/conda/lib/python3.9/site-packages/pkg_resources/__init__.py:122: PkgResourcesDeprecationWarning: 0.996-ko-0.9.2 is an invalid version and will not be supported in a future release\n",
      "  warnings.warn(\n",
      "/opt/conda/lib/python3.9/site-packages/pkg_resources/__init__.py:122: PkgResourcesDeprecationWarning: 0.996-ko-0.9.2 is an invalid version and will not be supported in a future release\n",
      "  warnings.warn(\n"
     ]
    },
    {
     "data": {
      "text/plain": [
       "RandomizedSearchCV(cv=3,\n",
       "                   estimator=XGBRegressor(base_score=None, booster=None,\n",
       "                                          colsample_bylevel=None,\n",
       "                                          colsample_bynode=None,\n",
       "                                          colsample_bytree=None, gamma=None,\n",
       "                                          gpu_id=None, importance_type='gain',\n",
       "                                          interaction_constraints=None,\n",
       "                                          learning_rate=None,\n",
       "                                          max_delta_step=None, max_depth=None,\n",
       "                                          min_child_weight=None, missing=nan,\n",
       "                                          monotone_constraints=None,\n",
       "                                          n_estimators=100, n...\n",
       "                                          num_parallel_tree=None,\n",
       "                                          random_state=None, reg_alpha=None,\n",
       "                                          reg_lambda=None,\n",
       "                                          scale_pos_weight=None, subsample=None,\n",
       "                                          tree_method=None,\n",
       "                                          validate_parameters=None,\n",
       "                                          verbosity=None),\n",
       "                   n_iter=20, n_jobs=-1,\n",
       "                   param_distributions={'learning_rate': [1.01, 0.09, 0.07,\n",
       "                                                          0.05, 0.03, 0.01],\n",
       "                                        'max_depth': [1, 3, 5, 7, 9, 11],\n",
       "                                        'n_estimators': [50, 100, 200, 400],\n",
       "                                        'subsample': [0.9, 0.8, 0.7, 0.6, 0.5]})"
      ]
     },
     "execution_count": 74,
     "metadata": {},
     "output_type": "execute_result"
    }
   ],
   "source": [
    "xgb = XGBRegressor()\n",
    "grid = RandomizedSearchCV(xgb, params, cv=3, n_iter=20, n_jobs=-1)\n",
    "grid.fit(X_train, y_train)"
   ]
  },
  {
   "cell_type": "code",
   "execution_count": 75,
   "id": "f39d8be6",
   "metadata": {},
   "outputs": [
    {
     "data": {
      "text/plain": [
       "{'subsample': 0.6, 'n_estimators': 200, 'max_depth': 7, 'learning_rate': 0.03}"
      ]
     },
     "execution_count": 75,
     "metadata": {},
     "output_type": "execute_result"
    }
   ],
   "source": [
    "grid.best_params_"
   ]
  },
  {
   "cell_type": "markdown",
   "id": "0723cc4e",
   "metadata": {},
   "source": [
    "### Xgboost"
   ]
  },
  {
   "cell_type": "code",
   "execution_count": 77,
   "id": "e0ee9866",
   "metadata": {},
   "outputs": [
    {
     "data": {
      "text/plain": [
       "46013.53942065027"
      ]
     },
     "execution_count": 77,
     "metadata": {},
     "output_type": "execute_result"
    }
   ],
   "source": [
    "model = XGBRegressor(subsample=0.6, n_estimators= 200, max_depth= 7, learning_rate= 0.03)\n",
    "\n",
    "model.fit(X_train, y_train)\n",
    "pred = model.predict(X_val)\n",
    "mean_squared_error(y_val, pred)\n",
    "\n",
    "y_test = pd.read_csv('/aiffel/data/y_test.csv')\n",
    "\n",
    "pred = model.predict(test)\n",
    "mean_squared_error(y_test, pred)"
   ]
  },
  {
   "cell_type": "markdown",
   "id": "1e2bc05c",
   "metadata": {},
   "source": [
    "### 6. 채점"
   ]
  },
  {
   "cell_type": "markdown",
   "id": "d1e7898d",
   "metadata": {},
   "source": [
    "### 타겟을 로그화했을 때의 결과"
   ]
  },
  {
   "cell_type": "markdown",
   "id": "3507d051",
   "metadata": {},
   "source": [
    "- __Xgbost__가 __46013.53942065027__로 최소였다."
   ]
  },
  {
   "cell_type": "markdown",
   "id": "6fa87ce4",
   "metadata": {},
   "source": [
    "타겟을 로그화 한 값이 더 좋은 성능을 보였다."
   ]
  },
  {
   "cell_type": "markdown",
   "id": "3e8f1cb9",
   "metadata": {},
   "source": [
    "--------------------"
   ]
  },
  {
   "cell_type": "markdown",
   "id": "c9f961de",
   "metadata": {},
   "source": [
    "### 3. 데이터 전처리"
   ]
  },
  {
   "cell_type": "code",
   "execution_count": 83,
   "id": "7c7084be",
   "metadata": {},
   "outputs": [],
   "source": [
    "from sklearn.preprocessing import MinMaxScaler\n",
    "\n",
    "scaler = MinMaxScaler()\n",
    "cols = [\n",
    "        'host_id',\n",
    "        'latitude',\n",
    "        'longitude',\n",
    "        'last_review',\n",
    "        'minimum_nights',\n",
    "        'number_of_reviews', \n",
    "        'reviews_per_month',\n",
    "        'calculated_host_listings_count',\n",
    "        'availability_365'\n",
    "        ]\n",
    "\n",
    "train[cols] = scaler.fit_transform(train[cols])\n",
    "test[cols] = scaler.transform(test[cols])"
   ]
  },
  {
   "cell_type": "markdown",
   "id": "20d17067",
   "metadata": {},
   "source": [
    "### 4. 검증 데이터 분리"
   ]
  },
  {
   "cell_type": "code",
   "execution_count": 26,
   "id": "97dffea9",
   "metadata": {},
   "outputs": [
    {
     "data": {
      "text/plain": [
       "((31292, 12), (7824, 12), (31292,), (7824,))"
      ]
     },
     "execution_count": 26,
     "metadata": {},
     "output_type": "execute_result"
    }
   ],
   "source": [
    "X_train, X_val, y_train, y_val = train_test_split(train, target, test_size=0.2, random_state=2022)\n",
    "X_train.shape, X_val.shape, y_train.shape, y_val.shape"
   ]
  },
  {
   "cell_type": "markdown",
   "id": "a17d6150",
   "metadata": {},
   "source": [
    "### 5. 머신러닝"
   ]
  },
  {
   "cell_type": "markdown",
   "id": "0a81f4e9",
   "metadata": {},
   "source": [
    "### 머신러닝(회귀)"
   ]
  },
  {
   "cell_type": "code",
   "execution_count": 85,
   "id": "32e2b3a8",
   "metadata": {},
   "outputs": [
    {
     "data": {
      "text/plain": [
       "49002.097170953544"
      ]
     },
     "execution_count": 85,
     "metadata": {},
     "output_type": "execute_result"
    }
   ],
   "source": [
    "model = LinearRegression()\n",
    "model.fit(X_train, y_train)\n",
    "pred = model.predict(X_val)\n",
    "mean_squared_error(y_val, pred)\n",
    "\n",
    "y_test = pd.read_csv('/aiffel/data/y_test.csv')\n",
    "\n",
    "pred = model.predict(test)\n",
    "mean_squared_error(y_test, pred)"
   ]
  },
  {
   "cell_type": "markdown",
   "id": "4d8e3465",
   "metadata": {},
   "source": [
    "### 릿지 회귀 alpha =100"
   ]
  },
  {
   "cell_type": "code",
   "execution_count": 86,
   "id": "a822d5a7",
   "metadata": {},
   "outputs": [
    {
     "data": {
      "text/plain": [
       "49031.15920068532"
      ]
     },
     "execution_count": 86,
     "metadata": {},
     "output_type": "execute_result"
    }
   ],
   "source": [
    "model = Ridge(alpha =100)\n",
    "model.fit(X_train, y_train)\n",
    "pred = model.predict(X_val)\n",
    "mean_squared_error(y_val, pred)\n",
    "\n",
    "y_test = pd.read_csv('/aiffel/data/y_test.csv')\n",
    "\n",
    "pred = model.predict(test)\n",
    "mean_squared_error(y_test, pred)"
   ]
  },
  {
   "cell_type": "markdown",
   "id": "ef938213",
   "metadata": {},
   "source": [
    "### 릿지 회귀 alpha =10"
   ]
  },
  {
   "cell_type": "code",
   "execution_count": 87,
   "id": "585849d0",
   "metadata": {},
   "outputs": [
    {
     "data": {
      "text/plain": [
       "48988.87984168309"
      ]
     },
     "execution_count": 87,
     "metadata": {},
     "output_type": "execute_result"
    }
   ],
   "source": [
    "model = Ridge(alpha =10)\n",
    "model.fit(X_train, y_train)\n",
    "pred = model.predict(X_val)\n",
    "mean_squared_error(y_val, pred)\n",
    "\n",
    "y_test = pd.read_csv('/aiffel/data/y_test.csv')\n",
    "\n",
    "pred = model.predict(test)\n",
    "mean_squared_error(y_test, pred)"
   ]
  },
  {
   "cell_type": "markdown",
   "id": "858856b0",
   "metadata": {},
   "source": [
    "### 릿지 회귀 alpha =1"
   ]
  },
  {
   "cell_type": "code",
   "execution_count": 88,
   "id": "1969664e",
   "metadata": {},
   "outputs": [
    {
     "data": {
      "text/plain": [
       "48999.493050907586"
      ]
     },
     "execution_count": 88,
     "metadata": {},
     "output_type": "execute_result"
    }
   ],
   "source": [
    "model = Ridge(alpha =1)\n",
    "model.fit(X_train, y_train)\n",
    "pred = model.predict(X_val)\n",
    "mean_squared_error(y_val, pred)\n",
    "\n",
    "y_test = pd.read_csv('/aiffel/data/y_test.csv')\n",
    "\n",
    "pred = model.predict(test)\n",
    "mean_squared_error(y_test, pred)"
   ]
  },
  {
   "cell_type": "markdown",
   "id": "1c5563c9",
   "metadata": {},
   "source": [
    "### 릿지 회귀 alpha =0.1"
   ]
  },
  {
   "cell_type": "code",
   "execution_count": 89,
   "id": "a7644aa8",
   "metadata": {},
   "outputs": [
    {
     "data": {
      "text/plain": [
       "49001.80811969186"
      ]
     },
     "execution_count": 89,
     "metadata": {},
     "output_type": "execute_result"
    }
   ],
   "source": [
    "model = Ridge(alpha =0.1)\n",
    "model.fit(X_train, y_train)\n",
    "pred = model.predict(X_val)\n",
    "mean_squared_error(y_val, pred)\n",
    "\n",
    "y_test = pd.read_csv('/aiffel/data/y_test.csv')\n",
    "\n",
    "pred = model.predict(test)\n",
    "mean_squared_error(y_test, pred)"
   ]
  },
  {
   "cell_type": "markdown",
   "id": "e112f392",
   "metadata": {},
   "source": [
    "### 릿지 회귀 alpha =0.01"
   ]
  },
  {
   "cell_type": "code",
   "execution_count": 90,
   "id": "c22bd8e7",
   "metadata": {},
   "outputs": [
    {
     "data": {
      "text/plain": [
       "49002.06794217087"
      ]
     },
     "execution_count": 90,
     "metadata": {},
     "output_type": "execute_result"
    }
   ],
   "source": [
    "model = Ridge(alpha =0.01)\n",
    "model.fit(X_train, y_train)\n",
    "pred = model.predict(X_val)\n",
    "mean_squared_error(y_val, pred)\n",
    "\n",
    "y_test = pd.read_csv('/aiffel/data/y_test.csv')\n",
    "\n",
    "pred = model.predict(test)\n",
    "mean_squared_error(y_test, pred)"
   ]
  },
  {
   "cell_type": "markdown",
   "id": "2fe671ee",
   "metadata": {},
   "source": [
    "### 라쏘 회귀 alpha =1"
   ]
  },
  {
   "cell_type": "code",
   "execution_count": 91,
   "id": "cf3f6391",
   "metadata": {},
   "outputs": [
    {
     "data": {
      "text/plain": [
       "49191.059618754516"
      ]
     },
     "execution_count": 91,
     "metadata": {},
     "output_type": "execute_result"
    }
   ],
   "source": [
    "model = Lasso(alpha =1)\n",
    "model.fit(X_train, y_train)\n",
    "pred = model.predict(X_val)\n",
    "mean_squared_error(y_val, pred)\n",
    "\n",
    "y_test = pd.read_csv('/aiffel/data/y_test.csv')\n",
    "\n",
    "pred = model.predict(test)\n",
    "mean_squared_error(y_test, pred)"
   ]
  },
  {
   "cell_type": "markdown",
   "id": "87f47781",
   "metadata": {},
   "source": [
    "### 라쏘 회귀 alpha =2"
   ]
  },
  {
   "cell_type": "code",
   "execution_count": 92,
   "id": "809caad3",
   "metadata": {},
   "outputs": [
    {
     "data": {
      "text/plain": [
       "49634.976025096345"
      ]
     },
     "execution_count": 92,
     "metadata": {},
     "output_type": "execute_result"
    }
   ],
   "source": [
    "model = Lasso(alpha =2)\n",
    "model.fit(X_train, y_train)\n",
    "pred = model.predict(X_val)\n",
    "mean_squared_error(y_val, pred)\n",
    "\n",
    "y_test = pd.read_csv('/aiffel/data/y_test.csv')\n",
    "\n",
    "pred = model.predict(test)\n",
    "mean_squared_error(y_test, pred)"
   ]
  },
  {
   "cell_type": "markdown",
   "id": "e8526ecc",
   "metadata": {},
   "source": [
    "### 라쏘 회귀 alpha =0.1"
   ]
  },
  {
   "cell_type": "code",
   "execution_count": 93,
   "id": "3a344159",
   "metadata": {},
   "outputs": [
    {
     "data": {
      "text/plain": [
       "48978.95581290715"
      ]
     },
     "execution_count": 93,
     "metadata": {},
     "output_type": "execute_result"
    }
   ],
   "source": [
    "model = Lasso(alpha =0.1)\n",
    "model.fit(X_train, y_train)\n",
    "pred = model.predict(X_val)\n",
    "mean_squared_error(y_val, pred)\n",
    "\n",
    "y_test = pd.read_csv('/aiffel/data/y_test.csv')\n",
    "\n",
    "pred = model.predict(test)\n",
    "mean_squared_error(y_test, pred)"
   ]
  },
  {
   "cell_type": "markdown",
   "id": "dfdfa4f4",
   "metadata": {},
   "source": [
    "### 라쏘 회귀 alpha =0.01"
   ]
  },
  {
   "cell_type": "code",
   "execution_count": 94,
   "id": "ad177739",
   "metadata": {},
   "outputs": [
    {
     "data": {
      "text/plain": [
       "48996.79533078889"
      ]
     },
     "execution_count": 94,
     "metadata": {},
     "output_type": "execute_result"
    }
   ],
   "source": [
    "model = Lasso(alpha =0.01)\n",
    "model.fit(X_train, y_train)\n",
    "pred = model.predict(X_val)\n",
    "mean_squared_error(y_val, pred)\n",
    "\n",
    "y_test = pd.read_csv('/aiffel/data/y_test.csv')\n",
    "\n",
    "pred = model.predict(test)\n",
    "mean_squared_error(y_test, pred)"
   ]
  },
  {
   "cell_type": "markdown",
   "id": "11c0e2b3",
   "metadata": {},
   "source": [
    "### 라쏘 회귀 alpha =0.001"
   ]
  },
  {
   "cell_type": "code",
   "execution_count": 95,
   "id": "d70dc0c0",
   "metadata": {},
   "outputs": [
    {
     "data": {
      "text/plain": [
       "49001.493377047365"
      ]
     },
     "execution_count": 95,
     "metadata": {},
     "output_type": "execute_result"
    }
   ],
   "source": [
    "model = Lasso(alpha =0.001)\n",
    "model.fit(X_train, y_train)\n",
    "pred = model.predict(X_val)\n",
    "mean_squared_error(y_val, pred)\n",
    "\n",
    "y_test = pd.read_csv('/aiffel/data/y_test.csv')\n",
    "\n",
    "pred = model.predict(test)\n",
    "mean_squared_error(y_test, pred)"
   ]
  },
  {
   "cell_type": "markdown",
   "id": "c966ce18",
   "metadata": {},
   "source": [
    "### 엘라스틱넷 회귀 alpha =1"
   ]
  },
  {
   "cell_type": "code",
   "execution_count": 96,
   "id": "cf5c385f",
   "metadata": {},
   "outputs": [
    {
     "data": {
      "text/plain": [
       "51798.41772189373"
      ]
     },
     "execution_count": 96,
     "metadata": {},
     "output_type": "execute_result"
    }
   ],
   "source": [
    "model = ElasticNet(alpha =1)\n",
    "model.fit(X_train, y_train)\n",
    "pred = model.predict(X_val)\n",
    "mean_squared_error(y_val, pred)\n",
    "\n",
    "y_test = pd.read_csv('/aiffel/data/y_test.csv')\n",
    "\n",
    "pred = model.predict(test)\n",
    "mean_squared_error(y_test, pred)"
   ]
  },
  {
   "cell_type": "markdown",
   "id": "8732479b",
   "metadata": {},
   "source": [
    "### 엘라스틱넷 회귀 alpha =10"
   ]
  },
  {
   "cell_type": "code",
   "execution_count": 97,
   "id": "3d20e654",
   "metadata": {},
   "outputs": [
    {
     "data": {
      "text/plain": [
       "53993.04081901582"
      ]
     },
     "execution_count": 97,
     "metadata": {},
     "output_type": "execute_result"
    }
   ],
   "source": [
    "model = ElasticNet(alpha =10)\n",
    "model.fit(X_train, y_train)\n",
    "pred = model.predict(X_val)\n",
    "mean_squared_error(y_val, pred)\n",
    "\n",
    "y_test = pd.read_csv('/aiffel/data/y_test.csv')\n",
    "\n",
    "pred = model.predict(test)\n",
    "mean_squared_error(y_test, pred)"
   ]
  },
  {
   "cell_type": "markdown",
   "id": "0306d96b",
   "metadata": {},
   "source": [
    "### 엘라스틱넷 회귀 alpha =0.1"
   ]
  },
  {
   "cell_type": "code",
   "execution_count": 98,
   "id": "99e927f7",
   "metadata": {},
   "outputs": [
    {
     "data": {
      "text/plain": [
       "49648.68967643006"
      ]
     },
     "execution_count": 98,
     "metadata": {},
     "output_type": "execute_result"
    }
   ],
   "source": [
    "model = ElasticNet(alpha =0.1)\n",
    "model.fit(X_train, y_train)\n",
    "pred = model.predict(X_val)\n",
    "mean_squared_error(y_val, pred)\n",
    "\n",
    "y_test = pd.read_csv('/aiffel/data/y_test.csv')\n",
    "\n",
    "pred = model.predict(test)\n",
    "mean_squared_error(y_test, pred)"
   ]
  },
  {
   "cell_type": "markdown",
   "id": "a904ea2b",
   "metadata": {},
   "source": [
    "### 엘라스틱넷 회귀 alpha =0.01"
   ]
  },
  {
   "cell_type": "code",
   "execution_count": 99,
   "id": "ba4e0a8e",
   "metadata": {},
   "outputs": [
    {
     "data": {
      "text/plain": [
       "49081.30536371934"
      ]
     },
     "execution_count": 99,
     "metadata": {},
     "output_type": "execute_result"
    }
   ],
   "source": [
    "model = ElasticNet(alpha =0.01)\n",
    "model.fit(X_train, y_train)\n",
    "pred = model.predict(X_val)\n",
    "mean_squared_error(y_val, pred)\n",
    "\n",
    "y_test = pd.read_csv('/aiffel/data/y_test.csv')\n",
    "\n",
    "pred = model.predict(test)\n",
    "mean_squared_error(y_test, pred)"
   ]
  },
  {
   "cell_type": "markdown",
   "id": "3e9c23ac",
   "metadata": {},
   "source": [
    "### 엘라스틱넷 회귀 alpha =0.001"
   ]
  },
  {
   "cell_type": "code",
   "execution_count": 100,
   "id": "3d528909",
   "metadata": {},
   "outputs": [
    {
     "data": {
      "text/plain": [
       "48986.5687046115"
      ]
     },
     "execution_count": 100,
     "metadata": {},
     "output_type": "execute_result"
    }
   ],
   "source": [
    "model = ElasticNet(alpha =0.001)\n",
    "model.fit(X_train, y_train)\n",
    "pred = model.predict(X_val)\n",
    "mean_squared_error(y_val, pred)\n",
    "\n",
    "y_test = pd.read_csv('/aiffel/data/y_test.csv')\n",
    "\n",
    "pred = model.predict(test)\n",
    "mean_squared_error(y_test, pred)"
   ]
  },
  {
   "cell_type": "markdown",
   "id": "34d7b9fe",
   "metadata": {},
   "source": [
    "### 엘라스틱넷 회귀 alpha =0.0001"
   ]
  },
  {
   "cell_type": "code",
   "execution_count": 101,
   "id": "e692d2a4",
   "metadata": {},
   "outputs": [
    {
     "data": {
      "text/plain": [
       "48998.23533384896"
      ]
     },
     "execution_count": 101,
     "metadata": {},
     "output_type": "execute_result"
    }
   ],
   "source": [
    "model = ElasticNet(alpha =0.0001)\n",
    "model.fit(X_train, y_train)\n",
    "pred = model.predict(X_val)\n",
    "mean_squared_error(y_val, pred)\n",
    "\n",
    "y_test = pd.read_csv('/aiffel/data/y_test.csv')\n",
    "\n",
    "pred = model.predict(test)\n",
    "mean_squared_error(y_test, pred)"
   ]
  },
  {
   "cell_type": "markdown",
   "id": "1005e4f8",
   "metadata": {},
   "source": [
    "### 엘라스틱넷 회귀 alpha =0.00001"
   ]
  },
  {
   "cell_type": "code",
   "execution_count": 102,
   "id": "1a5e791e",
   "metadata": {},
   "outputs": [
    {
     "data": {
      "text/plain": [
       "49001.645060086674"
      ]
     },
     "execution_count": 102,
     "metadata": {},
     "output_type": "execute_result"
    }
   ],
   "source": [
    "model = ElasticNet(alpha =0.00001)\n",
    "model.fit(X_train, y_train)\n",
    "pred = model.predict(X_val)\n",
    "mean_squared_error(y_val, pred)\n",
    "\n",
    "y_test = pd.read_csv('/aiffel/data/y_test.csv')\n",
    "\n",
    "pred = model.predict(test)\n",
    "mean_squared_error(y_test, pred)"
   ]
  },
  {
   "cell_type": "markdown",
   "id": "813add5c",
   "metadata": {},
   "source": [
    "### 랜덤포레스트"
   ]
  },
  {
   "cell_type": "code",
   "execution_count": 103,
   "id": "955ec809",
   "metadata": {},
   "outputs": [
    {
     "data": {
      "text/plain": [
       "49100.94655619184"
      ]
     },
     "execution_count": 103,
     "metadata": {},
     "output_type": "execute_result"
    }
   ],
   "source": [
    "model = RandomForestRegressor(random_state=2022)\n",
    "model.fit(X_train, y_train)\n",
    "pred = model.predict(X_val)\n",
    "mean_squared_error(y_val, pred)\n",
    "\n",
    "y_test = pd.read_csv('/aiffel/data/y_test.csv')\n",
    "\n",
    "pred = model.predict(test)\n",
    "mean_squared_error(y_test, pred)"
   ]
  },
  {
   "cell_type": "markdown",
   "id": "53fef696",
   "metadata": {},
   "source": [
    "### 하이퍼파라미터 튜닝"
   ]
  },
  {
   "cell_type": "code",
   "execution_count": 104,
   "id": "051042b0",
   "metadata": {},
   "outputs": [],
   "source": [
    "params={'learning_rate':[1.01, 0.09, 0.07, 0.05, 0.03, 0.01], \n",
    "        'max_depth':[1, 3, 5, 7, 9, 11], \n",
    "        'n_estimators':[50, 100, 200, 400],\n",
    "        'subsample':[0.9, 0.8, 0.7, 0.6, 0.5]\n",
    "        }"
   ]
  },
  {
   "cell_type": "code",
   "execution_count": 105,
   "id": "ca615619",
   "metadata": {},
   "outputs": [
    {
     "name": "stderr",
     "output_type": "stream",
     "text": [
      "/opt/conda/lib/python3.9/site-packages/pkg_resources/__init__.py:122: PkgResourcesDeprecationWarning: 0.996-ko-0.9.2 is an invalid version and will not be supported in a future release\n",
      "  warnings.warn(\n",
      "/opt/conda/lib/python3.9/site-packages/pkg_resources/__init__.py:122: PkgResourcesDeprecationWarning: 0.996-ko-0.9.2 is an invalid version and will not be supported in a future release\n",
      "  warnings.warn(\n"
     ]
    },
    {
     "data": {
      "text/plain": [
       "RandomizedSearchCV(cv=3,\n",
       "                   estimator=XGBRegressor(base_score=None, booster=None,\n",
       "                                          colsample_bylevel=None,\n",
       "                                          colsample_bynode=None,\n",
       "                                          colsample_bytree=None, gamma=None,\n",
       "                                          gpu_id=None, importance_type='gain',\n",
       "                                          interaction_constraints=None,\n",
       "                                          learning_rate=None,\n",
       "                                          max_delta_step=None, max_depth=None,\n",
       "                                          min_child_weight=None, missing=nan,\n",
       "                                          monotone_constraints=None,\n",
       "                                          n_estimators=100, n...\n",
       "                                          num_parallel_tree=None,\n",
       "                                          random_state=None, reg_alpha=None,\n",
       "                                          reg_lambda=None,\n",
       "                                          scale_pos_weight=None, subsample=None,\n",
       "                                          tree_method=None,\n",
       "                                          validate_parameters=None,\n",
       "                                          verbosity=None),\n",
       "                   n_iter=20, n_jobs=-1,\n",
       "                   param_distributions={'learning_rate': [1.01, 0.09, 0.07,\n",
       "                                                          0.05, 0.03, 0.01],\n",
       "                                        'max_depth': [1, 3, 5, 7, 9, 11],\n",
       "                                        'n_estimators': [50, 100, 200, 400],\n",
       "                                        'subsample': [0.9, 0.8, 0.7, 0.6, 0.5]})"
      ]
     },
     "execution_count": 105,
     "metadata": {},
     "output_type": "execute_result"
    }
   ],
   "source": [
    "xgb = XGBRegressor()\n",
    "grid = RandomizedSearchCV(xgb, params, cv=3, n_iter=20, n_jobs=-1)\n",
    "grid.fit(X_train, y_train)"
   ]
  },
  {
   "cell_type": "code",
   "execution_count": 106,
   "id": "21b10f77",
   "metadata": {},
   "outputs": [
    {
     "data": {
      "text/plain": [
       "{'subsample': 0.7, 'n_estimators': 100, 'max_depth': 5, 'learning_rate': 0.07}"
      ]
     },
     "execution_count": 106,
     "metadata": {},
     "output_type": "execute_result"
    }
   ],
   "source": [
    "grid.best_params_"
   ]
  },
  {
   "cell_type": "markdown",
   "id": "457e8298",
   "metadata": {},
   "source": [
    "### Xgboost"
   ]
  },
  {
   "cell_type": "code",
   "execution_count": 107,
   "id": "3fc411e5",
   "metadata": {},
   "outputs": [
    {
     "data": {
      "text/plain": [
       "45970.60620388988"
      ]
     },
     "execution_count": 107,
     "metadata": {},
     "output_type": "execute_result"
    }
   ],
   "source": [
    "model = XGBRegressor(subsample=0.7, n_estimators= 100, max_depth= 5, learning_rate= 0.07)\n",
    "\n",
    "model.fit(X_train, y_train)\n",
    "pred = model.predict(X_val)\n",
    "mean_squared_error(y_val, pred)\n",
    "\n",
    "y_test = pd.read_csv('/aiffel/data/y_test.csv')\n",
    "\n",
    "pred = model.predict(test)\n",
    "mean_squared_error(y_test, pred)"
   ]
  },
  {
   "cell_type": "markdown",
   "id": "e76041ce",
   "metadata": {},
   "source": [
    "### 6. 채점"
   ]
  },
  {
   "cell_type": "markdown",
   "id": "57970fd0",
   "metadata": {},
   "source": [
    "### MinMaxScaler를 적용한 결과"
   ]
  },
  {
   "cell_type": "markdown",
   "id": "5c8a7bca",
   "metadata": {},
   "source": [
    "- __Xgboost__가 __'45970.60620388988'__로 가장 낮은 값을 보였다."
   ]
  },
  {
   "cell_type": "markdown",
   "id": "38ba09dc",
   "metadata": {},
   "source": [
    "타겟을 로그화하고 MinMaxScaler까지 적용한 값이 더 낮은 결과가 나왔다."
   ]
  },
  {
   "cell_type": "markdown",
   "id": "42fd4dc4",
   "metadata": {},
   "source": [
    "-----------"
   ]
  },
  {
   "cell_type": "markdown",
   "id": "91bf6236",
   "metadata": {},
   "source": [
    "### 3. 데이터 전처리"
   ]
  },
  {
   "cell_type": "code",
   "execution_count": 108,
   "id": "cf828469",
   "metadata": {},
   "outputs": [],
   "source": [
    "train = train.drop(['host_id'], axis=1)\n",
    "test = test.drop(['host_id'], axis=1)"
   ]
  },
  {
   "cell_type": "markdown",
   "id": "6e86d3b9",
   "metadata": {},
   "source": [
    "### 4. 검증 데이터 분리"
   ]
  },
  {
   "cell_type": "code",
   "execution_count": 26,
   "id": "2d77907b",
   "metadata": {},
   "outputs": [
    {
     "data": {
      "text/plain": [
       "((31292, 12), (7824, 12), (31292,), (7824,))"
      ]
     },
     "execution_count": 26,
     "metadata": {},
     "output_type": "execute_result"
    }
   ],
   "source": [
    "X_train, X_val, y_train, y_val = train_test_split(train, target, test_size=0.2, random_state=2022)\n",
    "X_train.shape, X_val.shape, y_train.shape, y_val.shape"
   ]
  },
  {
   "cell_type": "markdown",
   "id": "f84c89ee",
   "metadata": {},
   "source": [
    "### 5. 머신러닝"
   ]
  },
  {
   "cell_type": "markdown",
   "id": "b4a8d692",
   "metadata": {},
   "source": [
    "### 머신러닝(회귀)"
   ]
  },
  {
   "cell_type": "code",
   "execution_count": 110,
   "id": "ccf105f8",
   "metadata": {},
   "outputs": [
    {
     "data": {
      "text/plain": [
       "49038.27183432718"
      ]
     },
     "execution_count": 110,
     "metadata": {},
     "output_type": "execute_result"
    }
   ],
   "source": [
    "model = LinearRegression()\n",
    "model.fit(X_train, y_train)\n",
    "pred = model.predict(X_val)\n",
    "mean_squared_error(y_val, pred)\n",
    "\n",
    "y_test = pd.read_csv('/aiffel/data/y_test.csv')\n",
    "\n",
    "pred = model.predict(test)\n",
    "mean_squared_error(y_test, pred)"
   ]
  },
  {
   "cell_type": "markdown",
   "id": "8211b97f",
   "metadata": {},
   "source": [
    "### 릿지 회귀 alpha =100"
   ]
  },
  {
   "cell_type": "code",
   "execution_count": 111,
   "id": "e35251bb",
   "metadata": {},
   "outputs": [
    {
     "data": {
      "text/plain": [
       "49075.87769973689"
      ]
     },
     "execution_count": 111,
     "metadata": {},
     "output_type": "execute_result"
    }
   ],
   "source": [
    "model = Ridge(alpha =100)\n",
    "model.fit(X_train, y_train)\n",
    "pred = model.predict(X_val)\n",
    "mean_squared_error(y_val, pred)\n",
    "\n",
    "y_test = pd.read_csv('/aiffel/data/y_test.csv')\n",
    "\n",
    "pred = model.predict(test)\n",
    "mean_squared_error(y_test, pred)"
   ]
  },
  {
   "cell_type": "markdown",
   "id": "934ce589",
   "metadata": {},
   "source": [
    "### 릿지 회귀 alpha =10"
   ]
  },
  {
   "cell_type": "code",
   "execution_count": 112,
   "id": "684a2d7e",
   "metadata": {},
   "outputs": [
    {
     "data": {
      "text/plain": [
       "49030.095468756"
      ]
     },
     "execution_count": 112,
     "metadata": {},
     "output_type": "execute_result"
    }
   ],
   "source": [
    "model = Ridge(alpha =10)\n",
    "model.fit(X_train, y_train)\n",
    "pred = model.predict(X_val)\n",
    "mean_squared_error(y_val, pred)\n",
    "\n",
    "y_test = pd.read_csv('/aiffel/data/y_test.csv')\n",
    "\n",
    "pred = model.predict(test)\n",
    "mean_squared_error(y_test, pred)"
   ]
  },
  {
   "cell_type": "markdown",
   "id": "d6873b1c",
   "metadata": {},
   "source": [
    "### 릿지 회귀 alpha =1"
   ]
  },
  {
   "cell_type": "code",
   "execution_count": 113,
   "id": "8dd23812",
   "metadata": {},
   "outputs": [
    {
     "data": {
      "text/plain": [
       "49036.31301038518"
      ]
     },
     "execution_count": 113,
     "metadata": {},
     "output_type": "execute_result"
    }
   ],
   "source": [
    "model = Ridge(alpha =1)\n",
    "model.fit(X_train, y_train)\n",
    "pred = model.predict(X_val)\n",
    "mean_squared_error(y_val, pred)\n",
    "\n",
    "y_test = pd.read_csv('/aiffel/data/y_test.csv')\n",
    "\n",
    "pred = model.predict(test)\n",
    "mean_squared_error(y_test, pred)"
   ]
  },
  {
   "cell_type": "markdown",
   "id": "8b1041d5",
   "metadata": {},
   "source": [
    "### 릿지 회귀 alpha =0.1"
   ]
  },
  {
   "cell_type": "code",
   "execution_count": 114,
   "id": "c4d51e1e",
   "metadata": {},
   "outputs": [
    {
     "data": {
      "text/plain": [
       "49038.048091223165"
      ]
     },
     "execution_count": 114,
     "metadata": {},
     "output_type": "execute_result"
    }
   ],
   "source": [
    "model = Ridge(alpha =0.1)\n",
    "model.fit(X_train, y_train)\n",
    "pred = model.predict(X_val)\n",
    "mean_squared_error(y_val, pred)\n",
    "\n",
    "y_test = pd.read_csv('/aiffel/data/y_test.csv')\n",
    "\n",
    "pred = model.predict(test)\n",
    "mean_squared_error(y_test, pred)"
   ]
  },
  {
   "cell_type": "markdown",
   "id": "310d823b",
   "metadata": {},
   "source": [
    "### 릿지 회귀 alpha =0.01"
   ]
  },
  {
   "cell_type": "code",
   "execution_count": 115,
   "id": "226a5860",
   "metadata": {},
   "outputs": [
    {
     "data": {
      "text/plain": [
       "49038.24914197046"
      ]
     },
     "execution_count": 115,
     "metadata": {},
     "output_type": "execute_result"
    }
   ],
   "source": [
    "model = Ridge(alpha =0.01)\n",
    "model.fit(X_train, y_train)\n",
    "pred = model.predict(X_val)\n",
    "mean_squared_error(y_val, pred)\n",
    "\n",
    "y_test = pd.read_csv('/aiffel/data/y_test.csv')\n",
    "\n",
    "pred = model.predict(test)\n",
    "mean_squared_error(y_test, pred)"
   ]
  },
  {
   "cell_type": "markdown",
   "id": "541acb5c",
   "metadata": {},
   "source": [
    "### 라쏘 회귀 alpha =1"
   ]
  },
  {
   "cell_type": "code",
   "execution_count": 116,
   "id": "45282b3f",
   "metadata": {},
   "outputs": [
    {
     "data": {
      "text/plain": [
       "49214.08860785738"
      ]
     },
     "execution_count": 116,
     "metadata": {},
     "output_type": "execute_result"
    }
   ],
   "source": [
    "model = Lasso(alpha =1)\n",
    "model.fit(X_train, y_train)\n",
    "pred = model.predict(X_val)\n",
    "mean_squared_error(y_val, pred)\n",
    "\n",
    "y_test = pd.read_csv('/aiffel/data/y_test.csv')\n",
    "\n",
    "pred = model.predict(test)\n",
    "mean_squared_error(y_test, pred)"
   ]
  },
  {
   "cell_type": "markdown",
   "id": "f98c50a5",
   "metadata": {},
   "source": [
    "### 라쏘 회귀 alpha =2"
   ]
  },
  {
   "cell_type": "code",
   "execution_count": 117,
   "id": "8889c9f6",
   "metadata": {},
   "outputs": [
    {
     "data": {
      "text/plain": [
       "49634.976025096345"
      ]
     },
     "execution_count": 117,
     "metadata": {},
     "output_type": "execute_result"
    }
   ],
   "source": [
    "model = Lasso(alpha =2)\n",
    "model.fit(X_train, y_train)\n",
    "pred = model.predict(X_val)\n",
    "mean_squared_error(y_val, pred)\n",
    "\n",
    "y_test = pd.read_csv('/aiffel/data/y_test.csv')\n",
    "\n",
    "pred = model.predict(test)\n",
    "mean_squared_error(y_test, pred)"
   ]
  },
  {
   "cell_type": "markdown",
   "id": "08d171d4",
   "metadata": {},
   "source": [
    "### 라쏘 회귀 alpha =0.1"
   ]
  },
  {
   "cell_type": "code",
   "execution_count": 118,
   "id": "5ecb2acd",
   "metadata": {},
   "outputs": [
    {
     "data": {
      "text/plain": [
       "49027.886241356195"
      ]
     },
     "execution_count": 118,
     "metadata": {},
     "output_type": "execute_result"
    }
   ],
   "source": [
    "model = Lasso(alpha =0.1)\n",
    "model.fit(X_train, y_train)\n",
    "pred = model.predict(X_val)\n",
    "mean_squared_error(y_val, pred)\n",
    "\n",
    "y_test = pd.read_csv('/aiffel/data/y_test.csv')\n",
    "\n",
    "pred = model.predict(test)\n",
    "mean_squared_error(y_test, pred)"
   ]
  },
  {
   "cell_type": "markdown",
   "id": "bc4cd2f3",
   "metadata": {},
   "source": [
    "### 라쏘 회귀 alpha =0.01"
   ]
  },
  {
   "cell_type": "code",
   "execution_count": 119,
   "id": "3ecdc65e",
   "metadata": {},
   "outputs": [
    {
     "data": {
      "text/plain": [
       "49033.92892439892"
      ]
     },
     "execution_count": 119,
     "metadata": {},
     "output_type": "execute_result"
    }
   ],
   "source": [
    "model = Lasso(alpha =0.01)\n",
    "model.fit(X_train, y_train)\n",
    "pred = model.predict(X_val)\n",
    "mean_squared_error(y_val, pred)\n",
    "\n",
    "y_test = pd.read_csv('/aiffel/data/y_test.csv')\n",
    "\n",
    "pred = model.predict(test)\n",
    "mean_squared_error(y_test, pred)"
   ]
  },
  {
   "cell_type": "markdown",
   "id": "5b858bbf",
   "metadata": {},
   "source": [
    "### 라쏘 회귀 alpha =0.001"
   ]
  },
  {
   "cell_type": "code",
   "execution_count": 120,
   "id": "162be745",
   "metadata": {},
   "outputs": [
    {
     "data": {
      "text/plain": [
       "49037.768196422505"
      ]
     },
     "execution_count": 120,
     "metadata": {},
     "output_type": "execute_result"
    }
   ],
   "source": [
    "model = Lasso(alpha =0.001)\n",
    "model.fit(X_train, y_train)\n",
    "pred = model.predict(X_val)\n",
    "mean_squared_error(y_val, pred)\n",
    "\n",
    "y_test = pd.read_csv('/aiffel/data/y_test.csv')\n",
    "\n",
    "pred = model.predict(test)\n",
    "mean_squared_error(y_test, pred)"
   ]
  },
  {
   "cell_type": "markdown",
   "id": "6e798913",
   "metadata": {},
   "source": [
    "### 엘라스틱넷 회귀 alpha =1"
   ]
  },
  {
   "cell_type": "code",
   "execution_count": 121,
   "id": "289b47d7",
   "metadata": {},
   "outputs": [
    {
     "data": {
      "text/plain": [
       "51802.80283327687"
      ]
     },
     "execution_count": 121,
     "metadata": {},
     "output_type": "execute_result"
    }
   ],
   "source": [
    "model = ElasticNet(alpha =1)\n",
    "model.fit(X_train, y_train)\n",
    "pred = model.predict(X_val)\n",
    "mean_squared_error(y_val, pred)\n",
    "\n",
    "y_test = pd.read_csv('/aiffel/data/y_test.csv')\n",
    "\n",
    "pred = model.predict(test)\n",
    "mean_squared_error(y_test, pred)"
   ]
  },
  {
   "cell_type": "markdown",
   "id": "0652a16d",
   "metadata": {},
   "source": [
    "### 엘라스틱넷 회귀 alpha =10"
   ]
  },
  {
   "cell_type": "code",
   "execution_count": 122,
   "id": "43e018db",
   "metadata": {},
   "outputs": [
    {
     "data": {
      "text/plain": [
       "53993.04081901582"
      ]
     },
     "execution_count": 122,
     "metadata": {},
     "output_type": "execute_result"
    }
   ],
   "source": [
    "model = ElasticNet(alpha =10)\n",
    "model.fit(X_train, y_train)\n",
    "pred = model.predict(X_val)\n",
    "mean_squared_error(y_val, pred)\n",
    "\n",
    "y_test = pd.read_csv('/aiffel/data/y_test.csv')\n",
    "\n",
    "pred = model.predict(test)\n",
    "mean_squared_error(y_test, pred)"
   ]
  },
  {
   "cell_type": "markdown",
   "id": "4dc53bd2",
   "metadata": {},
   "source": [
    "### 엘라스틱넷 회귀 alpha =0.1"
   ]
  },
  {
   "cell_type": "code",
   "execution_count": 123,
   "id": "b4b80bc4",
   "metadata": {},
   "outputs": [
    {
     "data": {
      "text/plain": [
       "49674.02416695951"
      ]
     },
     "execution_count": 123,
     "metadata": {},
     "output_type": "execute_result"
    }
   ],
   "source": [
    "model = ElasticNet(alpha =0.1)\n",
    "model.fit(X_train, y_train)\n",
    "pred = model.predict(X_val)\n",
    "mean_squared_error(y_val, pred)\n",
    "\n",
    "y_test = pd.read_csv('/aiffel/data/y_test.csv')\n",
    "\n",
    "pred = model.predict(test)\n",
    "mean_squared_error(y_test, pred)"
   ]
  },
  {
   "cell_type": "markdown",
   "id": "bf7bf0ed",
   "metadata": {},
   "source": [
    "### 엘라스틱넷 회귀 alpha =0.01"
   ]
  },
  {
   "cell_type": "code",
   "execution_count": 124,
   "id": "bda4e16a",
   "metadata": {},
   "outputs": [
    {
     "data": {
      "text/plain": [
       "49123.7994064456"
      ]
     },
     "execution_count": 124,
     "metadata": {},
     "output_type": "execute_result"
    }
   ],
   "source": [
    "model = ElasticNet(alpha =0.01)\n",
    "model.fit(X_train, y_train)\n",
    "pred = model.predict(X_val)\n",
    "mean_squared_error(y_val, pred)\n",
    "\n",
    "y_test = pd.read_csv('/aiffel/data/y_test.csv')\n",
    "\n",
    "pred = model.predict(test)\n",
    "mean_squared_error(y_test, pred)"
   ]
  },
  {
   "cell_type": "markdown",
   "id": "b38bec21",
   "metadata": {},
   "source": [
    "### 엘라스틱넷 회귀 alpha =0.001"
   ]
  },
  {
   "cell_type": "code",
   "execution_count": 125,
   "id": "b9ac0c56",
   "metadata": {},
   "outputs": [
    {
     "data": {
      "text/plain": [
       "49029.44909286715"
      ]
     },
     "execution_count": 125,
     "metadata": {},
     "output_type": "execute_result"
    }
   ],
   "source": [
    "model = ElasticNet(alpha =0.001)\n",
    "model.fit(X_train, y_train)\n",
    "pred = model.predict(X_val)\n",
    "mean_squared_error(y_val, pred)\n",
    "\n",
    "y_test = pd.read_csv('/aiffel/data/y_test.csv')\n",
    "\n",
    "pred = model.predict(test)\n",
    "mean_squared_error(y_test, pred)"
   ]
  },
  {
   "cell_type": "markdown",
   "id": "c3437a8f",
   "metadata": {},
   "source": [
    "### 엘라스틱넷 회귀 alpha =0.0001"
   ]
  },
  {
   "cell_type": "code",
   "execution_count": 126,
   "id": "4919e5a9",
   "metadata": {},
   "outputs": [
    {
     "data": {
      "text/plain": [
       "49035.41491404291"
      ]
     },
     "execution_count": 126,
     "metadata": {},
     "output_type": "execute_result"
    }
   ],
   "source": [
    "model = ElasticNet(alpha =0.0001)\n",
    "model.fit(X_train, y_train)\n",
    "pred = model.predict(X_val)\n",
    "mean_squared_error(y_val, pred)\n",
    "\n",
    "y_test = pd.read_csv('/aiffel/data/y_test.csv')\n",
    "\n",
    "pred = model.predict(test)\n",
    "mean_squared_error(y_test, pred)"
   ]
  },
  {
   "cell_type": "markdown",
   "id": "dd5d0e40",
   "metadata": {},
   "source": [
    "### 엘라스틱넷 회귀 alpha =0.00001"
   ]
  },
  {
   "cell_type": "code",
   "execution_count": 127,
   "id": "e514a9a1",
   "metadata": {},
   "outputs": [
    {
     "data": {
      "text/plain": [
       "49037.922355441566"
      ]
     },
     "execution_count": 127,
     "metadata": {},
     "output_type": "execute_result"
    }
   ],
   "source": [
    "model = ElasticNet(alpha =0.00001)\n",
    "model.fit(X_train, y_train)\n",
    "pred = model.predict(X_val)\n",
    "mean_squared_error(y_val, pred)\n",
    "\n",
    "y_test = pd.read_csv('/aiffel/data/y_test.csv')\n",
    "\n",
    "pred = model.predict(test)\n",
    "mean_squared_error(y_test, pred)"
   ]
  },
  {
   "cell_type": "markdown",
   "id": "02d816c4",
   "metadata": {},
   "source": [
    "### 랜덤포레스트"
   ]
  },
  {
   "cell_type": "code",
   "execution_count": 128,
   "id": "36bb511e",
   "metadata": {},
   "outputs": [
    {
     "data": {
      "text/plain": [
       "47371.431761202584"
      ]
     },
     "execution_count": 128,
     "metadata": {},
     "output_type": "execute_result"
    }
   ],
   "source": [
    "model = RandomForestRegressor(random_state=2022)\n",
    "model.fit(X_train, y_train)\n",
    "pred = model.predict(X_val)\n",
    "mean_squared_error(y_val, pred)\n",
    "\n",
    "y_test = pd.read_csv('/aiffel/data/y_test.csv')\n",
    "\n",
    "pred = model.predict(test)\n",
    "mean_squared_error(y_test, pred)"
   ]
  },
  {
   "cell_type": "markdown",
   "id": "2d1b949a",
   "metadata": {},
   "source": [
    "### 하이퍼파라미터 튜닝"
   ]
  },
  {
   "cell_type": "code",
   "execution_count": 129,
   "id": "117b1d43",
   "metadata": {},
   "outputs": [],
   "source": [
    "params={'learning_rate':[1.01, 0.09, 0.07, 0.05, 0.03, 0.01], \n",
    "        'max_depth':[1, 3, 5, 7, 9, 11], \n",
    "        'n_estimators':[50, 100, 200, 400],\n",
    "        'subsample':[0.9, 0.8, 0.7, 0.6, 0.5]\n",
    "        }"
   ]
  },
  {
   "cell_type": "code",
   "execution_count": 130,
   "id": "243bf6c9",
   "metadata": {},
   "outputs": [
    {
     "name": "stderr",
     "output_type": "stream",
     "text": [
      "/opt/conda/lib/python3.9/site-packages/pkg_resources/__init__.py:122: PkgResourcesDeprecationWarning: 0.996-ko-0.9.2 is an invalid version and will not be supported in a future release\n",
      "  warnings.warn(\n",
      "/opt/conda/lib/python3.9/site-packages/pkg_resources/__init__.py:122: PkgResourcesDeprecationWarning: 0.996-ko-0.9.2 is an invalid version and will not be supported in a future release\n",
      "  warnings.warn(\n",
      "/opt/conda/lib/python3.9/site-packages/joblib/externals/loky/process_executor.py:702: UserWarning: A worker stopped while some jobs were given to the executor. This can be caused by a too short worker timeout or by a memory leak.\n",
      "  warnings.warn(\n",
      "/opt/conda/lib/python3.9/site-packages/pkg_resources/__init__.py:122: PkgResourcesDeprecationWarning: 0.996-ko-0.9.2 is an invalid version and will not be supported in a future release\n",
      "  warnings.warn(\n"
     ]
    },
    {
     "data": {
      "text/plain": [
       "RandomizedSearchCV(cv=3,\n",
       "                   estimator=XGBRegressor(base_score=None, booster=None,\n",
       "                                          colsample_bylevel=None,\n",
       "                                          colsample_bynode=None,\n",
       "                                          colsample_bytree=None, gamma=None,\n",
       "                                          gpu_id=None, importance_type='gain',\n",
       "                                          interaction_constraints=None,\n",
       "                                          learning_rate=None,\n",
       "                                          max_delta_step=None, max_depth=None,\n",
       "                                          min_child_weight=None, missing=nan,\n",
       "                                          monotone_constraints=None,\n",
       "                                          n_estimators=100, n...\n",
       "                                          num_parallel_tree=None,\n",
       "                                          random_state=None, reg_alpha=None,\n",
       "                                          reg_lambda=None,\n",
       "                                          scale_pos_weight=None, subsample=None,\n",
       "                                          tree_method=None,\n",
       "                                          validate_parameters=None,\n",
       "                                          verbosity=None),\n",
       "                   n_iter=20, n_jobs=-1,\n",
       "                   param_distributions={'learning_rate': [1.01, 0.09, 0.07,\n",
       "                                                          0.05, 0.03, 0.01],\n",
       "                                        'max_depth': [1, 3, 5, 7, 9, 11],\n",
       "                                        'n_estimators': [50, 100, 200, 400],\n",
       "                                        'subsample': [0.9, 0.8, 0.7, 0.6, 0.5]})"
      ]
     },
     "execution_count": 130,
     "metadata": {},
     "output_type": "execute_result"
    }
   ],
   "source": [
    "xgb = XGBRegressor()\n",
    "grid = RandomizedSearchCV(xgb, params, cv=3, n_iter=20, n_jobs=-1)\n",
    "grid.fit(X_train, y_train)"
   ]
  },
  {
   "cell_type": "code",
   "execution_count": 131,
   "id": "e1fa0fe2",
   "metadata": {},
   "outputs": [
    {
     "data": {
      "text/plain": [
       "{'subsample': 0.6, 'n_estimators': 200, 'max_depth': 7, 'learning_rate': 0.05}"
      ]
     },
     "execution_count": 131,
     "metadata": {},
     "output_type": "execute_result"
    }
   ],
   "source": [
    "grid.best_params_"
   ]
  },
  {
   "cell_type": "markdown",
   "id": "280c1c0f",
   "metadata": {},
   "source": [
    "### Xgboost"
   ]
  },
  {
   "cell_type": "code",
   "execution_count": 132,
   "id": "a54cb8f8",
   "metadata": {},
   "outputs": [
    {
     "data": {
      "text/plain": [
       "46512.689475040934"
      ]
     },
     "execution_count": 132,
     "metadata": {},
     "output_type": "execute_result"
    }
   ],
   "source": [
    "model = XGBRegressor(subsample=0.6, n_estimators= 200, max_depth= 7, learning_rate= 0.05)\n",
    "\n",
    "model.fit(X_train, y_train)\n",
    "pred = model.predict(X_val)\n",
    "mean_squared_error(y_val, pred)\n",
    "\n",
    "y_test = pd.read_csv('/aiffel/data/y_test.csv')\n",
    "\n",
    "pred = model.predict(test)\n",
    "mean_squared_error(y_test, pred)"
   ]
  },
  {
   "cell_type": "markdown",
   "id": "3d3c494a",
   "metadata": {},
   "source": [
    "### 6. 채점"
   ]
  },
  {
   "cell_type": "markdown",
   "id": "c2f16dec",
   "metadata": {},
   "source": [
    "### host_id를 뺀 결과"
   ]
  },
  {
   "cell_type": "markdown",
   "id": "92e0c3fd",
   "metadata": {},
   "source": [
    "- __Xgboost__가 __'46512.689475040934'__로 가장 낮은 값을 보였다."
   ]
  },
  {
   "cell_type": "markdown",
   "id": "2ebf050b",
   "metadata": {},
   "source": [
    "타겟을 로그화하고 MinMaxScaler까지 적용한 값이 host_id를 뺀 값보다 더 높은 성능을 보였다."
   ]
  },
  {
   "cell_type": "markdown",
   "id": "325d601a",
   "metadata": {},
   "source": [
    "-----------"
   ]
  },
  {
   "cell_type": "markdown",
   "id": "66f039b9",
   "metadata": {},
   "source": [
    "### 7. 결론\n",
    "\n",
    ": __데이터 전처리 과정에서 타겟을 로그화 한 후 정규화__까지 한 __Xgboost__ 모델이 __45970.60620388988__으로 __가장 낮은 값__을 보였다."
   ]
  },
  {
   "cell_type": "markdown",
   "id": "dcb6e3e5",
   "metadata": {},
   "source": [
    "### 8. 참고문헌\n",
    "https://www.kaggle.com/code/chirag9073/airbnb-analysis-visualization-and-prediction"
   ]
  },
  {
   "cell_type": "markdown",
   "id": "94322662",
   "metadata": {},
   "source": [
    "### 9. 회고"
   ]
  },
  {
   "cell_type": "markdown",
   "id": "20bf298a",
   "metadata": {},
   "source": [
    "- train/test를 한 번에 처리해주는 게 편하다.\n",
    "\n",
    "\n",
    "- heatmap상의 상관관계는 로그값으로 치환하거나 민맥스 스케일러를 쓰나 똑같다는 걸 알았다.\n",
    "\n",
    "\n",
    "- heatmap의 cmap을 통해 값이 그레디언트로 나오는 것과 끊어진 색상으로 나오는 것들이 구분되어있다는 것을 알았다.\n",
    "\n",
    "\n",
    "- 상관관계를 파악하기 위해 pearson, kendall, spearman 방식을 공부했는데, pearson은 선형 데이터에 관계가 있다는 것을 알았다.\n",
    "\n",
    "\n",
    "- 이상치를 제거하면 더 좋은 결과가 나오는 걸 알았는데, 그렇다고 행을 제거해버리면 머신러닝을 할 때 데이터의 갯수가 맞지 않아서 머신러닝이 불가능했다.\n",
    "\n",
    "\n",
    "- 테스트 비율을 0.1, 0.3으로 조정해보려 했으나 시간관계상 불가능했다.\n",
    "\n",
    "\n",
    "- 릿지, 라쏘, 엘라스틱넷은 알파값을 적용할 수 있다는 걸 알았다.\n",
    "\n",
    "\n",
    "- 하이퍼파라미터 튜닝을 위해 시간이 많이 걸린 다는 것을 알았다.\n",
    "\n",
    "\n",
    "- 머신러닝 및 하이퍼파라미터 튜닝에 시간이 많이 걸리는 만큼 모델의 특성을 이해해서 좋은 결과가 나오는 방식을 선택할 수 있어야 하겠단 생각이 들었다.\n",
    "\n",
    "\n",
    "- 참고문헌에서 본 'name' 열에서 키워드를 뽑아 이미지로 치환하고 가장 많이 사용된 키워드를 중심으로 name을 치환했다면 더 좋은 결과가 나왔을 것 같기도 하다.\n",
    "\n",
    "\n",
    "- 관련 있다고 생각되는 값들만 이용해서 머신러닝도 해봤는데 오히려 수치가 증가해서 의외였다. 그렇다고 관련 없다고 생각되는 값도 빼서 머신러닝을 시키면 수치가 감소하는 것도 아니었다. 아직은 데이터 간의 상관관계를 파악하는 기술이 부족한 것 같다."
   ]
  }
 ],
 "metadata": {
  "kernelspec": {
   "display_name": "Python 3 (ipykernel)",
   "language": "python",
   "name": "python3"
  },
  "language_info": {
   "codemirror_mode": {
    "name": "ipython",
    "version": 3
   },
   "file_extension": ".py",
   "mimetype": "text/x-python",
   "name": "python",
   "nbconvert_exporter": "python",
   "pygments_lexer": "ipython3",
   "version": "3.9.7"
  }
 },
 "nbformat": 4,
 "nbformat_minor": 5
}
