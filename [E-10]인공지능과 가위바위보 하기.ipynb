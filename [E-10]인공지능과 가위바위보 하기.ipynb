{
 "cells": [
  {
   "cell_type": "markdown",
   "id": "99bd034b",
   "metadata": {},
   "source": [
    "### 라이브러리 불러오기"
   ]
  },
  {
   "cell_type": "code",
   "execution_count": 1,
   "id": "d49229e0",
   "metadata": {},
   "outputs": [],
   "source": [
    "from PIL import Image\n",
    "import glob\n",
    "import os\n",
    "import numpy as np\n",
    "import matplotlib.pyplot as plt\n",
    "import tensorflow as tf\n",
    "from tensorflow import keras\n",
    "from tensorflow.keras import layers, models\n",
    "from keras.layers import Input, Flatten, Dense\n",
    "from sklearn.model_selection import train_test_split"
   ]
  },
  {
   "cell_type": "markdown",
   "id": "890bb760",
   "metadata": {},
   "source": [
    "### 데이터 불러오기 + Resize 하기"
   ]
  },
  {
   "cell_type": "code",
   "execution_count": 2,
   "id": "d755d7d8",
   "metadata": {},
   "outputs": [
    {
     "name": "stdout",
     "output_type": "stream",
     "text": [
      "600  images to be resized.\n",
      "600  images resized.\n",
      "가위 이미지 resize 완료!\n"
     ]
    }
   ],
   "source": [
    "def resize_images(img_path):\n",
    "\timages=glob.glob(img_path + \"/*.jpg\")  \n",
    "    \n",
    "\tprint(len(images), \" images to be resized.\")\n",
    "\n",
    "    # 파일마다 모두 28x28 사이즈로 바꾸어 저장합니다.\n",
    "\ttarget_size=(28,28)\n",
    "\tfor img in images:\n",
    "\t\told_img=Image.open(img)\n",
    "\t\tnew_img=old_img.resize(target_size,Image.ANTIALIAS)\n",
    "\t\tnew_img.save(img, \"JPEG\")\n",
    "    \n",
    "\tprint(len(images), \" images resized.\")\n",
    "\t\n",
    "# 가위 이미지가 저장된 디렉토리 아래의 모든 jpg 파일을 읽어들여서\n",
    "image_dir_path = os.getenv(\"HOME\") + \"/aiffel/rock_scissor_paper/scissor\"\n",
    "resize_images(image_dir_path)\n",
    "\n",
    "print(\"가위 이미지 resize 완료!\")"
   ]
  },
  {
   "cell_type": "code",
   "execution_count": 3,
   "id": "783f90a1",
   "metadata": {},
   "outputs": [
    {
     "name": "stdout",
     "output_type": "stream",
     "text": [
      "600  images to be resized.\n",
      "600  images resized.\n",
      "바위 이미지 resize 완료!\n"
     ]
    }
   ],
   "source": [
    "# 바위 이미지가 저장된 디렉토리 아래의 모든 jpg 파일을 읽어들여서\n",
    "image_dir_path = os.getenv(\"HOME\") + \"/aiffel/rock_scissor_paper/rock\"\n",
    "\n",
    "# 파일마다 모두 28x28 사이즈로 바꾸어 저장합니다.\n",
    "resize_images(image_dir_path)\n",
    "\n",
    "print(\"바위 이미지 resize 완료!\")"
   ]
  },
  {
   "cell_type": "code",
   "execution_count": 4,
   "id": "34585ece",
   "metadata": {},
   "outputs": [
    {
     "name": "stdout",
     "output_type": "stream",
     "text": [
      "600  images to be resized.\n",
      "600  images resized.\n",
      "보 이미지 resize 완료!\n"
     ]
    }
   ],
   "source": [
    "# 보 이미지가 저장된 디렉토리 아래의 모든 jpg 파일을 읽어들여서\n",
    "image_dir_path = os.getenv(\"HOME\") + \"/aiffel/rock_scissor_paper/paper\"\n",
    "\n",
    "# 파일마다 모두 28x28 사이즈로 바꾸어 저장합니다.\n",
    "resize_images(image_dir_path)\n",
    "\n",
    "print(\"보 이미지 resize 완료!\")"
   ]
  },
  {
   "cell_type": "markdown",
   "id": "a9ee7c95",
   "metadata": {},
   "source": [
    "### 라벨링"
   ]
  },
  {
   "cell_type": "code",
   "execution_count": 5,
   "id": "c42ae5b7",
   "metadata": {},
   "outputs": [
    {
     "name": "stdout",
     "output_type": "stream",
     "text": [
      "데이터의 이미지 개수는 1800 입니다.\n",
      "x_train shape: (1800, 28, 28, 3)\n",
      "y_train shape: (1800,)\n"
     ]
    }
   ],
   "source": [
    "def load_data(img_path, number_of_data=1800):  # 가위바위보 이미지 개수 총합에 주의하세요.\n",
    "    # 가위 : 0, 바위 : 1, 보 : 2\n",
    "    img_size=28\n",
    "    color=3\n",
    "    #이미지 데이터와 라벨(가위 : 0, 바위 : 1, 보 : 2) 데이터를 담을 행렬(matrix) 영역을 생성합니다.\n",
    "    imgs=np.zeros(number_of_data*img_size*img_size*color,dtype=np.int32).reshape(number_of_data,img_size,img_size,color)\n",
    "    labels=np.zeros(number_of_data,dtype=np.int32)\n",
    "\n",
    "    idx=0\n",
    "    for file in glob.iglob(img_path+'/scissor/*.jpg'):\n",
    "        img = np.array(Image.open(file),dtype=np.int32)\n",
    "        imgs[idx,:,:,:]=img    # 데이터 영역에 이미지 행렬을 복사\n",
    "        labels[idx]=0   # 가위 : 0\n",
    "        idx=idx+1\n",
    "\n",
    "    for file in glob.iglob(img_path+'/rock/*.jpg'):\n",
    "        img = np.array(Image.open(file),dtype=np.int32)\n",
    "        imgs[idx,:,:,:]=img    # 데이터 영역에 이미지 행렬을 복사\n",
    "        labels[idx]=1   # 바위 : 1\n",
    "        idx=idx+1  \n",
    "    \n",
    "    for file in glob.iglob(img_path+'/paper/*.jpg'):\n",
    "        img = np.array(Image.open(file),dtype=np.int32)\n",
    "        imgs[idx,:,:,:]=img    # 데이터 영역에 이미지 행렬을 복사\n",
    "        labels[idx]=2   # 보 : 2\n",
    "        idx=idx+1\n",
    "        \n",
    "    print(\"데이터의 이미지 개수는\", idx,\"입니다.\")\n",
    "    return imgs, labels\n",
    "\n",
    "image_dir_path = os.getenv(\"HOME\") + \"/aiffel/rock_scissor_paper\"\n",
    "(x_train, y_train)=load_data(image_dir_path)\n",
    "x_train_norm = x_train/255.0   # 입력은 0~1 사이의 값으로 정규화\n",
    "\n",
    "print(\"x_train shape: {}\".format(x_train.shape))\n",
    "print(\"y_train shape: {}\".format(y_train.shape))"
   ]
  },
  {
   "cell_type": "markdown",
   "id": "4825f330",
   "metadata": {},
   "source": [
    "### 이미지 불러오기"
   ]
  },
  {
   "cell_type": "code",
   "execution_count": 6,
   "id": "e853fe1c",
   "metadata": {},
   "outputs": [
    {
     "name": "stdout",
     "output_type": "stream",
     "text": [
      "라벨:  0\n"
     ]
    },
    {
     "data": {
      "image/png": "[encoded data removed]",
      "text/plain": [
       "<Figure size 432x288 with 1 Axes>"
      ]
     },
     "metadata": {
      "needs_background": "light"
     },
     "output_type": "display_data"
    }
   ],
   "source": [
    "plt.imshow(x_train[0])\n",
    "print('라벨: ', y_train[0])"
   ]
  },
  {
   "cell_type": "markdown",
   "id": "3fb06710",
   "metadata": {},
   "source": [
    "### 딥러닝 네트워크 설계하기"
   ]
  },
  {
   "cell_type": "code",
   "execution_count": 7,
   "id": "a9303976",
   "metadata": {},
   "outputs": [
    {
     "name": "stdout",
     "output_type": "stream",
     "text": [
      "Model: \"sequential\"\n",
      "_________________________________________________________________\n",
      "Layer (type)                 Output Shape              Param #   \n",
      "=================================================================\n",
      "conv2d (Conv2D)              (None, 26, 26, 16)        448       \n",
      "_________________________________________________________________\n",
      "max_pooling2d (MaxPooling2D) (None, 13, 13, 16)        0         \n",
      "_________________________________________________________________\n",
      "conv2d_1 (Conv2D)            (None, 11, 11, 32)        4640      \n",
      "_________________________________________________________________\n",
      "max_pooling2d_1 (MaxPooling2 (None, 5, 5, 32)          0         \n",
      "_________________________________________________________________\n",
      "flatten (Flatten)            (None, 800)               0         \n",
      "_________________________________________________________________\n",
      "dense (Dense)                (None, 32)                25632     \n",
      "_________________________________________________________________\n",
      "dense_1 (Dense)              (None, 3)                 99        \n",
      "=================================================================\n",
      "Total params: 30,819\n",
      "Trainable params: 30,819\n",
      "Non-trainable params: 0\n",
      "_________________________________________________________________\n"
     ]
    }
   ],
   "source": [
    "# 가위바위보 데이터셋은 MNIST 데이터셋과 입력부, 출력부의 수가 달라졌다.\n",
    "n_channel_1=16\n",
    "n_channel_2=32\n",
    "n_dense=32\n",
    "n_train_epoch=30\n",
    "\n",
    "model=keras.models.Sequential()\n",
    "\n",
    "model.add(keras.layers.Conv2D(n_channel_1, (3,3), activation='relu', input_shape=(28,28,3)))\n",
    "model.add(keras.layers.MaxPool2D(2,2))\n",
    "\n",
    "model.add(keras.layers.Conv2D(n_channel_2, (3,3), activation='relu'))\n",
    "model.add(keras.layers.MaxPooling2D((2,2)))\n",
    "\n",
    "model.add(keras.layers.Flatten())\n",
    "\n",
    "model.add(keras.layers.Dense(n_dense, activation='relu'))\n",
    "\n",
    "model.add(keras.layers.Dense(3, activation='softmax'))\n",
    "\n",
    "model.summary()"
   ]
  },
  {
   "cell_type": "markdown",
   "id": "d58ae0bc",
   "metadata": {},
   "source": [
    "### 딥러닝 네트워크 학습시키기"
   ]
  },
  {
   "cell_type": "code",
   "execution_count": 8,
   "id": "3d365826",
   "metadata": {},
   "outputs": [
    {
     "name": "stdout",
     "output_type": "stream",
     "text": [
      "Epoch 1/30\n",
      "57/57 [==============================] - 3s 4ms/step - loss: 1.0527 - accuracy: 0.4233\n",
      "Epoch 2/30\n",
      "57/57 [==============================] - 0s 3ms/step - loss: 0.8480 - accuracy: 0.6267\n",
      "Epoch 3/30\n",
      "57/57 [==============================] - 0s 3ms/step - loss: 0.6503 - accuracy: 0.7417\n",
      "Epoch 4/30\n",
      "57/57 [==============================] - 0s 3ms/step - loss: 0.5565 - accuracy: 0.7694\n",
      "Epoch 5/30\n",
      "57/57 [==============================] - 0s 3ms/step - loss: 0.4803 - accuracy: 0.8133\n",
      "Epoch 6/30\n",
      "57/57 [==============================] - 0s 3ms/step - loss: 0.4005 - accuracy: 0.8494\n",
      "Epoch 7/30\n",
      "57/57 [==============================] - 0s 3ms/step - loss: 0.3680 - accuracy: 0.8689\n",
      "Epoch 8/30\n",
      "57/57 [==============================] - 0s 3ms/step - loss: 0.3100 - accuracy: 0.8983\n",
      "Epoch 9/30\n",
      "57/57 [==============================] - 0s 3ms/step - loss: 0.2786 - accuracy: 0.8994\n",
      "Epoch 10/30\n",
      "57/57 [==============================] - 0s 3ms/step - loss: 0.2436 - accuracy: 0.9222\n",
      "Epoch 11/30\n",
      "57/57 [==============================] - 0s 3ms/step - loss: 0.2406 - accuracy: 0.9206\n",
      "Epoch 12/30\n",
      "57/57 [==============================] - 0s 3ms/step - loss: 0.2021 - accuracy: 0.9378\n",
      "Epoch 13/30\n",
      "57/57 [==============================] - 0s 3ms/step - loss: 0.1748 - accuracy: 0.9461\n",
      "Epoch 14/30\n",
      "57/57 [==============================] - 0s 3ms/step - loss: 0.1559 - accuracy: 0.9533\n",
      "Epoch 15/30\n",
      "57/57 [==============================] - 0s 3ms/step - loss: 0.1561 - accuracy: 0.9533\n",
      "Epoch 16/30\n",
      "57/57 [==============================] - 0s 3ms/step - loss: 0.1407 - accuracy: 0.9583\n",
      "Epoch 17/30\n",
      "57/57 [==============================] - 0s 3ms/step - loss: 0.1226 - accuracy: 0.9661\n",
      "Epoch 18/30\n",
      "57/57 [==============================] - 0s 3ms/step - loss: 0.1140 - accuracy: 0.9678\n",
      "Epoch 19/30\n",
      "57/57 [==============================] - 0s 3ms/step - loss: 0.1049 - accuracy: 0.9689\n",
      "Epoch 20/30\n",
      "57/57 [==============================] - 0s 3ms/step - loss: 0.0901 - accuracy: 0.9761\n",
      "Epoch 21/30\n",
      "57/57 [==============================] - 0s 3ms/step - loss: 0.0818 - accuracy: 0.9800\n",
      "Epoch 22/30\n",
      "57/57 [==============================] - 0s 3ms/step - loss: 0.0807 - accuracy: 0.9800\n",
      "Epoch 23/30\n",
      "57/57 [==============================] - 0s 3ms/step - loss: 0.0849 - accuracy: 0.9767\n",
      "Epoch 24/30\n",
      "57/57 [==============================] - 0s 3ms/step - loss: 0.0694 - accuracy: 0.9839\n",
      "Epoch 25/30\n",
      "57/57 [==============================] - 0s 3ms/step - loss: 0.0679 - accuracy: 0.9839\n",
      "Epoch 26/30\n",
      "57/57 [==============================] - 0s 3ms/step - loss: 0.0586 - accuracy: 0.9872\n",
      "Epoch 27/30\n",
      "57/57 [==============================] - 0s 3ms/step - loss: 0.0508 - accuracy: 0.9894\n",
      "Epoch 28/30\n",
      "57/57 [==============================] - 0s 3ms/step - loss: 0.0447 - accuracy: 0.9939\n",
      "Epoch 29/30\n",
      "57/57 [==============================] - 0s 3ms/step - loss: 0.0418 - accuracy: 0.9944\n",
      "Epoch 30/30\n",
      "57/57 [==============================] - 0s 3ms/step - loss: 0.0375 - accuracy: 0.9928\n"
     ]
    },
    {
     "data": {
      "text/plain": [
       "<keras.callbacks.History at 0x7f25087633a0>"
      ]
     },
     "execution_count": 8,
     "metadata": {},
     "output_type": "execute_result"
    }
   ],
   "source": [
    "model.compile(optimizer='adam',\n",
    "             loss='sparse_categorical_crossentropy',\n",
    "             metrics=['accuracy'])\n",
    "\n",
    "model.fit(x_train_norm, y_train, epochs=n_train_epoch)"
   ]
  },
  {
   "cell_type": "markdown",
   "id": "3075c6e3",
   "metadata": {},
   "source": [
    "### 얼마나 잘 만들었는지 확인하기(테스트)"
   ]
  },
  {
   "cell_type": "markdown",
   "id": "37d6fab6",
   "metadata": {},
   "source": [
    "#### 데이터 불러오기 + Resize 하기"
   ]
  },
  {
   "cell_type": "code",
   "execution_count": 9,
   "id": "3aebf027",
   "metadata": {},
   "outputs": [
    {
     "name": "stdout",
     "output_type": "stream",
     "text": [
      "200  images to be resized.\n",
      "200  images resized.\n",
      "가위 테스트 이미지 resize 완료!\n"
     ]
    }
   ],
   "source": [
    "image_dir_path = os.getenv(\"HOME\") + \"/aiffel/rock_scissor_paper/test/scissor\"\n",
    "resize_images(image_dir_path)\n",
    "\n",
    "print(\"가위 테스트 이미지 resize 완료!\")"
   ]
  },
  {
   "cell_type": "code",
   "execution_count": 10,
   "id": "9908680c",
   "metadata": {},
   "outputs": [
    {
     "name": "stdout",
     "output_type": "stream",
     "text": [
      "200  images to be resized.\n",
      "200  images resized.\n",
      "바위 테스트 이미지 resize 완료!\n"
     ]
    }
   ],
   "source": [
    "image_dir_path = os.getenv(\"HOME\") + \"/aiffel/rock_scissor_paper/test/rock\"\n",
    "resize_images(image_dir_path)\n",
    "\n",
    "print(\"바위 테스트 이미지 resize 완료!\")"
   ]
  },
  {
   "cell_type": "code",
   "execution_count": 11,
   "id": "668a0ac9",
   "metadata": {},
   "outputs": [
    {
     "name": "stdout",
     "output_type": "stream",
     "text": [
      "200  images to be resized.\n",
      "200  images resized.\n",
      "보 테스트 이미지 resize 완료!\n"
     ]
    }
   ],
   "source": [
    "image_dir_path = os.getenv(\"HOME\") + \"/aiffel/rock_scissor_paper/test/paper\"\n",
    "resize_images(image_dir_path)\n",
    "\n",
    "print(\"보 테스트 이미지 resize 완료!\")"
   ]
  },
  {
   "cell_type": "markdown",
   "id": "d30dae47",
   "metadata": {},
   "source": [
    "#### 라벨링"
   ]
  },
  {
   "cell_type": "code",
   "execution_count": 12,
   "id": "8de276c4",
   "metadata": {},
   "outputs": [
    {
     "name": "stdout",
     "output_type": "stream",
     "text": [
      "데이터의 이미지 개수는 600 입니다.\n"
     ]
    }
   ],
   "source": [
    "image_dir_path = os.getenv(\"HOME\") + \"/aiffel/rock_scissor_paper/test\"\n",
    "(x_test, y_test)=load_data(image_dir_path, number_of_data=600)\n",
    "x_test_norm = x_test/255.0   # 입력은 0~1 사이의 값으로 정규화"
   ]
  },
  {
   "cell_type": "markdown",
   "id": "4a741cea",
   "metadata": {},
   "source": [
    "### test_accuracy 측정"
   ]
  },
  {
   "cell_type": "code",
   "execution_count": 13,
   "id": "5d1eae64",
   "metadata": {},
   "outputs": [
    {
     "name": "stdout",
     "output_type": "stream",
     "text": [
      "19/19 - 0s - loss: 3.2934 - accuracy: 0.3867\n",
      "test_loss: 3.293386697769165 \n",
      "test_accuracy: 0.3866666555404663\n"
     ]
    }
   ],
   "source": [
    "test_loss, test_accuracy = model.evaluate(x_test_norm, y_test, verbose=2)\n",
    "print(f\"test_loss: {test_loss} \")\n",
    "print(f\"test_accuracy: {test_accuracy}\")"
   ]
  },
  {
   "cell_type": "markdown",
   "id": "3e1ccb2f",
   "metadata": {},
   "source": [
    "- test_accuracy: 0.351666659116745\n",
    "- test_accuracy: 0.3583333194255829\n",
    "- test_accuracy: 0.43666666746139526\n",
    "- test_accuracy: 0.36500000953674316\n",
    "- test_accuracy: 0.3866666555404663"
   ]
  },
  {
   "cell_type": "markdown",
   "id": "1363fd91",
   "metadata": {},
   "source": [
    "### 더 좋은 네트워크 만들어보기"
   ]
  },
  {
   "cell_type": "markdown",
   "id": "a8667f7d",
   "metadata": {},
   "source": [
    "#### 시험용 데이터x_test에 대한 인식률 test accuracy가 train accuracy보다 많이 낮게 나오지는 않았나요? 만약 그렇다면 그 이유는 무엇일까요?"
   ]
  },
  {
   "cell_type": "markdown",
   "id": "4a959673",
   "metadata": {},
   "source": [
    "- 학습 데이터에 과대적합 되었기 때문이다."
   ]
  },
  {
   "cell_type": "markdown",
   "id": "2128fed9",
   "metadata": {},
   "source": [
    "#### test accuracy가 train accuracy에 근접하도록 개선 방법을 찾아 봅시다."
   ]
  },
  {
   "cell_type": "markdown",
   "id": "d777973f",
   "metadata": {},
   "source": [
    "- 검증 데이터도 사용하기\n",
    "- 데이터 증식\n",
    "- 드롭아웃\n",
    "- early stopping, callback"
   ]
  },
  {
   "cell_type": "markdown",
   "id": "c6705fa6",
   "metadata": {},
   "source": [
    "### 검증데이터"
   ]
  },
  {
   "cell_type": "code",
   "execution_count": 14,
   "id": "848bcfb3",
   "metadata": {},
   "outputs": [
    {
     "name": "stdout",
     "output_type": "stream",
     "text": [
      "학습용 데이터: (1440, 28, 28, 3)  레이블: (1440,)\n",
      "검증용 데이터: (360, 28, 28, 3)  레이블: (360,)\n",
      "테스트용 데이터: (600, 28, 28, 3)  레이블: (600,)\n"
     ]
    }
   ],
   "source": [
    "x_train, x_val, y_train, y_val = train_test_split(x_train_norm, y_train,\n",
    "                                                  test_size=0.2,\n",
    "                                                  random_state=2023)\n",
    "\n",
    "print(\"학습용 데이터: {}  레이블: {}\".format(x_train.shape, y_train.shape))\n",
    "print(\"검증용 데이터: {}  레이블: {}\".format(x_val.shape, y_val.shape))\n",
    "print(\"테스트용 데이터: {}  레이블: {}\".format(x_test.shape, y_test.shape))"
   ]
  },
  {
   "cell_type": "markdown",
   "id": "ce39b61c",
   "metadata": {},
   "source": [
    "### 더 좋은 딥러닝 네트워크 설계하기"
   ]
  },
  {
   "cell_type": "code",
   "execution_count": 15,
   "id": "46039b28",
   "metadata": {
    "scrolled": false
   },
   "outputs": [
    {
     "name": "stdout",
     "output_type": "stream",
     "text": [
      "Model: \"sequential_1\"\n",
      "_________________________________________________________________\n",
      "Layer (type)                 Output Shape              Param #   \n",
      "=================================================================\n",
      "conv2d_2 (Conv2D)            (None, 26, 26, 32)        896       \n",
      "_________________________________________________________________\n",
      "max_pooling2d_2 (MaxPooling2 (None, 13, 13, 32)        0         \n",
      "_________________________________________________________________\n",
      "conv2d_3 (Conv2D)            (None, 11, 11, 64)        18496     \n",
      "_________________________________________________________________\n",
      "max_pooling2d_3 (MaxPooling2 (None, 5, 5, 64)          0         \n",
      "_________________________________________________________________\n",
      "conv2d_4 (Conv2D)            (None, 3, 3, 128)         73856     \n",
      "_________________________________________________________________\n",
      "max_pooling2d_4 (MaxPooling2 (None, 1, 1, 128)         0         \n",
      "_________________________________________________________________\n",
      "flatten_1 (Flatten)          (None, 128)               0         \n",
      "_________________________________________________________________\n",
      "dense_2 (Dense)              (None, 3)                 387       \n",
      "=================================================================\n",
      "Total params: 93,635\n",
      "Trainable params: 93,635\n",
      "Non-trainable params: 0\n",
      "_________________________________________________________________\n"
     ]
    }
   ],
   "source": [
    "# 가위바위보 데이터셋은 MNIST 데이터셋과 입력부, 출력부의 수가 달라졌다.\n",
    "n_channel_1=32\n",
    "n_channel_2=64\n",
    "n_channel_3=128\n",
    "n_train_epoch=200\n",
    "\n",
    "model=keras.models.Sequential()\n",
    "\n",
    "model.add(keras.Input(shape=(28,28,3)))\n",
    "\n",
    "model.add(keras.layers.Conv2D(n_channel_1, (3,3), activation='relu'))\n",
    "model.add(keras.layers.MaxPool2D(2,2))\n",
    "\n",
    "model.add(keras.layers.Conv2D(n_channel_2, (3,3), activation='relu'))\n",
    "model.add(keras.layers.MaxPooling2D((2,2)))\n",
    "\n",
    "model.add(keras.layers.Conv2D(n_channel_3, (3,3), activation='relu'))\n",
    "model.add(keras.layers.MaxPooling2D((2,2)))\n",
    "\n",
    "model.add(keras.layers.Flatten())\n",
    "\n",
    "model.add(keras.layers.Dense(3, activation='softmax'))\n",
    "\n",
    "model.summary()"
   ]
  },
  {
   "cell_type": "code",
   "execution_count": 16,
   "id": "ad210396",
   "metadata": {},
   "outputs": [],
   "source": [
    "optimize=tf.keras.optimizers.RMSprop(learning_rate=0.0001)\n",
    "model.compile(optimizer=optimize,\n",
    "             loss='sparse_categorical_crossentropy',\n",
    "             metrics=['accuracy'])"
   ]
  },
  {
   "cell_type": "code",
   "execution_count": 17,
   "id": "74636f3b",
   "metadata": {},
   "outputs": [],
   "source": [
    "callbacks = [\n",
    "    keras.callbacks.EarlyStopping(monitor='val_loss',\n",
    "                                           patience=10),\n",
    "    keras.callbacks.ModelCheckpoint(\n",
    "    filepath='convnet_from_scratch.keras',\n",
    "    save_best_only=True,\n",
    "    monitor='val_loss')\n",
    "]"
   ]
  },
  {
   "cell_type": "markdown",
   "id": "1a0d8c5c",
   "metadata": {},
   "source": [
    "### 더 좋은 딥러닝 네트워크 학습시키기"
   ]
  },
  {
   "cell_type": "code",
   "execution_count": 18,
   "id": "c4cc27a8",
   "metadata": {},
   "outputs": [
    {
     "name": "stdout",
     "output_type": "stream",
     "text": [
      "Epoch 1/200\n",
      "45/45 [==============================] - 1s 11ms/step - loss: 1.0898 - accuracy: 0.4076 - val_loss: 1.0792 - val_accuracy: 0.4056\n",
      "Epoch 2/200\n",
      "45/45 [==============================] - 0s 4ms/step - loss: 1.0696 - accuracy: 0.5063 - val_loss: 1.0619 - val_accuracy: 0.4333\n",
      "Epoch 3/200\n",
      "45/45 [==============================] - 0s 5ms/step - loss: 1.0455 - accuracy: 0.5451 - val_loss: 1.0337 - val_accuracy: 0.6167\n",
      "Epoch 4/200\n",
      "45/45 [==============================] - 0s 4ms/step - loss: 1.0169 - accuracy: 0.6264 - val_loss: 1.0098 - val_accuracy: 0.5417\n",
      "Epoch 5/200\n",
      "45/45 [==============================] - 0s 4ms/step - loss: 0.9850 - accuracy: 0.6139 - val_loss: 0.9753 - val_accuracy: 0.6667\n",
      "Epoch 6/200\n",
      "45/45 [==============================] - 0s 4ms/step - loss: 0.9477 - accuracy: 0.6306 - val_loss: 0.9469 - val_accuracy: 0.5639\n",
      "Epoch 7/200\n",
      "45/45 [==============================] - 0s 4ms/step - loss: 0.9124 - accuracy: 0.6326 - val_loss: 0.9116 - val_accuracy: 0.6667\n",
      "Epoch 8/200\n",
      "45/45 [==============================] - 0s 4ms/step - loss: 0.8829 - accuracy: 0.6562 - val_loss: 0.8871 - val_accuracy: 0.5917\n",
      "Epoch 9/200\n",
      "45/45 [==============================] - 0s 4ms/step - loss: 0.8534 - accuracy: 0.6812 - val_loss: 0.8619 - val_accuracy: 0.6111\n",
      "Epoch 10/200\n",
      "45/45 [==============================] - 0s 4ms/step - loss: 0.8287 - accuracy: 0.6785 - val_loss: 0.8323 - val_accuracy: 0.6639\n",
      "Epoch 11/200\n",
      "45/45 [==============================] - 0s 4ms/step - loss: 0.8001 - accuracy: 0.6910 - val_loss: 0.8290 - val_accuracy: 0.6417\n",
      "Epoch 12/200\n",
      "45/45 [==============================] - 0s 4ms/step - loss: 0.7788 - accuracy: 0.6993 - val_loss: 0.7978 - val_accuracy: 0.6778\n",
      "Epoch 13/200\n",
      "45/45 [==============================] - 0s 4ms/step - loss: 0.7603 - accuracy: 0.7056 - val_loss: 0.7718 - val_accuracy: 0.6806\n",
      "Epoch 14/200\n",
      "45/45 [==============================] - 0s 4ms/step - loss: 0.7429 - accuracy: 0.7063 - val_loss: 0.7575 - val_accuracy: 0.6972\n",
      "Epoch 15/200\n",
      "45/45 [==============================] - 0s 4ms/step - loss: 0.7184 - accuracy: 0.7097 - val_loss: 0.7650 - val_accuracy: 0.6583\n",
      "Epoch 16/200\n",
      "45/45 [==============================] - 0s 4ms/step - loss: 0.7045 - accuracy: 0.7215 - val_loss: 0.7343 - val_accuracy: 0.7000\n",
      "Epoch 17/200\n",
      "45/45 [==============================] - 0s 4ms/step - loss: 0.6846 - accuracy: 0.7514 - val_loss: 0.7101 - val_accuracy: 0.6944\n",
      "Epoch 18/200\n",
      "45/45 [==============================] - 0s 4ms/step - loss: 0.6788 - accuracy: 0.7354 - val_loss: 0.6910 - val_accuracy: 0.6972\n",
      "Epoch 19/200\n",
      "45/45 [==============================] - 0s 4ms/step - loss: 0.6632 - accuracy: 0.7444 - val_loss: 0.6820 - val_accuracy: 0.7111\n",
      "Epoch 20/200\n",
      "45/45 [==============================] - 0s 4ms/step - loss: 0.6476 - accuracy: 0.7549 - val_loss: 0.6797 - val_accuracy: 0.7000\n",
      "Epoch 21/200\n",
      "45/45 [==============================] - 0s 5ms/step - loss: 0.6371 - accuracy: 0.7437 - val_loss: 0.6490 - val_accuracy: 0.7222\n",
      "Epoch 22/200\n",
      "45/45 [==============================] - 0s 4ms/step - loss: 0.6213 - accuracy: 0.7500 - val_loss: 0.6343 - val_accuracy: 0.7306\n",
      "Epoch 23/200\n",
      "45/45 [==============================] - 0s 4ms/step - loss: 0.6137 - accuracy: 0.7597 - val_loss: 0.6241 - val_accuracy: 0.7278\n",
      "Epoch 24/200\n",
      "45/45 [==============================] - 0s 4ms/step - loss: 0.6012 - accuracy: 0.7694 - val_loss: 0.6171 - val_accuracy: 0.7389\n",
      "Epoch 25/200\n",
      "45/45 [==============================] - 0s 5ms/step - loss: 0.5804 - accuracy: 0.7743 - val_loss: 0.6130 - val_accuracy: 0.7333\n",
      "Epoch 26/200\n",
      "45/45 [==============================] - 0s 5ms/step - loss: 0.5798 - accuracy: 0.7722 - val_loss: 0.6141 - val_accuracy: 0.7250\n",
      "Epoch 27/200\n",
      "45/45 [==============================] - 0s 4ms/step - loss: 0.5640 - accuracy: 0.7785 - val_loss: 0.6052 - val_accuracy: 0.7361\n",
      "Epoch 28/200\n",
      "45/45 [==============================] - 0s 4ms/step - loss: 0.5628 - accuracy: 0.7924 - val_loss: 0.5726 - val_accuracy: 0.7611\n",
      "Epoch 29/200\n",
      "45/45 [==============================] - 0s 5ms/step - loss: 0.5550 - accuracy: 0.7854 - val_loss: 0.5706 - val_accuracy: 0.7500\n",
      "Epoch 30/200\n",
      "45/45 [==============================] - 0s 5ms/step - loss: 0.5383 - accuracy: 0.7951 - val_loss: 0.5846 - val_accuracy: 0.7444\n",
      "Epoch 31/200\n",
      "45/45 [==============================] - 0s 4ms/step - loss: 0.5363 - accuracy: 0.7958 - val_loss: 0.5478 - val_accuracy: 0.7722\n",
      "Epoch 32/200\n",
      "45/45 [==============================] - 0s 5ms/step - loss: 0.5157 - accuracy: 0.8104 - val_loss: 0.5502 - val_accuracy: 0.7528\n",
      "Epoch 33/200\n",
      "45/45 [==============================] - 0s 4ms/step - loss: 0.5093 - accuracy: 0.8035 - val_loss: 0.5244 - val_accuracy: 0.7861\n",
      "Epoch 34/200\n",
      "45/45 [==============================] - 0s 4ms/step - loss: 0.5033 - accuracy: 0.8076 - val_loss: 0.5224 - val_accuracy: 0.7889\n",
      "Epoch 35/200\n",
      "45/45 [==============================] - 0s 4ms/step - loss: 0.4982 - accuracy: 0.8139 - val_loss: 0.5264 - val_accuracy: 0.7806\n",
      "Epoch 36/200\n",
      "45/45 [==============================] - 0s 4ms/step - loss: 0.4884 - accuracy: 0.8194 - val_loss: 0.5454 - val_accuracy: 0.7667\n",
      "Epoch 37/200\n",
      "45/45 [==============================] - 0s 4ms/step - loss: 0.4824 - accuracy: 0.8118 - val_loss: 0.5066 - val_accuracy: 0.7944\n",
      "Epoch 38/200\n",
      "45/45 [==============================] - 0s 4ms/step - loss: 0.4748 - accuracy: 0.8243 - val_loss: 0.4927 - val_accuracy: 0.8167\n",
      "Epoch 39/200\n",
      "45/45 [==============================] - 0s 4ms/step - loss: 0.4616 - accuracy: 0.8271 - val_loss: 0.4905 - val_accuracy: 0.8111\n",
      "Epoch 40/200\n",
      "45/45 [==============================] - 0s 4ms/step - loss: 0.4602 - accuracy: 0.8292 - val_loss: 0.4816 - val_accuracy: 0.8167\n",
      "Epoch 41/200\n",
      "45/45 [==============================] - 0s 4ms/step - loss: 0.4494 - accuracy: 0.8431 - val_loss: 0.4833 - val_accuracy: 0.7972\n",
      "Epoch 42/200\n",
      "45/45 [==============================] - 0s 4ms/step - loss: 0.4493 - accuracy: 0.8333 - val_loss: 0.4586 - val_accuracy: 0.8306\n",
      "Epoch 43/200\n",
      "45/45 [==============================] - 0s 4ms/step - loss: 0.4469 - accuracy: 0.8340 - val_loss: 0.4707 - val_accuracy: 0.8111\n",
      "Epoch 44/200\n",
      "45/45 [==============================] - 0s 4ms/step - loss: 0.4328 - accuracy: 0.8431 - val_loss: 0.4705 - val_accuracy: 0.8194\n",
      "Epoch 45/200\n",
      "45/45 [==============================] - 0s 5ms/step - loss: 0.4253 - accuracy: 0.8528 - val_loss: 0.4445 - val_accuracy: 0.8389\n",
      "Epoch 46/200\n",
      "45/45 [==============================] - 0s 4ms/step - loss: 0.4183 - accuracy: 0.8500 - val_loss: 0.4523 - val_accuracy: 0.8083\n",
      "Epoch 47/200\n",
      "45/45 [==============================] - 0s 4ms/step - loss: 0.4074 - accuracy: 0.8514 - val_loss: 0.4693 - val_accuracy: 0.8000\n",
      "Epoch 48/200\n",
      "45/45 [==============================] - 0s 4ms/step - loss: 0.4158 - accuracy: 0.8535 - val_loss: 0.4410 - val_accuracy: 0.8333\n",
      "Epoch 49/200\n",
      "45/45 [==============================] - 0s 5ms/step - loss: 0.4063 - accuracy: 0.8562 - val_loss: 0.4539 - val_accuracy: 0.8139\n",
      "Epoch 50/200\n",
      "45/45 [==============================] - 0s 4ms/step - loss: 0.3967 - accuracy: 0.8562 - val_loss: 0.4132 - val_accuracy: 0.8556\n",
      "Epoch 51/200\n",
      "45/45 [==============================] - 0s 4ms/step - loss: 0.3841 - accuracy: 0.8715 - val_loss: 0.4070 - val_accuracy: 0.8611\n",
      "Epoch 52/200\n",
      "45/45 [==============================] - 0s 4ms/step - loss: 0.3878 - accuracy: 0.8618 - val_loss: 0.4077 - val_accuracy: 0.8583\n",
      "Epoch 53/200\n",
      "45/45 [==============================] - 0s 4ms/step - loss: 0.3842 - accuracy: 0.8604 - val_loss: 0.4124 - val_accuracy: 0.8500\n",
      "Epoch 54/200\n",
      "45/45 [==============================] - 0s 4ms/step - loss: 0.3768 - accuracy: 0.8667 - val_loss: 0.4290 - val_accuracy: 0.8361\n",
      "Epoch 55/200\n",
      "45/45 [==============================] - 0s 5ms/step - loss: 0.3796 - accuracy: 0.8681 - val_loss: 0.4136 - val_accuracy: 0.8278\n",
      "Epoch 56/200\n",
      "45/45 [==============================] - 0s 4ms/step - loss: 0.3636 - accuracy: 0.8806 - val_loss: 0.4329 - val_accuracy: 0.8222\n",
      "Epoch 57/200\n",
      "45/45 [==============================] - 0s 5ms/step - loss: 0.3690 - accuracy: 0.8736 - val_loss: 0.3855 - val_accuracy: 0.8722\n",
      "Epoch 58/200\n",
      "45/45 [==============================] - 0s 4ms/step - loss: 0.3569 - accuracy: 0.8806 - val_loss: 0.3759 - val_accuracy: 0.8750\n",
      "Epoch 59/200\n",
      "45/45 [==============================] - 0s 4ms/step - loss: 0.3428 - accuracy: 0.8979 - val_loss: 0.4117 - val_accuracy: 0.8500\n",
      "Epoch 60/200\n",
      "45/45 [==============================] - 0s 5ms/step - loss: 0.3498 - accuracy: 0.8826 - val_loss: 0.3979 - val_accuracy: 0.8583\n",
      "Epoch 61/200\n",
      "45/45 [==============================] - 0s 4ms/step - loss: 0.3416 - accuracy: 0.8792 - val_loss: 0.3785 - val_accuracy: 0.8694\n",
      "Epoch 62/200\n",
      "45/45 [==============================] - 0s 4ms/step - loss: 0.3452 - accuracy: 0.8896 - val_loss: 0.4142 - val_accuracy: 0.8250\n",
      "Epoch 63/200\n",
      "45/45 [==============================] - 0s 4ms/step - loss: 0.3364 - accuracy: 0.8826 - val_loss: 0.3815 - val_accuracy: 0.8444\n",
      "Epoch 64/200\n",
      "45/45 [==============================] - 0s 4ms/step - loss: 0.3304 - accuracy: 0.8875 - val_loss: 0.3504 - val_accuracy: 0.8806\n",
      "Epoch 65/200\n",
      "45/45 [==============================] - 0s 4ms/step - loss: 0.3331 - accuracy: 0.8826 - val_loss: 0.3481 - val_accuracy: 0.8806\n",
      "Epoch 66/200\n",
      "45/45 [==============================] - 0s 4ms/step - loss: 0.3270 - accuracy: 0.8875 - val_loss: 0.3433 - val_accuracy: 0.8861\n",
      "Epoch 67/200\n",
      "45/45 [==============================] - 0s 4ms/step - loss: 0.3250 - accuracy: 0.8938 - val_loss: 0.3768 - val_accuracy: 0.8667\n",
      "Epoch 68/200\n",
      "45/45 [==============================] - 0s 4ms/step - loss: 0.3146 - accuracy: 0.8972 - val_loss: 0.3826 - val_accuracy: 0.8556\n",
      "Epoch 69/200\n",
      "45/45 [==============================] - 0s 4ms/step - loss: 0.3109 - accuracy: 0.8979 - val_loss: 0.3327 - val_accuracy: 0.8750\n",
      "Epoch 70/200\n",
      "45/45 [==============================] - 0s 4ms/step - loss: 0.3101 - accuracy: 0.9056 - val_loss: 0.3387 - val_accuracy: 0.8833\n",
      "Epoch 71/200\n",
      "45/45 [==============================] - 0s 4ms/step - loss: 0.3058 - accuracy: 0.9056 - val_loss: 0.3324 - val_accuracy: 0.8833\n",
      "Epoch 72/200\n",
      "45/45 [==============================] - 0s 4ms/step - loss: 0.3047 - accuracy: 0.9014 - val_loss: 0.3495 - val_accuracy: 0.8778\n",
      "Epoch 73/200\n",
      "45/45 [==============================] - 0s 4ms/step - loss: 0.3045 - accuracy: 0.8972 - val_loss: 0.3212 - val_accuracy: 0.8833\n",
      "Epoch 74/200\n",
      "45/45 [==============================] - 0s 4ms/step - loss: 0.2892 - accuracy: 0.9146 - val_loss: 0.3362 - val_accuracy: 0.8917\n",
      "Epoch 75/200\n",
      "45/45 [==============================] - 0s 4ms/step - loss: 0.2963 - accuracy: 0.8944 - val_loss: 0.3181 - val_accuracy: 0.8917\n",
      "Epoch 76/200\n",
      "45/45 [==============================] - 0s 4ms/step - loss: 0.2923 - accuracy: 0.9049 - val_loss: 0.3283 - val_accuracy: 0.8917\n",
      "Epoch 77/200\n",
      "45/45 [==============================] - 0s 4ms/step - loss: 0.2917 - accuracy: 0.9028 - val_loss: 0.3093 - val_accuracy: 0.8972\n",
      "Epoch 78/200\n",
      "45/45 [==============================] - 0s 4ms/step - loss: 0.2845 - accuracy: 0.9042 - val_loss: 0.3537 - val_accuracy: 0.8833\n",
      "Epoch 79/200\n",
      "45/45 [==============================] - 0s 4ms/step - loss: 0.2781 - accuracy: 0.9104 - val_loss: 0.3024 - val_accuracy: 0.9028\n",
      "Epoch 80/200\n",
      "45/45 [==============================] - 0s 4ms/step - loss: 0.2790 - accuracy: 0.9111 - val_loss: 0.3033 - val_accuracy: 0.8944\n",
      "Epoch 81/200\n",
      "45/45 [==============================] - 0s 4ms/step - loss: 0.2717 - accuracy: 0.9153 - val_loss: 0.3015 - val_accuracy: 0.9000\n",
      "Epoch 82/200\n",
      "45/45 [==============================] - 0s 4ms/step - loss: 0.2701 - accuracy: 0.9250 - val_loss: 0.2957 - val_accuracy: 0.8972\n",
      "Epoch 83/200\n",
      "45/45 [==============================] - 0s 4ms/step - loss: 0.2658 - accuracy: 0.9160 - val_loss: 0.2962 - val_accuracy: 0.9056\n",
      "Epoch 84/200\n",
      "45/45 [==============================] - 0s 4ms/step - loss: 0.2699 - accuracy: 0.9083 - val_loss: 0.3077 - val_accuracy: 0.8917\n",
      "Epoch 85/200\n",
      "45/45 [==============================] - 0s 4ms/step - loss: 0.2661 - accuracy: 0.9132 - val_loss: 0.3249 - val_accuracy: 0.8778\n",
      "Epoch 86/200\n",
      "45/45 [==============================] - 0s 4ms/step - loss: 0.2597 - accuracy: 0.9153 - val_loss: 0.3170 - val_accuracy: 0.8833\n",
      "Epoch 87/200\n",
      "45/45 [==============================] - 0s 4ms/step - loss: 0.2606 - accuracy: 0.9222 - val_loss: 0.3067 - val_accuracy: 0.9028\n",
      "Epoch 88/200\n",
      "45/45 [==============================] - 0s 4ms/step - loss: 0.2554 - accuracy: 0.9250 - val_loss: 0.2964 - val_accuracy: 0.8889\n",
      "Epoch 89/200\n",
      "45/45 [==============================] - 0s 4ms/step - loss: 0.2544 - accuracy: 0.9167 - val_loss: 0.3224 - val_accuracy: 0.9000\n",
      "Epoch 90/200\n",
      "45/45 [==============================] - 0s 4ms/step - loss: 0.2553 - accuracy: 0.9208 - val_loss: 0.3244 - val_accuracy: 0.8972\n",
      "Epoch 91/200\n",
      "45/45 [==============================] - 0s 4ms/step - loss: 0.2458 - accuracy: 0.9194 - val_loss: 0.2755 - val_accuracy: 0.9194\n",
      "Epoch 92/200\n",
      "45/45 [==============================] - 0s 4ms/step - loss: 0.2453 - accuracy: 0.9201 - val_loss: 0.3186 - val_accuracy: 0.8778\n",
      "Epoch 93/200\n",
      "45/45 [==============================] - 0s 4ms/step - loss: 0.2386 - accuracy: 0.9271 - val_loss: 0.3515 - val_accuracy: 0.8833\n",
      "Epoch 94/200\n",
      "45/45 [==============================] - 0s 4ms/step - loss: 0.2412 - accuracy: 0.9243 - val_loss: 0.2843 - val_accuracy: 0.9222\n",
      "Epoch 95/200\n",
      "45/45 [==============================] - 0s 4ms/step - loss: 0.2390 - accuracy: 0.9257 - val_loss: 0.2987 - val_accuracy: 0.8889\n",
      "Epoch 96/200\n",
      "45/45 [==============================] - 0s 4ms/step - loss: 0.2309 - accuracy: 0.9340 - val_loss: 0.3068 - val_accuracy: 0.8889\n",
      "Epoch 97/200\n",
      "45/45 [==============================] - 0s 4ms/step - loss: 0.2286 - accuracy: 0.9354 - val_loss: 0.2672 - val_accuracy: 0.9139\n",
      "Epoch 98/200\n",
      "45/45 [==============================] - 0s 5ms/step - loss: 0.2312 - accuracy: 0.9347 - val_loss: 0.3066 - val_accuracy: 0.9028\n",
      "Epoch 99/200\n",
      "45/45 [==============================] - 0s 4ms/step - loss: 0.2232 - accuracy: 0.9326 - val_loss: 0.3225 - val_accuracy: 0.8778\n",
      "Epoch 100/200\n",
      "45/45 [==============================] - 0s 4ms/step - loss: 0.2204 - accuracy: 0.9312 - val_loss: 0.2935 - val_accuracy: 0.8889\n",
      "Epoch 101/200\n",
      "45/45 [==============================] - 0s 4ms/step - loss: 0.2268 - accuracy: 0.9340 - val_loss: 0.2573 - val_accuracy: 0.9306\n",
      "Epoch 102/200\n",
      "45/45 [==============================] - 0s 4ms/step - loss: 0.2153 - accuracy: 0.9347 - val_loss: 0.2815 - val_accuracy: 0.8972\n",
      "Epoch 103/200\n",
      "45/45 [==============================] - 0s 4ms/step - loss: 0.2250 - accuracy: 0.9299 - val_loss: 0.2637 - val_accuracy: 0.9250\n",
      "Epoch 104/200\n",
      "45/45 [==============================] - 0s 4ms/step - loss: 0.2172 - accuracy: 0.9326 - val_loss: 0.2593 - val_accuracy: 0.9278\n",
      "Epoch 105/200\n",
      "45/45 [==============================] - 0s 4ms/step - loss: 0.2161 - accuracy: 0.9410 - val_loss: 0.3604 - val_accuracy: 0.8639\n",
      "Epoch 106/200\n",
      "45/45 [==============================] - 0s 4ms/step - loss: 0.2170 - accuracy: 0.9340 - val_loss: 0.2573 - val_accuracy: 0.9278\n",
      "Epoch 107/200\n",
      "45/45 [==============================] - 0s 5ms/step - loss: 0.2133 - accuracy: 0.9347 - val_loss: 0.2856 - val_accuracy: 0.8861\n",
      "Epoch 108/200\n",
      "45/45 [==============================] - 0s 4ms/step - loss: 0.2085 - accuracy: 0.9389 - val_loss: 0.2580 - val_accuracy: 0.9111\n",
      "Epoch 109/200\n",
      "45/45 [==============================] - 0s 5ms/step - loss: 0.2045 - accuracy: 0.9410 - val_loss: 0.2649 - val_accuracy: 0.8972\n",
      "Epoch 110/200\n",
      "45/45 [==============================] - 0s 4ms/step - loss: 0.2073 - accuracy: 0.9382 - val_loss: 0.2429 - val_accuracy: 0.9389\n",
      "Epoch 111/200\n",
      "45/45 [==============================] - 0s 4ms/step - loss: 0.2020 - accuracy: 0.9424 - val_loss: 0.2533 - val_accuracy: 0.9111\n",
      "Epoch 112/200\n",
      "45/45 [==============================] - 0s 4ms/step - loss: 0.2039 - accuracy: 0.9396 - val_loss: 0.2742 - val_accuracy: 0.8972\n",
      "Epoch 113/200\n",
      "45/45 [==============================] - 0s 5ms/step - loss: 0.1961 - accuracy: 0.9417 - val_loss: 0.2996 - val_accuracy: 0.8861\n",
      "Epoch 114/200\n",
      "45/45 [==============================] - 0s 4ms/step - loss: 0.1968 - accuracy: 0.9417 - val_loss: 0.2543 - val_accuracy: 0.9278\n",
      "Epoch 115/200\n",
      "45/45 [==============================] - 0s 4ms/step - loss: 0.1984 - accuracy: 0.9354 - val_loss: 0.2534 - val_accuracy: 0.9278\n",
      "Epoch 116/200\n",
      "45/45 [==============================] - 0s 4ms/step - loss: 0.1924 - accuracy: 0.9417 - val_loss: 0.2499 - val_accuracy: 0.9250\n",
      "Epoch 117/200\n",
      "45/45 [==============================] - 0s 4ms/step - loss: 0.1904 - accuracy: 0.9417 - val_loss: 0.2343 - val_accuracy: 0.9472\n",
      "Epoch 118/200\n",
      "45/45 [==============================] - 0s 4ms/step - loss: 0.1880 - accuracy: 0.9458 - val_loss: 0.2431 - val_accuracy: 0.9361\n",
      "Epoch 119/200\n",
      "45/45 [==============================] - 0s 4ms/step - loss: 0.1920 - accuracy: 0.9444 - val_loss: 0.2658 - val_accuracy: 0.9167\n",
      "Epoch 120/200\n",
      "45/45 [==============================] - 0s 4ms/step - loss: 0.1924 - accuracy: 0.9444 - val_loss: 0.2625 - val_accuracy: 0.9111\n",
      "Epoch 121/200\n",
      "45/45 [==============================] - 0s 4ms/step - loss: 0.1815 - accuracy: 0.9493 - val_loss: 0.2634 - val_accuracy: 0.9000\n",
      "Epoch 122/200\n",
      "45/45 [==============================] - 0s 4ms/step - loss: 0.1838 - accuracy: 0.9472 - val_loss: 0.2306 - val_accuracy: 0.9500\n",
      "Epoch 123/200\n",
      "45/45 [==============================] - 0s 5ms/step - loss: 0.1779 - accuracy: 0.9479 - val_loss: 0.2295 - val_accuracy: 0.9500\n",
      "Epoch 124/200\n",
      "45/45 [==============================] - 0s 4ms/step - loss: 0.1862 - accuracy: 0.9410 - val_loss: 0.2321 - val_accuracy: 0.9361\n",
      "Epoch 125/200\n",
      "45/45 [==============================] - 0s 4ms/step - loss: 0.1774 - accuracy: 0.9458 - val_loss: 0.2318 - val_accuracy: 0.9306\n",
      "Epoch 126/200\n",
      "45/45 [==============================] - 0s 4ms/step - loss: 0.1765 - accuracy: 0.9500 - val_loss: 0.2303 - val_accuracy: 0.9472\n",
      "Epoch 127/200\n",
      "45/45 [==============================] - 0s 4ms/step - loss: 0.1723 - accuracy: 0.9528 - val_loss: 0.2786 - val_accuracy: 0.9222\n",
      "Epoch 128/200\n",
      "45/45 [==============================] - 0s 4ms/step - loss: 0.1716 - accuracy: 0.9493 - val_loss: 0.2756 - val_accuracy: 0.8944\n",
      "Epoch 129/200\n",
      "45/45 [==============================] - 0s 4ms/step - loss: 0.1719 - accuracy: 0.9465 - val_loss: 0.2541 - val_accuracy: 0.9056\n",
      "Epoch 130/200\n",
      "45/45 [==============================] - 0s 4ms/step - loss: 0.1746 - accuracy: 0.9444 - val_loss: 0.2771 - val_accuracy: 0.9083\n",
      "Epoch 131/200\n",
      "45/45 [==============================] - 0s 4ms/step - loss: 0.1631 - accuracy: 0.9535 - val_loss: 0.2497 - val_accuracy: 0.9083\n",
      "Epoch 132/200\n",
      "45/45 [==============================] - 0s 4ms/step - loss: 0.1655 - accuracy: 0.9493 - val_loss: 0.2681 - val_accuracy: 0.8917\n",
      "Epoch 133/200\n",
      "45/45 [==============================] - 0s 4ms/step - loss: 0.1648 - accuracy: 0.9535 - val_loss: 0.2442 - val_accuracy: 0.9250\n"
     ]
    }
   ],
   "source": [
    "history = model.fit(x_train, y_train, epochs=n_train_epoch, validation_data=(x_val, y_val), callbacks=callbacks)"
   ]
  },
  {
   "cell_type": "code",
   "execution_count": 19,
   "id": "1399b2c8",
   "metadata": {},
   "outputs": [
    {
     "data": {
      "image/png": "[encoded data removed]",
      "text/plain": [
       "<Figure size 864x360 with 2 Axes>"
      ]
     },
     "metadata": {
      "needs_background": "light"
     },
     "output_type": "display_data"
    }
   ],
   "source": [
    "def history_dict(history_dict=history.history):\n",
    "    loss = history_dict['loss']\n",
    "    val_loss = history_dict['val_loss']\n",
    "\n",
    "    epochs = range(1, len(loss) + 1)\n",
    "    fig = plt.figure(figsize=(12, 5))\n",
    "\n",
    "    ax1 = fig.add_subplot(1, 2, 1)\n",
    "    ax1.plot(epochs, loss, 'b-', label='train_loss')\n",
    "    ax1.plot(epochs, val_loss, 'r-', label='val_loss')\n",
    "    ax1.set_title('Train and Validation Loss')\n",
    "    ax1.set_xlabel('Epochs')\n",
    "    ax1.set_ylabel('Loss')\n",
    "    ax1.grid()\n",
    "    ax1.legend()\n",
    "\n",
    "    accuracy = history_dict['accuracy']\n",
    "    val_accuracy = history_dict['val_accuracy']\n",
    "\n",
    "    ax2 = fig.add_subplot(1, 2, 2)\n",
    "    ax2.plot(epochs, accuracy, 'b-', label='train_accuracy')\n",
    "    ax2.plot(epochs, val_accuracy, 'r-', label='val_accuracy')\n",
    "    ax2.set_title('Train and Validation Accuracy')\n",
    "    ax2.set_xlabel('Epochs')\n",
    "    ax2.set_ylabel('Accuracy')\n",
    "    ax2.grid()\n",
    "    ax2.legend()\n",
    "\n",
    "    plt.show()\n",
    "    \n",
    "history_dict(history_dict=history.history)"
   ]
  },
  {
   "cell_type": "markdown",
   "id": "1b3ff2e4",
   "metadata": {},
   "source": [
    "### test_accuracy 측정"
   ]
  },
  {
   "cell_type": "code",
   "execution_count": 20,
   "id": "0b8f34a1",
   "metadata": {},
   "outputs": [
    {
     "name": "stdout",
     "output_type": "stream",
     "text": [
      "19/19 - 0s - loss: 1.7305 - accuracy: 0.4233\n",
      "test_loss: 1.7305183410644531 \n",
      "test_accuracy: 0.4233333468437195\n"
     ]
    }
   ],
   "source": [
    "test_model = keras.models.load_model('convnet_from_scratch.keras')\n",
    "test_loss, test_accuracy = test_model.evaluate(x_test_norm, y_test, verbose=2)\n",
    "print(f\"test_loss: {test_loss} \")\n",
    "print(f\"test_accuracy: {test_accuracy}\")"
   ]
  },
  {
   "cell_type": "markdown",
   "id": "14c35639",
   "metadata": {},
   "source": [
    "- test_accuracy: 0.550000011920929\n",
    "- test_accuracy: 0.503333330154419\n",
    "- test_accuracy: 0.5\n",
    "- test_accuracy: 0.5366666913032532\n",
    "- test_accuracy: 0.4233333468437195"
   ]
  },
  {
   "cell_type": "markdown",
   "id": "ef8a47ee",
   "metadata": {},
   "source": [
    "## Data Augmentation"
   ]
  },
  {
   "cell_type": "code",
   "execution_count": 21,
   "id": "6c65d477",
   "metadata": {},
   "outputs": [],
   "source": [
    "data_augmentation = keras.Sequential([\n",
    "    layers.RandomFlip('horizontal'),\n",
    "    layers.RandomContrast(0.5),\n",
    "    layers.RandomRotation(0.5),\n",
    "    layers.RandomZoom(0.5)\n",
    "])"
   ]
  },
  {
   "cell_type": "markdown",
   "id": "ca157d30",
   "metadata": {},
   "source": [
    "__참고문헌__\n",
    "  \n",
    "https://machinelearningmastery.com/image-augmentation-with-keras-preprocessing-layers-and-tf-image/"
   ]
  },
  {
   "cell_type": "code",
   "execution_count": 22,
   "id": "c1759893",
   "metadata": {
    "scrolled": false
   },
   "outputs": [
    {
     "name": "stdout",
     "output_type": "stream",
     "text": [
      "Model: \"sequential_3\"\n",
      "_________________________________________________________________\n",
      "Layer (type)                 Output Shape              Param #   \n",
      "=================================================================\n",
      "sequential_2 (Sequential)    (None, 28, 28, 3)         0         \n",
      "_________________________________________________________________\n",
      "conv2d_5 (Conv2D)            (None, 26, 26, 32)        896       \n",
      "_________________________________________________________________\n",
      "max_pooling2d_5 (MaxPooling2 (None, 13, 13, 32)        0         \n",
      "_________________________________________________________________\n",
      "conv2d_6 (Conv2D)            (None, 11, 11, 64)        18496     \n",
      "_________________________________________________________________\n",
      "max_pooling2d_6 (MaxPooling2 (None, 5, 5, 64)          0         \n",
      "_________________________________________________________________\n",
      "conv2d_7 (Conv2D)            (None, 3, 3, 128)         73856     \n",
      "_________________________________________________________________\n",
      "max_pooling2d_7 (MaxPooling2 (None, 1, 1, 128)         0         \n",
      "_________________________________________________________________\n",
      "flatten_2 (Flatten)          (None, 128)               0         \n",
      "_________________________________________________________________\n",
      "dense_3 (Dense)              (None, 3)                 387       \n",
      "=================================================================\n",
      "Total params: 93,635\n",
      "Trainable params: 93,635\n",
      "Non-trainable params: 0\n",
      "_________________________________________________________________\n"
     ]
    }
   ],
   "source": [
    "model1 = models.Sequential([\n",
    "    \n",
    "    Input(shape=(28,28,3)),\n",
    "    \n",
    "    data_augmentation,\n",
    "    \n",
    "    layers.Conv2D(n_channel_1, (3,3), activation='relu'),\n",
    "    layers.MaxPool2D(2,2),\n",
    "    \n",
    "    layers.Conv2D(n_channel_2, (3,3), activation='relu'),\n",
    "    layers.MaxPool2D(2,2),\n",
    "    \n",
    "    layers.Conv2D(n_channel_3, (3,3), activation='relu'),\n",
    "    layers.MaxPool2D(2,2),\n",
    "    \n",
    "    layers.Flatten(),\n",
    "    \n",
    "    layers.Dense(3, activation='softmax')\n",
    "])\n",
    "\n",
    "model1.summary()"
   ]
  },
  {
   "cell_type": "code",
   "execution_count": 23,
   "id": "34fd03ec",
   "metadata": {},
   "outputs": [],
   "source": [
    "optimize=tf.keras.optimizers.RMSprop(learning_rate=0.0001)\n",
    "model1.compile(optimizer=optimize,\n",
    "             loss='sparse_categorical_crossentropy',\n",
    "             metrics=['accuracy'])"
   ]
  },
  {
   "cell_type": "code",
   "execution_count": 24,
   "id": "026ebbeb",
   "metadata": {},
   "outputs": [],
   "source": [
    "callbacks1 = [\n",
    "    keras.callbacks.EarlyStopping(monitor='val_loss',\n",
    "                                           patience=5),\n",
    "    keras.callbacks.ModelCheckpoint(\n",
    "    filepath='convnet_from_scratch1.keras',\n",
    "    save_best_only=True,\n",
    "    monitor='val_loss')\n",
    "]"
   ]
  },
  {
   "cell_type": "code",
   "execution_count": 25,
   "id": "eee46f7e",
   "metadata": {},
   "outputs": [
    {
     "name": "stdout",
     "output_type": "stream",
     "text": [
      "Epoch 1/200\n",
      "45/45 [==============================] - 1s 8ms/step - loss: 1.0927 - accuracy: 0.3639 - val_loss: 1.0878 - val_accuracy: 0.4694\n",
      "Epoch 2/200\n",
      "45/45 [==============================] - 0s 6ms/step - loss: 1.0868 - accuracy: 0.3951 - val_loss: 1.0805 - val_accuracy: 0.3972\n",
      "Epoch 3/200\n",
      "45/45 [==============================] - 0s 6ms/step - loss: 1.0787 - accuracy: 0.4285 - val_loss: 1.0765 - val_accuracy: 0.3917\n",
      "Epoch 4/200\n",
      "45/45 [==============================] - 0s 6ms/step - loss: 1.0734 - accuracy: 0.4250 - val_loss: 1.0674 - val_accuracy: 0.5278\n",
      "Epoch 5/200\n",
      "45/45 [==============================] - 0s 6ms/step - loss: 1.0660 - accuracy: 0.4313 - val_loss: 1.0584 - val_accuracy: 0.4972\n",
      "Epoch 6/200\n",
      "45/45 [==============================] - 0s 6ms/step - loss: 1.0600 - accuracy: 0.4424 - val_loss: 1.0472 - val_accuracy: 0.4694\n",
      "Epoch 7/200\n",
      "45/45 [==============================] - 0s 6ms/step - loss: 1.0495 - accuracy: 0.4639 - val_loss: 1.0467 - val_accuracy: 0.4722\n",
      "Epoch 8/200\n",
      "45/45 [==============================] - 0s 6ms/step - loss: 1.0456 - accuracy: 0.4597 - val_loss: 1.0443 - val_accuracy: 0.3889\n",
      "Epoch 9/200\n",
      "45/45 [==============================] - 0s 6ms/step - loss: 1.0310 - accuracy: 0.4722 - val_loss: 1.0272 - val_accuracy: 0.4917\n",
      "Epoch 10/200\n",
      "45/45 [==============================] - 0s 6ms/step - loss: 1.0238 - accuracy: 0.4833 - val_loss: 1.0130 - val_accuracy: 0.5333\n",
      "Epoch 11/200\n",
      "45/45 [==============================] - 0s 6ms/step - loss: 1.0256 - accuracy: 0.4826 - val_loss: 1.0092 - val_accuracy: 0.5444\n",
      "Epoch 12/200\n",
      "45/45 [==============================] - 0s 6ms/step - loss: 1.0142 - accuracy: 0.5000 - val_loss: 0.9993 - val_accuracy: 0.5333\n",
      "Epoch 13/200\n",
      "45/45 [==============================] - 0s 5ms/step - loss: 1.0126 - accuracy: 0.4972 - val_loss: 1.0046 - val_accuracy: 0.5167\n",
      "Epoch 14/200\n",
      "45/45 [==============================] - 0s 5ms/step - loss: 1.0051 - accuracy: 0.4896 - val_loss: 0.9855 - val_accuracy: 0.5333\n",
      "Epoch 15/200\n",
      "45/45 [==============================] - 0s 6ms/step - loss: 1.0043 - accuracy: 0.4931 - val_loss: 0.9805 - val_accuracy: 0.5528\n",
      "Epoch 16/200\n",
      "45/45 [==============================] - 0s 6ms/step - loss: 0.9898 - accuracy: 0.5250 - val_loss: 0.9840 - val_accuracy: 0.5472\n",
      "Epoch 17/200\n",
      "45/45 [==============================] - 0s 5ms/step - loss: 0.9929 - accuracy: 0.5028 - val_loss: 0.9750 - val_accuracy: 0.5556\n",
      "Epoch 18/200\n",
      "45/45 [==============================] - 0s 5ms/step - loss: 0.9798 - accuracy: 0.5132 - val_loss: 0.9841 - val_accuracy: 0.5472\n",
      "Epoch 19/200\n",
      "45/45 [==============================] - 0s 6ms/step - loss: 0.9841 - accuracy: 0.5181 - val_loss: 0.9791 - val_accuracy: 0.5583\n",
      "Epoch 20/200\n",
      "45/45 [==============================] - 0s 5ms/step - loss: 0.9787 - accuracy: 0.5292 - val_loss: 0.9652 - val_accuracy: 0.6056\n",
      "Epoch 21/200\n",
      "45/45 [==============================] - 0s 5ms/step - loss: 0.9889 - accuracy: 0.5083 - val_loss: 0.9502 - val_accuracy: 0.5750\n",
      "Epoch 22/200\n",
      "45/45 [==============================] - 0s 6ms/step - loss: 0.9741 - accuracy: 0.5188 - val_loss: 0.9808 - val_accuracy: 0.4139\n",
      "Epoch 23/200\n",
      "45/45 [==============================] - 0s 6ms/step - loss: 0.9696 - accuracy: 0.5306 - val_loss: 0.9492 - val_accuracy: 0.5500\n",
      "Epoch 24/200\n",
      "45/45 [==============================] - 0s 6ms/step - loss: 0.9760 - accuracy: 0.5174 - val_loss: 0.9322 - val_accuracy: 0.5694\n",
      "Epoch 25/200\n",
      "45/45 [==============================] - 0s 6ms/step - loss: 0.9609 - accuracy: 0.5465 - val_loss: 0.9597 - val_accuracy: 0.5444\n",
      "Epoch 26/200\n",
      "45/45 [==============================] - 0s 6ms/step - loss: 0.9460 - accuracy: 0.5431 - val_loss: 0.9187 - val_accuracy: 0.5639\n",
      "Epoch 27/200\n",
      "45/45 [==============================] - 0s 5ms/step - loss: 0.9496 - accuracy: 0.5424 - val_loss: 0.9256 - val_accuracy: 0.5611\n",
      "Epoch 28/200\n",
      "45/45 [==============================] - 0s 6ms/step - loss: 0.9437 - accuracy: 0.5458 - val_loss: 0.9700 - val_accuracy: 0.5500\n",
      "Epoch 29/200\n",
      "45/45 [==============================] - 0s 6ms/step - loss: 0.9479 - accuracy: 0.5299 - val_loss: 0.9390 - val_accuracy: 0.5556\n",
      "Epoch 30/200\n",
      "45/45 [==============================] - 0s 6ms/step - loss: 0.9392 - accuracy: 0.5382 - val_loss: 0.8997 - val_accuracy: 0.5750\n",
      "Epoch 31/200\n",
      "45/45 [==============================] - 0s 6ms/step - loss: 0.9254 - accuracy: 0.5653 - val_loss: 0.9018 - val_accuracy: 0.5806\n",
      "Epoch 32/200\n",
      "45/45 [==============================] - 0s 5ms/step - loss: 0.9225 - accuracy: 0.5437 - val_loss: 0.8859 - val_accuracy: 0.5833\n",
      "Epoch 33/200\n",
      "45/45 [==============================] - 0s 6ms/step - loss: 0.9433 - accuracy: 0.5444 - val_loss: 0.8918 - val_accuracy: 0.5806\n",
      "Epoch 34/200\n",
      "45/45 [==============================] - 0s 5ms/step - loss: 0.9142 - accuracy: 0.5771 - val_loss: 0.8920 - val_accuracy: 0.5861\n",
      "Epoch 35/200\n",
      "45/45 [==============================] - 0s 6ms/step - loss: 0.9126 - accuracy: 0.5715 - val_loss: 0.9313 - val_accuracy: 0.6167\n",
      "Epoch 36/200\n",
      "45/45 [==============================] - 0s 5ms/step - loss: 0.9119 - accuracy: 0.5542 - val_loss: 0.9067 - val_accuracy: 0.5556\n",
      "Epoch 37/200\n",
      "45/45 [==============================] - 0s 5ms/step - loss: 0.9090 - accuracy: 0.5778 - val_loss: 0.8726 - val_accuracy: 0.5750\n",
      "Epoch 38/200\n",
      "45/45 [==============================] - 0s 6ms/step - loss: 0.8973 - accuracy: 0.5604 - val_loss: 0.8706 - val_accuracy: 0.6056\n",
      "Epoch 39/200\n",
      "45/45 [==============================] - 0s 6ms/step - loss: 0.8983 - accuracy: 0.5688 - val_loss: 0.8798 - val_accuracy: 0.5667\n",
      "Epoch 40/200\n",
      "45/45 [==============================] - 0s 5ms/step - loss: 0.8967 - accuracy: 0.5597 - val_loss: 0.8929 - val_accuracy: 0.5861\n",
      "Epoch 41/200\n",
      "45/45 [==============================] - 0s 6ms/step - loss: 0.8997 - accuracy: 0.5674 - val_loss: 0.8835 - val_accuracy: 0.5722\n",
      "Epoch 42/200\n",
      "45/45 [==============================] - 0s 6ms/step - loss: 0.8949 - accuracy: 0.5694 - val_loss: 0.8651 - val_accuracy: 0.5778\n",
      "Epoch 43/200\n",
      "45/45 [==============================] - 0s 6ms/step - loss: 0.9022 - accuracy: 0.5701 - val_loss: 0.8463 - val_accuracy: 0.6000\n",
      "Epoch 44/200\n",
      "45/45 [==============================] - 0s 5ms/step - loss: 0.8802 - accuracy: 0.5854 - val_loss: 0.8376 - val_accuracy: 0.5972\n",
      "Epoch 45/200\n",
      "45/45 [==============================] - 0s 6ms/step - loss: 0.8795 - accuracy: 0.5819 - val_loss: 0.8619 - val_accuracy: 0.6083\n",
      "Epoch 46/200\n",
      "45/45 [==============================] - 0s 5ms/step - loss: 0.8932 - accuracy: 0.5556 - val_loss: 0.8360 - val_accuracy: 0.6028\n",
      "Epoch 47/200\n",
      "45/45 [==============================] - 0s 5ms/step - loss: 0.8587 - accuracy: 0.6076 - val_loss: 0.8338 - val_accuracy: 0.6389\n",
      "Epoch 48/200\n",
      "45/45 [==============================] - 0s 6ms/step - loss: 0.8625 - accuracy: 0.5861 - val_loss: 0.8163 - val_accuracy: 0.5944\n",
      "Epoch 49/200\n",
      "45/45 [==============================] - 0s 6ms/step - loss: 0.8682 - accuracy: 0.5896 - val_loss: 0.8168 - val_accuracy: 0.5972\n",
      "Epoch 50/200\n",
      "45/45 [==============================] - 0s 6ms/step - loss: 0.8526 - accuracy: 0.5944 - val_loss: 0.8120 - val_accuracy: 0.5944\n",
      "Epoch 51/200\n",
      "45/45 [==============================] - 0s 5ms/step - loss: 0.8595 - accuracy: 0.5965 - val_loss: 0.8732 - val_accuracy: 0.5611\n",
      "Epoch 52/200\n",
      "45/45 [==============================] - 0s 6ms/step - loss: 0.8422 - accuracy: 0.6069 - val_loss: 0.8458 - val_accuracy: 0.5889\n",
      "Epoch 53/200\n",
      "45/45 [==============================] - 0s 6ms/step - loss: 0.8645 - accuracy: 0.5889 - val_loss: 0.8270 - val_accuracy: 0.6222\n",
      "Epoch 54/200\n",
      "45/45 [==============================] - 0s 6ms/step - loss: 0.8387 - accuracy: 0.6160 - val_loss: 0.7939 - val_accuracy: 0.6000\n",
      "Epoch 55/200\n",
      "45/45 [==============================] - 0s 6ms/step - loss: 0.8425 - accuracy: 0.6097 - val_loss: 0.8365 - val_accuracy: 0.6306\n",
      "Epoch 56/200\n",
      "45/45 [==============================] - 0s 6ms/step - loss: 0.8628 - accuracy: 0.5792 - val_loss: 0.8186 - val_accuracy: 0.6028\n",
      "Epoch 57/200\n",
      "45/45 [==============================] - 0s 6ms/step - loss: 0.8506 - accuracy: 0.5979 - val_loss: 0.8192 - val_accuracy: 0.5917\n",
      "Epoch 58/200\n",
      "45/45 [==============================] - 0s 6ms/step - loss: 0.8178 - accuracy: 0.6250 - val_loss: 0.7867 - val_accuracy: 0.6056\n",
      "Epoch 59/200\n",
      "45/45 [==============================] - 0s 6ms/step - loss: 0.8242 - accuracy: 0.6146 - val_loss: 0.8081 - val_accuracy: 0.6222\n",
      "Epoch 60/200\n",
      "45/45 [==============================] - 0s 6ms/step - loss: 0.8155 - accuracy: 0.6049 - val_loss: 0.7911 - val_accuracy: 0.5917\n",
      "Epoch 61/200\n",
      "45/45 [==============================] - 0s 6ms/step - loss: 0.8310 - accuracy: 0.5972 - val_loss: 0.7932 - val_accuracy: 0.6056\n",
      "Epoch 62/200\n",
      "45/45 [==============================] - 0s 6ms/step - loss: 0.8145 - accuracy: 0.6215 - val_loss: 0.7839 - val_accuracy: 0.6417\n",
      "Epoch 63/200\n",
      "45/45 [==============================] - 0s 6ms/step - loss: 0.8195 - accuracy: 0.6167 - val_loss: 0.8038 - val_accuracy: 0.6028\n",
      "Epoch 64/200\n",
      "45/45 [==============================] - 0s 6ms/step - loss: 0.8168 - accuracy: 0.6125 - val_loss: 0.7691 - val_accuracy: 0.6194\n",
      "Epoch 65/200\n",
      "45/45 [==============================] - 0s 6ms/step - loss: 0.8022 - accuracy: 0.6417 - val_loss: 0.8133 - val_accuracy: 0.5944\n",
      "Epoch 66/200\n",
      "45/45 [==============================] - 0s 6ms/step - loss: 0.8033 - accuracy: 0.6264 - val_loss: 0.8106 - val_accuracy: 0.5833\n",
      "Epoch 67/200\n",
      "45/45 [==============================] - 0s 6ms/step - loss: 0.8169 - accuracy: 0.6187 - val_loss: 0.7663 - val_accuracy: 0.6861\n",
      "Epoch 68/200\n",
      "45/45 [==============================] - 0s 6ms/step - loss: 0.7959 - accuracy: 0.6313 - val_loss: 0.7669 - val_accuracy: 0.6028\n",
      "Epoch 69/200\n",
      "45/45 [==============================] - 0s 6ms/step - loss: 0.8166 - accuracy: 0.6118 - val_loss: 0.7871 - val_accuracy: 0.6056\n",
      "Epoch 70/200\n",
      "45/45 [==============================] - 0s 6ms/step - loss: 0.8096 - accuracy: 0.6229 - val_loss: 0.7980 - val_accuracy: 0.6333\n",
      "Epoch 71/200\n",
      "45/45 [==============================] - 0s 6ms/step - loss: 0.7895 - accuracy: 0.6326 - val_loss: 0.8242 - val_accuracy: 0.5694\n",
      "Epoch 72/200\n",
      "45/45 [==============================] - 0s 6ms/step - loss: 0.7818 - accuracy: 0.6486 - val_loss: 0.7728 - val_accuracy: 0.6444\n"
     ]
    }
   ],
   "source": [
    "history1 = model1.fit(x_train, y_train, epochs=n_train_epoch, validation_data=(x_val, y_val), callbacks=callbacks1)"
   ]
  },
  {
   "cell_type": "code",
   "execution_count": 26,
   "id": "19d9b2ce",
   "metadata": {},
   "outputs": [
    {
     "data": {
      "image/png": "[encoded data removed]",
      "text/plain": [
       "<Figure size 864x360 with 2 Axes>"
      ]
     },
     "metadata": {
      "needs_background": "light"
     },
     "output_type": "display_data"
    }
   ],
   "source": [
    "history_dict(history_dict=history1.history)"
   ]
  },
  {
   "cell_type": "markdown",
   "id": "ec500efd",
   "metadata": {},
   "source": [
    "### test_accuracy 측정"
   ]
  },
  {
   "cell_type": "code",
   "execution_count": 27,
   "id": "94146450",
   "metadata": {},
   "outputs": [
    {
     "name": "stdout",
     "output_type": "stream",
     "text": [
      "19/19 - 0s - loss: 0.9463 - accuracy: 0.5633\n",
      "test_loss: 0.9463499188423157 \n",
      "test_accuracy: 0.5633333325386047\n"
     ]
    }
   ],
   "source": [
    "test_model1 = keras.models.load_model('convnet_from_scratch1.keras')\n",
    "test_loss, test_accuracy = test_model1.evaluate(x_test_norm, y_test, verbose=2)\n",
    "print(f\"test_loss: {test_loss} \")\n",
    "print(f\"test_accuracy: {test_accuracy}\")"
   ]
  },
  {
   "cell_type": "markdown",
   "id": "878f32a9",
   "metadata": {},
   "source": [
    "- test_accuracy: 0.6483333110809326\n",
    "- test_accuracy: 0.5299999713897705\n",
    "- test_accuracy: 0.6483333110809326\n",
    "- test_accuracy: 0.528333306312561\n",
    "- test_accuracy: 0.5633333325386047"
   ]
  },
  {
   "cell_type": "markdown",
   "id": "da5c490f",
   "metadata": {},
   "source": [
    "## Dropout만 추가"
   ]
  },
  {
   "cell_type": "code",
   "execution_count": 28,
   "id": "676e489f",
   "metadata": {
    "scrolled": false
   },
   "outputs": [
    {
     "name": "stdout",
     "output_type": "stream",
     "text": [
      "Model: \"sequential_4\"\n",
      "_________________________________________________________________\n",
      "Layer (type)                 Output Shape              Param #   \n",
      "=================================================================\n",
      "conv2d_8 (Conv2D)            (None, 26, 26, 32)        896       \n",
      "_________________________________________________________________\n",
      "max_pooling2d_8 (MaxPooling2 (None, 13, 13, 32)        0         \n",
      "_________________________________________________________________\n",
      "conv2d_9 (Conv2D)            (None, 11, 11, 64)        18496     \n",
      "_________________________________________________________________\n",
      "max_pooling2d_9 (MaxPooling2 (None, 5, 5, 64)          0         \n",
      "_________________________________________________________________\n",
      "conv2d_10 (Conv2D)           (None, 3, 3, 128)         73856     \n",
      "_________________________________________________________________\n",
      "max_pooling2d_10 (MaxPooling (None, 1, 1, 128)         0         \n",
      "_________________________________________________________________\n",
      "flatten_3 (Flatten)          (None, 128)               0         \n",
      "_________________________________________________________________\n",
      "dropout (Dropout)            (None, 128)               0         \n",
      "_________________________________________________________________\n",
      "dense_4 (Dense)              (None, 3)                 387       \n",
      "=================================================================\n",
      "Total params: 93,635\n",
      "Trainable params: 93,635\n",
      "Non-trainable params: 0\n",
      "_________________________________________________________________\n"
     ]
    }
   ],
   "source": [
    "model2 = models.Sequential([\n",
    "    \n",
    "    Input(shape=(28,28,3)),\n",
    "    \n",
    "    layers.Conv2D(n_channel_1, (3,3), activation='relu'),\n",
    "    layers.MaxPool2D(2,2),\n",
    "    \n",
    "    layers.Conv2D(n_channel_2, (3,3), activation='relu'),\n",
    "    layers.MaxPool2D(2,2),\n",
    "    \n",
    "    layers.Conv2D(n_channel_3, (3,3), activation='relu'),\n",
    "    layers.MaxPool2D(2,2),\n",
    "    \n",
    "    layers.Flatten(),\n",
    "    layers.Dropout(0.5),\n",
    "    \n",
    "    layers.Dense(3, activation='softmax')\n",
    "])\n",
    "\n",
    "model2.summary()"
   ]
  },
  {
   "cell_type": "code",
   "execution_count": 29,
   "id": "a4ef292a",
   "metadata": {},
   "outputs": [],
   "source": [
    "optimize=tf.keras.optimizers.RMSprop(learning_rate=0.0001)\n",
    "model2.compile(optimizer=optimize,\n",
    "             loss='sparse_categorical_crossentropy',\n",
    "             metrics=['accuracy'])"
   ]
  },
  {
   "cell_type": "code",
   "execution_count": 30,
   "id": "6ad7f196",
   "metadata": {},
   "outputs": [],
   "source": [
    "callbacks2 = [\n",
    "    keras.callbacks.EarlyStopping(monitor='val_loss',\n",
    "                                           patience=5),\n",
    "    keras.callbacks.ModelCheckpoint(\n",
    "    filepath='convnet_from_scratch2.keras',\n",
    "    save_best_only=True,\n",
    "    monitor='val_loss')\n",
    "]"
   ]
  },
  {
   "cell_type": "code",
   "execution_count": 31,
   "id": "9ea86da7",
   "metadata": {},
   "outputs": [
    {
     "name": "stdout",
     "output_type": "stream",
     "text": [
      "Epoch 1/200\n",
      "45/45 [==============================] - 1s 7ms/step - loss: 1.0931 - accuracy: 0.3812 - val_loss: 1.0816 - val_accuracy: 0.4444\n",
      "Epoch 2/200\n",
      "45/45 [==============================] - 0s 5ms/step - loss: 1.0749 - accuracy: 0.4368 - val_loss: 1.0687 - val_accuracy: 0.5167\n",
      "Epoch 3/200\n",
      "45/45 [==============================] - 0s 5ms/step - loss: 1.0633 - accuracy: 0.4618 - val_loss: 1.0555 - val_accuracy: 0.6333\n",
      "Epoch 4/200\n",
      "45/45 [==============================] - 0s 4ms/step - loss: 1.0482 - accuracy: 0.5063 - val_loss: 1.0427 - val_accuracy: 0.4889\n",
      "Epoch 5/200\n",
      "45/45 [==============================] - 0s 4ms/step - loss: 1.0255 - accuracy: 0.5556 - val_loss: 1.0220 - val_accuracy: 0.5972\n",
      "Epoch 6/200\n",
      "45/45 [==============================] - 0s 5ms/step - loss: 1.0110 - accuracy: 0.5493 - val_loss: 1.0050 - val_accuracy: 0.5917\n",
      "Epoch 7/200\n",
      "45/45 [==============================] - 0s 4ms/step - loss: 0.9883 - accuracy: 0.5861 - val_loss: 0.9878 - val_accuracy: 0.5444\n",
      "Epoch 8/200\n",
      "45/45 [==============================] - 0s 4ms/step - loss: 0.9629 - accuracy: 0.5903 - val_loss: 0.9704 - val_accuracy: 0.5444\n",
      "Epoch 9/200\n",
      "45/45 [==============================] - 0s 4ms/step - loss: 0.9453 - accuracy: 0.6076 - val_loss: 0.9477 - val_accuracy: 0.5444\n",
      "Epoch 10/200\n",
      "45/45 [==============================] - 0s 4ms/step - loss: 0.9229 - accuracy: 0.6118 - val_loss: 0.9355 - val_accuracy: 0.5750\n",
      "Epoch 11/200\n",
      "45/45 [==============================] - 0s 4ms/step - loss: 0.8985 - accuracy: 0.6229 - val_loss: 0.9059 - val_accuracy: 0.6250\n",
      "Epoch 12/200\n",
      "45/45 [==============================] - 0s 4ms/step - loss: 0.8774 - accuracy: 0.6229 - val_loss: 0.8923 - val_accuracy: 0.5861\n",
      "Epoch 13/200\n",
      "45/45 [==============================] - 0s 4ms/step - loss: 0.8716 - accuracy: 0.6299 - val_loss: 0.8661 - val_accuracy: 0.6389\n",
      "Epoch 14/200\n",
      "45/45 [==============================] - 0s 4ms/step - loss: 0.8535 - accuracy: 0.6368 - val_loss: 0.8504 - val_accuracy: 0.6861\n",
      "Epoch 15/200\n",
      "45/45 [==============================] - 0s 4ms/step - loss: 0.8319 - accuracy: 0.6507 - val_loss: 0.8320 - val_accuracy: 0.6472\n",
      "Epoch 16/200\n",
      "45/45 [==============================] - 0s 4ms/step - loss: 0.8159 - accuracy: 0.6687 - val_loss: 0.8207 - val_accuracy: 0.6111\n",
      "Epoch 17/200\n",
      "45/45 [==============================] - 0s 4ms/step - loss: 0.8042 - accuracy: 0.6611 - val_loss: 0.8026 - val_accuracy: 0.6639\n",
      "Epoch 18/200\n",
      "45/45 [==============================] - 0s 4ms/step - loss: 0.7829 - accuracy: 0.6674 - val_loss: 0.7894 - val_accuracy: 0.6667\n",
      "Epoch 19/200\n",
      "45/45 [==============================] - 0s 4ms/step - loss: 0.7764 - accuracy: 0.6847 - val_loss: 0.7720 - val_accuracy: 0.6750\n",
      "Epoch 20/200\n",
      "45/45 [==============================] - 0s 4ms/step - loss: 0.7639 - accuracy: 0.6771 - val_loss: 0.7675 - val_accuracy: 0.6611\n",
      "Epoch 21/200\n",
      "45/45 [==============================] - 0s 4ms/step - loss: 0.7509 - accuracy: 0.6882 - val_loss: 0.7441 - val_accuracy: 0.6806\n",
      "Epoch 22/200\n",
      "45/45 [==============================] - 0s 4ms/step - loss: 0.7382 - accuracy: 0.6979 - val_loss: 0.7298 - val_accuracy: 0.6806\n",
      "Epoch 23/200\n",
      "45/45 [==============================] - 0s 4ms/step - loss: 0.7256 - accuracy: 0.7028 - val_loss: 0.7296 - val_accuracy: 0.7028\n",
      "Epoch 24/200\n",
      "45/45 [==============================] - 0s 4ms/step - loss: 0.7088 - accuracy: 0.7257 - val_loss: 0.7057 - val_accuracy: 0.6917\n",
      "Epoch 25/200\n",
      "45/45 [==============================] - 0s 5ms/step - loss: 0.6951 - accuracy: 0.7181 - val_loss: 0.6923 - val_accuracy: 0.7167\n",
      "Epoch 26/200\n",
      "45/45 [==============================] - 0s 5ms/step - loss: 0.6831 - accuracy: 0.7153 - val_loss: 0.6889 - val_accuracy: 0.7111\n",
      "Epoch 27/200\n",
      "45/45 [==============================] - 0s 4ms/step - loss: 0.6904 - accuracy: 0.7243 - val_loss: 0.6737 - val_accuracy: 0.7222\n",
      "Epoch 28/200\n",
      "45/45 [==============================] - 0s 4ms/step - loss: 0.6795 - accuracy: 0.7250 - val_loss: 0.6759 - val_accuracy: 0.7000\n",
      "Epoch 29/200\n",
      "45/45 [==============================] - 0s 4ms/step - loss: 0.6529 - accuracy: 0.7479 - val_loss: 0.6576 - val_accuracy: 0.7222\n",
      "Epoch 30/200\n",
      "45/45 [==============================] - 0s 4ms/step - loss: 0.6483 - accuracy: 0.7451 - val_loss: 0.6608 - val_accuracy: 0.7167\n",
      "Epoch 31/200\n",
      "45/45 [==============================] - 0s 4ms/step - loss: 0.6266 - accuracy: 0.7556 - val_loss: 0.6254 - val_accuracy: 0.7361\n",
      "Epoch 32/200\n",
      "45/45 [==============================] - 0s 4ms/step - loss: 0.6246 - accuracy: 0.7604 - val_loss: 0.6196 - val_accuracy: 0.7444\n",
      "Epoch 33/200\n",
      "45/45 [==============================] - 0s 4ms/step - loss: 0.6131 - accuracy: 0.7576 - val_loss: 0.6327 - val_accuracy: 0.7333\n",
      "Epoch 34/200\n",
      "45/45 [==============================] - 0s 4ms/step - loss: 0.6199 - accuracy: 0.7590 - val_loss: 0.5968 - val_accuracy: 0.7639\n",
      "Epoch 35/200\n",
      "45/45 [==============================] - 0s 4ms/step - loss: 0.6092 - accuracy: 0.7681 - val_loss: 0.5929 - val_accuracy: 0.7389\n",
      "Epoch 36/200\n",
      "45/45 [==============================] - 0s 5ms/step - loss: 0.5862 - accuracy: 0.7868 - val_loss: 0.5842 - val_accuracy: 0.7694\n",
      "Epoch 37/200\n",
      "45/45 [==============================] - 0s 5ms/step - loss: 0.5853 - accuracy: 0.7736 - val_loss: 0.5899 - val_accuracy: 0.7472\n",
      "Epoch 38/200\n",
      "45/45 [==============================] - 0s 5ms/step - loss: 0.5766 - accuracy: 0.7840 - val_loss: 0.5761 - val_accuracy: 0.7500\n",
      "Epoch 39/200\n",
      "45/45 [==============================] - 0s 4ms/step - loss: 0.5557 - accuracy: 0.7924 - val_loss: 0.5536 - val_accuracy: 0.7667\n",
      "Epoch 40/200\n",
      "45/45 [==============================] - 0s 5ms/step - loss: 0.5475 - accuracy: 0.7903 - val_loss: 0.5417 - val_accuracy: 0.7972\n",
      "Epoch 41/200\n",
      "45/45 [==============================] - 0s 4ms/step - loss: 0.5561 - accuracy: 0.7958 - val_loss: 0.5329 - val_accuracy: 0.7972\n",
      "Epoch 42/200\n",
      "45/45 [==============================] - 0s 4ms/step - loss: 0.5318 - accuracy: 0.8056 - val_loss: 0.5255 - val_accuracy: 0.8028\n",
      "Epoch 43/200\n",
      "45/45 [==============================] - 0s 4ms/step - loss: 0.5283 - accuracy: 0.8090 - val_loss: 0.5709 - val_accuracy: 0.7694\n",
      "Epoch 44/200\n",
      "45/45 [==============================] - 0s 4ms/step - loss: 0.5333 - accuracy: 0.7979 - val_loss: 0.5249 - val_accuracy: 0.7806\n",
      "Epoch 45/200\n",
      "45/45 [==============================] - 0s 4ms/step - loss: 0.5297 - accuracy: 0.8007 - val_loss: 0.5121 - val_accuracy: 0.8111\n",
      "Epoch 46/200\n",
      "45/45 [==============================] - 0s 4ms/step - loss: 0.5083 - accuracy: 0.8056 - val_loss: 0.5212 - val_accuracy: 0.7944\n",
      "Epoch 47/200\n",
      "45/45 [==============================] - 0s 4ms/step - loss: 0.5089 - accuracy: 0.8174 - val_loss: 0.4934 - val_accuracy: 0.7917\n",
      "Epoch 48/200\n",
      "45/45 [==============================] - 0s 5ms/step - loss: 0.4998 - accuracy: 0.8208 - val_loss: 0.5023 - val_accuracy: 0.7944\n",
      "Epoch 49/200\n",
      "45/45 [==============================] - 0s 4ms/step - loss: 0.4906 - accuracy: 0.8208 - val_loss: 0.5101 - val_accuracy: 0.7611\n",
      "Epoch 50/200\n",
      "45/45 [==============================] - 0s 4ms/step - loss: 0.4881 - accuracy: 0.8181 - val_loss: 0.4653 - val_accuracy: 0.8278\n",
      "Epoch 51/200\n",
      "45/45 [==============================] - 0s 4ms/step - loss: 0.4740 - accuracy: 0.8340 - val_loss: 0.4685 - val_accuracy: 0.8028\n",
      "Epoch 52/200\n",
      "45/45 [==============================] - 0s 4ms/step - loss: 0.4825 - accuracy: 0.8188 - val_loss: 0.4650 - val_accuracy: 0.8194\n",
      "Epoch 53/200\n",
      "45/45 [==============================] - 0s 4ms/step - loss: 0.4604 - accuracy: 0.8347 - val_loss: 0.4578 - val_accuracy: 0.8278\n",
      "Epoch 54/200\n",
      "45/45 [==============================] - 0s 4ms/step - loss: 0.4623 - accuracy: 0.8285 - val_loss: 0.4439 - val_accuracy: 0.8417\n",
      "Epoch 55/200\n",
      "45/45 [==============================] - 0s 4ms/step - loss: 0.4617 - accuracy: 0.8243 - val_loss: 0.4393 - val_accuracy: 0.8278\n",
      "Epoch 56/200\n",
      "45/45 [==============================] - 0s 4ms/step - loss: 0.4655 - accuracy: 0.8306 - val_loss: 0.4428 - val_accuracy: 0.8250\n",
      "Epoch 57/200\n",
      "45/45 [==============================] - 0s 4ms/step - loss: 0.4582 - accuracy: 0.8257 - val_loss: 0.4407 - val_accuracy: 0.8333\n",
      "Epoch 58/200\n",
      "45/45 [==============================] - 0s 5ms/step - loss: 0.4450 - accuracy: 0.8431 - val_loss: 0.4292 - val_accuracy: 0.8167\n",
      "Epoch 59/200\n",
      "45/45 [==============================] - 0s 4ms/step - loss: 0.4398 - accuracy: 0.8319 - val_loss: 0.4214 - val_accuracy: 0.8306\n",
      "Epoch 60/200\n",
      "45/45 [==============================] - 0s 4ms/step - loss: 0.4454 - accuracy: 0.8368 - val_loss: 0.4175 - val_accuracy: 0.8278\n",
      "Epoch 61/200\n",
      "45/45 [==============================] - 0s 4ms/step - loss: 0.4253 - accuracy: 0.8500 - val_loss: 0.4057 - val_accuracy: 0.8500\n",
      "Epoch 62/200\n",
      "45/45 [==============================] - 0s 5ms/step - loss: 0.4173 - accuracy: 0.8521 - val_loss: 0.4034 - val_accuracy: 0.8611\n",
      "Epoch 63/200\n",
      "45/45 [==============================] - 0s 4ms/step - loss: 0.4122 - accuracy: 0.8438 - val_loss: 0.3971 - val_accuracy: 0.8556\n",
      "Epoch 64/200\n",
      "45/45 [==============================] - 0s 4ms/step - loss: 0.4189 - accuracy: 0.8417 - val_loss: 0.3968 - val_accuracy: 0.8611\n",
      "Epoch 65/200\n",
      "45/45 [==============================] - 0s 4ms/step - loss: 0.4075 - accuracy: 0.8556 - val_loss: 0.3993 - val_accuracy: 0.8528\n",
      "Epoch 66/200\n",
      "45/45 [==============================] - 0s 4ms/step - loss: 0.4161 - accuracy: 0.8479 - val_loss: 0.3829 - val_accuracy: 0.8639\n",
      "Epoch 67/200\n",
      "45/45 [==============================] - 0s 4ms/step - loss: 0.4017 - accuracy: 0.8472 - val_loss: 0.3839 - val_accuracy: 0.8639\n",
      "Epoch 68/200\n",
      "45/45 [==============================] - 0s 4ms/step - loss: 0.4011 - accuracy: 0.8625 - val_loss: 0.3783 - val_accuracy: 0.8639\n",
      "Epoch 69/200\n",
      "45/45 [==============================] - 0s 4ms/step - loss: 0.4072 - accuracy: 0.8389 - val_loss: 0.3666 - val_accuracy: 0.8806\n",
      "Epoch 70/200\n",
      "45/45 [==============================] - 0s 4ms/step - loss: 0.3992 - accuracy: 0.8590 - val_loss: 0.3923 - val_accuracy: 0.8417\n",
      "Epoch 71/200\n",
      "45/45 [==============================] - 0s 4ms/step - loss: 0.3904 - accuracy: 0.8556 - val_loss: 0.3916 - val_accuracy: 0.8306\n",
      "Epoch 72/200\n",
      "45/45 [==============================] - 0s 5ms/step - loss: 0.3690 - accuracy: 0.8701 - val_loss: 0.3646 - val_accuracy: 0.8639\n",
      "Epoch 73/200\n",
      "45/45 [==============================] - 0s 5ms/step - loss: 0.3855 - accuracy: 0.8660 - val_loss: 0.3547 - val_accuracy: 0.8667\n",
      "Epoch 74/200\n",
      "45/45 [==============================] - 0s 4ms/step - loss: 0.3776 - accuracy: 0.8590 - val_loss: 0.3661 - val_accuracy: 0.8806\n",
      "Epoch 75/200\n",
      "45/45 [==============================] - 0s 4ms/step - loss: 0.3771 - accuracy: 0.8625 - val_loss: 0.3491 - val_accuracy: 0.8833\n",
      "Epoch 76/200\n",
      "45/45 [==============================] - 0s 4ms/step - loss: 0.3732 - accuracy: 0.8660 - val_loss: 0.3486 - val_accuracy: 0.8694\n",
      "Epoch 77/200\n",
      "45/45 [==============================] - 0s 5ms/step - loss: 0.3789 - accuracy: 0.8549 - val_loss: 0.3804 - val_accuracy: 0.8639\n",
      "Epoch 78/200\n",
      "45/45 [==============================] - 0s 5ms/step - loss: 0.3745 - accuracy: 0.8618 - val_loss: 0.4212 - val_accuracy: 0.8528\n",
      "Epoch 79/200\n",
      "45/45 [==============================] - 0s 4ms/step - loss: 0.3619 - accuracy: 0.8701 - val_loss: 0.3433 - val_accuracy: 0.8917\n",
      "Epoch 80/200\n",
      "45/45 [==============================] - 0s 5ms/step - loss: 0.3497 - accuracy: 0.8708 - val_loss: 0.3321 - val_accuracy: 0.8833\n",
      "Epoch 81/200\n",
      "45/45 [==============================] - 0s 5ms/step - loss: 0.3386 - accuracy: 0.8778 - val_loss: 0.3273 - val_accuracy: 0.8833\n",
      "Epoch 82/200\n",
      "45/45 [==============================] - 0s 5ms/step - loss: 0.3430 - accuracy: 0.8715 - val_loss: 0.3397 - val_accuracy: 0.8861\n",
      "Epoch 83/200\n",
      "45/45 [==============================] - 0s 5ms/step - loss: 0.3419 - accuracy: 0.8785 - val_loss: 0.3294 - val_accuracy: 0.8833\n",
      "Epoch 84/200\n",
      "45/45 [==============================] - 0s 4ms/step - loss: 0.3465 - accuracy: 0.8771 - val_loss: 0.3232 - val_accuracy: 0.8833\n",
      "Epoch 85/200\n",
      "45/45 [==============================] - 0s 5ms/step - loss: 0.3258 - accuracy: 0.8826 - val_loss: 0.3237 - val_accuracy: 0.8917\n",
      "Epoch 86/200\n",
      "45/45 [==============================] - 0s 4ms/step - loss: 0.3399 - accuracy: 0.8785 - val_loss: 0.3145 - val_accuracy: 0.8944\n",
      "Epoch 87/200\n",
      "45/45 [==============================] - 0s 4ms/step - loss: 0.3344 - accuracy: 0.8833 - val_loss: 0.3212 - val_accuracy: 0.8889\n",
      "Epoch 88/200\n",
      "45/45 [==============================] - 0s 4ms/step - loss: 0.3255 - accuracy: 0.8910 - val_loss: 0.3146 - val_accuracy: 0.8889\n",
      "Epoch 89/200\n",
      "45/45 [==============================] - 0s 4ms/step - loss: 0.3248 - accuracy: 0.8861 - val_loss: 0.3136 - val_accuracy: 0.8833\n",
      "Epoch 90/200\n",
      "45/45 [==============================] - 0s 4ms/step - loss: 0.3317 - accuracy: 0.8826 - val_loss: 0.3001 - val_accuracy: 0.9028\n",
      "Epoch 91/200\n",
      "45/45 [==============================] - 0s 5ms/step - loss: 0.3083 - accuracy: 0.8979 - val_loss: 0.3643 - val_accuracy: 0.8500\n",
      "Epoch 92/200\n",
      "45/45 [==============================] - 0s 4ms/step - loss: 0.3233 - accuracy: 0.8813 - val_loss: 0.2933 - val_accuracy: 0.9056\n",
      "Epoch 93/200\n",
      "45/45 [==============================] - 0s 4ms/step - loss: 0.3081 - accuracy: 0.8882 - val_loss: 0.2983 - val_accuracy: 0.9111\n",
      "Epoch 94/200\n",
      "45/45 [==============================] - 0s 4ms/step - loss: 0.3194 - accuracy: 0.8889 - val_loss: 0.2974 - val_accuracy: 0.9056\n",
      "Epoch 95/200\n",
      "45/45 [==============================] - 0s 5ms/step - loss: 0.3014 - accuracy: 0.8958 - val_loss: 0.3326 - val_accuracy: 0.8583\n",
      "Epoch 96/200\n",
      "45/45 [==============================] - 0s 4ms/step - loss: 0.3118 - accuracy: 0.8938 - val_loss: 0.2838 - val_accuracy: 0.9167\n",
      "Epoch 97/200\n",
      "45/45 [==============================] - 0s 4ms/step - loss: 0.3028 - accuracy: 0.8931 - val_loss: 0.2813 - val_accuracy: 0.9194\n",
      "Epoch 98/200\n",
      "45/45 [==============================] - 0s 4ms/step - loss: 0.3037 - accuracy: 0.8972 - val_loss: 0.2795 - val_accuracy: 0.9056\n",
      "Epoch 99/200\n",
      "45/45 [==============================] - 0s 4ms/step - loss: 0.2962 - accuracy: 0.8979 - val_loss: 0.2821 - val_accuracy: 0.9139\n",
      "Epoch 100/200\n",
      "45/45 [==============================] - 0s 4ms/step - loss: 0.2927 - accuracy: 0.9049 - val_loss: 0.2740 - val_accuracy: 0.9111\n",
      "Epoch 101/200\n",
      "45/45 [==============================] - 0s 4ms/step - loss: 0.3004 - accuracy: 0.9014 - val_loss: 0.2719 - val_accuracy: 0.9222\n",
      "Epoch 102/200\n",
      "45/45 [==============================] - 0s 4ms/step - loss: 0.2926 - accuracy: 0.8993 - val_loss: 0.2735 - val_accuracy: 0.9083\n",
      "Epoch 103/200\n",
      "45/45 [==============================] - 0s 4ms/step - loss: 0.2924 - accuracy: 0.8993 - val_loss: 0.3029 - val_accuracy: 0.8917\n",
      "Epoch 104/200\n",
      "45/45 [==============================] - 0s 4ms/step - loss: 0.2958 - accuracy: 0.8965 - val_loss: 0.2792 - val_accuracy: 0.9000\n",
      "Epoch 105/200\n",
      "45/45 [==============================] - 0s 4ms/step - loss: 0.2792 - accuracy: 0.9035 - val_loss: 0.2623 - val_accuracy: 0.9278\n",
      "Epoch 106/200\n",
      "45/45 [==============================] - 0s 4ms/step - loss: 0.2877 - accuracy: 0.9021 - val_loss: 0.2656 - val_accuracy: 0.9222\n",
      "Epoch 107/200\n",
      "45/45 [==============================] - 0s 4ms/step - loss: 0.2755 - accuracy: 0.9049 - val_loss: 0.2704 - val_accuracy: 0.9139\n",
      "Epoch 108/200\n",
      "45/45 [==============================] - 0s 4ms/step - loss: 0.2796 - accuracy: 0.8972 - val_loss: 0.2625 - val_accuracy: 0.9250\n",
      "Epoch 109/200\n",
      "45/45 [==============================] - 0s 5ms/step - loss: 0.2780 - accuracy: 0.9007 - val_loss: 0.2922 - val_accuracy: 0.8861\n",
      "Epoch 110/200\n",
      "45/45 [==============================] - 0s 4ms/step - loss: 0.2664 - accuracy: 0.9090 - val_loss: 0.2669 - val_accuracy: 0.9194\n"
     ]
    }
   ],
   "source": [
    "history2 = model2.fit(x_train, y_train, epochs=n_train_epoch, validation_data=(x_val, y_val), callbacks=callbacks2)"
   ]
  },
  {
   "cell_type": "code",
   "execution_count": 32,
   "id": "13181271",
   "metadata": {},
   "outputs": [
    {
     "data": {
      "image/png": "[encoded data removed]",
      "text/plain": [
       "<Figure size 864x360 with 2 Axes>"
      ]
     },
     "metadata": {
      "needs_background": "light"
     },
     "output_type": "display_data"
    }
   ],
   "source": [
    "history_dict(history_dict=history2.history)"
   ]
  },
  {
   "cell_type": "markdown",
   "id": "3c765691",
   "metadata": {},
   "source": [
    "### test_accuracy 측정"
   ]
  },
  {
   "cell_type": "code",
   "execution_count": 33,
   "id": "b5de975f",
   "metadata": {},
   "outputs": [
    {
     "name": "stdout",
     "output_type": "stream",
     "text": [
      "19/19 - 0s - loss: 1.1055 - accuracy: 0.5017\n",
      "test_loss: 1.1055245399475098 \n",
      "test_accuracy: 0.5016666650772095\n"
     ]
    }
   ],
   "source": [
    "test_model2 = keras.models.load_model('convnet_from_scratch2.keras')\n",
    "test_loss, test_accuracy = test_model2.evaluate(x_test_norm, y_test, verbose=2)\n",
    "print(f\"test_loss: {test_loss} \")\n",
    "print(f\"test_accuracy: {test_accuracy}\")"
   ]
  },
  {
   "cell_type": "markdown",
   "id": "81769272",
   "metadata": {},
   "source": [
    "- test_accuracy: 0.5833333134651184\n",
    "- test_accuracy: 0.5400000214576721\n",
    "- test_accuracy: 0.41333332657814026\n",
    "- test_accuracy: 0.5816666483879089\n",
    "- test_accuracy: 0.5016666650772095"
   ]
  },
  {
   "cell_type": "markdown",
   "id": "7c86f822",
   "metadata": {},
   "source": [
    "## Data Augmentation + Dropout"
   ]
  },
  {
   "cell_type": "code",
   "execution_count": 34,
   "id": "3ed2fc69",
   "metadata": {
    "scrolled": false
   },
   "outputs": [
    {
     "name": "stdout",
     "output_type": "stream",
     "text": [
      "Model: \"sequential_5\"\n",
      "_________________________________________________________________\n",
      "Layer (type)                 Output Shape              Param #   \n",
      "=================================================================\n",
      "sequential_2 (Sequential)    (None, 28, 28, 3)         0         \n",
      "_________________________________________________________________\n",
      "conv2d_11 (Conv2D)           (None, 26, 26, 32)        896       \n",
      "_________________________________________________________________\n",
      "max_pooling2d_11 (MaxPooling (None, 13, 13, 32)        0         \n",
      "_________________________________________________________________\n",
      "conv2d_12 (Conv2D)           (None, 11, 11, 64)        18496     \n",
      "_________________________________________________________________\n",
      "max_pooling2d_12 (MaxPooling (None, 5, 5, 64)          0         \n",
      "_________________________________________________________________\n",
      "conv2d_13 (Conv2D)           (None, 3, 3, 128)         73856     \n",
      "_________________________________________________________________\n",
      "max_pooling2d_13 (MaxPooling (None, 1, 1, 128)         0         \n",
      "_________________________________________________________________\n",
      "flatten_4 (Flatten)          (None, 128)               0         \n",
      "_________________________________________________________________\n",
      "dropout_1 (Dropout)          (None, 128)               0         \n",
      "_________________________________________________________________\n",
      "dense_5 (Dense)              (None, 3)                 387       \n",
      "=================================================================\n",
      "Total params: 93,635\n",
      "Trainable params: 93,635\n",
      "Non-trainable params: 0\n",
      "_________________________________________________________________\n"
     ]
    }
   ],
   "source": [
    "model3 = models.Sequential([\n",
    "    \n",
    "    Input(shape=(28,28,3)),\n",
    "    \n",
    "    data_augmentation,\n",
    "    \n",
    "    layers.Conv2D(n_channel_1, (3,3), activation='relu'),\n",
    "    layers.MaxPool2D(2,2),\n",
    "    \n",
    "    layers.Conv2D(n_channel_2, (3,3), activation='relu'),\n",
    "    layers.MaxPool2D(2,2),\n",
    "    \n",
    "    layers.Conv2D(n_channel_3, (3,3), activation='relu'),\n",
    "    layers.MaxPool2D(2,2),\n",
    "    \n",
    "    layers.Flatten(),\n",
    "    layers.Dropout(0.5),\n",
    "    \n",
    "    layers.Dense(3, activation='softmax')\n",
    "])\n",
    "\n",
    "model3.summary()"
   ]
  },
  {
   "cell_type": "code",
   "execution_count": 35,
   "id": "68fb7018",
   "metadata": {},
   "outputs": [],
   "source": [
    "optimize=tf.keras.optimizers.RMSprop(learning_rate=0.0001)\n",
    "model3.compile(optimizer=optimize,\n",
    "             loss='sparse_categorical_crossentropy',\n",
    "             metrics=['accuracy'])"
   ]
  },
  {
   "cell_type": "code",
   "execution_count": 36,
   "id": "48fd2485",
   "metadata": {},
   "outputs": [],
   "source": [
    "callbacks3 = [\n",
    "    keras.callbacks.EarlyStopping(monitor='val_loss',\n",
    "                                           patience=5),\n",
    "    keras.callbacks.ModelCheckpoint(\n",
    "    filepath='convnet_from_scratch3.keras',\n",
    "    save_best_only=True,\n",
    "    monitor='val_loss')\n",
    "]"
   ]
  },
  {
   "cell_type": "code",
   "execution_count": 37,
   "id": "bace7d31",
   "metadata": {},
   "outputs": [
    {
     "name": "stdout",
     "output_type": "stream",
     "text": [
      "Epoch 1/200\n",
      "45/45 [==============================] - 1s 12ms/step - loss: 1.1043 - accuracy: 0.3215 - val_loss: 1.0937 - val_accuracy: 0.3194\n",
      "Epoch 2/200\n",
      "45/45 [==============================] - 0s 6ms/step - loss: 1.0978 - accuracy: 0.3444 - val_loss: 1.0920 - val_accuracy: 0.4222\n",
      "Epoch 3/200\n",
      "45/45 [==============================] - 0s 6ms/step - loss: 1.0934 - accuracy: 0.3493 - val_loss: 1.0921 - val_accuracy: 0.3167\n",
      "Epoch 4/200\n",
      "45/45 [==============================] - 0s 6ms/step - loss: 1.0939 - accuracy: 0.3583 - val_loss: 1.0874 - val_accuracy: 0.3944\n",
      "Epoch 5/200\n",
      "45/45 [==============================] - 0s 6ms/step - loss: 1.0897 - accuracy: 0.3729 - val_loss: 1.0852 - val_accuracy: 0.3417\n",
      "Epoch 6/200\n",
      "45/45 [==============================] - 0s 6ms/step - loss: 1.0876 - accuracy: 0.3931 - val_loss: 1.0798 - val_accuracy: 0.4667\n",
      "Epoch 7/200\n",
      "45/45 [==============================] - 0s 6ms/step - loss: 1.0813 - accuracy: 0.3944 - val_loss: 1.0765 - val_accuracy: 0.4500\n",
      "Epoch 8/200\n",
      "45/45 [==============================] - 0s 6ms/step - loss: 1.0776 - accuracy: 0.4340 - val_loss: 1.0753 - val_accuracy: 0.4306\n",
      "Epoch 9/200\n",
      "45/45 [==============================] - 0s 6ms/step - loss: 1.0784 - accuracy: 0.3993 - val_loss: 1.0677 - val_accuracy: 0.3611\n",
      "Epoch 10/200\n",
      "45/45 [==============================] - 0s 6ms/step - loss: 1.0684 - accuracy: 0.4507 - val_loss: 1.0588 - val_accuracy: 0.5250\n",
      "Epoch 11/200\n",
      "45/45 [==============================] - 0s 6ms/step - loss: 1.0680 - accuracy: 0.4292 - val_loss: 1.0512 - val_accuracy: 0.5944\n",
      "Epoch 12/200\n",
      "45/45 [==============================] - 0s 6ms/step - loss: 1.0579 - accuracy: 0.4597 - val_loss: 1.0422 - val_accuracy: 0.5361\n",
      "Epoch 13/200\n",
      "45/45 [==============================] - 0s 6ms/step - loss: 1.0551 - accuracy: 0.4556 - val_loss: 1.0361 - val_accuracy: 0.5694\n",
      "Epoch 14/200\n",
      "45/45 [==============================] - 0s 6ms/step - loss: 1.0423 - accuracy: 0.4771 - val_loss: 1.0263 - val_accuracy: 0.5167\n",
      "Epoch 15/200\n",
      "45/45 [==============================] - 0s 6ms/step - loss: 1.0380 - accuracy: 0.4903 - val_loss: 1.0210 - val_accuracy: 0.5472\n",
      "Epoch 16/200\n",
      "45/45 [==============================] - 0s 6ms/step - loss: 1.0364 - accuracy: 0.4646 - val_loss: 1.0231 - val_accuracy: 0.4889\n",
      "Epoch 17/200\n",
      "45/45 [==============================] - 0s 6ms/step - loss: 1.0280 - accuracy: 0.4826 - val_loss: 1.0066 - val_accuracy: 0.5528\n",
      "Epoch 18/200\n",
      "45/45 [==============================] - 0s 6ms/step - loss: 1.0207 - accuracy: 0.5014 - val_loss: 1.0051 - val_accuracy: 0.5500\n",
      "Epoch 19/200\n",
      "45/45 [==============================] - 0s 6ms/step - loss: 1.0202 - accuracy: 0.4951 - val_loss: 0.9946 - val_accuracy: 0.6028\n",
      "Epoch 20/200\n",
      "45/45 [==============================] - 0s 6ms/step - loss: 1.0147 - accuracy: 0.4882 - val_loss: 0.9905 - val_accuracy: 0.5667\n",
      "Epoch 21/200\n",
      "45/45 [==============================] - 0s 6ms/step - loss: 1.0078 - accuracy: 0.4993 - val_loss: 0.9855 - val_accuracy: 0.5417\n",
      "Epoch 22/200\n",
      "45/45 [==============================] - 0s 6ms/step - loss: 1.0104 - accuracy: 0.5021 - val_loss: 0.9756 - val_accuracy: 0.5583\n",
      "Epoch 23/200\n",
      "45/45 [==============================] - 0s 6ms/step - loss: 0.9965 - accuracy: 0.5028 - val_loss: 0.9822 - val_accuracy: 0.4917\n",
      "Epoch 24/200\n",
      "45/45 [==============================] - 0s 6ms/step - loss: 0.9878 - accuracy: 0.5243 - val_loss: 0.9595 - val_accuracy: 0.5556\n",
      "Epoch 25/200\n",
      "45/45 [==============================] - 0s 6ms/step - loss: 1.0083 - accuracy: 0.4958 - val_loss: 0.9770 - val_accuracy: 0.5028\n",
      "Epoch 26/200\n",
      "45/45 [==============================] - 0s 6ms/step - loss: 0.9959 - accuracy: 0.4986 - val_loss: 0.9853 - val_accuracy: 0.4361\n",
      "Epoch 27/200\n",
      "45/45 [==============================] - 0s 6ms/step - loss: 0.9828 - accuracy: 0.5292 - val_loss: 0.9460 - val_accuracy: 0.5667\n",
      "Epoch 28/200\n",
      "45/45 [==============================] - 0s 6ms/step - loss: 0.9842 - accuracy: 0.5208 - val_loss: 0.9414 - val_accuracy: 0.5611\n",
      "Epoch 29/200\n",
      "45/45 [==============================] - 0s 6ms/step - loss: 0.9769 - accuracy: 0.5326 - val_loss: 0.9409 - val_accuracy: 0.5556\n",
      "Epoch 30/200\n",
      "45/45 [==============================] - 0s 6ms/step - loss: 0.9857 - accuracy: 0.5097 - val_loss: 0.9542 - val_accuracy: 0.5694\n",
      "Epoch 31/200\n",
      "45/45 [==============================] - 0s 6ms/step - loss: 0.9720 - accuracy: 0.5229 - val_loss: 0.9562 - val_accuracy: 0.5417\n",
      "Epoch 32/200\n",
      "45/45 [==============================] - 0s 6ms/step - loss: 0.9594 - accuracy: 0.5451 - val_loss: 0.9257 - val_accuracy: 0.5833\n",
      "Epoch 33/200\n",
      "45/45 [==============================] - 0s 6ms/step - loss: 0.9664 - accuracy: 0.5160 - val_loss: 0.9236 - val_accuracy: 0.5861\n",
      "Epoch 34/200\n",
      "45/45 [==============================] - 0s 6ms/step - loss: 0.9594 - accuracy: 0.5347 - val_loss: 0.9236 - val_accuracy: 0.6361\n",
      "Epoch 35/200\n",
      "45/45 [==============================] - 0s 6ms/step - loss: 0.9721 - accuracy: 0.5153 - val_loss: 0.9159 - val_accuracy: 0.6556\n",
      "Epoch 36/200\n",
      "45/45 [==============================] - 0s 6ms/step - loss: 0.9467 - accuracy: 0.5410 - val_loss: 0.9365 - val_accuracy: 0.6250\n",
      "Epoch 37/200\n",
      "45/45 [==============================] - 0s 6ms/step - loss: 0.9475 - accuracy: 0.5458 - val_loss: 0.9171 - val_accuracy: 0.6056\n",
      "Epoch 38/200\n",
      "45/45 [==============================] - 0s 6ms/step - loss: 0.9428 - accuracy: 0.5611 - val_loss: 0.8897 - val_accuracy: 0.5944\n",
      "Epoch 39/200\n",
      "45/45 [==============================] - 0s 6ms/step - loss: 0.9481 - accuracy: 0.5583 - val_loss: 0.8865 - val_accuracy: 0.5972\n",
      "Epoch 40/200\n",
      "45/45 [==============================] - 0s 6ms/step - loss: 0.9421 - accuracy: 0.5326 - val_loss: 0.8775 - val_accuracy: 0.5917\n",
      "Epoch 41/200\n",
      "45/45 [==============================] - 0s 6ms/step - loss: 0.9380 - accuracy: 0.5542 - val_loss: 0.8706 - val_accuracy: 0.5861\n",
      "Epoch 42/200\n",
      "45/45 [==============================] - 0s 6ms/step - loss: 0.9200 - accuracy: 0.5771 - val_loss: 0.8993 - val_accuracy: 0.6194\n",
      "Epoch 43/200\n",
      "45/45 [==============================] - 0s 6ms/step - loss: 0.9288 - accuracy: 0.5556 - val_loss: 0.8734 - val_accuracy: 0.5889\n",
      "Epoch 44/200\n",
      "45/45 [==============================] - 0s 6ms/step - loss: 0.9081 - accuracy: 0.5826 - val_loss: 0.8586 - val_accuracy: 0.6000\n",
      "Epoch 45/200\n",
      "45/45 [==============================] - 0s 6ms/step - loss: 0.9086 - accuracy: 0.5743 - val_loss: 0.8450 - val_accuracy: 0.5944\n",
      "Epoch 46/200\n",
      "45/45 [==============================] - 0s 6ms/step - loss: 0.9352 - accuracy: 0.5417 - val_loss: 0.8428 - val_accuracy: 0.6083\n",
      "Epoch 47/200\n",
      "45/45 [==============================] - 0s 6ms/step - loss: 0.9123 - accuracy: 0.5528 - val_loss: 0.8589 - val_accuracy: 0.5750\n",
      "Epoch 48/200\n",
      "45/45 [==============================] - 0s 6ms/step - loss: 0.9031 - accuracy: 0.5660 - val_loss: 0.8442 - val_accuracy: 0.5889\n",
      "Epoch 49/200\n",
      "45/45 [==============================] - 0s 6ms/step - loss: 0.9118 - accuracy: 0.5535 - val_loss: 0.8286 - val_accuracy: 0.6083\n",
      "Epoch 50/200\n",
      "45/45 [==============================] - 0s 6ms/step - loss: 0.9070 - accuracy: 0.5736 - val_loss: 0.8401 - val_accuracy: 0.6250\n",
      "Epoch 51/200\n",
      "45/45 [==============================] - 0s 6ms/step - loss: 0.9135 - accuracy: 0.5618 - val_loss: 0.8371 - val_accuracy: 0.6111\n",
      "Epoch 52/200\n",
      "45/45 [==============================] - 0s 6ms/step - loss: 0.8832 - accuracy: 0.5819 - val_loss: 0.8187 - val_accuracy: 0.6167\n",
      "Epoch 53/200\n",
      "45/45 [==============================] - 0s 6ms/step - loss: 0.8878 - accuracy: 0.5715 - val_loss: 0.8179 - val_accuracy: 0.6083\n",
      "Epoch 54/200\n",
      "45/45 [==============================] - 0s 6ms/step - loss: 0.8684 - accuracy: 0.5958 - val_loss: 0.8151 - val_accuracy: 0.6028\n",
      "Epoch 55/200\n",
      "45/45 [==============================] - 0s 6ms/step - loss: 0.8911 - accuracy: 0.5639 - val_loss: 0.8129 - val_accuracy: 0.6139\n",
      "Epoch 56/200\n",
      "45/45 [==============================] - 0s 6ms/step - loss: 0.8863 - accuracy: 0.5986 - val_loss: 0.8310 - val_accuracy: 0.5944\n",
      "Epoch 57/200\n",
      "45/45 [==============================] - 0s 6ms/step - loss: 0.8664 - accuracy: 0.6014 - val_loss: 0.8164 - val_accuracy: 0.6056\n",
      "Epoch 58/200\n",
      "45/45 [==============================] - 0s 6ms/step - loss: 0.8761 - accuracy: 0.5889 - val_loss: 0.8037 - val_accuracy: 0.6056\n",
      "Epoch 59/200\n",
      "45/45 [==============================] - 0s 6ms/step - loss: 0.8681 - accuracy: 0.5917 - val_loss: 0.8071 - val_accuracy: 0.6111\n",
      "Epoch 60/200\n",
      "45/45 [==============================] - 0s 6ms/step - loss: 0.8683 - accuracy: 0.5854 - val_loss: 0.7934 - val_accuracy: 0.6306\n",
      "Epoch 61/200\n",
      "45/45 [==============================] - 0s 6ms/step - loss: 0.8782 - accuracy: 0.5792 - val_loss: 0.8226 - val_accuracy: 0.6750\n",
      "Epoch 62/200\n",
      "45/45 [==============================] - 0s 6ms/step - loss: 0.8533 - accuracy: 0.6062 - val_loss: 0.7954 - val_accuracy: 0.5889\n",
      "Epoch 63/200\n",
      "45/45 [==============================] - 0s 6ms/step - loss: 0.8514 - accuracy: 0.6028 - val_loss: 0.7832 - val_accuracy: 0.6417\n",
      "Epoch 64/200\n",
      "45/45 [==============================] - 0s 6ms/step - loss: 0.8397 - accuracy: 0.5972 - val_loss: 0.7714 - val_accuracy: 0.6306\n",
      "Epoch 65/200\n",
      "45/45 [==============================] - 0s 6ms/step - loss: 0.8631 - accuracy: 0.5924 - val_loss: 0.7760 - val_accuracy: 0.6333\n",
      "Epoch 66/200\n",
      "45/45 [==============================] - 0s 6ms/step - loss: 0.8591 - accuracy: 0.5896 - val_loss: 0.7912 - val_accuracy: 0.6222\n",
      "Epoch 67/200\n",
      "45/45 [==============================] - 0s 6ms/step - loss: 0.8581 - accuracy: 0.5951 - val_loss: 0.7810 - val_accuracy: 0.6250\n",
      "Epoch 68/200\n",
      "45/45 [==============================] - 0s 6ms/step - loss: 0.8331 - accuracy: 0.6160 - val_loss: 0.7680 - val_accuracy: 0.6083\n",
      "Epoch 69/200\n",
      "45/45 [==============================] - 0s 6ms/step - loss: 0.8589 - accuracy: 0.5979 - val_loss: 0.7757 - val_accuracy: 0.6333\n",
      "Epoch 70/200\n",
      "45/45 [==============================] - 0s 6ms/step - loss: 0.8416 - accuracy: 0.6035 - val_loss: 0.7636 - val_accuracy: 0.6139\n",
      "Epoch 71/200\n",
      "45/45 [==============================] - 0s 6ms/step - loss: 0.8489 - accuracy: 0.5993 - val_loss: 0.7663 - val_accuracy: 0.6250\n",
      "Epoch 72/200\n",
      "45/45 [==============================] - 0s 6ms/step - loss: 0.8267 - accuracy: 0.6222 - val_loss: 0.7742 - val_accuracy: 0.6306\n",
      "Epoch 73/200\n",
      "45/45 [==============================] - 0s 6ms/step - loss: 0.8203 - accuracy: 0.6160 - val_loss: 0.8528 - val_accuracy: 0.5750\n",
      "Epoch 74/200\n",
      "45/45 [==============================] - 0s 6ms/step - loss: 0.8436 - accuracy: 0.6014 - val_loss: 0.7533 - val_accuracy: 0.6167\n",
      "Epoch 75/200\n",
      "45/45 [==============================] - 0s 6ms/step - loss: 0.8259 - accuracy: 0.6201 - val_loss: 0.7503 - val_accuracy: 0.6222\n",
      "Epoch 76/200\n",
      "45/45 [==============================] - 0s 6ms/step - loss: 0.8504 - accuracy: 0.6111 - val_loss: 0.7543 - val_accuracy: 0.6556\n",
      "Epoch 77/200\n",
      "45/45 [==============================] - 0s 6ms/step - loss: 0.8153 - accuracy: 0.6424 - val_loss: 0.8561 - val_accuracy: 0.5778\n",
      "Epoch 78/200\n",
      "45/45 [==============================] - 0s 6ms/step - loss: 0.8321 - accuracy: 0.6062 - val_loss: 0.7554 - val_accuracy: 0.6139\n",
      "Epoch 79/200\n",
      "45/45 [==============================] - 0s 6ms/step - loss: 0.8142 - accuracy: 0.6257 - val_loss: 0.7473 - val_accuracy: 0.6056\n",
      "Epoch 80/200\n",
      "45/45 [==============================] - 0s 6ms/step - loss: 0.8250 - accuracy: 0.6201 - val_loss: 0.7482 - val_accuracy: 0.6028\n",
      "Epoch 81/200\n",
      "45/45 [==============================] - 0s 6ms/step - loss: 0.8203 - accuracy: 0.6139 - val_loss: 0.8425 - val_accuracy: 0.5833\n",
      "Epoch 82/200\n",
      "45/45 [==============================] - 0s 6ms/step - loss: 0.8050 - accuracy: 0.6382 - val_loss: 0.7490 - val_accuracy: 0.6167\n",
      "Epoch 83/200\n",
      "45/45 [==============================] - 0s 5ms/step - loss: 0.8196 - accuracy: 0.6354 - val_loss: 0.8186 - val_accuracy: 0.5917\n",
      "Epoch 84/200\n",
      "45/45 [==============================] - 0s 6ms/step - loss: 0.8332 - accuracy: 0.6222 - val_loss: 0.7952 - val_accuracy: 0.5944\n"
     ]
    }
   ],
   "source": [
    "history3 = model3.fit(x_train, y_train, epochs=n_train_epoch, validation_data=(x_val, y_val), callbacks=callbacks3)"
   ]
  },
  {
   "cell_type": "code",
   "execution_count": 38,
   "id": "70bfb7b8",
   "metadata": {},
   "outputs": [
    {
     "data": {
      "image/png": "[encoded data removed]",
      "text/plain": [
       "<Figure size 864x360 with 2 Axes>"
      ]
     },
     "metadata": {
      "needs_background": "light"
     },
     "output_type": "display_data"
    }
   ],
   "source": [
    "history_dict(history_dict=history3.history)"
   ]
  },
  {
   "cell_type": "markdown",
   "id": "e8d2ab2d",
   "metadata": {},
   "source": [
    "### test_accuracy 측정"
   ]
  },
  {
   "cell_type": "code",
   "execution_count": 39,
   "id": "8c15debb",
   "metadata": {},
   "outputs": [
    {
     "name": "stdout",
     "output_type": "stream",
     "text": [
      "19/19 - 0s - loss: 0.9119 - accuracy: 0.6250\n",
      "test_loss: 0.9119133353233337 \n",
      "test_accuracy: 0.625\n"
     ]
    }
   ],
   "source": [
    "test_model3 = keras.models.load_model('convnet_from_scratch3.keras')\n",
    "test_loss, test_accuracy = test_model3.evaluate(x_test_norm, y_test, verbose=2)\n",
    "print(f\"test_loss: {test_loss} \")\n",
    "print(f\"test_accuracy: {test_accuracy}\")"
   ]
  },
  {
   "cell_type": "markdown",
   "id": "5c5576d0",
   "metadata": {},
   "source": [
    "- test_accuracy: 0.4650000035762787\n",
    "- test_accuracy: 0.476666659116745\n",
    "- test_accuracy: 0.6416666507720947\n",
    "- test_accuracy: 0.48500001430511475\n",
    "- test_accuracy: 0.625"
   ]
  },
  {
   "attachments": {
    "image.png": {
     "image/png": "[encoded data removed]"
    }
   },
   "cell_type": "markdown",
   "id": "b5218157",
   "metadata": {},
   "source": [
    "![image.png](attachment:image.png)"
   ]
  },
  {
   "cell_type": "markdown",
   "id": "d1968f08",
   "metadata": {},
   "source": [
    "### 회고"
   ]
  },
  {
   "cell_type": "markdown",
   "id": "db62173b",
   "metadata": {},
   "source": [
    "__어려웠던 점, 해결을 위해 시도한 방법, 문제해결에 성공한 이유 또는 실패한 이유__\n",
    "  \n",
    "validation 데이터를 train에서 split할 지, 새로운 데이터를 validation에 넣을 지 고민했었는데 후자를 처음에 선택했다가 커널에서 압축해제하는 방식이 익숙하지 않아서 시행착오를 겪었다. 결국에 전자를 선택해서 train 데이터에 모두 넣고 split을 했다. 비율도 0.3으로 했다가 0.2로 줄였다. 검증데이터가 꽤 많은 편이라는 말을 듣고 줄였는데, 보통 어느 정도로 검증 데이터를 하는 건지, 왜 그 비율로 하는 건지 궁금하다.\n",
    "  \n",
    "__프로젝트를 진행하면서 알아낸 점 혹은 아직 모호한 점__\n",
    "  \n",
    "분류 모델의 test accuracy가 실행할 때 마다 달라지는 게 어렵고, 이유도 모르겠다. 총 다섯 번을 실행했는데, data augmentation과 dropout을 적용한 모델이 0.625로 제일 좋은 성능을 보였지만, 아무것도 적용하지 않은 모델이 기록해두진 못했지만 0.7이 나오는 경우도 있었다. 데이터셋을 살펴본 결과 테스트 데이터에는 총 6명의 데이터가 있는데 그 중에는 가위를 엄지와 새끼로 내는 사람도 있고 거의 움직임 없이 그저 100장을 찍은 사람도 있었다. 아무래도 거의 움직임이 없는 데이터가 train에서 학습된 경우 다양한 손 모양을 분류하진 못했을 것 같다. 추측만 할 수 있을 뿐 정확도가 매번 달라지는 건 정확히 모르겠다.\n",
    "  \n",
    "__루브릭 평가 지표를 맞추기 위해 시도한 내용__\n",
    "  \n",
    "이전 프로젝트에서 시각화를 위해 코드를 가져왔다. 오버피팅 극복을 위해 사람들의 손을 모아서 데이터셋을 늘렸고, Data augmentation도 했고, dropout도 적용했고, earlystopping도 적용했다. 분류모델의 accuracy가 돌릴 때마다 달라서 5번 정도 시도했고 최종적으로 early stopping, data augmentation과 dropout을 모두 적용한 모델이 0.625라는 성능을 보였다.\n",
    "\n",
    "__자기 다짐, 프로젝트를 진행하면서 느낀점__\n",
    "  \n",
    "딥러닝으로 분류 문제를 해결하는 코드를 직접 만들어보니 얼마나 부정확할 수 있는 지 느꼈고 알고리즘에 의한 결과를 완전히 믿으면 안되겠다는 생각을 했다. [알고리즘의 편견] https://www.netflix.com/kr/title/81328723\n",
    "  \n",
    "이 다큐멘터리를 보면서 사람들이 부정확한 알고리즘을 너무 신뢰했기 때문에 일상생활에서 부조리한 일들이 발생하는 걸 알았다. 영국에서는 길거리에 경찰이 타고 있는 차 한 대가 시민들의 얼굴을 감시하면서 범죄자인지 아닌 지 구분하는 알고리즘을 사용해서 범죄자라고 판단된 경우 경찰이 차에서 나와 바로 출동한다. 그런데 그 알고리즘이 선택한 아무 잘못도 없는 14살짜리 흑인 남자애가 4명의 사복경찰들한테 20분간 둘러싸여서 범죄자인지 아닌지 확인해야한다며 지문을 채취당했다. 그 애는 당연히 범죄자가 아니었고, 그 알고리즘 모델이 정확도가 매우 떨어지는데도 불구하고 버릴 생각을 못하고 있는 게 이상하다고 생각했다.\n",
    "  \n",
    "내가 이 모델의 테스트 데이터에는 여자 손 하나와 남자 손 하나로 50:50으로 맞췄는데, 훈련 데이터에는 여자 손과 남자 손의 비율이 1대2다.(훈련데이터와 테스트데이터의 사람은 겹치지 않는다.) 아무래도 이런 점이 성능을 떨어뜨렸다고 생각한다. 모델은 데이터가 너무 많고 정제되지 않은 현실 세계를 감당하기에 성능이 떨어진다. 내가 정제할 수 있는 데이터들도 수작업으로 조정하기 귀찮아서 그냥 두는 데, 실제로 상용화를 위한 모델의 데이터는 너무 많아서 수작업으로 일일이 봐주기 힘들 것 같다.\n",
    "  \n",
    "인공지능의 성능이라는 건 어떤 데이터를 가져오더라도 안정적으로 잘 맞출 때 좋다고 할 수 있을 것 같다. 지금 한 프로젝트처럼 정확도가 들쑥날쑥한 결과는 당연하고 정확도가 높은 모델을 나중에 만들더라도 그걸 잘 만들었다고 생각하진 말아야겠다."
   ]
  }
 ],
 "metadata": {
  "kernelspec": {
   "display_name": "Python 3 (ipykernel)",
   "language": "python",
   "name": "python3"
  },
  "language_info": {
   "codemirror_mode": {
    "name": "ipython",
    "version": 3
   },
   "file_extension": ".py",
   "mimetype": "text/x-python",
   "name": "python",
   "nbconvert_exporter": "python",
   "pygments_lexer": "ipython3",
   "version": "3.9.7"
  }
 },
 "nbformat": 4,
 "nbformat_minor": 5
}
