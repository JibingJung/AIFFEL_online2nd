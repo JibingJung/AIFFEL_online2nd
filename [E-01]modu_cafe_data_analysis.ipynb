{
 "cells": [
  {
   "cell_type": "markdown",
   "id": "b78bb752",
   "metadata": {},
   "source": [
    "- 출처가 있는 코드는 코드 뒤에 # 표시를 해놓았으며 해당 코드를 사용한 첫번째 코드블럭 밑에만 출처의 링크를 두었습니다. 이후 반복되는 출처가 있는 코드들은 해당 코드 뒤에 #만 해 두었으며, 모든 출처는 맨 마지막 회고 위에 모아서 정리해두었습니다."
   ]
  },
  {
   "cell_type": "markdown",
   "id": "cc45fbfa",
   "metadata": {},
   "source": [
    "# 3. 데이터 분석\n",
    "--------\n",
    "----------\n",
    "### 3-1 데이터 불러오기\n",
    "---------\n",
    "필요한 라이브러리 호출하기"
   ]
  },
  {
   "cell_type": "code",
   "execution_count": 1,
   "id": "c9787305",
   "metadata": {},
   "outputs": [],
   "source": [
    "import pandas as pd\n",
    "import numpy as np\n",
    "import matplotlib.pyplot as plt\n",
    "plt.style.use('default')\n",
    "import seaborn as sns"
   ]
  },
  {
   "cell_type": "markdown",
   "id": "541ab77e",
   "metadata": {},
   "source": [
    "데이터 호출하기"
   ]
  },
  {
   "cell_type": "code",
   "execution_count": 2,
   "id": "d1b0546e",
   "metadata": {},
   "outputs": [],
   "source": [
    "entry_data = pd.read_csv('~/aiffel/data_analysis_basic/data/entry_data.csv')\n",
    "sales_data = pd.read_csv('~/aiffel/data_analysis_basic/data/sales_data.csv')\n",
    "item_data = pd.read_csv('~/aiffel/data_analysis_basic/data/item_data.csv')\n",
    "item_entry_data = pd.read_csv('~/aiffel/data_analysis_basic/data/item_entry_data.csv')"
   ]
  },
  {
   "cell_type": "markdown",
   "id": "60f0adc3",
   "metadata": {},
   "source": [
    "##### info와 head를 같이 봐야 데이터에 대한 이해가 더 쉽습니다.\n",
    "\n",
    "  "
   ]
  },
  {
   "cell_type": "markdown",
   "id": "578f9db6",
   "metadata": {},
   "source": [
    "  \n",
    "\n",
    "entry_data 데이터 정보 확인하기"
   ]
  },
  {
   "cell_type": "code",
   "execution_count": 3,
   "id": "48ea5c87",
   "metadata": {},
   "outputs": [
    {
     "name": "stdout",
     "output_type": "stream",
     "text": [
      "<class 'pandas.core.frame.DataFrame'>\n",
      "RangeIndex: 22555 entries, 0 to 22554\n",
      "Data columns (total 8 columns):\n",
      " #   Column  Non-Null Count  Dtype \n",
      "---  ------  --------------  ----- \n",
      " 0   요금제명    22292 non-null  object\n",
      " 1   입실      22555 non-null  object\n",
      " 2   퇴실      22555 non-null  object\n",
      " 3   이용      22533 non-null  object\n",
      " 4   위치      22555 non-null  object\n",
      " 5   금액      22555 non-null  int64 \n",
      " 6   구분      22555 non-null  object\n",
      " 7   고객      22555 non-null  object\n",
      "dtypes: int64(1), object(7)\n",
      "memory usage: 1.4+ MB\n",
      "None\n"
     ]
    },
    {
     "data": {
      "text/html": [
       "<div>\n",
       "<style scoped>\n",
       "    .dataframe tbody tr th:only-of-type {\n",
       "        vertical-align: middle;\n",
       "    }\n",
       "\n",
       "    .dataframe tbody tr th {\n",
       "        vertical-align: top;\n",
       "    }\n",
       "\n",
       "    .dataframe thead th {\n",
       "        text-align: right;\n",
       "    }\n",
       "</style>\n",
       "<table border=\"1\" class=\"dataframe\">\n",
       "  <thead>\n",
       "    <tr style=\"text-align: right;\">\n",
       "      <th></th>\n",
       "      <th>요금제명</th>\n",
       "      <th>입실</th>\n",
       "      <th>퇴실</th>\n",
       "      <th>이용</th>\n",
       "      <th>위치</th>\n",
       "      <th>금액</th>\n",
       "      <th>구분</th>\n",
       "      <th>고객</th>\n",
       "    </tr>\n",
       "  </thead>\n",
       "  <tbody>\n",
       "    <tr>\n",
       "      <th>0</th>\n",
       "      <td>시간요금제(1시간)</td>\n",
       "      <td>2022-04-01 23:39</td>\n",
       "      <td>2022-04-02 0:39</td>\n",
       "      <td>오전 1:00:00</td>\n",
       "      <td>선불기2</td>\n",
       "      <td>3000</td>\n",
       "      <td>퇴실</td>\n",
       "      <td>customer263717</td>\n",
       "    </tr>\n",
       "    <tr>\n",
       "      <th>1</th>\n",
       "      <td>시간요금제(1시간)</td>\n",
       "      <td>2022-04-01 23:39</td>\n",
       "      <td>2022-04-02 0:39</td>\n",
       "      <td>오전 1:00:00</td>\n",
       "      <td>선불기2</td>\n",
       "      <td>3000</td>\n",
       "      <td>퇴실</td>\n",
       "      <td>customer263717</td>\n",
       "    </tr>\n",
       "    <tr>\n",
       "      <th>2</th>\n",
       "      <td>무제한 입장권</td>\n",
       "      <td>2022-04-01 20:55</td>\n",
       "      <td>2022-04-01 21:41</td>\n",
       "      <td>오전 12:46:00</td>\n",
       "      <td>선불기2</td>\n",
       "      <td>7400</td>\n",
       "      <td>퇴실</td>\n",
       "      <td>customer247263</td>\n",
       "    </tr>\n",
       "    <tr>\n",
       "      <th>3</th>\n",
       "      <td>무제한 입장권</td>\n",
       "      <td>2022-04-01 20:55</td>\n",
       "      <td>2022-04-01 21:41</td>\n",
       "      <td>오전 12:46:00</td>\n",
       "      <td>선불기2</td>\n",
       "      <td>7400</td>\n",
       "      <td>퇴실</td>\n",
       "      <td>customer247263</td>\n",
       "    </tr>\n",
       "    <tr>\n",
       "      <th>4</th>\n",
       "      <td>한국대생 무제한 입장권</td>\n",
       "      <td>2022-04-01 19:54</td>\n",
       "      <td>2022-04-01 22:28</td>\n",
       "      <td>오전 2:33:00</td>\n",
       "      <td>선불기2</td>\n",
       "      <td>7400</td>\n",
       "      <td>퇴실</td>\n",
       "      <td>customer388928</td>\n",
       "    </tr>\n",
       "  </tbody>\n",
       "</table>\n",
       "</div>"
      ],
      "text/plain": [
       "           요금제명                입실                퇴실           이용    위치    금액  \\\n",
       "0    시간요금제(1시간)  2022-04-01 23:39   2022-04-02 0:39   오전 1:00:00  선불기2  3000   \n",
       "1    시간요금제(1시간)  2022-04-01 23:39   2022-04-02 0:39   오전 1:00:00  선불기2  3000   \n",
       "2       무제한 입장권  2022-04-01 20:55  2022-04-01 21:41  오전 12:46:00  선불기2  7400   \n",
       "3       무제한 입장권  2022-04-01 20:55  2022-04-01 21:41  오전 12:46:00  선불기2  7400   \n",
       "4  한국대생 무제한 입장권  2022-04-01 19:54  2022-04-01 22:28   오전 2:33:00  선불기2  7400   \n",
       "\n",
       "   구분              고객  \n",
       "0  퇴실  customer263717  \n",
       "1  퇴실  customer263717  \n",
       "2  퇴실  customer247263  \n",
       "3  퇴실  customer247263  \n",
       "4  퇴실  customer388928  "
      ]
     },
     "execution_count": 3,
     "metadata": {},
     "output_type": "execute_result"
    }
   ],
   "source": [
    "print(entry_data.info())\n",
    "entry_data.head()"
   ]
  },
  {
   "cell_type": "markdown",
   "id": "6b1039f3",
   "metadata": {},
   "source": [
    "sales_data 데이터 정보 확인하기"
   ]
  },
  {
   "cell_type": "code",
   "execution_count": 4,
   "id": "13c98889",
   "metadata": {},
   "outputs": [
    {
     "name": "stdout",
     "output_type": "stream",
     "text": [
      "<class 'pandas.core.frame.DataFrame'>\n",
      "RangeIndex: 7105 entries, 0 to 7104\n",
      "Data columns (total 8 columns):\n",
      " #   Column  Non-Null Count  Dtype \n",
      "---  ------  --------------  ----- \n",
      " 0   결제일시    7105 non-null   object\n",
      " 1   판매위치    7105 non-null   object\n",
      " 2   상품명     7105 non-null   object\n",
      " 3   결제방식    7105 non-null   object\n",
      " 4   비고      7105 non-null   object\n",
      " 5   판매수량    7105 non-null   int64 \n",
      " 6   결제금액    7105 non-null   object\n",
      " 7   고객      6300 non-null   object\n",
      "dtypes: int64(1), object(7)\n",
      "memory usage: 444.2+ KB\n",
      "None\n"
     ]
    },
    {
     "data": {
      "text/html": [
       "<div>\n",
       "<style scoped>\n",
       "    .dataframe tbody tr th:only-of-type {\n",
       "        vertical-align: middle;\n",
       "    }\n",
       "\n",
       "    .dataframe tbody tr th {\n",
       "        vertical-align: top;\n",
       "    }\n",
       "\n",
       "    .dataframe thead th {\n",
       "        text-align: right;\n",
       "    }\n",
       "</style>\n",
       "<table border=\"1\" class=\"dataframe\">\n",
       "  <thead>\n",
       "    <tr style=\"text-align: right;\">\n",
       "      <th></th>\n",
       "      <th>결제일시</th>\n",
       "      <th>판매위치</th>\n",
       "      <th>상품명</th>\n",
       "      <th>결제방식</th>\n",
       "      <th>비고</th>\n",
       "      <th>판매수량</th>\n",
       "      <th>결제금액</th>\n",
       "      <th>고객</th>\n",
       "    </tr>\n",
       "  </thead>\n",
       "  <tbody>\n",
       "    <tr>\n",
       "      <th>0</th>\n",
       "      <td>2022-04-01 19:41</td>\n",
       "      <td>선불기1</td>\n",
       "      <td>치킨카라아케 6pc</td>\n",
       "      <td>신용카드</td>\n",
       "      <td>결제완료</td>\n",
       "      <td>1</td>\n",
       "      <td>4,500</td>\n",
       "      <td>customer275507</td>\n",
       "    </tr>\n",
       "    <tr>\n",
       "      <th>1</th>\n",
       "      <td>2022-04-01 19:41</td>\n",
       "      <td>선불기1</td>\n",
       "      <td>짜장라면(계란추가)</td>\n",
       "      <td>신용카드</td>\n",
       "      <td>결제완료</td>\n",
       "      <td>1</td>\n",
       "      <td>5,500</td>\n",
       "      <td>customer275507</td>\n",
       "    </tr>\n",
       "    <tr>\n",
       "      <th>2</th>\n",
       "      <td>2022-04-01 19:41</td>\n",
       "      <td>선불기1</td>\n",
       "      <td>라면</td>\n",
       "      <td>신용카드</td>\n",
       "      <td>결제완료</td>\n",
       "      <td>1</td>\n",
       "      <td>4,000</td>\n",
       "      <td>customer275507</td>\n",
       "    </tr>\n",
       "    <tr>\n",
       "      <th>3</th>\n",
       "      <td>2022-04-01 19:41</td>\n",
       "      <td>선불기1</td>\n",
       "      <td>비엔나소세지(토핑)</td>\n",
       "      <td>신용카드</td>\n",
       "      <td>결제완료</td>\n",
       "      <td>1</td>\n",
       "      <td>1,000</td>\n",
       "      <td>customer275507</td>\n",
       "    </tr>\n",
       "    <tr>\n",
       "      <th>4</th>\n",
       "      <td>2022-04-01 19:41</td>\n",
       "      <td>선불기1</td>\n",
       "      <td>라면(계란/치즈추가)</td>\n",
       "      <td>신용카드</td>\n",
       "      <td>결제완료</td>\n",
       "      <td>1</td>\n",
       "      <td>5,000</td>\n",
       "      <td>customer275507</td>\n",
       "    </tr>\n",
       "  </tbody>\n",
       "</table>\n",
       "</div>"
      ],
      "text/plain": [
       "               결제일시  판매위치          상품명  결제방식    비고  판매수량   결제금액  \\\n",
       "0  2022-04-01 19:41  선불기1   치킨카라아케 6pc  신용카드  결제완료     1  4,500   \n",
       "1  2022-04-01 19:41  선불기1   짜장라면(계란추가)  신용카드  결제완료     1  5,500   \n",
       "2  2022-04-01 19:41  선불기1           라면  신용카드  결제완료     1  4,000   \n",
       "3  2022-04-01 19:41  선불기1   비엔나소세지(토핑)  신용카드  결제완료     1  1,000   \n",
       "4  2022-04-01 19:41  선불기1  라면(계란/치즈추가)  신용카드  결제완료     1  5,000   \n",
       "\n",
       "               고객  \n",
       "0  customer275507  \n",
       "1  customer275507  \n",
       "2  customer275507  \n",
       "3  customer275507  \n",
       "4  customer275507  "
      ]
     },
     "execution_count": 4,
     "metadata": {},
     "output_type": "execute_result"
    }
   ],
   "source": [
    "print(sales_data.info())\n",
    "sales_data.head()"
   ]
  },
  {
   "cell_type": "markdown",
   "id": "11741f56",
   "metadata": {},
   "source": [
    "item_data 데이터 정보 확인하기"
   ]
  },
  {
   "cell_type": "code",
   "execution_count": 5,
   "id": "89c86f50",
   "metadata": {},
   "outputs": [
    {
     "name": "stdout",
     "output_type": "stream",
     "text": [
      "<class 'pandas.core.frame.DataFrame'>\n",
      "RangeIndex: 174 entries, 0 to 173\n",
      "Data columns (total 4 columns):\n",
      " #   Column  Non-Null Count  Dtype \n",
      "---  ------  --------------  ----- \n",
      " 0   구분      174 non-null    int64 \n",
      " 1   분류      174 non-null    object\n",
      " 2   상품명     174 non-null    object\n",
      " 3   판매금액    174 non-null    object\n",
      "dtypes: int64(1), object(3)\n",
      "memory usage: 5.6+ KB\n",
      "None\n"
     ]
    },
    {
     "data": {
      "text/html": [
       "<div>\n",
       "<style scoped>\n",
       "    .dataframe tbody tr th:only-of-type {\n",
       "        vertical-align: middle;\n",
       "    }\n",
       "\n",
       "    .dataframe tbody tr th {\n",
       "        vertical-align: top;\n",
       "    }\n",
       "\n",
       "    .dataframe thead th {\n",
       "        text-align: right;\n",
       "    }\n",
       "</style>\n",
       "<table border=\"1\" class=\"dataframe\">\n",
       "  <thead>\n",
       "    <tr style=\"text-align: right;\">\n",
       "      <th></th>\n",
       "      <th>구분</th>\n",
       "      <th>분류</th>\n",
       "      <th>상품명</th>\n",
       "      <th>판매금액</th>\n",
       "    </tr>\n",
       "  </thead>\n",
       "  <tbody>\n",
       "    <tr>\n",
       "      <th>0</th>\n",
       "      <td>1</td>\n",
       "      <td>게임&amp;TV</td>\n",
       "      <td>이어폰(커널형)</td>\n",
       "      <td>3,000원</td>\n",
       "    </tr>\n",
       "    <tr>\n",
       "      <th>1</th>\n",
       "      <td>2</td>\n",
       "      <td>디저트</td>\n",
       "      <td>초코머핀</td>\n",
       "      <td>3,500원</td>\n",
       "    </tr>\n",
       "    <tr>\n",
       "      <th>2</th>\n",
       "      <td>3</td>\n",
       "      <td>디저트</td>\n",
       "      <td>쿠키(초코칩)</td>\n",
       "      <td>1,500원</td>\n",
       "    </tr>\n",
       "    <tr>\n",
       "      <th>3</th>\n",
       "      <td>4</td>\n",
       "      <td>디저트</td>\n",
       "      <td>쿠키(마카다미아)</td>\n",
       "      <td>1,500원</td>\n",
       "    </tr>\n",
       "    <tr>\n",
       "      <th>4</th>\n",
       "      <td>5</td>\n",
       "      <td>디저트</td>\n",
       "      <td>미니마카롱(3개)</td>\n",
       "      <td>2,000원</td>\n",
       "    </tr>\n",
       "  </tbody>\n",
       "</table>\n",
       "</div>"
      ],
      "text/plain": [
       "   구분     분류        상품명    판매금액\n",
       "0   1  게임&TV   이어폰(커널형)  3,000원\n",
       "1   2    디저트       초코머핀  3,500원\n",
       "2   3    디저트    쿠키(초코칩)  1,500원\n",
       "3   4    디저트  쿠키(마카다미아)  1,500원\n",
       "4   5    디저트  미니마카롱(3개)  2,000원"
      ]
     },
     "execution_count": 5,
     "metadata": {},
     "output_type": "execute_result"
    }
   ],
   "source": [
    "print(item_data.info())\n",
    "item_data.head()"
   ]
  },
  {
   "cell_type": "markdown",
   "id": "c1b466c7",
   "metadata": {},
   "source": [
    "item_entry_data 데이터 정보 확인하기"
   ]
  },
  {
   "cell_type": "code",
   "execution_count": 6,
   "id": "8d6ee1e3",
   "metadata": {},
   "outputs": [
    {
     "name": "stdout",
     "output_type": "stream",
     "text": [
      "<class 'pandas.core.frame.DataFrame'>\n",
      "RangeIndex: 34 entries, 0 to 33\n",
      "Data columns (total 4 columns):\n",
      " #   Column  Non-Null Count  Dtype \n",
      "---  ------  --------------  ----- \n",
      " 0   순위      34 non-null     int64 \n",
      " 1   분류      34 non-null     object\n",
      " 2   상품명     34 non-null     object\n",
      " 3   판매금액    34 non-null     object\n",
      "dtypes: int64(1), object(3)\n",
      "memory usage: 1.2+ KB\n",
      "None\n"
     ]
    },
    {
     "data": {
      "text/html": [
       "<div>\n",
       "<style scoped>\n",
       "    .dataframe tbody tr th:only-of-type {\n",
       "        vertical-align: middle;\n",
       "    }\n",
       "\n",
       "    .dataframe tbody tr th {\n",
       "        vertical-align: top;\n",
       "    }\n",
       "\n",
       "    .dataframe thead th {\n",
       "        text-align: right;\n",
       "    }\n",
       "</style>\n",
       "<table border=\"1\" class=\"dataframe\">\n",
       "  <thead>\n",
       "    <tr style=\"text-align: right;\">\n",
       "      <th></th>\n",
       "      <th>순위</th>\n",
       "      <th>분류</th>\n",
       "      <th>상품명</th>\n",
       "      <th>판매금액</th>\n",
       "    </tr>\n",
       "  </thead>\n",
       "  <tbody>\n",
       "    <tr>\n",
       "      <th>0</th>\n",
       "      <td>1</td>\n",
       "      <td>한국대생</td>\n",
       "      <td>한국대생 요금제</td>\n",
       "      <td>2,000원</td>\n",
       "    </tr>\n",
       "    <tr>\n",
       "      <th>1</th>\n",
       "      <td>2</td>\n",
       "      <td>심야-조조</td>\n",
       "      <td>심야-조조 요금제</td>\n",
       "      <td>5,000원</td>\n",
       "    </tr>\n",
       "    <tr>\n",
       "      <th>2</th>\n",
       "      <td>3</td>\n",
       "      <td>일반인</td>\n",
       "      <td>일반요금제</td>\n",
       "      <td>2,500원</td>\n",
       "    </tr>\n",
       "    <tr>\n",
       "      <th>3</th>\n",
       "      <td>4</td>\n",
       "      <td>한국대생</td>\n",
       "      <td>한국대생 요금제</td>\n",
       "      <td>2,500원</td>\n",
       "    </tr>\n",
       "    <tr>\n",
       "      <th>4</th>\n",
       "      <td>5</td>\n",
       "      <td>일반인</td>\n",
       "      <td>일반요금제</td>\n",
       "      <td>2,000원</td>\n",
       "    </tr>\n",
       "  </tbody>\n",
       "</table>\n",
       "</div>"
      ],
      "text/plain": [
       "   순위     분류        상품명    판매금액\n",
       "0   1   한국대생   한국대생 요금제  2,000원\n",
       "1   2  심야-조조  심야-조조 요금제  5,000원\n",
       "2   3    일반인      일반요금제  2,500원\n",
       "3   4   한국대생   한국대생 요금제  2,500원\n",
       "4   5    일반인      일반요금제  2,000원"
      ]
     },
     "execution_count": 6,
     "metadata": {},
     "output_type": "execute_result"
    }
   ],
   "source": [
    "print(item_entry_data.info())\n",
    "item_entry_data.head()"
   ]
  },
  {
   "cell_type": "markdown",
   "id": "ce7d0b54",
   "metadata": {},
   "source": [
    "---------------\n",
    "##### 루브릭 기준\n",
    "1. 필수 문제 세 가지를 모두 해결하였습니다."
   ]
  },
  {
   "cell_type": "markdown",
   "id": "110842eb",
   "metadata": {},
   "source": [
    "--------\n",
    "----------\n",
    "### 3-2 데이터 분석하기\n",
    "----------\n",
    "--------\n",
    "\n",
    "### 필수 문제1 : 월별 매출액 추세(sales_data를 이용합니다.)\n",
    "-----------\n",
    "\n",
    "###### 월별 매출액 추세를 집계하고 그 결과를 시각화해봅니다.\n",
    "------"
   ]
  },
  {
   "cell_type": "markdown",
   "id": "71889a56",
   "metadata": {},
   "source": [
    "활용할 데이터(sales_data)를 temp_var로 정의하기"
   ]
  },
  {
   "cell_type": "code",
   "execution_count": 7,
   "id": "1ca2196c",
   "metadata": {},
   "outputs": [],
   "source": [
    "temp_var = sales_data"
   ]
  },
  {
   "cell_type": "markdown",
   "id": "252772c2",
   "metadata": {},
   "source": [
    "temp_var의 date열을 만들고, sales_date의 결제일시 중 앞에서 7번째 값까지 할당"
   ]
  },
  {
   "cell_type": "code",
   "execution_count": 8,
   "id": "199660b4",
   "metadata": {},
   "outputs": [],
   "source": [
    "temp_var['date'] = sales_data['결제일시'].str[:7]"
   ]
  },
  {
   "cell_type": "markdown",
   "id": "26c1b8b6",
   "metadata": {},
   "source": [
    "sales_data의 결제금액에는 쉼표(,)가 들어있어서 현재 문자열로 인식되고 있어요. 따라서 쉼표를 지우고, 문자열을 숫자로 바꿔줘야합니다."
   ]
  },
  {
   "cell_type": "code",
   "execution_count": 9,
   "id": "cc70682f",
   "metadata": {},
   "outputs": [],
   "source": [
    "sales_data['결제금액'] = sales_data['결제금액'].str.replace(',','')"
   ]
  },
  {
   "cell_type": "markdown",
   "id": "7053e616",
   "metadata": {},
   "source": [
    "sales_data의 결제금액을 숫자형태로 바꾸기"
   ]
  },
  {
   "cell_type": "code",
   "execution_count": 10,
   "id": "c1f3a450",
   "metadata": {},
   "outputs": [],
   "source": [
    "sales_data['결제금액'] = sales_data['결제금액'].astype('int64')"
   ]
  },
  {
   "cell_type": "markdown",
   "id": "62e7bb0d",
   "metadata": {},
   "source": [
    "temp_var의 결제금액 열을 date 기준으로 집계하기"
   ]
  },
  {
   "cell_type": "code",
   "execution_count": 11,
   "id": "5ee71447",
   "metadata": {},
   "outputs": [],
   "source": [
    "payment_data = temp_var['결제금액'].groupby(temp_var['date']).sum()"
   ]
  },
  {
   "cell_type": "markdown",
   "id": "c7b4b06d",
   "metadata": {},
   "source": [
    "집계 결과를 시각화하기"
   ]
  },
  {
   "cell_type": "code",
   "execution_count": 12,
   "id": "0797f64d",
   "metadata": {},
   "outputs": [
    {
     "data": {
      "image/png": "[encoded data removed]",
      "text/plain": [
       "<Figure size 640x480 with 1 Axes>"
      ]
     },
     "metadata": {},
     "output_type": "display_data"
    }
   ],
   "source": [
    "ax = payment_data.plot(kind='bar')\n",
    "\n",
    "plt.ticklabel_format(axis='y',useOffset=False, style='plain') #출처 참고\n",
    "\n",
    "plt.title('Sales by Months')\n",
    "plt.xlabel('Month')\n",
    "plt.ylabel('Sales')\n",
    "plt.show()"
   ]
  },
  {
   "cell_type": "markdown",
   "id": "d47e2553",
   "metadata": {},
   "source": [
    "- plt.ticklabel_format(axis='y',useOffset=False, style='plain') #출처 참고: https://code-code.tistory.com/104"
   ]
  },
  {
   "cell_type": "markdown",
   "id": "38d38349",
   "metadata": {},
   "source": [
    "-----  \n",
    "-----\n",
    "### 필수 문제2: 가장 인기 있는 음식/음료(sales_data를 이용합니다.)\n",
    "------\n",
    "##### 여러 메뉴들(음식,음료)을 판매 개수 순으로 정렬하고 상위 10개를 뽑아 결과를 시각화해봅니다.\n",
    "-----"
   ]
  },
  {
   "cell_type": "markdown",
   "id": "3529b664",
   "metadata": {},
   "source": [
    "temp_var의 상품명을 value_counts를 이용해 집계하기\n",
    "\n",
    "\n",
    "주의! value_counts로 바로 집계하면 판매취소와 결제취소가 함께 집계됩니다.\n",
    "\n",
    "\n",
    "따라서 '판매수량' 칼럼 값이 '-1'인 데이터를 제외하고 집계해야 합니다."
   ]
  },
  {
   "cell_type": "code",
   "execution_count": 13,
   "id": "bcaa5a83",
   "metadata": {},
   "outputs": [],
   "source": [
    "item_name = temp_var[temp_var['판매수량']!=-1].value_counts()"
   ]
  },
  {
   "cell_type": "markdown",
   "id": "1912a19b",
   "metadata": {},
   "source": [
    "집계 결과를 데이터프레임으로 변환하고, 상위 10개 선정하기"
   ]
  },
  {
   "cell_type": "code",
   "execution_count": 14,
   "id": "74634e20",
   "metadata": {},
   "outputs": [
    {
     "data": {
      "text/html": [
       "<div>\n",
       "<style scoped>\n",
       "    .dataframe tbody tr th:only-of-type {\n",
       "        vertical-align: middle;\n",
       "    }\n",
       "\n",
       "    .dataframe tbody tr th {\n",
       "        vertical-align: top;\n",
       "    }\n",
       "\n",
       "    .dataframe thead th {\n",
       "        text-align: right;\n",
       "    }\n",
       "</style>\n",
       "<table border=\"1\" class=\"dataframe\">\n",
       "  <thead>\n",
       "    <tr style=\"text-align: right;\">\n",
       "      <th></th>\n",
       "      <th></th>\n",
       "      <th></th>\n",
       "      <th></th>\n",
       "      <th></th>\n",
       "      <th></th>\n",
       "      <th></th>\n",
       "      <th></th>\n",
       "      <th></th>\n",
       "      <th>0</th>\n",
       "    </tr>\n",
       "    <tr>\n",
       "      <th>결제일시</th>\n",
       "      <th>판매위치</th>\n",
       "      <th>상품명</th>\n",
       "      <th>결제방식</th>\n",
       "      <th>비고</th>\n",
       "      <th>판매수량</th>\n",
       "      <th>결제금액</th>\n",
       "      <th>고객</th>\n",
       "      <th>date</th>\n",
       "      <th></th>\n",
       "    </tr>\n",
       "  </thead>\n",
       "  <tbody>\n",
       "    <tr>\n",
       "      <th rowspan=\"2\" valign=\"top\">2021-10-05 13:33</th>\n",
       "      <th rowspan=\"2\" valign=\"top\">선불기1</th>\n",
       "      <th>치즈추가</th>\n",
       "      <th>현금</th>\n",
       "      <th>결제완료</th>\n",
       "      <th>1</th>\n",
       "      <th>500</th>\n",
       "      <th>customer803089</th>\n",
       "      <th>2021-10</th>\n",
       "      <td>4</td>\n",
       "    </tr>\n",
       "    <tr>\n",
       "      <th>라면</th>\n",
       "      <th>현금</th>\n",
       "      <th>결제완료</th>\n",
       "      <th>1</th>\n",
       "      <th>4000</th>\n",
       "      <th>customer803089</th>\n",
       "      <th>2021-10</th>\n",
       "      <td>4</td>\n",
       "    </tr>\n",
       "    <tr>\n",
       "      <th>2021-10-07 10:05</th>\n",
       "      <th>선불기1</th>\n",
       "      <th>시럽추가</th>\n",
       "      <th>신용카드</th>\n",
       "      <th>결제완료</th>\n",
       "      <th>1</th>\n",
       "      <th>500</th>\n",
       "      <th>customer777135</th>\n",
       "      <th>2021-10</th>\n",
       "      <td>4</td>\n",
       "    </tr>\n",
       "    <tr>\n",
       "      <th>2021-06-19 21:02</th>\n",
       "      <th>선불기1</th>\n",
       "      <th>라면</th>\n",
       "      <th>신용카드</th>\n",
       "      <th>결제완료</th>\n",
       "      <th>1</th>\n",
       "      <th>4000</th>\n",
       "      <th>customer283589</th>\n",
       "      <th>2021-06</th>\n",
       "      <td>4</td>\n",
       "    </tr>\n",
       "    <tr>\n",
       "      <th>2021-06-14 11:37</th>\n",
       "      <th>선불기1</th>\n",
       "      <th>치즈추가</th>\n",
       "      <th>신용카드</th>\n",
       "      <th>결제완료</th>\n",
       "      <th>1</th>\n",
       "      <th>500</th>\n",
       "      <th>customer950393</th>\n",
       "      <th>2021-06</th>\n",
       "      <td>3</td>\n",
       "    </tr>\n",
       "    <tr>\n",
       "      <th>2021-03-23 13:41</th>\n",
       "      <th>선불기1</th>\n",
       "      <th>계란추가</th>\n",
       "      <th>신용카드</th>\n",
       "      <th>결제완료</th>\n",
       "      <th>1</th>\n",
       "      <th>500</th>\n",
       "      <th>customer556974</th>\n",
       "      <th>2021-03</th>\n",
       "      <td>3</td>\n",
       "    </tr>\n",
       "    <tr>\n",
       "      <th>2021-11-29 19:20</th>\n",
       "      <th>선불기1</th>\n",
       "      <th>김치볶음밥</th>\n",
       "      <th>신용카드</th>\n",
       "      <th>결제완료</th>\n",
       "      <th>1</th>\n",
       "      <th>5000</th>\n",
       "      <th>customer975556</th>\n",
       "      <th>2021-11</th>\n",
       "      <td>3</td>\n",
       "    </tr>\n",
       "    <tr>\n",
       "      <th>2021-06-16 12:17</th>\n",
       "      <th>선불기1</th>\n",
       "      <th>라면</th>\n",
       "      <th>신용카드</th>\n",
       "      <th>결제완료</th>\n",
       "      <th>1</th>\n",
       "      <th>4000</th>\n",
       "      <th>customer996256</th>\n",
       "      <th>2021-06</th>\n",
       "      <td>3</td>\n",
       "    </tr>\n",
       "    <tr>\n",
       "      <th>2021-08-22 17:12</th>\n",
       "      <th>선불기1</th>\n",
       "      <th>라면</th>\n",
       "      <th>신용카드</th>\n",
       "      <th>결제완료</th>\n",
       "      <th>1</th>\n",
       "      <th>4000</th>\n",
       "      <th>customer439220</th>\n",
       "      <th>2021-08</th>\n",
       "      <td>3</td>\n",
       "    </tr>\n",
       "    <tr>\n",
       "      <th>2021-04-25 18:31</th>\n",
       "      <th>선불기1</th>\n",
       "      <th>김치볶음밥</th>\n",
       "      <th>신용카드</th>\n",
       "      <th>결제완료</th>\n",
       "      <th>1</th>\n",
       "      <th>5000</th>\n",
       "      <th>customer304481</th>\n",
       "      <th>2021-04</th>\n",
       "      <td>3</td>\n",
       "    </tr>\n",
       "  </tbody>\n",
       "</table>\n",
       "</div>"
      ],
      "text/plain": [
       "                                                                        0\n",
       "결제일시             판매위치 상품명   결제방식 비고   판매수량 결제금액 고객             date      \n",
       "2021-10-05 13:33 선불기1 치즈추가  현금   결제완료 1    500  customer803089 2021-10  4\n",
       "                      라면    현금   결제완료 1    4000 customer803089 2021-10  4\n",
       "2021-10-07 10:05 선불기1 시럽추가  신용카드 결제완료 1    500  customer777135 2021-10  4\n",
       "2021-06-19 21:02 선불기1 라면    신용카드 결제완료 1    4000 customer283589 2021-06  4\n",
       "2021-06-14 11:37 선불기1 치즈추가  신용카드 결제완료 1    500  customer950393 2021-06  3\n",
       "2021-03-23 13:41 선불기1 계란추가  신용카드 결제완료 1    500  customer556974 2021-03  3\n",
       "2021-11-29 19:20 선불기1 김치볶음밥 신용카드 결제완료 1    5000 customer975556 2021-11  3\n",
       "2021-06-16 12:17 선불기1 라면    신용카드 결제완료 1    4000 customer996256 2021-06  3\n",
       "2021-08-22 17:12 선불기1 라면    신용카드 결제완료 1    4000 customer439220 2021-08  3\n",
       "2021-04-25 18:31 선불기1 김치볶음밥 신용카드 결제완료 1    5000 customer304481 2021-04  3"
      ]
     },
     "execution_count": 14,
     "metadata": {},
     "output_type": "execute_result"
    }
   ],
   "source": [
    "item_name = pd.DataFrame(item_name)\n",
    "item_name[:10]"
   ]
  },
  {
   "cell_type": "markdown",
   "id": "7ec7545e",
   "metadata": {},
   "source": [
    "한글이 포함된 시각화를 위해 Matplotlib 설정"
   ]
  },
  {
   "cell_type": "code",
   "execution_count": 15,
   "id": "ed881065",
   "metadata": {},
   "outputs": [],
   "source": [
    "import matplotlib.pyplot as plt\n",
    "plt.rc('font', family='NanumGothic') # 출처 참고"
   ]
  },
  {
   "cell_type": "markdown",
   "id": "151f7c51",
   "metadata": {},
   "source": [
    "- plt.rc('font', family='NanumGothic') # 출처 참고: https://m.blog.naver.com/PostView.naver?isHttpsRedirect=true&blogId=wideeyed&logNo=221225208497"
   ]
  },
  {
   "cell_type": "markdown",
   "id": "a32f5f1e",
   "metadata": {},
   "source": [
    "집계 결과를 시각화하기"
   ]
  },
  {
   "cell_type": "code",
   "execution_count": 16,
   "id": "70688716",
   "metadata": {},
   "outputs": [
    {
     "data": {
      "image/png": "[encoded data removed]",
      "text/plain": [
       "<Figure size 640x480 with 1 Axes>"
      ]
     },
     "metadata": {},
     "output_type": "display_data"
    }
   ],
   "source": [
    "item_name[:10].plot(kind='bar')\n",
    "\n",
    "plt.ylabel('개')\n",
    "plt.title('판매 개수')\n",
    "plt.show()"
   ]
  },
  {
   "cell_type": "markdown",
   "id": "a55c6b9d",
   "metadata": {},
   "source": [
    "##### 여러 메뉴들(음식,음료)을 판매 매출(판매 개수 x 결제 금액) 순으로 정렬하고 상위 10개를 뽑아 결과를 시각화해봅니다."
   ]
  },
  {
   "cell_type": "markdown",
   "id": "38075ea8",
   "metadata": {},
   "source": [
    "temp_var의 결제금액 열을 상품명을 기준으로 집계하기"
   ]
  },
  {
   "cell_type": "code",
   "execution_count": 17,
   "id": "e7924570",
   "metadata": {},
   "outputs": [],
   "source": [
    "item_payment = temp_var['결제금액'].groupby(temp_var['상품명'][temp_var['판매수량']!=-1]).sum()"
   ]
  },
  {
   "cell_type": "markdown",
   "id": "d4bb9f1d",
   "metadata": {},
   "source": [
    "temp_var의 payment열을 상품명을 기준으로 집계하기"
   ]
  },
  {
   "cell_type": "code",
   "execution_count": 18,
   "id": "43644009",
   "metadata": {},
   "outputs": [
    {
     "data": {
      "text/plain": [
       "상품명\n",
       "김치볶음밥         6004400\n",
       "라면            2941500\n",
       "치즈불고기볶음밥      2292600\n",
       "짜장라면          2038500\n",
       "낙지볶음밥         1710700\n",
       "새우볶음밥         1539800\n",
       "치즈감자튀김        1354200\n",
       "감자튀김          1083800\n",
       "아메리카노(ICE)    1058100\n",
       "불닭볶음면          693000\n",
       "Name: 결제금액, dtype: int64"
      ]
     },
     "execution_count": 18,
     "metadata": {},
     "output_type": "execute_result"
    }
   ],
   "source": [
    "item_payment.sort_values(ascending=False)[:10]"
   ]
  },
  {
   "cell_type": "markdown",
   "id": "e6380934",
   "metadata": {},
   "source": [
    "집계 결과 시각화하기"
   ]
  },
  {
   "cell_type": "code",
   "execution_count": 19,
   "id": "f7c1ab17",
   "metadata": {},
   "outputs": [
    {
     "data": {
      "image/png": "[encoded data removed]",
      "text/plain": [
       "<Figure size 640x480 with 1 Axes>"
      ]
     },
     "metadata": {},
     "output_type": "display_data"
    }
   ],
   "source": [
    "item_payment[:10].plot(kind='bar')\n",
    "\n",
    "plt.ticklabel_format(axis='y',useOffset=False, style='plain') # 출처 참고\n",
    "\n",
    "plt.ylabel('원')\n",
    "plt.title('판매 매출')\n",
    "plt.show()"
   ]
  },
  {
   "cell_type": "markdown",
   "id": "748eca87",
   "metadata": {},
   "source": [
    "--------\n",
    "--------- \n",
    "### 필수 문제3: 가장 많이 팔린 입장권 종류(entry_data를 이용합니다.)\n",
    "\n",
    "##### 여러 입장권 종류를 판매 매출(판매 개수 x 금액) 순으로 정렬하고 상위 10개를 뽑아 결과를 시각화해봅니다.\n",
    "\n",
    "-----------\n",
    "\n",
    "활용할 데이터(entry_data)를 temp_var로 정의하기"
   ]
  },
  {
   "cell_type": "code",
   "execution_count": 20,
   "id": "09a84172",
   "metadata": {},
   "outputs": [],
   "source": [
    "temp_var = entry_data"
   ]
  },
  {
   "cell_type": "markdown",
   "id": "103d6f88",
   "metadata": {},
   "source": [
    "temp_var의 금액을 숫자형태로 변환하기"
   ]
  },
  {
   "cell_type": "code",
   "execution_count": 21,
   "id": "577324fc",
   "metadata": {},
   "outputs": [],
   "source": [
    "temp_var['금액'] = temp_var['금액'].astype('int64')"
   ]
  },
  {
   "cell_type": "markdown",
   "id": "dfb272e0",
   "metadata": {},
   "source": [
    "temp_var의 금액을 요금제명을 기준으로 집계하기"
   ]
  },
  {
   "cell_type": "code",
   "execution_count": 22,
   "id": "553a0c18",
   "metadata": {},
   "outputs": [],
   "source": [
    "tickets = temp_var['금액'].groupby(temp_var['요금제명']).sum()"
   ]
  },
  {
   "cell_type": "markdown",
   "id": "cd69492f",
   "metadata": {},
   "source": [
    "tickets의 값을 내림차순으로 정렬하고 상위 10개 도출하기"
   ]
  },
  {
   "cell_type": "code",
   "execution_count": 23,
   "id": "1729502d",
   "metadata": {},
   "outputs": [
    {
     "data": {
      "text/plain": [
       "요금제명\n",
       "한국대생 입장권(종일권)      70037000\n",
       "입장권(종일권)           23570500\n",
       "심야-조조무제한(06시까지)    11600000\n",
       "심야-조조무제한            6221000\n",
       "한국대생 무제한 입장권        5207500\n",
       "시간요금제(1시간)          2665500\n",
       "시간요금제(3시간)          2042000\n",
       "무제한 입장권             1568600\n",
       "18시이후 무제한           1330500\n",
       "조조무제한                693000\n",
       "Name: 금액, dtype: int64"
      ]
     },
     "execution_count": 23,
     "metadata": {},
     "output_type": "execute_result"
    }
   ],
   "source": [
    "tickets.sort_values(ascending=False)[:10]"
   ]
  },
  {
   "cell_type": "markdown",
   "id": "23068985",
   "metadata": {},
   "source": [
    "집계 결과 시각화하기"
   ]
  },
  {
   "cell_type": "code",
   "execution_count": 24,
   "id": "2f24e4c1",
   "metadata": {},
   "outputs": [
    {
     "data": {
      "image/png": "[encoded data removed]",
      "text/plain": [
       "<Figure size 640x480 with 1 Axes>"
      ]
     },
     "metadata": {},
     "output_type": "display_data"
    }
   ],
   "source": [
    "ax = tickets.plot(kind='bar')\n",
    "\n",
    "plt.ticklabel_format(axis='y',useOffset=False, style='plain') # 출처 참고\n",
    "\n",
    "plt.title('가장 많이 팔린 입장권')\n",
    "plt.xlabel('요금제')\n",
    "plt.ylabel('매출')\n",
    "plt.show()"
   ]
  },
  {
   "cell_type": "markdown",
   "id": "2e8f4a8e",
   "metadata": {},
   "source": [
    "------\n",
    "-------\n",
    "------\n",
    "##### 루브릭 기준\n",
    "2. 프로젝트를 통해 해결하고 싶은 문제를 정의하고 제공된 데이터에서 문제 해결에 필요한 부분을 선별해냈고, 이를 확인하기 위해 적절한 형태로 일부 전처리하였습니다."
   ]
  },
  {
   "cell_type": "markdown",
   "id": "c1a4a41a",
   "metadata": {},
   "source": [
    "-----------------------------------\n",
    "-------\n",
    "### 여러분이 이번 프로젝트에서 해결하고 싶은 문제(Key Question)는 무엇입니까?\n",
    "\n",
    "### '모두카페'에게 전달하고 싶은 핵심적인 분석은 무엇인가요?\n",
    "-----------"
   ]
  },
  {
   "cell_type": "markdown",
   "id": "22c7e158",
   "metadata": {},
   "source": [
    "##### : 스터디카페 특성상 시험기간에는 매출이 올라갈 것으로 예상되어, 성수기와 비수기에 따른 총 매출액(입장료 +음식/음료) 추세를 파악하고 비수기의 매출 증가 방안을 제시하고 싶다.\n",
    "\n",
    "---------"
   ]
  },
  {
   "cell_type": "markdown",
   "id": "62f98f5a",
   "metadata": {},
   "source": [
    "  \n",
    "### 내가 정의한 문제 해결하기"
   ]
  },
  {
   "cell_type": "markdown",
   "id": "592bb370",
   "metadata": {},
   "source": [
    "sales_data는 스터디카페의 본질인 '입장료의 매출'이 미포함된 채 마치 매출의 전부가 음식 및 음료 판매인 것처럼 되어있었다.\n",
    "\n",
    "\n",
    "우선 시험기간에는 입장료, 음식/음료 매출이 포함된 총 매출이 올라갈 것이라는 가정을 확인하기 위해, entry_payment_data를 만들어서 입장료만의 매출을 월별로 확인해보기로 했다."
   ]
  },
  {
   "cell_type": "code",
   "execution_count": 25,
   "id": "f55e0dad",
   "metadata": {},
   "outputs": [
    {
     "data": {
      "image/png": "[encoded data removed]",
      "text/plain": [
       "<Figure size 640x480 with 1 Axes>"
      ]
     },
     "metadata": {},
     "output_type": "display_data"
    }
   ],
   "source": [
    "temp_var_entry = entry_data\n",
    "temp_var_entry['date'] = entry_data['퇴실'].str[:7]\n",
    "entry_payment_data = temp_var_entry['금액'].groupby(temp_var_entry['date']).sum()\n",
    "\n",
    "ax = entry_payment_data.plot(kind='bar')\n",
    "\n",
    "plt.ticklabel_format(axis='y',useOffset=False, style='plain') #\n",
    "\n",
    "plt.title('월별 입장료 매출')\n",
    "plt.xlabel('월')\n",
    "plt.ylabel('입장료 매출')\n",
    "plt.show()"
   ]
  },
  {
   "cell_type": "markdown",
   "id": "e802e915",
   "metadata": {},
   "source": [
    "입장료 매출 또한 음식/음료 매출과 비슷한 양상을 보인다.\n",
    "\n",
    "  \n",
    "음식/음료 매출과 입장료 매출이 통합적으로 계산된 총 매출액을 total_payment_data로 시각화해봤다."
   ]
  },
  {
   "cell_type": "code",
   "execution_count": 26,
   "id": "aeb17b8f",
   "metadata": {},
   "outputs": [
    {
     "data": {
      "image/png": "[encoded data removed]",
      "text/plain": [
       "<Figure size 640x480 with 1 Axes>"
      ]
     },
     "metadata": {},
     "output_type": "display_data"
    }
   ],
   "source": [
    "total_payment_data = entry_payment_data + payment_data\n",
    "\n",
    "ax = total_payment_data.plot(kind='bar')\n",
    "\n",
    "plt.ticklabel_format(axis='y',useOffset=False, style='plain') #\n",
    "plt.title('월별 총 매출')\n",
    "plt.xlabel('월')\n",
    "plt.ylabel('총 매출')\n",
    "plt.show()"
   ]
  },
  {
   "cell_type": "markdown",
   "id": "18f105ef",
   "metadata": {},
   "source": [
    "역시 대학가답게 학기 중에만 매출이 증가한 것을 확인할 수 있었다. 그렇다면 매출에 __한국대생이 차지하는 비율__이 얼마나 될지 일반고객과 비교해보기로 했다. 앞서 필수문제 3의 결과로 가장 많이 팔린 입장권이 '한국대생 입장권(종일권)'이었던 것으로 보아 꽤 큰 비중을 차지할 것으로 예상한다. 우선 한국대생 관련 입장권의 개수를 확인해보기로 했다. 그런데 전체 입장권의 개수가 위 아래로 5개씩만 보여서 전체 종류를 확인하기 위해 출력되는 개수를 늘려야 했다."
   ]
  },
  {
   "cell_type": "code",
   "execution_count": 27,
   "id": "acf9bb11",
   "metadata": {},
   "outputs": [
    {
     "name": "stdout",
     "output_type": "stream",
     "text": [
      "    순위     분류        상품명    판매금액\n",
      "0    1   한국대생   한국대생 요금제  2,000원\n",
      "1    2  심야-조조  심야-조조 요금제  5,000원\n",
      "2    3    일반인      일반요금제  2,500원\n",
      "3    4   한국대생   한국대생 요금제  2,500원\n",
      "4    5    일반인      일반요금제  2,000원\n",
      "5    6   한국대생   한국대생 요금제  1,500원\n",
      "6    7  18시이후    거리두기4단계  1,000원\n",
      "7    8  심야-조조  심야-조조 요금제  2,500원\n",
      "8    9    일반인      일반요금제  3,000원\n",
      "9   10    일반인      일반요금제  7,000원\n",
      "10  11  심야-조조  심야-조조 요금제  4,000원\n",
      "11  12  심야-조조  심야-조조 요금제  6,000원\n",
      "12  13  심야-조조  심야-조조 요금제  7,000원\n",
      "13  14   한국대생   한국대생 요금제  7,000원\n",
      "14  15   한국대생   한국대생 요금제  3,000원\n",
      "15  16  18시이후    거리두기4단계  2,500원\n",
      "16  17  심야-조조  심야-조조 요금제  3,000원\n",
      "17  18  18시이후       마감요금  2,500원\n",
      "18  19     기본      기본요금제  2,500원\n",
      "19  20    일반인      일반요금제  8,000원\n",
      "20  21  심야-조조  심야-조조 요금제  8,000원\n",
      "21  22  심야-조조   추석당일 요금제  5,000원\n",
      "22  23  심야-조조   추석당일 요금제  7,000원\n",
      "23  24     기본      기본요금제  2,000원\n",
      "24  25   한국대생   한국대생 요금제  8,000원\n",
      "25  26  18시이후    거리두기4단계  7,000원\n",
      "26  27     기본      기본요금제  2,400원\n",
      "27  28   기본그룹      기본요금제  2,500원\n",
      "28  29    일반인      일반요금제  6,000원\n",
      "29  30  심야-조조   추석당일 요금제  2,500원\n",
      "30  31   기본그룹      기본요금제  2,000원\n",
      "31  32    일반인      일반요금제  3,500원\n",
      "32  33    일반인      일반요금제  6,500원\n",
      "33  34   한국대생   한국대생 요금제  4,900원\n"
     ]
    }
   ],
   "source": [
    "pd.set_option('display.max_rows', None) #\n",
    "print(item_entry_data)\n",
    "pd.options.display.max_rows = 10 #"
   ]
  },
  {
   "cell_type": "markdown",
   "id": "30c1030c",
   "metadata": {},
   "source": [
    "- pd.set_option('display.max_rows', None) #\n",
    "- pd.options.display.max_rows = 10 #\n",
    "- 출처: https://zephyrus1111.tistory.com/44"
   ]
  },
  {
   "cell_type": "markdown",
   "id": "97ffde71",
   "metadata": {},
   "source": [
    "그런데 entry_data와 item_entry_data의 상품명이 무관하여 데이터 분석에 __entry_data__를 기준으로 사용하기로 했다."
   ]
  },
  {
   "cell_type": "code",
   "execution_count": 28,
   "id": "acc0f799",
   "metadata": {},
   "outputs": [
    {
     "name": "stdout",
     "output_type": "stream",
     "text": [
      "요금제명\n",
      "18시이후 무제한            251\n",
      "1시간                   36\n",
      "1시간 요금제                7\n",
      "3시간                    3\n",
      "기간권                 1034\n",
      "무제한 입장권              198\n",
      "무제한(일반요금)              1\n",
      "무제한(한국대생)              2\n",
      "시간 요금제(1시간당)          10\n",
      "시간권                  138\n",
      "시간요금제                  2\n",
      "시간요금제(1시간)          1048\n",
      "시간요금제(1시간당)            9\n",
      "시간요금제(3시간)           289\n",
      "심야-조조무제한            1223\n",
      "심야-조조무제한(06시까지)     2320\n",
      "이용권                   14\n",
      "입장권(종일권)            3498\n",
      "조조무제한                161\n",
      "종일요금제                 37\n",
      "한국대생 무제한 입장권         714\n",
      "한국대생 입장권(종일권)      11297\n",
      "dtype: int64\n"
     ]
    }
   ],
   "source": [
    "pd.set_option('display.max_rows', None) #\n",
    "print(entry_data.groupby('요금제명').size())\n",
    "pd.options.display.max_rows = 10 #"
   ]
  },
  {
   "cell_type": "markdown",
   "id": "6716b74a",
   "metadata": {},
   "source": [
    "한국대생 관련 요금제로는 '무제한(한국대생)', '한국대생 무제한 입장권', '한국대생 입장권(종일권)'으로 총 세 가지가 있다.  \n",
    "세 종류의 입장권을 구매한 고객을 __student_entry_data__, 이외의 입장권을 구매한 고객을 __normal_entry_data__로 구분해보자."
   ]
  },
  {
   "cell_type": "code",
   "execution_count": 29,
   "id": "d0246ca7",
   "metadata": {},
   "outputs": [],
   "source": [
    "temporary_data = entry_data.set_index('요금제명')\n",
    "student_entry_data = temporary_data.loc[['무제한(한국대생)', '한국대생 무제한 입장권', '한국대생 입장권(종일권)']].reset_index()\n",
    "normal_entry_data = temporary_data.drop(['무제한(한국대생)', '한국대생 무제한 입장권', '한국대생 입장권(종일권)']).reset_index()"
   ]
  },
  {
   "cell_type": "markdown",
   "id": "f016f2d4",
   "metadata": {},
   "source": [
    "student_entry_data와 normal_entry_data의 __결측치__가 있는지 알아보자."
   ]
  },
  {
   "cell_type": "code",
   "execution_count": 30,
   "id": "27117b42",
   "metadata": {},
   "outputs": [
    {
     "name": "stdout",
     "output_type": "stream",
     "text": [
      "<student_entry_data>\n",
      " 요금제명     0\n",
      "입실       0\n",
      "퇴실       0\n",
      "이용      14\n",
      "위치       0\n",
      "금액       0\n",
      "구분       0\n",
      "고객       0\n",
      "date     0\n",
      "dtype: int64\n",
      "\n",
      "<normal_entry_data>\n",
      " 요금제명    263\n",
      "입실        0\n",
      "퇴실        0\n",
      "이용        8\n",
      "위치        0\n",
      "금액        0\n",
      "구분        0\n",
      "고객        0\n",
      "date      0\n",
      "dtype: int64\n"
     ]
    }
   ],
   "source": [
    "print('<student_entry_data>\\n', student_entry_data.isnull().sum())\n",
    "print('\\n<normal_entry_data>\\n', normal_entry_data.isnull().sum())"
   ]
  },
  {
   "cell_type": "markdown",
   "id": "cc604cfb",
   "metadata": {},
   "source": [
    "두 데이터 모두 __이용시간 결측치__가 있으나 금액은 결측치가 없으므로 이용권을 구매한 뒤 사용하지는 않은 것으로 보인다. normal_entry_data에는 __요금제명 결측치__가 있으나 학생이 아니라면 student_entry_data에 포함될 수 없으므로 일반 고객으로 여기기로 했다. 그러므로 __매출을 확인하는 데에는 문제가 없다__고 판단하여 이대로 월별 데이터를 시각화했다. 다만, 학생 데이터와 일반 데이터를 구분하여 시각화하기 위하여 각각의 데이터프레임에 customer_type이라는 열을 추가해줬다."
   ]
  },
  {
   "cell_type": "code",
   "execution_count": 31,
   "id": "920db94b",
   "metadata": {},
   "outputs": [
    {
     "name": "stdout",
     "output_type": "stream",
     "text": [
      "               요금제명                입실                퇴실          이용    위치  \\\n",
      "0         무제한(한국대생)  2021-02-27 17:14   2021-02-28 2:33  오전 9:19:00  선불기2   \n",
      "1         무제한(한국대생)  2021-02-27 17:14   2021-02-28 2:33  오전 9:19:00  선불기2   \n",
      "2      한국대생 무제한 입장권  2022-04-01 19:54  2022-04-01 22:28  오전 2:33:00  선불기2   \n",
      "3      한국대생 무제한 입장권  2022-04-01 19:54  2022-04-01 22:28  오전 2:33:00  선불기2   \n",
      "4      한국대생 무제한 입장권  2022-04-01 19:54  2022-04-01 22:28  오전 2:33:00  선불기2   \n",
      "...             ...               ...               ...         ...   ...   \n",
      "10537         종일요금제  2021-02-17 13:09  2021-02-17 14:19  오전 1:10:00  선불기1   \n",
      "10538         종일요금제  2021-02-17 13:09  2021-02-17 14:19  오전 1:10:00  선불기1   \n",
      "10539         종일요금제  2021-02-17 13:06  2021-02-17 14:19  오전 1:13:00  선불기1   \n",
      "10540         종일요금제  2021-02-17 13:06  2021-02-17 14:19  오전 1:13:00  선불기1   \n",
      "10541         종일요금제  2021-02-17 12:58  2021-02-17 14:19  오전 1:21:00  선불기1   \n",
      "\n",
      "         금액  구분              고객     date customer_type  \n",
      "0      7000  퇴실  customer991021  2021-02       student  \n",
      "1      7000  퇴실  customer991021  2021-02       student  \n",
      "2      7400  퇴실  customer388928  2022-04       student  \n",
      "3      7400  퇴실  customer388928  2022-04       student  \n",
      "4      7400  퇴실  customer388928  2022-04       student  \n",
      "...     ...  ..             ...      ...           ...  \n",
      "10537  6500  퇴실  customer774105  2021-02        normal  \n",
      "10538  6500  퇴실  customer774105  2021-02        normal  \n",
      "10539  7000  퇴실  customer774105  2021-02        normal  \n",
      "10540  7000  퇴실  customer774105  2021-02        normal  \n",
      "10541  7000  퇴실  customer774105  2021-02        normal  \n",
      "\n",
      "[22555 rows x 10 columns]\n"
     ]
    }
   ],
   "source": [
    "student_entry_data['customer_type'] = 'student'\n",
    "normal_entry_data['customer_type'] = 'normal'\n",
    "total_entry_data = pd.concat([student_entry_data, normal_entry_data])\n",
    "print(total_entry_data)"
   ]
  },
  {
   "cell_type": "code",
   "execution_count": 32,
   "id": "e61a35bf",
   "metadata": {
    "scrolled": false
   },
   "outputs": [
    {
     "data": {
      "image/png": "[encoded data removed]",
      "text/plain": [
       "<Figure size 640x480 with 1 Axes>"
      ]
     },
     "metadata": {},
     "output_type": "display_data"
    }
   ],
   "source": [
    "grouped_total_entry = total_entry_data['금액'].groupby([total_entry_data['date'], total_entry_data['customer_type']]).sum()\n",
    "\n",
    "ax = sns.barplot(data=grouped_total_entry.reset_index(), x = 'date',y = '금액', hue='customer_type')\n",
    "\n",
    "plt.ticklabel_format(axis='y',useOffset=False, style='plain') #\n",
    "\n",
    "plt.xticks(rotation=90) #\n",
    "\n",
    "plt.title('학생과 일반 고객에 따른 입장권 매출')\n",
    "plt.show()"
   ]
  },
  {
   "cell_type": "markdown",
   "id": "a6b3651d",
   "metadata": {},
   "source": [
    "- plt.xticks(rotation=45) # 출처 : https://m.blog.naver.com/PostView.naver?blogId=wideeyed&logNo=222120809674&proxyReferer="
   ]
  },
  {
   "cell_type": "markdown",
   "id": "2ebc99d2",
   "metadata": {},
   "source": [
    "7, 8, 9, 1, 2월을 제외하고는 모두 학생의 매출이 높았다. 입장료가 아닌 식음료도 그러한지 확인해보기로 했다."
   ]
  },
  {
   "cell_type": "markdown",
   "id": "592cd12d",
   "metadata": {},
   "source": [
    "식음료 결제 정보는 필수문제 2를 진행하다가 얻은 데이터프레임 item_name을 참고해서 만들려 한다."
   ]
  },
  {
   "cell_type": "code",
   "execution_count": 33,
   "id": "56047f7e",
   "metadata": {},
   "outputs": [
    {
     "data": {
      "text/html": [
       "<div>\n",
       "<style scoped>\n",
       "    .dataframe tbody tr th:only-of-type {\n",
       "        vertical-align: middle;\n",
       "    }\n",
       "\n",
       "    .dataframe tbody tr th {\n",
       "        vertical-align: top;\n",
       "    }\n",
       "\n",
       "    .dataframe thead th {\n",
       "        text-align: right;\n",
       "    }\n",
       "</style>\n",
       "<table border=\"1\" class=\"dataframe\">\n",
       "  <thead>\n",
       "    <tr style=\"text-align: right;\">\n",
       "      <th></th>\n",
       "      <th></th>\n",
       "      <th></th>\n",
       "      <th></th>\n",
       "      <th></th>\n",
       "      <th></th>\n",
       "      <th></th>\n",
       "      <th></th>\n",
       "      <th></th>\n",
       "      <th>0</th>\n",
       "    </tr>\n",
       "    <tr>\n",
       "      <th>결제일시</th>\n",
       "      <th>판매위치</th>\n",
       "      <th>상품명</th>\n",
       "      <th>결제방식</th>\n",
       "      <th>비고</th>\n",
       "      <th>판매수량</th>\n",
       "      <th>결제금액</th>\n",
       "      <th>고객</th>\n",
       "      <th>date</th>\n",
       "      <th></th>\n",
       "    </tr>\n",
       "  </thead>\n",
       "  <tbody>\n",
       "    <tr>\n",
       "      <th rowspan=\"2\" valign=\"top\">2021-10-05 13:33</th>\n",
       "      <th rowspan=\"2\" valign=\"top\">선불기1</th>\n",
       "      <th>치즈추가</th>\n",
       "      <th>현금</th>\n",
       "      <th>결제완료</th>\n",
       "      <th>1</th>\n",
       "      <th>500</th>\n",
       "      <th>customer803089</th>\n",
       "      <th>2021-10</th>\n",
       "      <td>4</td>\n",
       "    </tr>\n",
       "    <tr>\n",
       "      <th>라면</th>\n",
       "      <th>현금</th>\n",
       "      <th>결제완료</th>\n",
       "      <th>1</th>\n",
       "      <th>4000</th>\n",
       "      <th>customer803089</th>\n",
       "      <th>2021-10</th>\n",
       "      <td>4</td>\n",
       "    </tr>\n",
       "    <tr>\n",
       "      <th>2021-10-07 10:05</th>\n",
       "      <th>선불기1</th>\n",
       "      <th>시럽추가</th>\n",
       "      <th>신용카드</th>\n",
       "      <th>결제완료</th>\n",
       "      <th>1</th>\n",
       "      <th>500</th>\n",
       "      <th>customer777135</th>\n",
       "      <th>2021-10</th>\n",
       "      <td>4</td>\n",
       "    </tr>\n",
       "    <tr>\n",
       "      <th>2021-06-19 21:02</th>\n",
       "      <th>선불기1</th>\n",
       "      <th>라면</th>\n",
       "      <th>신용카드</th>\n",
       "      <th>결제완료</th>\n",
       "      <th>1</th>\n",
       "      <th>4000</th>\n",
       "      <th>customer283589</th>\n",
       "      <th>2021-06</th>\n",
       "      <td>4</td>\n",
       "    </tr>\n",
       "    <tr>\n",
       "      <th>2021-06-14 11:37</th>\n",
       "      <th>선불기1</th>\n",
       "      <th>치즈추가</th>\n",
       "      <th>신용카드</th>\n",
       "      <th>결제완료</th>\n",
       "      <th>1</th>\n",
       "      <th>500</th>\n",
       "      <th>customer950393</th>\n",
       "      <th>2021-06</th>\n",
       "      <td>3</td>\n",
       "    </tr>\n",
       "    <tr>\n",
       "      <th>...</th>\n",
       "      <th>...</th>\n",
       "      <th>...</th>\n",
       "      <th>...</th>\n",
       "      <th>...</th>\n",
       "      <th>...</th>\n",
       "      <th>...</th>\n",
       "      <th>...</th>\n",
       "      <th>...</th>\n",
       "      <td>...</td>\n",
       "    </tr>\n",
       "    <tr>\n",
       "      <th>2021-06-13 12:59</th>\n",
       "      <th>선불기1</th>\n",
       "      <th>계란추가</th>\n",
       "      <th>신용카드</th>\n",
       "      <th>결제완료</th>\n",
       "      <th>1</th>\n",
       "      <th>500</th>\n",
       "      <th>customer339447</th>\n",
       "      <th>2021-06</th>\n",
       "      <td>1</td>\n",
       "    </tr>\n",
       "    <tr>\n",
       "      <th>2021-06-13 11:46</th>\n",
       "      <th>선불기1</th>\n",
       "      <th>새우볶음밥</th>\n",
       "      <th>신용카드</th>\n",
       "      <th>결제완료</th>\n",
       "      <th>1</th>\n",
       "      <th>5000</th>\n",
       "      <th>customer950393</th>\n",
       "      <th>2021-06</th>\n",
       "      <td>1</td>\n",
       "    </tr>\n",
       "    <tr>\n",
       "      <th>2021-06-13 10:33</th>\n",
       "      <th>선불기1</th>\n",
       "      <th>김치볶음밥</th>\n",
       "      <th>신용카드</th>\n",
       "      <th>결제완료</th>\n",
       "      <th>1</th>\n",
       "      <th>5000</th>\n",
       "      <th>customer983308</th>\n",
       "      <th>2021-06</th>\n",
       "      <td>1</td>\n",
       "    </tr>\n",
       "    <tr>\n",
       "      <th>2021-06-13 10:00</th>\n",
       "      <th>선불기1</th>\n",
       "      <th>김치볶음밥</th>\n",
       "      <th>신용카드</th>\n",
       "      <th>결제완료</th>\n",
       "      <th>1</th>\n",
       "      <th>5000</th>\n",
       "      <th>customer258946</th>\n",
       "      <th>2021-06</th>\n",
       "      <td>1</td>\n",
       "    </tr>\n",
       "    <tr>\n",
       "      <th>2022-04-01 19:41</th>\n",
       "      <th>선불기1</th>\n",
       "      <th>치킨카라아케 6pc</th>\n",
       "      <th>신용카드</th>\n",
       "      <th>결제완료</th>\n",
       "      <th>1</th>\n",
       "      <th>4500</th>\n",
       "      <th>customer275507</th>\n",
       "      <th>2022-04</th>\n",
       "      <td>1</td>\n",
       "    </tr>\n",
       "  </tbody>\n",
       "</table>\n",
       "<p>5988 rows × 1 columns</p>\n",
       "</div>"
      ],
      "text/plain": [
       "                                                                             0\n",
       "결제일시             판매위치 상품명        결제방식 비고   판매수량 결제금액 고객             date      \n",
       "2021-10-05 13:33 선불기1 치즈추가       현금   결제완료 1    500  customer803089 2021-10  4\n",
       "                      라면         현금   결제완료 1    4000 customer803089 2021-10  4\n",
       "2021-10-07 10:05 선불기1 시럽추가       신용카드 결제완료 1    500  customer777135 2021-10  4\n",
       "2021-06-19 21:02 선불기1 라면         신용카드 결제완료 1    4000 customer283589 2021-06  4\n",
       "2021-06-14 11:37 선불기1 치즈추가       신용카드 결제완료 1    500  customer950393 2021-06  3\n",
       "...                                                                         ..\n",
       "2021-06-13 12:59 선불기1 계란추가       신용카드 결제완료 1    500  customer339447 2021-06  1\n",
       "2021-06-13 11:46 선불기1 새우볶음밥      신용카드 결제완료 1    5000 customer950393 2021-06  1\n",
       "2021-06-13 10:33 선불기1 김치볶음밥      신용카드 결제완료 1    5000 customer983308 2021-06  1\n",
       "2021-06-13 10:00 선불기1 김치볶음밥      신용카드 결제완료 1    5000 customer258946 2021-06  1\n",
       "2022-04-01 19:41 선불기1 치킨카라아케 6pc 신용카드 결제완료 1    4500 customer275507 2022-04  1\n",
       "\n",
       "[5988 rows x 1 columns]"
      ]
     },
     "execution_count": 33,
     "metadata": {},
     "output_type": "execute_result"
    }
   ],
   "source": [
    "item_name"
   ]
  },
  {
   "cell_type": "markdown",
   "id": "9d46d4dc",
   "metadata": {},
   "source": [
    "고객정보는 '고객' 열에 있고 이 고객들이 'student'인지 'normal'인지 'customer_type' 열을 만들어서 해당 값을 배정해주고 싶었다.\n",
    "  그 전에 고객을 기준으로 결제금액을 더한 값을 구하고 싶어서 아래와 같은 코드를 작성하였으나 좋은 결과가 나오지 않았다. 아직 groupby함수의 문법에 익숙하지 않아서 오류가 난 것 같다."
   ]
  },
  {
   "cell_type": "code",
   "execution_count": 34,
   "id": "ac1e035a",
   "metadata": {
    "scrolled": false
   },
   "outputs": [
    {
     "ename": "KeyError",
     "evalue": "'결제금액'",
     "output_type": "error",
     "traceback": [
      "\u001b[0;31m---------------------------------------------------------------------------\u001b[0m",
      "\u001b[0;31mKeyError\u001b[0m                                  Traceback (most recent call last)",
      "\u001b[0;32m/tmp/ipykernel_57/1955644551.py\u001b[0m in \u001b[0;36m<module>\u001b[0;34m\u001b[0m\n\u001b[0;32m----> 1\u001b[0;31m \u001b[0mitem_name\u001b[0m\u001b[0;34m[\u001b[0m\u001b[0;34m'결제금액'\u001b[0m\u001b[0;34m]\u001b[0m\u001b[0;34m.\u001b[0m\u001b[0mgroupby\u001b[0m\u001b[0;34m(\u001b[0m\u001b[0mitem_name\u001b[0m\u001b[0;34m[\u001b[0m\u001b[0;34m'고객'\u001b[0m\u001b[0;34m]\u001b[0m\u001b[0;34m)\u001b[0m\u001b[0;34m.\u001b[0m\u001b[0msum\u001b[0m\u001b[0;34m(\u001b[0m\u001b[0;34m)\u001b[0m\u001b[0;34m\u001b[0m\u001b[0;34m\u001b[0m\u001b[0m\n\u001b[0m",
      "\u001b[0;32m/opt/conda/lib/python3.9/site-packages/pandas/core/frame.py\u001b[0m in \u001b[0;36m__getitem__\u001b[0;34m(self, key)\u001b[0m\n\u001b[1;32m   3456\u001b[0m             \u001b[0;32mif\u001b[0m \u001b[0mself\u001b[0m\u001b[0;34m.\u001b[0m\u001b[0mcolumns\u001b[0m\u001b[0;34m.\u001b[0m\u001b[0mnlevels\u001b[0m \u001b[0;34m>\u001b[0m \u001b[0;36m1\u001b[0m\u001b[0;34m:\u001b[0m\u001b[0;34m\u001b[0m\u001b[0;34m\u001b[0m\u001b[0m\n\u001b[1;32m   3457\u001b[0m                 \u001b[0;32mreturn\u001b[0m \u001b[0mself\u001b[0m\u001b[0;34m.\u001b[0m\u001b[0m_getitem_multilevel\u001b[0m\u001b[0;34m(\u001b[0m\u001b[0mkey\u001b[0m\u001b[0;34m)\u001b[0m\u001b[0;34m\u001b[0m\u001b[0;34m\u001b[0m\u001b[0m\n\u001b[0;32m-> 3458\u001b[0;31m             \u001b[0mindexer\u001b[0m \u001b[0;34m=\u001b[0m \u001b[0mself\u001b[0m\u001b[0;34m.\u001b[0m\u001b[0mcolumns\u001b[0m\u001b[0;34m.\u001b[0m\u001b[0mget_loc\u001b[0m\u001b[0;34m(\u001b[0m\u001b[0mkey\u001b[0m\u001b[0;34m)\u001b[0m\u001b[0;34m\u001b[0m\u001b[0;34m\u001b[0m\u001b[0m\n\u001b[0m\u001b[1;32m   3459\u001b[0m             \u001b[0;32mif\u001b[0m \u001b[0mis_integer\u001b[0m\u001b[0;34m(\u001b[0m\u001b[0mindexer\u001b[0m\u001b[0;34m)\u001b[0m\u001b[0;34m:\u001b[0m\u001b[0;34m\u001b[0m\u001b[0;34m\u001b[0m\u001b[0m\n\u001b[1;32m   3460\u001b[0m                 \u001b[0mindexer\u001b[0m \u001b[0;34m=\u001b[0m \u001b[0;34m[\u001b[0m\u001b[0mindexer\u001b[0m\u001b[0;34m]\u001b[0m\u001b[0;34m\u001b[0m\u001b[0;34m\u001b[0m\u001b[0m\n",
      "\u001b[0;32m/opt/conda/lib/python3.9/site-packages/pandas/core/indexes/range.py\u001b[0m in \u001b[0;36mget_loc\u001b[0;34m(self, key, method, tolerance)\u001b[0m\n\u001b[1;32m    386\u001b[0m                 \u001b[0;32mexcept\u001b[0m \u001b[0mValueError\u001b[0m \u001b[0;32mas\u001b[0m \u001b[0merr\u001b[0m\u001b[0;34m:\u001b[0m\u001b[0;34m\u001b[0m\u001b[0;34m\u001b[0m\u001b[0m\n\u001b[1;32m    387\u001b[0m                     \u001b[0;32mraise\u001b[0m \u001b[0mKeyError\u001b[0m\u001b[0;34m(\u001b[0m\u001b[0mkey\u001b[0m\u001b[0;34m)\u001b[0m \u001b[0;32mfrom\u001b[0m \u001b[0merr\u001b[0m\u001b[0;34m\u001b[0m\u001b[0;34m\u001b[0m\u001b[0m\n\u001b[0;32m--> 388\u001b[0;31m             \u001b[0;32mraise\u001b[0m \u001b[0mKeyError\u001b[0m\u001b[0;34m(\u001b[0m\u001b[0mkey\u001b[0m\u001b[0;34m)\u001b[0m\u001b[0;34m\u001b[0m\u001b[0;34m\u001b[0m\u001b[0m\n\u001b[0m\u001b[1;32m    389\u001b[0m         \u001b[0;32mreturn\u001b[0m \u001b[0msuper\u001b[0m\u001b[0;34m(\u001b[0m\u001b[0;34m)\u001b[0m\u001b[0;34m.\u001b[0m\u001b[0mget_loc\u001b[0m\u001b[0;34m(\u001b[0m\u001b[0mkey\u001b[0m\u001b[0;34m,\u001b[0m \u001b[0mmethod\u001b[0m\u001b[0;34m=\u001b[0m\u001b[0mmethod\u001b[0m\u001b[0;34m,\u001b[0m \u001b[0mtolerance\u001b[0m\u001b[0;34m=\u001b[0m\u001b[0mtolerance\u001b[0m\u001b[0;34m)\u001b[0m\u001b[0;34m\u001b[0m\u001b[0;34m\u001b[0m\u001b[0m\n\u001b[1;32m    390\u001b[0m \u001b[0;34m\u001b[0m\u001b[0m\n",
      "\u001b[0;31mKeyError\u001b[0m: '결제금액'"
     ]
    }
   ],
   "source": [
    "item_name['결제금액'].groupby(item_name['고객']).sum()"
   ]
  },
  {
   "cell_type": "markdown",
   "id": "e6442a6f",
   "metadata": {},
   "source": [
    "--------\n",
    "\n",
    "### 결론\n",
    "\n",
    ": 학생 고객들은 학교에 가는 달에는 스터디카페의 매출에 많은 기여를 하지만, 방학 시즌에는 방문이 적어서 매출이 적은 것이 충분히 이해할만 하다. 그러나 __일반 고객들 또한__ 위의 데이터분석을 통해서는 알 수 없는 이유로 인해 학생 고객들과 마찬가지로 __7, 8, 9, 1, 2월의 매출이 떨어지는 경향을 보였다.__ 하지만 __해당 월__은 학생 고객보다 일반 고객이 올린 매출이 더 많으므로, 7, 8, 9, 1, 2월에 __일반 고객을 더 유치할 방안을 고려해야할 것이다.__"
   ]
  },
  {
   "cell_type": "markdown",
   "id": "e3c18da7",
   "metadata": {},
   "source": [
    "-------\n",
    "##### 루브릭 기준\n",
    "3. 제가 정의한 문제의 해결을 시도했고 결과를 도출해냈습니다."
   ]
  },
  {
   "cell_type": "markdown",
   "id": "73bac455",
   "metadata": {},
   "source": [
    "----------\n",
    "\n",
    "### 참고문헌\n",
    "    \n",
    "- plt.ticklabel_format(axis='y',useOffset=False, style='plain') # 출처: https://code-code.tistory.com/104\n",
    "\n",
    "- plt.rc('font', family='NanumGothic') # 출처: https://m.blog.naver.com/PostView.naver?isHttpsRedirect=true&blogId=wideeyed&logNo=221225208497\n",
    "\n",
    "- pd.set_option('display.max_rows', None) #, pd.options.display.max_rows = 10 # 출처: https://zephyrus1111.tistory.com/44\n",
    "\n",
    "- plt.xticks(rotation=45) # 출처 : https://m.blog.naver.com/PostView.naver?blogId=wideeyed&logNo=222120809674&proxyReferer=\n",
    "\n",
    "- Fundamental 19 ~ 23, Reference 3 ~ 4, Flipped School 4 ~ 7"
   ]
  },
  {
   "cell_type": "markdown",
   "id": "40d417e6",
   "metadata": {},
   "source": [
    "---------\n",
    "### 회고\n",
    "--------\n",
    "##### 프로젝트에서 해결하지 못한 부분이 두 가지 있다.\n",
    "첫째로는 '고객정보는 [고객] 열에 있고 이 고객들이 'student'인지 'normal'인지 'customer_type' 열을 만들어서 해당 값을 배정해주기'는 구글에 뭐라고 검색해서 여기에 필요한 메소드를 이용할 수 있을 지 찾는 과정이 아직 어렵게 느껴지기 때문인 것같다. 둘째로, '고객을 기준으로 결제금액을 더한 값을 구하기'는 아직 groupby함수의 문법에 익숙하지 않아서 오류가 난 것 같다. 어떤 메소드를 어떻게 사용해야하는 지를 검색하는 능력이 부족한 것 같다. \n",
    "\n",
    "\n",
    "##### 프로젝트를 진행하면서 알게 된 점\n",
    "\n",
    "- 노드에서 주는 힌트를 바로바로 사용하려하면 안 된다.(예를 들어 'groupby 함수를 사용하세요'라는 힌트가 '활용할 데이터(sales_data)를 temp_var로 정의하기' 바로 위에 있어서 temp_var를 정의할 때 groupby를 써보려 한 것)\n",
    "- entry_data와 item_entry_data의 요금제명이 달라서 데이터를 사용할 수 없었기 때문에 데이터를 철저히 통일된 방식으로 수집하지 않으면 데이터가 쓸모없거나 전처리에 많은 시간이 든다.\n",
    "- 결측치에 대한 판단은 주관적일 수 있다\n",
    "- 문제 해결을 위한 가설이 철저하다면 코딩 실력이 받쳐줬을 때 빠르게 해결할 수 있다.\n",
    "- 개인적으로는 info와 head를 같이 봐야 데이터에 대한 이해가 더 쉽다.\n",
    "\n",
    "여태까지 코딩을 할 때 속도가 나지 않는 것이 지난 시간에 배운 부분이 기억이 나지 않아서라고 생각했었는데, 앞으로 배울 부분을 미리 공부하면서 모르는 부분이 생기면 복습하는 방식으로 해야 코딩에 속도가 날 것 같다. 이전까진 복습을 많이 하려 했다면 앞으로는 __예습과 복습 둘 다__ 해야겠다는 생각이 들었다."
   ]
  }
 ],
 "metadata": {
  "kernelspec": {
   "display_name": "Python 3 (ipykernel)",
   "language": "python",
   "name": "python3"
  },
  "language_info": {
   "codemirror_mode": {
    "name": "ipython",
    "version": 3
   },
   "file_extension": ".py",
   "mimetype": "text/x-python",
   "name": "python",
   "nbconvert_exporter": "python",
   "pygments_lexer": "ipython3",
   "version": "3.9.7"
  }
 },
 "nbformat": 4,
 "nbformat_minor": 5
}
