{
 "cells": [
  {
   "cell_type": "markdown",
   "id": "71b8d80b",
   "metadata": {},
   "source": [
    "# 7-10. 프로젝트 : 단어 Level로 번역기 업그레이드하기"
   ]
  },
  {
   "cell_type": "code",
   "execution_count": 1,
   "id": "82b15b64",
   "metadata": {},
   "outputs": [],
   "source": [
    "import pandas as pd\n",
    "import numpy as np\n",
    "import matplotlib.pyplot as plt\n",
    "import tensorflow, os,re\n",
    "from tensorflow.keras.preprocessing.text import Tokenizer\n",
    "from tensorflow.keras.preprocessing.sequence import pad_sequences\n",
    "from tensorflow.keras.utils import to_categorical\n",
    "from tensorflow.keras.layers import Input, LSTM, Embedding, Dense, Masking\n",
    "from tensorflow.keras.models import Model\n",
    "from keras import callbacks"
   ]
  },
  {
   "cell_type": "code",
   "execution_count": 2,
   "id": "8273ebe0",
   "metadata": {},
   "outputs": [
    {
     "name": "stdout",
     "output_type": "stream",
     "text": [
      "전체 샘플의 수 : 208906\n"
     ]
    },
    {
     "data": {
      "text/html": [
       "<div>\n",
       "<style scoped>\n",
       "    .dataframe tbody tr th:only-of-type {\n",
       "        vertical-align: middle;\n",
       "    }\n",
       "\n",
       "    .dataframe tbody tr th {\n",
       "        vertical-align: top;\n",
       "    }\n",
       "\n",
       "    .dataframe thead th {\n",
       "        text-align: right;\n",
       "    }\n",
       "</style>\n",
       "<table border=\"1\" class=\"dataframe\">\n",
       "  <thead>\n",
       "    <tr style=\"text-align: right;\">\n",
       "      <th></th>\n",
       "      <th>eng</th>\n",
       "      <th>fra</th>\n",
       "      <th>cc</th>\n",
       "    </tr>\n",
       "  </thead>\n",
       "  <tbody>\n",
       "    <tr>\n",
       "      <th>158937</th>\n",
       "      <td>I used to play with a couple of boys.</td>\n",
       "      <td>J'avais l'habitude de jouer avec un couple de ...</td>\n",
       "      <td>CC-BY 2.0 (France) Attribution: tatoeba.org #6...</td>\n",
       "    </tr>\n",
       "    <tr>\n",
       "      <th>163992</th>\n",
       "      <td>Is there any beer in the refrigerator?</td>\n",
       "      <td>Y a-t-il de la bière au réfrigérateur ?</td>\n",
       "      <td>CC-BY 2.0 (France) Attribution: tatoeba.org #6...</td>\n",
       "    </tr>\n",
       "    <tr>\n",
       "      <th>126366</th>\n",
       "      <td>Tom paused to catch his breath.</td>\n",
       "      <td>Tom fit une pause pour reprendre sa respiration.</td>\n",
       "      <td>CC-BY 2.0 (France) Attribution: tatoeba.org #3...</td>\n",
       "    </tr>\n",
       "    <tr>\n",
       "      <th>7549</th>\n",
       "      <td>I like prunes.</td>\n",
       "      <td>J'aime les pruneaux.</td>\n",
       "      <td>CC-BY 2.0 (France) Attribution: tatoeba.org #6...</td>\n",
       "    </tr>\n",
       "    <tr>\n",
       "      <th>66778</th>\n",
       "      <td>I know Tom will be fair.</td>\n",
       "      <td>Je sais que Tom sera équitable.</td>\n",
       "      <td>CC-BY 2.0 (France) Attribution: tatoeba.org #6...</td>\n",
       "    </tr>\n",
       "  </tbody>\n",
       "</table>\n",
       "</div>"
      ],
      "text/plain": [
       "                                           eng  \\\n",
       "158937   I used to play with a couple of boys.   \n",
       "163992  Is there any beer in the refrigerator?   \n",
       "126366         Tom paused to catch his breath.   \n",
       "7549                            I like prunes.   \n",
       "66778                 I know Tom will be fair.   \n",
       "\n",
       "                                                      fra  \\\n",
       "158937  J'avais l'habitude de jouer avec un couple de ...   \n",
       "163992            Y a-t-il de la bière au réfrigérateur ?   \n",
       "126366   Tom fit une pause pour reprendre sa respiration.   \n",
       "7549                                 J'aime les pruneaux.   \n",
       "66778                     Je sais que Tom sera équitable.   \n",
       "\n",
       "                                                       cc  \n",
       "158937  CC-BY 2.0 (France) Attribution: tatoeba.org #6...  \n",
       "163992  CC-BY 2.0 (France) Attribution: tatoeba.org #6...  \n",
       "126366  CC-BY 2.0 (France) Attribution: tatoeba.org #3...  \n",
       "7549    CC-BY 2.0 (France) Attribution: tatoeba.org #6...  \n",
       "66778   CC-BY 2.0 (France) Attribution: tatoeba.org #6...  "
      ]
     },
     "execution_count": 2,
     "metadata": {},
     "output_type": "execute_result"
    }
   ],
   "source": [
    "file_path = os.getenv('HOME')+'/aiffel/translator_seq2seq/data/fra.txt'\n",
    "lines = pd.read_csv(file_path, names=['eng', 'fra', 'cc'], sep='\\t')\n",
    "print('전체 샘플의 수 :',len(lines))\n",
    "lines.sample(5) #샘플 5개 출력"
   ]
  },
  {
   "cell_type": "code",
   "execution_count": 3,
   "id": "89582452",
   "metadata": {},
   "outputs": [
    {
     "data": {
      "text/html": [
       "<div>\n",
       "<style scoped>\n",
       "    .dataframe tbody tr th:only-of-type {\n",
       "        vertical-align: middle;\n",
       "    }\n",
       "\n",
       "    .dataframe tbody tr th {\n",
       "        vertical-align: top;\n",
       "    }\n",
       "\n",
       "    .dataframe thead th {\n",
       "        text-align: right;\n",
       "    }\n",
       "</style>\n",
       "<table border=\"1\" class=\"dataframe\">\n",
       "  <thead>\n",
       "    <tr style=\"text-align: right;\">\n",
       "      <th></th>\n",
       "      <th>eng</th>\n",
       "      <th>fra</th>\n",
       "    </tr>\n",
       "  </thead>\n",
       "  <tbody>\n",
       "    <tr>\n",
       "      <th>12404</th>\n",
       "      <td>Tom helps Mary.</td>\n",
       "      <td>Tom aide Marie.</td>\n",
       "    </tr>\n",
       "    <tr>\n",
       "      <th>12941</th>\n",
       "      <td>We're up early.</td>\n",
       "      <td>Nous sommes debout tôt.</td>\n",
       "    </tr>\n",
       "    <tr>\n",
       "      <th>24451</th>\n",
       "      <td>I checked my bags.</td>\n",
       "      <td>J'ai enregistré mes bagages.</td>\n",
       "    </tr>\n",
       "    <tr>\n",
       "      <th>20326</th>\n",
       "      <td>It's a sunny day.</td>\n",
       "      <td>C'est un jour ensoleillé.</td>\n",
       "    </tr>\n",
       "    <tr>\n",
       "      <th>31459</th>\n",
       "      <td>I wasn't consulted.</td>\n",
       "      <td>On ne m'a pas consulté.</td>\n",
       "    </tr>\n",
       "  </tbody>\n",
       "</table>\n",
       "</div>"
      ],
      "text/plain": [
       "                       eng                           fra\n",
       "12404      Tom helps Mary.               Tom aide Marie.\n",
       "12941      We're up early.       Nous sommes debout tôt.\n",
       "24451   I checked my bags.  J'ai enregistré mes bagages.\n",
       "20326    It's a sunny day.     C'est un jour ensoleillé.\n",
       "31459  I wasn't consulted.       On ne m'a pas consulté."
      ]
     },
     "execution_count": 3,
     "metadata": {},
     "output_type": "execute_result"
    }
   ],
   "source": [
    "lines = lines[['eng', 'fra']][:33000] # 3만 3천개 샘플 사용\n",
    "lines.sample(5)"
   ]
  },
  {
   "cell_type": "markdown",
   "id": "1a2bee86",
   "metadata": {},
   "source": [
    "### Step 1. 정제, 정규화, 전처리 (영어, 프랑스어 모두!) & Step 2. 디코더의 문장에 시작 토큰과 종료 토큰을 넣어주세요."
   ]
  },
  {
   "cell_type": "code",
   "execution_count": 4,
   "id": "af6a144b",
   "metadata": {},
   "outputs": [],
   "source": [
    "# 입력된 문장을\n",
    "#     1. 소문자로 바꾸고, 양쪽 공백을 지웁니다\n",
    "#     2. 특수문자 양쪽에 공백을 넣고\n",
    "#     3. 여러개의 공백은 하나의 공백으로 바꿉니다\n",
    "#     4. a-zA-Z?.!,¿가 아닌 모든 문자를 하나의 공백으로 바꿉니다\n",
    "#     5. 다시 양쪽 공백을 지웁니다\n",
    "#     6. 문장 시작에는 <sos>, 끝에는 <eos>를 추가합니다\n",
    "def preprocess_sentence(sentence):\n",
    "    sentence = sentence.lower().strip() # 1\n",
    "    sentence = re.sub(r\"([?.!,¿])\", r\" \\1 \", sentence) # 2\n",
    "    sentence = re.sub(r'[\" \"]+', \" \", sentence) # 3\n",
    "    sentence = re.sub(r\"[^a-zA-Z?.!,¿]+\", \" \", sentence) # 4\n",
    "    sentence = sentence.strip() # 5\n",
    "    sentence = '<sos> ' + sentence + ' <eos>' # 6\n",
    "    return sentence"
   ]
  },
  {
   "cell_type": "code",
   "execution_count": 5,
   "id": "79d145d7",
   "metadata": {},
   "outputs": [],
   "source": [
    "lines.eng = lines.eng.apply(preprocess_sentence)\n",
    "lines.fra = lines.fra.apply(preprocess_sentence)"
   ]
  },
  {
   "cell_type": "code",
   "execution_count": 6,
   "id": "28243c48",
   "metadata": {},
   "outputs": [
    {
     "data": {
      "text/html": [
       "<div>\n",
       "<style scoped>\n",
       "    .dataframe tbody tr th:only-of-type {\n",
       "        vertical-align: middle;\n",
       "    }\n",
       "\n",
       "    .dataframe tbody tr th {\n",
       "        vertical-align: top;\n",
       "    }\n",
       "\n",
       "    .dataframe thead th {\n",
       "        text-align: right;\n",
       "    }\n",
       "</style>\n",
       "<table border=\"1\" class=\"dataframe\">\n",
       "  <thead>\n",
       "    <tr style=\"text-align: right;\">\n",
       "      <th></th>\n",
       "      <th>eng</th>\n",
       "      <th>fra</th>\n",
       "    </tr>\n",
       "  </thead>\n",
       "  <tbody>\n",
       "    <tr>\n",
       "      <th>28498</th>\n",
       "      <td>&lt;sos&gt; who needs a drink ? &lt;eos&gt;</td>\n",
       "      <td>&lt;sos&gt; qui faut il une boisson ? &lt;eos&gt;</td>\n",
       "    </tr>\n",
       "    <tr>\n",
       "      <th>15593</th>\n",
       "      <td>&lt;sos&gt; jesus loves you . &lt;eos&gt;</td>\n",
       "      <td>&lt;sos&gt; j sus vous aime . &lt;eos&gt;</td>\n",
       "    </tr>\n",
       "    <tr>\n",
       "      <th>17178</th>\n",
       "      <td>&lt;sos&gt; we re different . &lt;eos&gt;</td>\n",
       "      <td>&lt;sos&gt; nous sommes diff rentes . &lt;eos&gt;</td>\n",
       "    </tr>\n",
       "    <tr>\n",
       "      <th>4769</th>\n",
       "      <td>&lt;sos&gt; go to school . &lt;eos&gt;</td>\n",
       "      <td>&lt;sos&gt; va l cole . &lt;eos&gt;</td>\n",
       "    </tr>\n",
       "    <tr>\n",
       "      <th>1969</th>\n",
       "      <td>&lt;sos&gt; i exercise . &lt;eos&gt;</td>\n",
       "      <td>&lt;sos&gt; je fais de l exercice . &lt;eos&gt;</td>\n",
       "    </tr>\n",
       "  </tbody>\n",
       "</table>\n",
       "</div>"
      ],
      "text/plain": [
       "                                   eng                                    fra\n",
       "28498  <sos> who needs a drink ? <eos>  <sos> qui faut il une boisson ? <eos>\n",
       "15593    <sos> jesus loves you . <eos>          <sos> j sus vous aime . <eos>\n",
       "17178    <sos> we re different . <eos>  <sos> nous sommes diff rentes . <eos>\n",
       "4769        <sos> go to school . <eos>                <sos> va l cole . <eos>\n",
       "1969          <sos> i exercise . <eos>    <sos> je fais de l exercice . <eos>"
      ]
     },
     "execution_count": 6,
     "metadata": {},
     "output_type": "execute_result"
    }
   ],
   "source": [
    "lines.sample(5)"
   ]
  },
  {
   "cell_type": "markdown",
   "id": "049181ad",
   "metadata": {},
   "source": [
    "### Step 3. 케라스의 토크나이저로 텍스트를 숫자로 바꿔보세요."
   ]
  },
  {
   "cell_type": "code",
   "execution_count": 7,
   "id": "6435dc9b",
   "metadata": {},
   "outputs": [
    {
     "data": {
      "text/plain": [
       "[[1, 26, 2], [1, 26, 2], [1, 26, 2]]"
      ]
     },
     "execution_count": 7,
     "metadata": {},
     "output_type": "execute_result"
    }
   ],
   "source": [
    "eng_tokenizer = Tokenizer()   # 문자 단위로 Tokenizer를 생성합니다. \n",
    "eng_tokenizer.fit_on_texts(lines.eng)               # 33000개의 행을 가진 eng의 각 행에 토큰화를 수행\n",
    "input_text = eng_tokenizer.texts_to_sequences(lines.eng)    # 단어를 숫자값 인덱스로 변환하여 저장\n",
    "input_text[:3]"
   ]
  },
  {
   "cell_type": "code",
   "execution_count": 8,
   "id": "1360ca61",
   "metadata": {},
   "outputs": [
    {
     "data": {
      "text/plain": [
       "[[1, 71, 2], [1, 347, 2], [1, 24, 513, 2]]"
      ]
     },
     "execution_count": 8,
     "metadata": {},
     "output_type": "execute_result"
    }
   ],
   "source": [
    "fra_tokenizer = Tokenizer()   # 문자 단위로 Tokenizer를 생성합니다. \n",
    "fra_tokenizer.fit_on_texts(lines.fra)                 # 33000개의 행을 가진 fra의 각 행에 토큰화를 수행\n",
    "target_text = fra_tokenizer.texts_to_sequences(lines.fra)     # 단어를 숫자값 인덱스로 변환하여 저장\n",
    "target_text[:3]"
   ]
  },
  {
   "cell_type": "code",
   "execution_count": 9,
   "id": "f2598cfd",
   "metadata": {},
   "outputs": [
    {
     "name": "stdout",
     "output_type": "stream",
     "text": [
      "영어 단어장의 크기 : 4618\n",
      "프랑스어 단어장의 크기 : 7385\n"
     ]
    }
   ],
   "source": [
    "eng_vocab_size = len(eng_tokenizer.word_index) + 1\n",
    "fra_vocab_size = len(fra_tokenizer.word_index) + 1\n",
    "print('영어 단어장의 크기 :', eng_vocab_size)\n",
    "print('프랑스어 단어장의 크기 :', fra_vocab_size)"
   ]
  },
  {
   "cell_type": "code",
   "execution_count": 10,
   "id": "b1012b95",
   "metadata": {},
   "outputs": [
    {
     "name": "stdout",
     "output_type": "stream",
     "text": [
      "영어 시퀀스의 최대 길이 9\n",
      "프랑스어 시퀀스의 최대 길이 16\n"
     ]
    }
   ],
   "source": [
    "max_eng_seq_len = max([len(line) for line in input_text])\n",
    "max_fra_seq_len = max([len(line) for line in target_text])\n",
    "print('영어 시퀀스의 최대 길이', max_eng_seq_len)\n",
    "print('프랑스어 시퀀스의 최대 길이', max_fra_seq_len)"
   ]
  },
  {
   "cell_type": "code",
   "execution_count": 11,
   "id": "4a5fab9c",
   "metadata": {},
   "outputs": [],
   "source": [
    "encoder_input = input_text\n",
    "# 종료 토큰 제거\n",
    "decoder_input = [[ char for char in line if char != fra_tokenizer.word_index['eos'] ] for line in target_text] \n",
    "# 시작 토큰 제거\n",
    "decoder_target = [[ char for char in line if char != fra_tokenizer.word_index['sos'] ] for line in target_text]"
   ]
  },
  {
   "cell_type": "code",
   "execution_count": 12,
   "id": "7c78cf75",
   "metadata": {},
   "outputs": [
    {
     "name": "stdout",
     "output_type": "stream",
     "text": [
      "[[1, 71], [1, 347], [1, 24, 513]]\n",
      "[[71, 2], [347, 2], [24, 513, 2]]\n"
     ]
    }
   ],
   "source": [
    "print(decoder_input[:3])\n",
    "print(decoder_target[:3])"
   ]
  },
  {
   "cell_type": "code",
   "execution_count": 13,
   "id": "f76401be",
   "metadata": {
    "scrolled": true
   },
   "outputs": [
    {
     "name": "stdout",
     "output_type": "stream",
     "text": [
      "영어 데이터의 크기(shape) : (33000, 9)\n",
      "프랑스어 입력데이터의 크기(shape) : (33000, 16)\n",
      "프랑스어 출력데이터의 크기(shape) : (33000, 16)\n"
     ]
    }
   ],
   "source": [
    "encoder_input = pad_sequences(encoder_input, maxlen = max_eng_seq_len, padding='post')\n",
    "decoder_input = pad_sequences(decoder_input, maxlen = max_fra_seq_len, padding='post')\n",
    "decoder_target = pad_sequences(decoder_target, maxlen = max_fra_seq_len, padding='post')\n",
    "print('영어 데이터의 크기(shape) :',np.shape(encoder_input))\n",
    "print('프랑스어 입력데이터의 크기(shape) :',np.shape(decoder_input))\n",
    "print('프랑스어 출력데이터의 크기(shape) :',np.shape(decoder_target))"
   ]
  },
  {
   "cell_type": "code",
   "execution_count": 14,
   "id": "76d76ae5",
   "metadata": {},
   "outputs": [
    {
     "name": "stdout",
     "output_type": "stream",
     "text": [
      "[ 1 26  2  0  0  0  0  0  0]\n"
     ]
    }
   ],
   "source": [
    "print(encoder_input[0])"
   ]
  },
  {
   "cell_type": "code",
   "execution_count": 15,
   "id": "2ee57024",
   "metadata": {},
   "outputs": [
    {
     "name": "stdout",
     "output_type": "stream",
     "text": [
      "영어 학습데이터의 크기(shape) : (30000, 9)\n",
      "프랑스어 학습 입력데이터의 크기(shape) : (30000, 16)\n",
      "프랑스어 학습 출력데이터의 크기(shape) : (30000, 16)\n"
     ]
    }
   ],
   "source": [
    "n_of_val = 3000\n",
    "\n",
    "encoder_input_train = encoder_input[:-n_of_val]\n",
    "decoder_input_train = decoder_input[:-n_of_val]\n",
    "decoder_target_train = decoder_target[:-n_of_val]\n",
    "\n",
    "encoder_input_test = encoder_input[-n_of_val:]\n",
    "decoder_input_test = decoder_input[-n_of_val:]\n",
    "decoder_target_test = decoder_target[-n_of_val:]\n",
    "\n",
    "print('영어 학습데이터의 크기(shape) :',np.shape(encoder_input_train))\n",
    "print('프랑스어 학습 입력데이터의 크기(shape) :',np.shape(decoder_input_train))\n",
    "print('프랑스어 학습 출력데이터의 크기(shape) :',np.shape(decoder_target_train))"
   ]
  },
  {
   "cell_type": "markdown",
   "id": "6dd21582",
   "metadata": {},
   "source": [
    "### Step 4. 임베딩 층(Embedding layer) 사용하기 & Step 5. 모델 구현하기"
   ]
  },
  {
   "cell_type": "code",
   "execution_count": 16,
   "id": "ee2efe2a",
   "metadata": {},
   "outputs": [],
   "source": [
    "eng_vocab_size = 4618\n",
    "fra_vocab_size = 7385\n",
    "output_dim = 512\n",
    "hidden_state = 256"
   ]
  },
  {
   "cell_type": "code",
   "execution_count": 17,
   "id": "294b1ddb",
   "metadata": {},
   "outputs": [],
   "source": [
    "# 입력 텐서 생성.\n",
    "encoder_inputs = Input(shape=(None,))\n",
    "enc_emb =  Embedding(eng_vocab_size, output_dim)(encoder_inputs)\n",
    "# hidden size가 256인 인코더의 LSTM 셀 생성\n",
    "encoder_lstm = LSTM(units = hidden_state, return_state = True)\n",
    "# 디코더로 전달할 hidden state, cell state를 리턴. encoder_outputs은 여기서는 불필요.\n",
    "encoder_outputs, state_h, state_c = encoder_lstm(enc_emb)\n",
    "# hidden state와 cell state를 다음 time step으로 전달하기 위해서 별도 저장.\n",
    "encoder_states = [state_h, state_c]"
   ]
  },
  {
   "cell_type": "code",
   "execution_count": 18,
   "id": "b4599974",
   "metadata": {},
   "outputs": [],
   "source": [
    "# 입력 텐서 생성.\n",
    "decoder_inputs = Input(shape=(None,))\n",
    "dec_emb =  Embedding(fra_vocab_size, output_dim)(decoder_inputs)\n",
    "# hidden size가 256인 인코더의 LSTM 셀 생성\n",
    "decoder_lstm = LSTM(units = hidden_state, return_sequences = True, return_state=True)\n",
    "# decoder_outputs는 모든 time step의 hidden state\n",
    "decoder_outputs, _, _= decoder_lstm(dec_emb, initial_state = encoder_states)"
   ]
  },
  {
   "cell_type": "code",
   "execution_count": 19,
   "id": "93b39226",
   "metadata": {},
   "outputs": [],
   "source": [
    "decoder_softmax_layer = Dense(fra_vocab_size, activation='softmax')\n",
    "decoder_outputs = decoder_softmax_layer(decoder_outputs)"
   ]
  },
  {
   "cell_type": "code",
   "execution_count": 20,
   "id": "05568e2c",
   "metadata": {},
   "outputs": [
    {
     "name": "stdout",
     "output_type": "stream",
     "text": [
      "Model: \"model\"\n",
      "__________________________________________________________________________________________________\n",
      "Layer (type)                    Output Shape         Param #     Connected to                     \n",
      "==================================================================================================\n",
      "input_1 (InputLayer)            [(None, None)]       0                                            \n",
      "__________________________________________________________________________________________________\n",
      "input_2 (InputLayer)            [(None, None)]       0                                            \n",
      "__________________________________________________________________________________________________\n",
      "embedding (Embedding)           (None, None, 512)    2364416     input_1[0][0]                    \n",
      "__________________________________________________________________________________________________\n",
      "embedding_1 (Embedding)         (None, None, 512)    3781120     input_2[0][0]                    \n",
      "__________________________________________________________________________________________________\n",
      "lstm (LSTM)                     [(None, 256), (None, 787456      embedding[0][0]                  \n",
      "__________________________________________________________________________________________________\n",
      "lstm_1 (LSTM)                   [(None, None, 256),  787456      embedding_1[0][0]                \n",
      "                                                                 lstm[0][1]                       \n",
      "                                                                 lstm[0][2]                       \n",
      "__________________________________________________________________________________________________\n",
      "dense (Dense)                   (None, None, 7385)   1897945     lstm_1[0][0]                     \n",
      "==================================================================================================\n",
      "Total params: 9,618,393\n",
      "Trainable params: 9,618,393\n",
      "Non-trainable params: 0\n",
      "__________________________________________________________________________________________________\n"
     ]
    }
   ],
   "source": [
    "batch_size = 256\n",
    "optimizer = tensorflow.keras.optimizers.RMSprop(learning_rate=0.001)\n",
    "model = Model([encoder_inputs, decoder_inputs], decoder_outputs)\n",
    "model.compile(optimizer=optimizer, loss=\"sparse_categorical_crossentropy\", metrics=['accuracy'])\n",
    "model.summary()"
   ]
  },
  {
   "cell_type": "code",
   "execution_count": 21,
   "id": "a4164d94",
   "metadata": {
    "scrolled": false
   },
   "outputs": [
    {
     "name": "stdout",
     "output_type": "stream",
     "text": [
      "Epoch 1/100\n",
      "118/118 [==============================] - 10s 48ms/step - loss: 2.0144 - accuracy: 0.7170 - val_loss: 1.9427 - val_accuracy: 0.7071\n",
      "Epoch 2/100\n",
      "118/118 [==============================] - 5s 43ms/step - loss: 1.4546 - accuracy: 0.7687 - val_loss: 1.7792 - val_accuracy: 0.7215\n",
      "Epoch 3/100\n",
      "118/118 [==============================] - 5s 43ms/step - loss: 1.2783 - accuracy: 0.7931 - val_loss: 1.6192 - val_accuracy: 0.7494\n",
      "Epoch 4/100\n",
      "118/118 [==============================] - 5s 43ms/step - loss: 1.1365 - accuracy: 0.8108 - val_loss: 1.5259 - val_accuracy: 0.7599\n",
      "Epoch 5/100\n",
      "118/118 [==============================] - 5s 43ms/step - loss: 1.0248 - accuracy: 0.8245 - val_loss: 1.4260 - val_accuracy: 0.7734\n",
      "Epoch 6/100\n",
      "118/118 [==============================] - 5s 43ms/step - loss: 0.9326 - accuracy: 0.8366 - val_loss: 1.3644 - val_accuracy: 0.7791\n",
      "Epoch 7/100\n",
      "118/118 [==============================] - 5s 43ms/step - loss: 0.8559 - accuracy: 0.8459 - val_loss: 1.2999 - val_accuracy: 0.7900\n",
      "Epoch 8/100\n",
      "118/118 [==============================] - 5s 43ms/step - loss: 0.7904 - accuracy: 0.8535 - val_loss: 1.2703 - val_accuracy: 0.7931\n",
      "Epoch 9/100\n",
      "118/118 [==============================] - 5s 43ms/step - loss: 0.7331 - accuracy: 0.8608 - val_loss: 1.2258 - val_accuracy: 0.7992\n",
      "Epoch 10/100\n",
      "118/118 [==============================] - 5s 44ms/step - loss: 0.6813 - accuracy: 0.8679 - val_loss: 1.1958 - val_accuracy: 0.8027\n",
      "Epoch 11/100\n",
      "118/118 [==============================] - 5s 43ms/step - loss: 0.6346 - accuracy: 0.8747 - val_loss: 1.1688 - val_accuracy: 0.8065\n",
      "Epoch 12/100\n",
      "118/118 [==============================] - 5s 43ms/step - loss: 0.5925 - accuracy: 0.8811 - val_loss: 1.1421 - val_accuracy: 0.8092\n",
      "Epoch 13/100\n",
      "118/118 [==============================] - 5s 43ms/step - loss: 0.5536 - accuracy: 0.8875 - val_loss: 1.1350 - val_accuracy: 0.8127\n",
      "Epoch 14/100\n",
      "118/118 [==============================] - 5s 43ms/step - loss: 0.5176 - accuracy: 0.8937 - val_loss: 1.1105 - val_accuracy: 0.8160\n",
      "Epoch 15/100\n",
      "118/118 [==============================] - 5s 43ms/step - loss: 0.4842 - accuracy: 0.8992 - val_loss: 1.1032 - val_accuracy: 0.8173\n",
      "Epoch 16/100\n",
      "118/118 [==============================] - 5s 43ms/step - loss: 0.4536 - accuracy: 0.9047 - val_loss: 1.1043 - val_accuracy: 0.8197\n",
      "Epoch 17/100\n",
      "118/118 [==============================] - 5s 43ms/step - loss: 0.4251 - accuracy: 0.9100 - val_loss: 1.1175 - val_accuracy: 0.8140\n",
      "Epoch 18/100\n",
      "118/118 [==============================] - 5s 43ms/step - loss: 0.3990 - accuracy: 0.9144 - val_loss: 1.0839 - val_accuracy: 0.8212\n",
      "Epoch 19/100\n",
      "118/118 [==============================] - 5s 43ms/step - loss: 0.3744 - accuracy: 0.9193 - val_loss: 1.0853 - val_accuracy: 0.8228\n",
      "Epoch 20/100\n",
      "118/118 [==============================] - 5s 43ms/step - loss: 0.3518 - accuracy: 0.9232 - val_loss: 1.1030 - val_accuracy: 0.8225\n",
      "Epoch 21/100\n",
      "118/118 [==============================] - 5s 43ms/step - loss: 0.3310 - accuracy: 0.9272 - val_loss: 1.0752 - val_accuracy: 0.8230\n",
      "Epoch 22/100\n",
      "118/118 [==============================] - 5s 43ms/step - loss: 0.3118 - accuracy: 0.9307 - val_loss: 1.0819 - val_accuracy: 0.8249\n",
      "Epoch 23/100\n",
      "118/118 [==============================] - 5s 43ms/step - loss: 0.2945 - accuracy: 0.9335 - val_loss: 1.0765 - val_accuracy: 0.8246\n",
      "Epoch 24/100\n",
      "118/118 [==============================] - 5s 43ms/step - loss: 0.2785 - accuracy: 0.9362 - val_loss: 1.0967 - val_accuracy: 0.8247\n",
      "Epoch 25/100\n",
      "118/118 [==============================] - 5s 43ms/step - loss: 0.2637 - accuracy: 0.9392 - val_loss: 1.0843 - val_accuracy: 0.8256\n",
      "Epoch 26/100\n",
      "118/118 [==============================] - 5s 44ms/step - loss: 0.2502 - accuracy: 0.9414 - val_loss: 1.0887 - val_accuracy: 0.8245\n",
      "Epoch 27/100\n",
      "118/118 [==============================] - 5s 44ms/step - loss: 0.2380 - accuracy: 0.9433 - val_loss: 1.0859 - val_accuracy: 0.8262\n",
      "Epoch 28/100\n",
      "118/118 [==============================] - 5s 44ms/step - loss: 0.2259 - accuracy: 0.9456 - val_loss: 1.0984 - val_accuracy: 0.8240\n",
      "Epoch 29/100\n",
      "118/118 [==============================] - 5s 43ms/step - loss: 0.2155 - accuracy: 0.9475 - val_loss: 1.0927 - val_accuracy: 0.8261\n",
      "Epoch 30/100\n",
      "118/118 [==============================] - 5s 43ms/step - loss: 0.2056 - accuracy: 0.9487 - val_loss: 1.0980 - val_accuracy: 0.8269\n",
      "Epoch 31/100\n",
      "118/118 [==============================] - 5s 43ms/step - loss: 0.1963 - accuracy: 0.9507 - val_loss: 1.0987 - val_accuracy: 0.8265\n"
     ]
    }
   ],
   "source": [
    "check_point = callbacks.ModelCheckpoint('GD-07.keras', save_best_only=True)\n",
    "early_stopping = callbacks.EarlyStopping(patience=10, monitor='val_loss', restore_best_weights=True)\n",
    "\n",
    "history = model.fit(\n",
    "    \n",
    "    x=[encoder_input_train, decoder_input_train], y=decoder_target_train,\n",
    "    validation_data = ([encoder_input_test, decoder_input_test], decoder_target_test),\n",
    "    batch_size=batch_size,\n",
    "    epochs=100,\n",
    "    callbacks=[check_point, early_stopping]\n",
    ")"
   ]
  },
  {
   "cell_type": "code",
   "execution_count": 22,
   "id": "d62d19b4",
   "metadata": {},
   "outputs": [
    {
     "data": {
      "image/png": "[encoded data removed]",
      "text/plain": [
       "<Figure size 432x288 with 1 Axes>"
      ]
     },
     "metadata": {
      "needs_background": "light"
     },
     "output_type": "display_data"
    },
    {
     "data": {
      "image/png": "[encoded data removed]",
      "text/plain": [
       "<Figure size 432x288 with 1 Axes>"
      ]
     },
     "metadata": {
      "needs_background": "light"
     },
     "output_type": "display_data"
    }
   ],
   "source": [
    "history_dict = history.history\n",
    "\n",
    "acc = history_dict['accuracy']\n",
    "val_acc = history_dict['val_accuracy']\n",
    "loss = history_dict['loss']\n",
    "val_loss = history_dict['val_loss']\n",
    "\n",
    "epochs = range(1, len(acc) + 1)\n",
    "\n",
    "plt.plot(epochs, loss, 'bo', label='Training loss')\n",
    "plt.plot(epochs, val_loss, 'b', label='Validation loss')\n",
    "plt.title('Training and validation loss')\n",
    "plt.xlabel('Epochs')\n",
    "plt.ylabel('Loss')\n",
    "plt.legend()\n",
    "\n",
    "plt.show()\n",
    "\n",
    "plt.clf()\n",
    "\n",
    "plt.plot(epochs, acc, 'bo', label='Training acc')\n",
    "plt.plot(epochs, val_acc, 'b', label='Validation acc')\n",
    "plt.title('Training and validation accuracy')\n",
    "plt.xlabel('Epochs')\n",
    "plt.ylabel('Accuracy')\n",
    "plt.legend()\n",
    "\n",
    "plt.show()"
   ]
  },
  {
   "cell_type": "markdown",
   "id": "b4dee249",
   "metadata": {},
   "source": [
    "### Step 6. 모델 평가하기"
   ]
  },
  {
   "cell_type": "code",
   "execution_count": 23,
   "id": "695a6e6b",
   "metadata": {},
   "outputs": [
    {
     "name": "stdout",
     "output_type": "stream",
     "text": [
      "Model: \"model_1\"\n",
      "_________________________________________________________________\n",
      "Layer (type)                 Output Shape              Param #   \n",
      "=================================================================\n",
      "input_1 (InputLayer)         [(None, None)]            0         \n",
      "_________________________________________________________________\n",
      "embedding (Embedding)        (None, None, 512)         2364416   \n",
      "_________________________________________________________________\n",
      "lstm (LSTM)                  [(None, 256), (None, 256) 787456    \n",
      "=================================================================\n",
      "Total params: 3,151,872\n",
      "Trainable params: 3,151,872\n",
      "Non-trainable params: 0\n",
      "_________________________________________________________________\n"
     ]
    }
   ],
   "source": [
    "encoder_model = Model(inputs = encoder_inputs, outputs = encoder_states)\n",
    "encoder_model.summary()"
   ]
  },
  {
   "cell_type": "code",
   "execution_count": 24,
   "id": "70aba764",
   "metadata": {
    "scrolled": false
   },
   "outputs": [],
   "source": [
    "# 이전 time step의 hidden state를 저장하는 텐서\n",
    "decoder_state_input_h = Input(shape=(hidden_state,))\n",
    "# 이전 time step의 cell state를 저장하는 텐서\n",
    "decoder_state_input_c = Input(shape=(hidden_state,))\n",
    "# 이전 time step의 hidden state와 cell state를 하나의 변수에 저장\n",
    "decoder_states_inputs = [decoder_state_input_h, decoder_state_input_c]\n",
    "\n",
    "# decoder_states_inputs를 현재 time step의 초기 상태로 사용.\n",
    "# 구체적인 동작 자체는 def decode_sequence()에 구현.\n",
    "decoder_outputs, state_h, state_c = decoder_lstm(dec_emb, initial_state = decoder_states_inputs)\n",
    "# 현재 time step의 hidden state와 cell state를 하나의 변수에 저장.\n",
    "decoder_states = [state_h, state_c]"
   ]
  },
  {
   "cell_type": "code",
   "execution_count": 25,
   "id": "4746132a",
   "metadata": {},
   "outputs": [
    {
     "name": "stdout",
     "output_type": "stream",
     "text": [
      "Model: \"model_2\"\n",
      "__________________________________________________________________________________________________\n",
      "Layer (type)                    Output Shape         Param #     Connected to                     \n",
      "==================================================================================================\n",
      "input_2 (InputLayer)            [(None, None)]       0                                            \n",
      "__________________________________________________________________________________________________\n",
      "embedding_1 (Embedding)         (None, None, 512)    3781120     input_2[0][0]                    \n",
      "__________________________________________________________________________________________________\n",
      "input_3 (InputLayer)            [(None, 256)]        0                                            \n",
      "__________________________________________________________________________________________________\n",
      "input_4 (InputLayer)            [(None, 256)]        0                                            \n",
      "__________________________________________________________________________________________________\n",
      "lstm_1 (LSTM)                   [(None, None, 256),  787456      embedding_1[0][0]                \n",
      "                                                                 input_3[0][0]                    \n",
      "                                                                 input_4[0][0]                    \n",
      "__________________________________________________________________________________________________\n",
      "dense (Dense)                   (None, None, 7385)   1897945     lstm_1[1][0]                     \n",
      "==================================================================================================\n",
      "Total params: 6,466,521\n",
      "Trainable params: 6,466,521\n",
      "Non-trainable params: 0\n",
      "__________________________________________________________________________________________________\n"
     ]
    }
   ],
   "source": [
    "decoder_outputs = decoder_softmax_layer(decoder_outputs)\n",
    "decoder_model = Model(inputs=[decoder_inputs] + decoder_states_inputs, outputs=[decoder_outputs] + decoder_states)\n",
    "decoder_model.summary()"
   ]
  },
  {
   "cell_type": "code",
   "execution_count": 26,
   "id": "1eb41686",
   "metadata": {},
   "outputs": [],
   "source": [
    "eng2idx = eng_tokenizer.word_index\n",
    "fra2idx = fra_tokenizer.word_index\n",
    "idx2eng = eng_tokenizer.index_word\n",
    "idx2fra = fra_tokenizer.index_word"
   ]
  },
  {
   "cell_type": "code",
   "execution_count": 27,
   "id": "5828b200",
   "metadata": {},
   "outputs": [],
   "source": [
    "eng2idx['unk'] = 0\n",
    "fra2idx['unk'] = 0\n",
    "idx2eng[0] = 'unk'\n",
    "idx2fra[0] = 'unk'"
   ]
  },
  {
   "cell_type": "code",
   "execution_count": 28,
   "id": "dc38e1e6",
   "metadata": {},
   "outputs": [],
   "source": [
    "def decode_sequence(input_seq):\n",
    "    # 입력으로부터 인코더의 상태를 얻음\n",
    "    states_value = encoder_model.predict(input_seq)\n",
    "\n",
    "    # <SOS>에 해당하는 원-핫 벡터 생성\n",
    "    target_seq = np.zeros((1,1))\n",
    "    target_seq[0, 0] = fra2idx['sos']\n",
    "\n",
    "    stop_condition = False\n",
    "    decoded_sentence = \"\"\n",
    "\n",
    "    # stop_condition이 True가 될 때까지 루프 반복\n",
    "    while not stop_condition:\n",
    "        # 이점 시점의 상태 states_value를 현 시점의 초기 상태로 사용\n",
    "        output_tokens, h, c = decoder_model.predict([target_seq] + states_value)\n",
    "        \n",
    "        # 예측 결과를 문자로 변환\n",
    "        sampled_token_index = np.argmax(output_tokens[0, -1, :])\n",
    "        sampled_char = idx2fra[sampled_token_index]\n",
    "\n",
    "        # 현재 시점의 예측 문자를 예측 문장에 추가\n",
    "        decoded_sentence += ' ' + sampled_char\n",
    "\n",
    "        # <eos>에 도달하거나 최대 길이를 넘으면 중단.\n",
    "        if sampled_char == 'eos':\n",
    "            stop_condition = True\n",
    "            decoded_sentence = decoded_sentence[:-3] ### <eos>에 도달하면 <eos>를 지우고 출력\n",
    "        if len(decoded_sentence.split()) > max_fra_seq_len:\n",
    "            stop_condition = True\n",
    "\n",
    "        # 현재 시점의 예측 결과를 다음 시점의 입력으로 사용하기 위해 저장\n",
    "        target_seq = np.zeros((1, 1))\n",
    "        target_seq[0, 0] = sampled_token_index\n",
    "\n",
    "        # 현재 시점의 상태를 다음 시점의 상태로 사용하기 위해 저장\n",
    "        states_value = [h, c]\n",
    "\n",
    "    return decoded_sentence"
   ]
  },
  {
   "cell_type": "code",
   "execution_count": 29,
   "id": "6ff544ad",
   "metadata": {
    "scrolled": false
   },
   "outputs": [
    {
     "name": "stdout",
     "output_type": "stream",
     "text": [
      "-----------------------------------\n",
      "입력 문장: tom hurt his knee .\n",
      "정답 문장: tom s est fait mal au genou .\n",
      "번역기가 번역한 문장:  tom s est fait au courant \n",
      "-----------------------------------\n",
      "입력 문장: tom warned mary .\n",
      "정답 문장: thomas avertit marie .\n",
      "번역기가 번역한 문장:  tom a regard marie \n",
      "-----------------------------------\n",
      "입력 문장: they ll call .\n",
      "정답 문장: ils vont t l phoner .\n",
      "번역기가 번역한 문장:  ils vont un coup de retour \n",
      "-----------------------------------\n",
      "입력 문장: tom is a cancer .\n",
      "정답 문장: tom est cancer .\n",
      "번역기가 번역한 문장:  tom est un cancer \n",
      "-----------------------------------\n",
      "입력 문장: i broke my glasses .\n",
      "정답 문장: j ai cass mes lunettes .\n",
      "번역기가 번역한 문장:  je me suis cass e \n",
      "-----------------------------------\n",
      "입력 문장: do you like music ?\n",
      "정답 문장: la musique vous pla t ?\n",
      "번역기가 번역한 문장:  est ce que tu aimes la musique \n",
      "-----------------------------------\n",
      "입력 문장: this is urgent .\n",
      "정답 문장: c est urgent .\n",
      "번역기가 번역한 문장:  c est incroyable \n",
      "-----------------------------------\n",
      "입력 문장: i m not ugly .\n",
      "정답 문장: je ne suis pas laid .\n",
      "번역기가 번역한 문장:  je ne suis pas laid \n",
      "-----------------------------------\n",
      "입력 문장: do you want to go ?\n",
      "정답 문장: veux tu partir ?\n",
      "번역기가 번역한 문장:  veux tu y aller \n",
      "-----------------------------------\n",
      "입력 문장: i m a free man .\n",
      "정답 문장: je suis un homme libre .\n",
      "번역기가 번역한 문장:  je suis un homme libre \n"
     ]
    }
   ],
   "source": [
    "for i in range(10): # 입력 문장의 인덱스 (자유롭게 선택해 보세요)\n",
    "    random_index = np.random.randint(0, 32999)\n",
    "    input_seq = encoder_input[random_index: random_index + 1]\n",
    "    decoded_sentence = decode_sequence(input_seq)\n",
    "    print(35 * \"-\")\n",
    "    print('입력 문장:', lines.eng[random_index][6:-6])# 'sos'와 'eos'을 빼고 출력\n",
    "    print('정답 문장:', lines.fra[random_index][6:-6]) # 'sos'와 'eos'을 빼고 출력\n",
    "    print('번역기가 번역한 문장:', decoded_sentence)"
   ]
  },
  {
   "cell_type": "markdown",
   "id": "eb13846c",
   "metadata": {},
   "source": [
    "1. 입력 문장: 톰은 무릎을 다쳤다.  \n",
    "    정답 문장: tom s est fait mal au genou .  \n",
    "    번역기가 번역한 문장:  tom s est fait au courant - 톰은 알게 되었다. __(X)__\n",
    "------------------------------------------------------ \n",
    "2. 입력 문장: 톰은 메리에게 경고했다.  \n",
    "    정답 문장: thomas avertit marie .  \n",
    "    번역기가 번역한 문장:  tom a regard marie - 톰은 마리를 쳐다보았다. __(X)__\n",
    "-----------------------------------\n",
    "3. 입력 문장: 그 사람들이 전화할 겁니다.  \n",
    "    정답 문장: ils vont t l phoner .  \n",
    "    번역기가 번역한 문장:  ils vont un coup de retour - 그들은 원샷 뒤로 간다 __(X)__\n",
    "-----------------------------------\n",
    "4. 입력 문장: 톰은 게자리다.  \n",
    "    정답 문장: tom est cancer .  \n",
    "    번역기가 번역한 문장:  tom est un cancer - 톰은 게자리다. __(O)__\n",
    "-----------------------------------\n",
    "5. 입력 문장: 나는 안경을 부러뜨렸다.  \n",
    "    정답 문장: j ai cass mes lunettes .  \n",
    "    번역기가 번역한 문장:  je me suis cass e - 나는 무너졌다 __(X)__\n",
    "-----------------------------------\n",
    "6. 입력 문장: do you like music ?    \n",
    "    정답 문장: la musique vous pla t ?  \n",
    "    번역기가 번역한 문장:  est ce que tu aimes la musique - 음악을 좋아해요? __(O)__\n",
    "-----------------------------------\n",
    "7. 입력 문장: 급한 일이야.  \n",
    "    정답 문장: c est urgent .  \n",
    "    번역기가 번역한 문장:  c est incroyable - 믿을 수 없어. __(X)__\n",
    "-----------------------------------\n",
    "8. 입력 문장: 난 못생기지 않았어.  \n",
    "    정답 문장: je ne suis pas laid .  \n",
    "    번역기가 번역한 문장:  je ne suis pas laid __(O)__\n",
    "-----------------------------------\n",
    "9. 입력 문장: 가고 싶어?  \n",
    "    정답 문장: veux tu partir ?  \n",
    "    번역기가 번역한 문장:  veux tu y aller - 거기에 가고 싶니? __(O)__\n",
    "-----------------------------------\n",
    "10. 입력 문장: i m a free man .    \n",
    "    정답 문장: je suis un homme libre .  \n",
    "    번역기가 번역한 문장:  je suis un homme libre __(O)__"
   ]
  },
  {
   "cell_type": "markdown",
   "id": "b7c50f38",
   "metadata": {},
   "source": [
    "##### 절반은 맞췄다."
   ]
  },
  {
   "attachments": {
    "image-2.png": {
     "image/png": "[encoded data removed]"
    },
    "image.png": {
     "image/png": "[encoded data removed]"
    }
   },
   "cell_type": "markdown",
   "id": "786d5ade",
   "metadata": {},
   "source": [
    "### 회고\n",
    "\n",
    "##### 어려웠던 점, 해결을 위해 시도한 방법, 문제해결에 성공한 이유 또는 실패한 이유\n",
    "\t: embedding layer를 만드는 과정에서 노드의 hidden_state였던 256을 사용할 지 다른 값을 사용할 지 고민이 돼서 chat GPT한테 물어봤는데 128을 보통 많이 하고 여기서 조정해나가면 된다고 했다. 그래서 256으로 좋은 결과가 나오지 않으면 hidden_state를 128로 하려고 했다. 하지만 단어장이 커져서 hidden state를 더 키우기로 했다.\n",
    "    decode_sequence 함수를 만드는 과정이 어려웠다. input과 output의 shape을 맞춰줘야 하는데 input shape이 1인 이유를 모르겠었다.\n",
    "![image.png](attachment:image.png)\n",
    "\n",
    "    그래서 encoder_input.shape을 확인했는데 2차원이었다. 노드에서는 3차원이었어서 shape 에러가 날 수 있다고 했다. 그런데 shape이 문제가 아닌 것 같아서, def 안에서 print를 해가면서 확인했는데, sampled_token_index가 0일 때 에러가 나는 것이 문제였다. 왜냐면 0은 패딩인데, 단어장에 패딩이 없었기 때문이다. 내가 pre로 패딩을 채워서 많은 문장들이 0으로 시작했을텐데, 그걸 unk로 지정해주지 않아서 계속 못알아낸 것이었다. 우선 단어장에 0을 만들어줬고, 그리고 실행했는데\n",
    "![image-2.png](attachment:image-2.png)\n",
    "\n",
    "    unk만 내보내는 모델이 되어버렸다. padding을 post로 변경하고 다시 실행하니까 제대로 번역된 결과물이 나왔다.\n",
    "    \n",
    "    decode sequence 내부에서\n",
    "    \n",
    "            # <eos>에 도달하거나 최대 길이를 넘으면 중단.\n",
    "        if sampled_char == 'eos':\n",
    "            stop_condition = True\n",
    "            decoded_sentence = decoded_sentence[:-3]\n",
    "        if len(decoded_sentence.split()) > max_fra_seq_len:\n",
    "            stop_condition = True\n",
    "            \n",
    "    이 부분을 코드를 짜면서 고려해줘야 했다. decoded_sentence를 split하지 않으면 max_fra_seq_len이 16이기 때문에 글자수가 16이 넘어가버리면 아예 잘려버렸다. 단어를 기준으로 해야했기 때문에 split을 꼭 해줘야 했고, eos에 도달하면 그 뒤에 슬라이싱으로 무조건 [:3] 해버렸을 때 eos에 도달해서 끝난 게 아니라 그저 길이가 길어서 끝난 경우도 있기 때문에 함수 내부에서 고쳐줘야 했다.\n",
    "    \n",
    "##### 프로젝트를 진행하면서 알아낸 점 혹은 아직 모호한 점\n",
    "\t: padding을 post로 해야하는 이유는?\n",
    "    첫번째 정보가 그 뒤의 문장에 대해 영향을 주기 때문에, 처음에 0으로 시작하게 된다면 그 뒤에 0이 대부분이 찍혀있기 때문에 계속해서 0을 예측할 수 있다. 그러므로 이 경우에는 post 패딩을 넣는 것이 좋다.\n",
    "\n",
    "##### 루브릭 평가 지표를 맞추기 위해 시도한 내용\n",
    "\t: 이전 노드를 보면서 전처리를 했고 apply 메소드의 사용법을 복습했다. 그래프를 그렸고 earlystopping으로 과대적합 되기 전 모델을 저장했다. 한국어로 번역해보았다.\n",
    "\n",
    "##### 자기 다짐, 프로젝트를 진행하면서 느낀점\n",
    "\t: accuracy에 대한 루브릭이 없으니 내가 이 모델이 잘 하고 있는지 아닌 지 판단할 권한이 생겼다고 느꼈다. 직접 번역을 시켜보니 프랑스어의 특성상 구두점인 \"'\"이 많이 등장해서 번역이 더 어려웠지 않았나 싶다. 좀 더 맥락을 이해하는 번역기에 대해 공부해보고 싶다. 나는 번역기를 정말 잘 만들고 싶다. 특히 웹툰을 맥락에 따라 잘 번역해주면 좋겠다. 최근에도 외국인 친구가 '다 간 것 같은데?'라는 대사를 혼자서 번역해봤다면서 'Everything (that we've done) it's completely looks like a gap.' 이라고 번역했다면서 맞냐고 물어봤는데, '간'을 동사와 형태소의 결합이라고 보지 못하고 신체 장기인 간의 뜻을 보고 맥락에 맞지 않다고 생각했는지 이건 번역하는 단어에 사용하지 않고 넘겼지만, 사이를 뜻하는 간 등으로 번역하고 '다'를 지칭하는 대상이 사람이 될 수는 없다고 생각해서 이렇게 번역을 해버린 것 같았다. 한국어는 형태소와의 결합에 따라서 정말 다양한 뜻이 되는데, 주어도 없는 편이라서 맥락이 정말 중요한 편이다. 웹툰에는 그런 대사들이 정말 많은데 이걸로 한국어를 공부하는 친구를 너무 도와주고 싶다. 매번 내가 이렇게 하나하나 알려주기 보다는 딥러닝 모델을 제대로 된 걸 만들어주고 싶다.\n",
    "    통계적 기계번역을 적용하고난 뒤에 언어인식기의 성능이 올라갔다고 했다. 웹툰의 장르별 언어인식기를 만들게 되면 더 성능이 올라가지 않을까? 로맨스 장르에 자주 등장하는 단어들, 맥락들이 있고 무협지 장르에 자주 등장하는 것들이 정해져있다. 먼저 제일 제대로됐을 가능성이 높은 번역 문장을 하나 보여주고, 그 뒤에 그 다음 가능성이 있을 문장을 보여줘서 선택하게 하면 아예 딴소리하는 번역은 없어질 것 같다. 정말 꼭 언젠가 만들 수 있으면 좋겠다."
   ]
  }
 ],
 "metadata": {
  "kernelspec": {
   "display_name": "Python 3 (ipykernel)",
   "language": "python",
   "name": "python3"
  },
  "language_info": {
   "codemirror_mode": {
    "name": "ipython",
    "version": 3
   },
   "file_extension": ".py",
   "mimetype": "text/x-python",
   "name": "python",
   "nbconvert_exporter": "python",
   "pygments_lexer": "ipython3",
   "version": "3.9.7"
  }
 },
 "nbformat": 4,
 "nbformat_minor": 5
}
