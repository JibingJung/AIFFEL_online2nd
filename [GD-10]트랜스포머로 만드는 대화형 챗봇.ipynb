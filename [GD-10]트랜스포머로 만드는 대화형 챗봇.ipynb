{
 "cells": [
  {
   "cell_type": "markdown",
   "id": "8bcfef39",
   "metadata": {},
   "source": [
    "# 10-14. 프로젝트: 한국어 데이터로 챗봇 만들기"
   ]
  },
  {
   "cell_type": "code",
   "execution_count": 1,
   "id": "179b1497",
   "metadata": {},
   "outputs": [],
   "source": [
    "import tensorflow as tf\n",
    "import tensorflow_datasets as tfds\n",
    "import os, re\n",
    "import numpy as np\n",
    "import matplotlib.pyplot as plt"
   ]
  },
  {
   "cell_type": "markdown",
   "id": "5047c9ed",
   "metadata": {},
   "source": [
    "### Step 1. 데이터 수집하기"
   ]
  },
  {
   "cell_type": "code",
   "execution_count": 2,
   "id": "7b29bd00",
   "metadata": {},
   "outputs": [],
   "source": [
    "# ! mkdir -p ~/aiffel/transformer_chatbot/data/\n",
    "# ! ln -s ~/data/* ~/aiffel/transformer_chatbot/data/"
   ]
  },
  {
   "cell_type": "code",
   "execution_count": 3,
   "id": "5df84ccd",
   "metadata": {
    "scrolled": true
   },
   "outputs": [],
   "source": [
    "path_to_movie_conversations = '/aiffel/aiffel/transformer_chatbot/data/ChatbotData .csv'"
   ]
  },
  {
   "cell_type": "markdown",
   "id": "1f83374b",
   "metadata": {},
   "source": [
    "### Step 2. 데이터 전처리하기"
   ]
  },
  {
   "cell_type": "code",
   "execution_count": 4,
   "id": "0a2edad1",
   "metadata": {},
   "outputs": [],
   "source": [
    "# 전처리 함수\n",
    "def preprocess_sentence(sentence):\n",
    "    sentence = sentence.lower().strip()\n",
    "\n",
    "    # 단어와 구두점(punctuation) 사이의 거리를 만듭니다.\n",
    "    # 예를 들어서 \"I am a student.\" => \"I am a student .\"와 같이\n",
    "    # student와 온점 사이에 거리를 만듭니다.\n",
    "    sentence = re.sub(r\"([?.!,])\", r\" \\1 \", sentence)\n",
    "    sentence = re.sub(r'[\" \"]+', \" \", sentence)\n",
    "\n",
    "    # (a-z, A-Z, \".\", \"?\", \"!\", \",\")를 제외한 모든 문자를 공백인 ' '로 대체합니다.\n",
    "    sentence = re.sub(r\"[^a-zA-Z가-힣?.!,]+\", \" \", sentence)\n",
    "    sentence = sentence.strip()\n",
    "    return sentence"
   ]
  },
  {
   "cell_type": "code",
   "execution_count": 5,
   "id": "a016c230",
   "metadata": {},
   "outputs": [],
   "source": [
    "# 질문과 답변의 쌍인 데이터셋을 구성하기 위한 데이터 로드 함수\n",
    "def load_conversations():\n",
    "    inputs, outputs = [], []\n",
    "    with open(path_to_movie_conversations, 'r') as file:\n",
    "        lines = file.readlines()\n",
    "        for line in lines:\n",
    "            parts = line.replace('\\n', '').split(',')\n",
    "            inputs.append(preprocess_sentence(parts[0]))\n",
    "            outputs.append(preprocess_sentence(parts[1]))\n",
    "    return inputs[1:], outputs[1:]"
   ]
  },
  {
   "cell_type": "code",
   "execution_count": 6,
   "id": "13cc075a",
   "metadata": {},
   "outputs": [
    {
     "name": "stdout",
     "output_type": "stream",
     "text": [
      "전체 샘플 수 : 11823\n",
      "전체 샘플 수 : 11823\n"
     ]
    }
   ],
   "source": [
    "# 데이터를 로드하고 전처리하여 질문을 questions, 답변을 answers에 저장합니다.\n",
    "questions, answers = load_conversations()\n",
    "print('전체 샘플 수 :', len(questions))\n",
    "print('전체 샘플 수 :', len(answers))"
   ]
  },
  {
   "cell_type": "code",
   "execution_count": 7,
   "id": "58f14b78",
   "metadata": {
    "scrolled": true
   },
   "outputs": [
    {
     "name": "stdout",
     "output_type": "stream",
     "text": [
      "전처리 후의 22번째 질문 샘플: 가스비 장난 아님\n",
      "전처리 후의 22번째 답변 샘플: 다음 달에는 더 절약해봐요 .\n"
     ]
    }
   ],
   "source": [
    "print('전처리 후의 22번째 질문 샘플: {}'.format(questions[21]))\n",
    "print('전처리 후의 22번째 답변 샘플: {}'.format(answers[21]))"
   ]
  },
  {
   "cell_type": "markdown",
   "id": "db2899af",
   "metadata": {},
   "source": [
    "### Step 3. SubwordTextEncoder 사용하기"
   ]
  },
  {
   "cell_type": "code",
   "execution_count": 8,
   "id": "13510cd4",
   "metadata": {},
   "outputs": [],
   "source": [
    "tokenizer = tfds.deprecated.text.SubwordTextEncoder.build_from_corpus(questions + answers, target_vocab_size=2**13)"
   ]
  },
  {
   "cell_type": "code",
   "execution_count": 9,
   "id": "76712edc",
   "metadata": {},
   "outputs": [],
   "source": [
    "# 시작 토큰과 종료 토큰에 고유한 정수를 부여합니다.\n",
    "START_TOKEN, END_TOKEN = [tokenizer.vocab_size], [tokenizer.vocab_size + 1]"
   ]
  },
  {
   "cell_type": "code",
   "execution_count": 10,
   "id": "5ed42b35",
   "metadata": {},
   "outputs": [
    {
     "name": "stdout",
     "output_type": "stream",
     "text": [
      "8112\n"
     ]
    }
   ],
   "source": [
    "# 시작 토큰과 종료 토큰을 고려하여 +2를 하여 단어장의 크기를 산정합니다.\n",
    "VOCAB_SIZE = tokenizer.vocab_size + 2\n",
    "print(VOCAB_SIZE)"
   ]
  },
  {
   "cell_type": "code",
   "execution_count": 11,
   "id": "8e1641dc",
   "metadata": {},
   "outputs": [
    {
     "name": "stdout",
     "output_type": "stream",
     "text": [
      "정수 인코딩 후의 21번째 질문 샘플: [5722, 607, 2475, 4129]\n",
      "정수 인코딩 후의 21번째 답변 샘플: [2345, 7465, 7, 6229, 95, 1]\n"
     ]
    }
   ],
   "source": [
    "# 임의의 22번째 샘플에 대해서 정수 인코딩 작업을 수행.\n",
    "# 각 토큰을 고유한 정수로 변환\n",
    "print('정수 인코딩 후의 21번째 질문 샘플: {}'.format(tokenizer.encode(questions[21])))\n",
    "print('정수 인코딩 후의 21번째 답변 샘플: {}'.format(tokenizer.encode(answers[21])))"
   ]
  },
  {
   "cell_type": "code",
   "execution_count": 12,
   "id": "2034b335",
   "metadata": {},
   "outputs": [
    {
     "name": "stdout",
     "output_type": "stream",
     "text": [
      "40\n"
     ]
    }
   ],
   "source": [
    "# 샘플의 최대 허용 길이 또는 패딩 후의 최종 길이\n",
    "MAX_LENGTH = 40\n",
    "print(MAX_LENGTH)"
   ]
  },
  {
   "cell_type": "code",
   "execution_count": 13,
   "id": "aaa980ad",
   "metadata": {},
   "outputs": [],
   "source": [
    "# 정수 인코딩, 최대 길이를 초과하는 샘플 제거, 패딩\n",
    "def tokenize_and_filter(inputs, outputs):\n",
    "    tokenized_inputs, tokenized_outputs = [], []\n",
    "    \n",
    "    for (sentence1, sentence2) in zip(inputs, outputs):\n",
    "        # 정수 인코딩 과정에서 시작 토큰과 종료 토큰을 추가\n",
    "        sentence1 = START_TOKEN + tokenizer.encode(sentence1) + END_TOKEN\n",
    "        sentence2 = START_TOKEN + tokenizer.encode(sentence2) + END_TOKEN\n",
    "        \n",
    "        # 최대 길이 40 이하인 경우에만 데이터셋으로 허용\n",
    "        if len(sentence1) <= MAX_LENGTH and len(sentence2) <= MAX_LENGTH:\n",
    "            tokenized_inputs.append(sentence1)\n",
    "            tokenized_outputs.append(sentence2)\n",
    "            \n",
    "    # 최대 길이 40으로 모든 데이터셋을 패딩\n",
    "    tokenized_inputs = tf.keras.preprocessing.sequence.pad_sequences(\n",
    "        tokenized_inputs, maxlen=MAX_LENGTH, padding='post')\n",
    "    tokenized_outputs = tf.keras.preprocessing.sequence.pad_sequences(\n",
    "        tokenized_outputs, maxlen=MAX_LENGTH, padding='post')\n",
    "    \n",
    "    return tokenized_inputs, tokenized_outputs"
   ]
  },
  {
   "cell_type": "code",
   "execution_count": 14,
   "id": "48009746",
   "metadata": {},
   "outputs": [
    {
     "name": "stdout",
     "output_type": "stream",
     "text": [
      "단어장의 크기 : 8112\n",
      "필터링 후의 질문 샘플 개수: 11823\n",
      "필터링 후의 답변 샘플 개수: 11823\n"
     ]
    }
   ],
   "source": [
    "questions, answers = tokenize_and_filter(questions, answers)\n",
    "print('단어장의 크기 :',(VOCAB_SIZE))\n",
    "print('필터링 후의 질문 샘플 개수: {}'.format(len(questions)))\n",
    "print('필터링 후의 답변 샘플 개수: {}'.format(len(answers)))"
   ]
  },
  {
   "cell_type": "code",
   "execution_count": 15,
   "id": "1bcc77c0",
   "metadata": {},
   "outputs": [],
   "source": [
    "BATCH_SIZE = 128\n",
    "BUFFER_SIZE = 10000\n",
    "\n",
    "# 디코더는 이전의 target을 다음의 input으로 사용합니다.\n",
    "# 이에 따라 outputs에서는 START_TOKEN을 제거하겠습니다.\n",
    "dataset = tf.data.Dataset.from_tensor_slices((\n",
    "    {\n",
    "        'inputs': questions,\n",
    "        'dec_inputs': answers[:, :-1]\n",
    "    },\n",
    "    {\n",
    "        'outputs': answers[:, 1:]\n",
    "    },\n",
    "))\n",
    "\n",
    "dataset = dataset.cache()\n",
    "dataset = dataset.shuffle(BUFFER_SIZE)\n",
    "dataset = dataset.batch(BATCH_SIZE)\n",
    "dataset = dataset.prefetch(tf.data.experimental.AUTOTUNE)"
   ]
  },
  {
   "cell_type": "markdown",
   "id": "e7337eaf",
   "metadata": {},
   "source": [
    "### Step 4. 모델 구성하기"
   ]
  },
  {
   "cell_type": "code",
   "execution_count": 16,
   "id": "84ef8189",
   "metadata": {},
   "outputs": [],
   "source": [
    "# 포지셔널 인코딩 레이어\n",
    "class PositionalEncoding(tf.keras.layers.Layer):\n",
    "    def __init__(self, position, d_model):\n",
    "        super(PositionalEncoding, self).__init__()\n",
    "        self.pos_encoding = self.positional_encoding(position, d_model)\n",
    "    def get_angles(self, position, i, d_model):\n",
    "        angles = 1 / tf.pow(10000, (2 * (i // 2)) / tf.cast(d_model, tf.float32))\n",
    "        return position * angles\n",
    "    \n",
    "    def positional_encoding(self, position, d_model):\n",
    "        # 각도 배열 생성\n",
    "        angle_rads = self.get_angles(\n",
    "            position=tf.range(position, dtype=tf.float32)[:, tf.newaxis],\n",
    "            i=tf.range(d_model, dtype=tf.float32)[tf.newaxis, :],\n",
    "            d_model=d_model\n",
    "        )\n",
    "\n",
    "        # 배열의 짝수 인덱스에는 sin 함수 적용\n",
    "        sines = tf.math.sin(angle_rads[:, 0::2])\n",
    "        # 배열의 홀수 인덱스에는 cosine 함수 적용\n",
    "        cosines = tf.math.cos(angle_rads[:, 1::2])\n",
    "\n",
    "        # sin과 cosine이 교차되도록 재배열\n",
    "        pos_encoding = tf.stack([sines, cosines], axis=0)\n",
    "        pos_encoding = tf.transpose(pos_encoding,[1, 2, 0]) \n",
    "        pos_encoding = tf.reshape(pos_encoding, [position, d_model])\n",
    "\n",
    "        pos_encoding = pos_encoding[tf.newaxis, ...]\n",
    "        return tf.cast(pos_encoding, tf.float32)\n",
    "\n",
    "    def call(self, inputs):\n",
    "        return inputs + self.pos_encoding[:, :tf.shape(inputs)[1], :]"
   ]
  },
  {
   "cell_type": "code",
   "execution_count": 17,
   "id": "ade463ed",
   "metadata": {},
   "outputs": [],
   "source": [
    "# 스케일드 닷 프로덕트 어텐션 함수\n",
    "def scaled_dot_product_attention(query, key, value, mask):\n",
    "    # 어텐션 가중치는 Q와 K의 닷 프로덕트\n",
    "    matmul_qk = tf.matmul(query, key, transpose_b=True)\n",
    "    \n",
    "    # 가중치를 정규화\n",
    "    depth = tf.cast(tf.shape(key)[-1], tf.float32)\n",
    "    logits = matmul_qk / tf.math.sqrt(depth)\n",
    "    \n",
    "    # 패딩에 마스크 추가\n",
    "    if mask is not None:\n",
    "        logits += (mask * -1e9)\n",
    "        \n",
    "    # softmax적용\n",
    "    attention_weights = tf.nn.softmax(logits, axis=-1)\n",
    "\n",
    "    # 최종 어텐션은 가중치와 V의 닷 프로덕트\n",
    "    output = tf.matmul(attention_weights, value)\n",
    "    return output"
   ]
  },
  {
   "cell_type": "code",
   "execution_count": 18,
   "id": "517c46f7",
   "metadata": {},
   "outputs": [],
   "source": [
    "class MultiHeadAttention(tf.keras.layers.Layer):\n",
    "\n",
    "    def __init__(self, d_model, num_heads, name=\"multi_head_attention\"):\n",
    "        super(MultiHeadAttention, self).__init__(name=name)\n",
    "        self.num_heads = num_heads\n",
    "        self.d_model = d_model\n",
    "\n",
    "        assert d_model % self.num_heads == 0\n",
    "\n",
    "        self.depth = d_model // self.num_heads\n",
    "\n",
    "        self.query_dense = tf.keras.layers.Dense(units=d_model)\n",
    "        self.key_dense = tf.keras.layers.Dense(units=d_model)\n",
    "        self.value_dense = tf.keras.layers.Dense(units=d_model)\n",
    "\n",
    "        self.dense = tf.keras.layers.Dense(units=d_model)\n",
    "\n",
    "    def split_heads(self, inputs, batch_size):\n",
    "        inputs = tf.reshape(\n",
    "            inputs, shape=(batch_size, -1, self.num_heads, self.depth))\n",
    "        return tf.transpose(inputs, perm=[0, 2, 1, 3])\n",
    "    \n",
    "    def call(self, inputs):\n",
    "        query, key, value, mask = inputs['query'], inputs['key'], inputs['value'], inputs['mask']\n",
    "        batch_size = tf.shape(query)[0]\n",
    "\n",
    "        # Q, K, V에 각각 Dense를 적용합니다\n",
    "        query = self.query_dense(query)\n",
    "        key = self.key_dense(key)\n",
    "        value = self.value_dense(value)\n",
    "\n",
    "        # 병렬 연산을 위한 머리를 여러 개 만듭니다\n",
    "        query = self.split_heads(query, batch_size)\n",
    "        key = self.split_heads(key, batch_size)\n",
    "        value = self.split_heads(value, batch_size)\n",
    "\n",
    "        # 스케일드 닷 프로덕트 어텐션 함수\n",
    "        scaled_attention = scaled_dot_product_attention(query, key, value, mask)\n",
    "\n",
    "        scaled_attention = tf.transpose(scaled_attention, perm=[0, 2, 1, 3])\n",
    "\n",
    "        # 어텐션 연산 후에 각 결과를 다시 연결(concatenate)합니다\n",
    "        concat_attention = tf.reshape(scaled_attention, (batch_size, -1, self.d_model))\n",
    "\n",
    "        # 최종 결과에도 Dense를 한 번 더 적용합니다\n",
    "        outputs = self.dense(concat_attention)\n",
    "\n",
    "        return outputs"
   ]
  },
  {
   "cell_type": "code",
   "execution_count": 19,
   "id": "16de63ea",
   "metadata": {},
   "outputs": [],
   "source": [
    "def create_padding_mask(x):\n",
    "    mask = tf.cast(tf.math.equal(x, 0), tf.float32)\n",
    "    # (batch_size, 1, 1, sequence length)\n",
    "    return mask[:, tf.newaxis, tf.newaxis, :]"
   ]
  },
  {
   "cell_type": "code",
   "execution_count": 20,
   "id": "cb3104dd",
   "metadata": {},
   "outputs": [],
   "source": [
    "def create_look_ahead_mask(x):\n",
    "    seq_len = tf.shape(x)[1]\n",
    "    look_ahead_mask = 1 - tf.linalg.band_part(tf.ones((seq_len, seq_len)), -1, 0)\n",
    "    padding_mask = create_padding_mask(x)\n",
    "    return tf.maximum(look_ahead_mask, padding_mask)"
   ]
  },
  {
   "cell_type": "code",
   "execution_count": 21,
   "id": "ec8144b3",
   "metadata": {},
   "outputs": [],
   "source": [
    "# 인코더 하나의 레이어를 함수로 구현.\n",
    "# 이 하나의 레이어 안에는 두 개의 서브 레이어가 존재합니다.\n",
    "def encoder_layer(units, d_model, num_heads, dropout, name=\"encoder_layer\"):\n",
    "    inputs = tf.keras.Input(shape=(None, d_model), name=\"inputs\")\n",
    "\n",
    "    # 패딩 마스크 사용\n",
    "    padding_mask = tf.keras.Input(shape=(1, 1, None), name=\"padding_mask\")\n",
    "\n",
    "    # 첫 번째 서브 레이어 : 멀티 헤드 어텐션 수행 (셀프 어텐션)\n",
    "    attention = MultiHeadAttention(\n",
    "        d_model, num_heads, name=\"attention\")({\n",
    "        'query': inputs,\n",
    "        'key': inputs,\n",
    "        'value': inputs,\n",
    "        'mask': padding_mask\n",
    "    })\n",
    "\n",
    "    # 어텐션의 결과는 Dropout과 Layer Normalization이라는 훈련을 돕는 테크닉을 수행\n",
    "    attention = tf.keras.layers.Dropout(rate=dropout)(attention)\n",
    "    attention = tf.keras.layers.LayerNormalization(epsilon=1e-6)(inputs + attention)\n",
    "\n",
    "    # 두 번째 서브 레이어 : 2개의 완전연결층\n",
    "    outputs = tf.keras.layers.Dense(units=units, activation='relu')(attention)\n",
    "    outputs = tf.keras.layers.Dense(units=d_model)(outputs)\n",
    "\n",
    "    # 완전연결층의 결과는 Dropout과 LayerNormalization이라는 훈련을 돕는 테크닉을 수행\n",
    "    outputs = tf.keras.layers.Dropout(rate=dropout)(outputs)\n",
    "    outputs = tf.keras.layers.LayerNormalization(epsilon=1e-6)(attention + outputs)\n",
    "\n",
    "    return tf.keras.Model(inputs=[inputs, padding_mask], outputs=outputs, name=name)"
   ]
  },
  {
   "cell_type": "code",
   "execution_count": 22,
   "id": "6f535d77",
   "metadata": {},
   "outputs": [],
   "source": [
    "def encoder(vocab_size,\n",
    "            num_layers,\n",
    "            units,\n",
    "            d_model,\n",
    "            num_heads,\n",
    "            dropout,\n",
    "            name=\"encoder\"):\n",
    "    inputs = tf.keras.Input(shape=(None,), name=\"inputs\")\n",
    "\n",
    "    # 패딩 마스크 사용\n",
    "    padding_mask = tf.keras.Input(shape=(1, 1, None), name=\"padding_mask\")\n",
    "\n",
    "    # 임베딩 레이어\n",
    "    embeddings = tf.keras.layers.Embedding(vocab_size, d_model)(inputs)\n",
    "    embeddings *= tf.math.sqrt(tf.cast(d_model, tf.float32))\n",
    "\n",
    "    # 포지셔널 인코딩\n",
    "    embeddings = PositionalEncoding(vocab_size, d_model)(embeddings)\n",
    "\n",
    "    outputs = tf.keras.layers.Dropout(rate=dropout)(embeddings)\n",
    "\n",
    "    # num_layers만큼 쌓아올린 인코더의 층.\n",
    "    for i in range(num_layers):\n",
    "        outputs = encoder_layer(\n",
    "            units=units,\n",
    "            d_model=d_model,\n",
    "            num_heads=num_heads,\n",
    "            dropout=dropout,\n",
    "            name=\"encoder_layer_{}\".format(i),\n",
    "        )([outputs, padding_mask])\n",
    "\n",
    "    return tf.keras.Model(inputs=[inputs, padding_mask], outputs=outputs, name=name)"
   ]
  },
  {
   "cell_type": "code",
   "execution_count": 23,
   "id": "23402233",
   "metadata": {},
   "outputs": [],
   "source": [
    "# 디코더 하나의 레이어를 함수로 구현.\n",
    "# 이 하나의 레이어 안에는 세 개의 서브 레이어가 존재합니다.\n",
    "def decoder_layer(units, d_model, num_heads, dropout, name=\"decoder_layer\"):\n",
    "    inputs = tf.keras.Input(shape=(None, d_model), name=\"inputs\")\n",
    "    enc_outputs = tf.keras.Input(shape=(None, d_model), name=\"encoder_outputs\")\n",
    "    look_ahead_mask = tf.keras.Input(shape=(1, None, None), name=\"look_ahead_mask\")\n",
    "    padding_mask = tf.keras.Input(shape=(1, 1, None), name='padding_mask')\n",
    "\n",
    "    # 첫 번째 서브 레이어 : 멀티 헤드 어텐션 수행 (셀프 어텐션)\n",
    "    attention1 = MultiHeadAttention(\n",
    "        d_model, num_heads, name=\"attention_1\")(inputs={\n",
    "        'query': inputs,\n",
    "        'key': inputs,\n",
    "        'value': inputs,\n",
    "        'mask': look_ahead_mask\n",
    "    })\n",
    "\n",
    "    # 멀티 헤드 어텐션의 결과는 LayerNormalization이라는 훈련을 돕는 테크닉을 수행\n",
    "    attention1 = tf.keras.layers.LayerNormalization(epsilon=1e-6)(attention1 + inputs)\n",
    "\n",
    "    # 두 번째 서브 레이어 : 마스크드 멀티 헤드 어텐션 수행 (인코더-디코더 어텐션)\n",
    "    attention2 = MultiHeadAttention(\n",
    "        d_model, num_heads, name=\"attention_2\")(inputs={\n",
    "        'query': attention1,\n",
    "        'key': enc_outputs,\n",
    "        'value': enc_outputs,\n",
    "        'mask': padding_mask\n",
    "    })\n",
    "\n",
    "    # 마스크드 멀티 헤드 어텐션의 결과는\n",
    "    # Dropout과 LayerNormalization이라는 훈련을 돕는 테크닉을 수행\n",
    "    attention2 = tf.keras.layers.Dropout(rate=dropout)(attention2)\n",
    "    attention2 = tf.keras.layers.LayerNormalization(epsilon=1e-6)(attention2 + attention1)\n",
    "\n",
    "    # 세 번째 서브 레이어 : 2개의 완전연결층\n",
    "    outputs = tf.keras.layers.Dense(units=units, activation='relu')(attention2)\n",
    "    outputs = tf.keras.layers.Dense(units=d_model)(outputs)\n",
    "\n",
    "    # 완전연결층의 결과는 Dropout과 LayerNormalization 수행\n",
    "    outputs = tf.keras.layers.Dropout(rate=dropout)(outputs)\n",
    "    outputs = tf.keras.layers.LayerNormalization(epsilon=1e-6)(outputs + attention2)\n",
    "\n",
    "    return tf.keras.Model(\n",
    "        inputs=[inputs, enc_outputs, look_ahead_mask, padding_mask],\n",
    "        outputs=outputs,\n",
    "        name=name\n",
    "    )"
   ]
  },
  {
   "cell_type": "code",
   "execution_count": 24,
   "id": "dcbd26e6",
   "metadata": {},
   "outputs": [],
   "source": [
    "def decoder(vocab_size,\n",
    "            num_layers,\n",
    "            units,\n",
    "            d_model,\n",
    "            num_heads,\n",
    "            dropout,\n",
    "            name='decoder'):\n",
    "    inputs = tf.keras.Input(shape=(None,), name='inputs')\n",
    "    enc_outputs = tf.keras.Input(shape=(None, d_model), name='encoder_outputs')\n",
    "    look_ahead_mask = tf.keras.Input(shape=(1, None, None), name='look_ahead_mask')\n",
    "\n",
    "    # 패딩 마스크\n",
    "    padding_mask = tf.keras.Input(shape=(1, 1, None), name='padding_mask')\n",
    "\n",
    "    # 임베딩 레이어\n",
    "    embeddings = tf.keras.layers.Embedding(vocab_size, d_model)(inputs)\n",
    "    embeddings *= tf.math.sqrt(tf.cast(d_model, tf.float32))\n",
    "\n",
    "    # 포지셔널 인코딩\n",
    "    embeddings = PositionalEncoding(vocab_size, d_model)(embeddings)\n",
    "\n",
    "    # Dropout이라는 훈련을 돕는 테크닉을 수행\n",
    "    outputs = tf.keras.layers.Dropout(rate=dropout)(embeddings)\n",
    "\n",
    "    for i in range(num_layers):\n",
    "        outputs = decoder_layer(\n",
    "            units=units,\n",
    "            d_model=d_model,\n",
    "            num_heads=num_heads,\n",
    "            dropout=dropout,\n",
    "            name='decoder_layer_{}'.format(i),\n",
    "        )(inputs=[outputs, enc_outputs, look_ahead_mask, padding_mask])\n",
    "\n",
    "    return tf.keras.Model(\n",
    "        inputs=[inputs, enc_outputs, look_ahead_mask, padding_mask],\n",
    "        outputs=outputs,\n",
    "        name=name\n",
    "    )"
   ]
  },
  {
   "cell_type": "code",
   "execution_count": 25,
   "id": "0d098628",
   "metadata": {},
   "outputs": [],
   "source": [
    "def transformer(vocab_size,\n",
    "                num_layers,\n",
    "                units,\n",
    "                d_model,\n",
    "                num_heads,\n",
    "                dropout,\n",
    "                name=\"transformer\"):\n",
    "    inputs = tf.keras.Input(shape=(None,), name=\"inputs\")\n",
    "    dec_inputs = tf.keras.Input(shape=(None,), name=\"dec_inputs\")\n",
    "\n",
    "    # 인코더에서 패딩을 위한 마스크\n",
    "    enc_padding_mask = tf.keras.layers.Lambda(\n",
    "        create_padding_mask, output_shape=(1, 1, None),\n",
    "        name='enc_padding_mask')(inputs)\n",
    "\n",
    "    # 디코더에서 미래의 토큰을 마스크 하기 위해서 사용합니다.\n",
    "    # 내부적으로 패딩 마스크도 포함되어져 있습니다.\n",
    "    look_ahead_mask = tf.keras.layers.Lambda(\n",
    "        create_look_ahead_mask,\n",
    "        output_shape=(1, None, None),\n",
    "        name='look_ahead_mask')(dec_inputs)\n",
    "\n",
    "    # 두 번째 어텐션 블록에서 인코더의 벡터들을 마스킹\n",
    "    # 디코더에서 패딩을 위한 마스크\n",
    "    dec_padding_mask = tf.keras.layers.Lambda(\n",
    "        create_padding_mask, output_shape=(1, 1, None),\n",
    "        name='dec_padding_mask')(inputs)\n",
    "\n",
    "    # 인코더\n",
    "    enc_outputs = encoder(\n",
    "        vocab_size=vocab_size,\n",
    "        num_layers=num_layers,\n",
    "        units=units,\n",
    "        d_model=d_model,\n",
    "        num_heads=num_heads,\n",
    "        dropout=dropout,\n",
    "    )(inputs=[inputs, enc_padding_mask])\n",
    "\n",
    "    # 디코더\n",
    "    dec_outputs = decoder(\n",
    "        vocab_size=vocab_size,\n",
    "        num_layers=num_layers,\n",
    "        units=units,\n",
    "        d_model=d_model,\n",
    "        num_heads=num_heads,\n",
    "        dropout=dropout,\n",
    "    )(inputs=[dec_inputs, enc_outputs, look_ahead_mask, dec_padding_mask])\n",
    "\n",
    "    # 완전연결층\n",
    "    outputs = tf.keras.layers.Dense(units=vocab_size, name=\"outputs\")(dec_outputs)\n",
    "\n",
    "    return tf.keras.Model(inputs=[inputs, dec_inputs], outputs=outputs, name=name)"
   ]
  },
  {
   "cell_type": "code",
   "execution_count": 26,
   "id": "c26915ab",
   "metadata": {},
   "outputs": [
    {
     "name": "stdout",
     "output_type": "stream",
     "text": [
      "Model: \"transformer\"\n",
      "__________________________________________________________________________________________________\n",
      "Layer (type)                    Output Shape         Param #     Connected to                     \n",
      "==================================================================================================\n",
      "inputs (InputLayer)             [(None, None)]       0                                            \n",
      "__________________________________________________________________________________________________\n",
      "dec_inputs (InputLayer)         [(None, None)]       0                                            \n",
      "__________________________________________________________________________________________________\n",
      "enc_padding_mask (Lambda)       (None, 1, 1, None)   0           inputs[0][0]                     \n",
      "__________________________________________________________________________________________________\n",
      "encoder (Functional)            (None, None, 256)    5239296     inputs[0][0]                     \n",
      "                                                                 enc_padding_mask[0][0]           \n",
      "__________________________________________________________________________________________________\n",
      "look_ahead_mask (Lambda)        (None, 1, None, None 0           dec_inputs[0][0]                 \n",
      "__________________________________________________________________________________________________\n",
      "dec_padding_mask (Lambda)       (None, 1, 1, None)   0           inputs[0][0]                     \n",
      "__________________________________________________________________________________________________\n",
      "decoder (Functional)            (None, None, 256)    6821376     dec_inputs[0][0]                 \n",
      "                                                                 encoder[0][0]                    \n",
      "                                                                 look_ahead_mask[0][0]            \n",
      "                                                                 dec_padding_mask[0][0]           \n",
      "__________________________________________________________________________________________________\n",
      "outputs (Dense)                 (None, None, 8112)   2084784     decoder[0][0]                    \n",
      "==================================================================================================\n",
      "Total params: 14,145,456\n",
      "Trainable params: 14,145,456\n",
      "Non-trainable params: 0\n",
      "__________________________________________________________________________________________________\n"
     ]
    }
   ],
   "source": [
    "tf.keras.backend.clear_session()\n",
    "\n",
    "# 하이퍼파라미터\n",
    "NUM_LAYERS = 6 # 인코더와 디코더의 층의 개수\n",
    "D_MODEL = 256 # 인코더와 디코더 내부의 입, 출력의 고정 차원\n",
    "NUM_HEADS = 8 # 멀티 헤드 어텐션에서의 헤드 수 \n",
    "UNITS = 512 # 피드 포워드 신경망의 은닉층의 크기\n",
    "DROPOUT = 0.1 # 드롭아웃의 비율\n",
    "\n",
    "model = transformer(\n",
    "    vocab_size=VOCAB_SIZE,\n",
    "    num_layers=NUM_LAYERS,\n",
    "    units=UNITS,\n",
    "    d_model=D_MODEL,\n",
    "    num_heads=NUM_HEADS,\n",
    "    dropout=DROPOUT)\n",
    "\n",
    "model.summary()"
   ]
  },
  {
   "cell_type": "code",
   "execution_count": 27,
   "id": "fe769aa7",
   "metadata": {},
   "outputs": [],
   "source": [
    "def loss_function(y_true, y_pred):\n",
    "    y_true = tf.reshape(y_true, shape=(-1, MAX_LENGTH - 1))\n",
    "\n",
    "    loss = tf.keras.losses.SparseCategoricalCrossentropy(\n",
    "        from_logits=True, reduction='none')(y_true, y_pred)\n",
    "\n",
    "    mask = tf.cast(tf.not_equal(y_true, 0), tf.float32)\n",
    "    loss = tf.multiply(loss, mask)\n",
    "\n",
    "    return tf.reduce_mean(loss)"
   ]
  },
  {
   "cell_type": "code",
   "execution_count": 28,
   "id": "e2b63267",
   "metadata": {},
   "outputs": [],
   "source": [
    "class CustomSchedule(tf.keras.optimizers.schedules.LearningRateSchedule):\n",
    "\n",
    "    def __init__(self, d_model, warmup_steps=4000):\n",
    "        super(CustomSchedule, self).__init__()\n",
    "        \n",
    "        self.d_model = d_model\n",
    "        self.d_model = tf.cast(self.d_model, tf.float32)\n",
    "        \n",
    "        self.warmup_steps = warmup_steps\n",
    "\n",
    "    def __call__(self, step):\n",
    "        arg1 = tf.math.rsqrt(step)\n",
    "        arg2 = step * (self.warmup_steps**-1.5)\n",
    "\n",
    "        return tf.math.rsqrt(self.d_model) * tf.math.minimum(arg1, arg2)"
   ]
  },
  {
   "cell_type": "code",
   "execution_count": 29,
   "id": "268965c4",
   "metadata": {},
   "outputs": [],
   "source": [
    "def accuracy(y_true, y_pred):\n",
    "    y_true = tf.reshape(y_true, shape=(-1, MAX_LENGTH - 1))\n",
    "    return tf.keras.metrics.sparse_categorical_accuracy(y_true, y_pred)"
   ]
  },
  {
   "cell_type": "code",
   "execution_count": 30,
   "id": "f5472f65",
   "metadata": {},
   "outputs": [],
   "source": [
    "learning_rate = CustomSchedule(D_MODEL)\n",
    "\n",
    "optimizer = tf.keras.optimizers.Adam(\n",
    "    learning_rate, beta_1=0.9, beta_2=0.98, epsilon=1e-9)\n",
    "\n",
    "model.compile(optimizer=optimizer, loss=loss_function, metrics=[accuracy])"
   ]
  },
  {
   "cell_type": "code",
   "execution_count": 31,
   "id": "b1179602",
   "metadata": {
    "scrolled": false
   },
   "outputs": [
    {
     "name": "stdout",
     "output_type": "stream",
     "text": [
      "Epoch 1/100\n",
      "93/93 [==============================] - 37s 208ms/step - loss: 1.4892 - accuracy: 0.0171\n",
      "Epoch 2/100\n",
      "93/93 [==============================] - 20s 213ms/step - loss: 1.3644 - accuracy: 0.0258\n",
      "Epoch 3/100\n",
      "93/93 [==============================] - 19s 208ms/step - loss: 1.2296 - accuracy: 0.0413\n",
      "Epoch 4/100\n",
      "93/93 [==============================] - 19s 206ms/step - loss: 1.0966 - accuracy: 0.0494\n",
      "Epoch 5/100\n",
      "93/93 [==============================] - 19s 207ms/step - loss: 1.0164 - accuracy: 0.0497\n",
      "Epoch 6/100\n",
      "93/93 [==============================] - 19s 209ms/step - loss: 0.9611 - accuracy: 0.0511\n",
      "Epoch 7/100\n",
      "93/93 [==============================] - 19s 208ms/step - loss: 0.9268 - accuracy: 0.0531\n",
      "Epoch 8/100\n",
      "93/93 [==============================] - 19s 207ms/step - loss: 0.8997 - accuracy: 0.0548\n",
      "Epoch 9/100\n",
      "93/93 [==============================] - 19s 208ms/step - loss: 0.8735 - accuracy: 0.0562\n",
      "Epoch 10/100\n",
      "93/93 [==============================] - 19s 208ms/step - loss: 0.8462 - accuracy: 0.0576\n",
      "Epoch 11/100\n",
      "93/93 [==============================] - 19s 208ms/step - loss: 0.8176 - accuracy: 0.0593\n",
      "Epoch 12/100\n",
      "93/93 [==============================] - 19s 208ms/step - loss: 0.7860 - accuracy: 0.0614\n",
      "Epoch 13/100\n",
      "93/93 [==============================] - 19s 208ms/step - loss: 0.7527 - accuracy: 0.0640\n",
      "Epoch 14/100\n",
      "93/93 [==============================] - 19s 207ms/step - loss: 0.7136 - accuracy: 0.0669\n",
      "Epoch 15/100\n",
      "93/93 [==============================] - 19s 207ms/step - loss: 0.6738 - accuracy: 0.0708\n",
      "Epoch 16/100\n",
      "93/93 [==============================] - 19s 208ms/step - loss: 0.6314 - accuracy: 0.0748\n",
      "Epoch 17/100\n",
      "93/93 [==============================] - 19s 208ms/step - loss: 0.5870 - accuracy: 0.0798\n",
      "Epoch 18/100\n",
      "93/93 [==============================] - 19s 208ms/step - loss: 0.5427 - accuracy: 0.0847\n",
      "Epoch 19/100\n",
      "93/93 [==============================] - 19s 208ms/step - loss: 0.4976 - accuracy: 0.0904\n",
      "Epoch 20/100\n",
      "93/93 [==============================] - 19s 208ms/step - loss: 0.4541 - accuracy: 0.0960\n",
      "Epoch 21/100\n",
      "93/93 [==============================] - 19s 208ms/step - loss: 0.4100 - accuracy: 0.1020\n",
      "Epoch 22/100\n",
      "93/93 [==============================] - 19s 207ms/step - loss: 0.3685 - accuracy: 0.1079\n",
      "Epoch 23/100\n",
      "93/93 [==============================] - 19s 207ms/step - loss: 0.3263 - accuracy: 0.1141\n",
      "Epoch 24/100\n",
      "93/93 [==============================] - 19s 208ms/step - loss: 0.2896 - accuracy: 0.1196\n",
      "Epoch 25/100\n",
      "93/93 [==============================] - 19s 208ms/step - loss: 0.2537 - accuracy: 0.1251\n",
      "Epoch 26/100\n",
      "93/93 [==============================] - 19s 208ms/step - loss: 0.2219 - accuracy: 0.1298\n",
      "Epoch 27/100\n",
      "93/93 [==============================] - 19s 209ms/step - loss: 0.1953 - accuracy: 0.1341\n",
      "Epoch 28/100\n",
      "93/93 [==============================] - 20s 211ms/step - loss: 0.1707 - accuracy: 0.1385\n",
      "Epoch 29/100\n",
      "93/93 [==============================] - 20s 211ms/step - loss: 0.1480 - accuracy: 0.1423\n",
      "Epoch 30/100\n",
      "93/93 [==============================] - 19s 209ms/step - loss: 0.1302 - accuracy: 0.1457\n",
      "Epoch 31/100\n",
      "93/93 [==============================] - 19s 209ms/step - loss: 0.1132 - accuracy: 0.1486\n",
      "Epoch 32/100\n",
      "93/93 [==============================] - 19s 209ms/step - loss: 0.1031 - accuracy: 0.1505\n",
      "Epoch 33/100\n",
      "93/93 [==============================] - 19s 208ms/step - loss: 0.0923 - accuracy: 0.1522\n",
      "Epoch 34/100\n",
      "93/93 [==============================] - 19s 208ms/step - loss: 0.0848 - accuracy: 0.1537\n",
      "Epoch 35/100\n",
      "93/93 [==============================] - 19s 207ms/step - loss: 0.0778 - accuracy: 0.1548\n",
      "Epoch 36/100\n",
      "93/93 [==============================] - 19s 208ms/step - loss: 0.0727 - accuracy: 0.1560\n",
      "Epoch 37/100\n",
      "93/93 [==============================] - 19s 208ms/step - loss: 0.0686 - accuracy: 0.1567\n",
      "Epoch 38/100\n",
      "93/93 [==============================] - 19s 208ms/step - loss: 0.0650 - accuracy: 0.1572\n",
      "Epoch 39/100\n",
      "93/93 [==============================] - 19s 207ms/step - loss: 0.0620 - accuracy: 0.1577\n",
      "Epoch 40/100\n",
      "93/93 [==============================] - 19s 208ms/step - loss: 0.0592 - accuracy: 0.1585\n",
      "Epoch 41/100\n",
      "93/93 [==============================] - 19s 208ms/step - loss: 0.0594 - accuracy: 0.1585\n",
      "Epoch 42/100\n",
      "93/93 [==============================] - 19s 208ms/step - loss: 0.0589 - accuracy: 0.1583\n",
      "Epoch 43/100\n",
      "93/93 [==============================] - 19s 208ms/step - loss: 0.0556 - accuracy: 0.1591\n",
      "Epoch 44/100\n",
      "93/93 [==============================] - 19s 207ms/step - loss: 0.0555 - accuracy: 0.1590\n",
      "Epoch 45/100\n",
      "93/93 [==============================] - 19s 208ms/step - loss: 0.0514 - accuracy: 0.1601\n",
      "Epoch 46/100\n",
      "93/93 [==============================] - 19s 208ms/step - loss: 0.0469 - accuracy: 0.1614\n",
      "Epoch 47/100\n",
      "93/93 [==============================] - 19s 207ms/step - loss: 0.0446 - accuracy: 0.1618\n",
      "Epoch 48/100\n",
      "93/93 [==============================] - 19s 208ms/step - loss: 0.0421 - accuracy: 0.1625\n",
      "Epoch 49/100\n",
      "93/93 [==============================] - 19s 207ms/step - loss: 0.0395 - accuracy: 0.1632\n",
      "Epoch 50/100\n",
      "93/93 [==============================] - 19s 207ms/step - loss: 0.0365 - accuracy: 0.1639\n",
      "Epoch 51/100\n",
      "93/93 [==============================] - 19s 207ms/step - loss: 0.0342 - accuracy: 0.1648\n",
      "Epoch 52/100\n",
      "93/93 [==============================] - 19s 207ms/step - loss: 0.0334 - accuracy: 0.1647\n",
      "Epoch 53/100\n",
      "93/93 [==============================] - 19s 207ms/step - loss: 0.0317 - accuracy: 0.1653\n",
      "Epoch 54/100\n",
      "93/93 [==============================] - 19s 207ms/step - loss: 0.0301 - accuracy: 0.1656\n",
      "Epoch 55/100\n",
      "93/93 [==============================] - 19s 208ms/step - loss: 0.0288 - accuracy: 0.1660\n",
      "Epoch 56/100\n",
      "93/93 [==============================] - 19s 208ms/step - loss: 0.0278 - accuracy: 0.1663\n",
      "Epoch 57/100\n",
      "93/93 [==============================] - 19s 207ms/step - loss: 0.0257 - accuracy: 0.1670\n",
      "Epoch 58/100\n",
      "93/93 [==============================] - 19s 207ms/step - loss: 0.0242 - accuracy: 0.1674\n",
      "Epoch 59/100\n",
      "93/93 [==============================] - 19s 207ms/step - loss: 0.0231 - accuracy: 0.1678\n",
      "Epoch 60/100\n",
      "93/93 [==============================] - 19s 208ms/step - loss: 0.0218 - accuracy: 0.1682\n",
      "Epoch 61/100\n",
      "93/93 [==============================] - 20s 211ms/step - loss: 0.0224 - accuracy: 0.1678\n",
      "Epoch 62/100\n",
      "93/93 [==============================] - 20s 210ms/step - loss: 0.0207 - accuracy: 0.1684\n",
      "Epoch 63/100\n",
      "93/93 [==============================] - 20s 211ms/step - loss: 0.0210 - accuracy: 0.1683\n",
      "Epoch 64/100\n",
      "93/93 [==============================] - 20s 213ms/step - loss: 0.0204 - accuracy: 0.1683\n",
      "Epoch 65/100\n",
      "93/93 [==============================] - 20s 212ms/step - loss: 0.0188 - accuracy: 0.1688\n",
      "Epoch 66/100\n",
      "93/93 [==============================] - 19s 210ms/step - loss: 0.0180 - accuracy: 0.1692\n",
      "Epoch 67/100\n",
      "93/93 [==============================] - 20s 211ms/step - loss: 0.0180 - accuracy: 0.1690\n",
      "Epoch 68/100\n",
      "93/93 [==============================] - 20s 210ms/step - loss: 0.0174 - accuracy: 0.1692\n",
      "Epoch 69/100\n",
      "93/93 [==============================] - 20s 211ms/step - loss: 0.0170 - accuracy: 0.1694\n",
      "Epoch 70/100\n",
      "93/93 [==============================] - 20s 211ms/step - loss: 0.0163 - accuracy: 0.1695\n",
      "Epoch 71/100\n",
      "93/93 [==============================] - 20s 210ms/step - loss: 0.0159 - accuracy: 0.1697\n",
      "Epoch 72/100\n",
      "93/93 [==============================] - 20s 210ms/step - loss: 0.0152 - accuracy: 0.1699\n",
      "Epoch 73/100\n",
      "93/93 [==============================] - 19s 209ms/step - loss: 0.0145 - accuracy: 0.1701\n",
      "Epoch 74/100\n",
      "93/93 [==============================] - 19s 208ms/step - loss: 0.0143 - accuracy: 0.1701\n",
      "Epoch 75/100\n",
      "93/93 [==============================] - 19s 208ms/step - loss: 0.0139 - accuracy: 0.1702\n",
      "Epoch 76/100\n",
      "93/93 [==============================] - 19s 208ms/step - loss: 0.0133 - accuracy: 0.1703\n",
      "Epoch 77/100\n",
      "93/93 [==============================] - 19s 208ms/step - loss: 0.0136 - accuracy: 0.1703\n",
      "Epoch 78/100\n",
      "93/93 [==============================] - 19s 207ms/step - loss: 0.0122 - accuracy: 0.1708\n",
      "Epoch 79/100\n",
      "93/93 [==============================] - 19s 208ms/step - loss: 0.0123 - accuracy: 0.1707\n",
      "Epoch 80/100\n",
      "93/93 [==============================] - 19s 208ms/step - loss: 0.0122 - accuracy: 0.1706\n",
      "Epoch 81/100\n",
      "93/93 [==============================] - 19s 207ms/step - loss: 0.0118 - accuracy: 0.1708\n",
      "Epoch 82/100\n",
      "93/93 [==============================] - 19s 207ms/step - loss: 0.0110 - accuracy: 0.1710\n",
      "Epoch 83/100\n",
      "93/93 [==============================] - 19s 207ms/step - loss: 0.0115 - accuracy: 0.1710\n",
      "Epoch 84/100\n",
      "93/93 [==============================] - 19s 207ms/step - loss: 0.0114 - accuracy: 0.1709\n",
      "Epoch 85/100\n",
      "93/93 [==============================] - 19s 207ms/step - loss: 0.0110 - accuracy: 0.1710\n",
      "Epoch 86/100\n",
      "93/93 [==============================] - 19s 207ms/step - loss: 0.0106 - accuracy: 0.1711\n",
      "Epoch 87/100\n",
      "93/93 [==============================] - 19s 207ms/step - loss: 0.0103 - accuracy: 0.1712\n",
      "Epoch 88/100\n",
      "93/93 [==============================] - 19s 207ms/step - loss: 0.0099 - accuracy: 0.1713\n",
      "Epoch 89/100\n",
      "93/93 [==============================] - 19s 207ms/step - loss: 0.0096 - accuracy: 0.1713\n",
      "Epoch 90/100\n",
      "93/93 [==============================] - 19s 207ms/step - loss: 0.0093 - accuracy: 0.1714\n",
      "Epoch 91/100\n",
      "93/93 [==============================] - 19s 207ms/step - loss: 0.0096 - accuracy: 0.1714\n",
      "Epoch 92/100\n",
      "93/93 [==============================] - 19s 207ms/step - loss: 0.0093 - accuracy: 0.1715\n",
      "Epoch 93/100\n",
      "93/93 [==============================] - 19s 207ms/step - loss: 0.0091 - accuracy: 0.1715\n",
      "Epoch 94/100\n",
      "93/93 [==============================] - 19s 207ms/step - loss: 0.0087 - accuracy: 0.1716\n",
      "Epoch 95/100\n",
      "93/93 [==============================] - 19s 207ms/step - loss: 0.0085 - accuracy: 0.1716\n",
      "Epoch 96/100\n",
      "93/93 [==============================] - 19s 208ms/step - loss: 0.0088 - accuracy: 0.1717\n",
      "Epoch 97/100\n",
      "93/93 [==============================] - 19s 207ms/step - loss: 0.0079 - accuracy: 0.1719\n",
      "Epoch 98/100\n",
      "93/93 [==============================] - 19s 207ms/step - loss: 0.0078 - accuracy: 0.1719\n",
      "Epoch 99/100\n",
      "93/93 [==============================] - 19s 207ms/step - loss: 0.0084 - accuracy: 0.1717\n",
      "Epoch 100/100\n",
      "93/93 [==============================] - 19s 207ms/step - loss: 0.0082 - accuracy: 0.1718\n"
     ]
    },
    {
     "data": {
      "text/plain": [
       "<keras.callbacks.History at 0x7f8d80581c70>"
      ]
     },
     "execution_count": 31,
     "metadata": {},
     "output_type": "execute_result"
    }
   ],
   "source": [
    "EPOCHS = 100\n",
    "model.fit(dataset, epochs=EPOCHS, verbose=1)"
   ]
  },
  {
   "cell_type": "markdown",
   "id": "64d40a7e",
   "metadata": {},
   "source": [
    "### Step 5. 모델 평가하기"
   ]
  },
  {
   "cell_type": "code",
   "execution_count": 32,
   "id": "bdda389f",
   "metadata": {},
   "outputs": [],
   "source": [
    "def decoder_inference(sentence):\n",
    "    sentence = preprocess_sentence(sentence)\n",
    "\n",
    "    # 입력된 문장을 정수 인코딩 후, 시작 토큰과 종료 토큰을 앞뒤로 추가.\n",
    "    # ex) Where have you been? → [[8331   86   30    5 1059    7 8332]]\n",
    "    sentence = tf.expand_dims(\n",
    "        START_TOKEN + tokenizer.encode(sentence) + END_TOKEN, axis=0)\n",
    "\n",
    "    # 디코더의 현재까지의 예측한 출력 시퀀스가 지속적으로 저장되는 변수.\n",
    "    # 처음에는 예측한 내용이 없음으로 시작 토큰만 별도 저장. ex) 8331\n",
    "    output_sequence = tf.expand_dims(START_TOKEN, 0)\n",
    "\n",
    "    # 디코더의 인퍼런스 단계\n",
    "    for i in range(MAX_LENGTH):\n",
    "        # 디코더는 최대 MAX_LENGTH의 길이만큼 다음 단어 예측을 반복합니다.\n",
    "        predictions = model(inputs=[sentence, output_sequence], training=False)\n",
    "        predictions = predictions[:, -1:, :]\n",
    "\n",
    "        # 현재 예측한 단어의 정수\n",
    "        predicted_id = tf.cast(tf.argmax(predictions, axis=-1), tf.int32)\n",
    "\n",
    "        # 만약 현재 예측한 단어가 종료 토큰이라면 for문을 종료\n",
    "        if tf.equal(predicted_id, END_TOKEN[0]):\n",
    "            break\n",
    "\n",
    "        # 예측한 단어들은 지속적으로 output_sequence에 추가됩니다.\n",
    "        # 이 output_sequence는 다시 디코더의 입력이 됩니다.\n",
    "        output_sequence = tf.concat([output_sequence, predicted_id], axis=-1)\n",
    "\n",
    "    return tf.squeeze(output_sequence, axis=0)"
   ]
  },
  {
   "cell_type": "code",
   "execution_count": 33,
   "id": "4fb065a7",
   "metadata": {},
   "outputs": [],
   "source": [
    "def sentence_generation(sentence):\n",
    "    # 입력 문장에 대해서 디코더를 동작 시켜 예측된 정수 시퀀스를 리턴받습니다.\n",
    "    prediction = decoder_inference(sentence)\n",
    "\n",
    "    # 정수 시퀀스를 다시 텍스트 시퀀스로 변환합니다.\n",
    "    predicted_sentence = tokenizer.decode(\n",
    "        [i for i in prediction if i < tokenizer.vocab_size])\n",
    "\n",
    "    print('입력 : {}'.format(sentence))\n",
    "    print('출력 : {}'.format(predicted_sentence))\n",
    "\n",
    "    return predicted_sentence"
   ]
  },
  {
   "cell_type": "code",
   "execution_count": 35,
   "id": "2ce97d09",
   "metadata": {},
   "outputs": [
    {
     "name": "stdout",
     "output_type": "stream",
     "text": [
      "입력 : 멍청아\n",
      "출력 : 다음에는 다를거예요 .\n"
     ]
    },
    {
     "data": {
      "text/plain": [
       "'다음에는 다를거예요 .'"
      ]
     },
     "execution_count": 35,
     "metadata": {},
     "output_type": "execute_result"
    }
   ],
   "source": [
    "sentence_generation('멍청아')"
   ]
  },
  {
   "cell_type": "code",
   "execution_count": 36,
   "id": "6f8e3d98",
   "metadata": {},
   "outputs": [
    {
     "name": "stdout",
     "output_type": "stream",
     "text": [
      "입력 : 과제 힘들어\n",
      "출력 : 어떻게 말 기억하세요 .\n"
     ]
    },
    {
     "data": {
      "text/plain": [
       "'어떻게 말 기억하세요 .'"
      ]
     },
     "execution_count": 36,
     "metadata": {},
     "output_type": "execute_result"
    }
   ],
   "source": [
    "sentence_generation('과제 힘들어')"
   ]
  },
  {
   "cell_type": "code",
   "execution_count": 37,
   "id": "f52005ca",
   "metadata": {},
   "outputs": [
    {
     "name": "stdout",
     "output_type": "stream",
     "text": [
      "입력 : 오래 기다렸는데 너 대답 이것밖에 못해?\n",
      "출력 : 웃으면서 무시해주세요 .\n"
     ]
    },
    {
     "data": {
      "text/plain": [
       "'웃으면서 무시해주세요 .'"
      ]
     },
     "execution_count": 37,
     "metadata": {},
     "output_type": "execute_result"
    }
   ],
   "source": [
    "sentence_generation('오래 기다렸는데 너 대답 이것밖에 못해?')"
   ]
  },
  {
   "cell_type": "code",
   "execution_count": 38,
   "id": "632de4e4",
   "metadata": {},
   "outputs": [
    {
     "name": "stdout",
     "output_type": "stream",
     "text": [
      "입력 : 뭐라는거야\n",
      "출력 : 행복할 거예요 .\n"
     ]
    },
    {
     "data": {
      "text/plain": [
       "'행복할 거예요 .'"
      ]
     },
     "execution_count": 38,
     "metadata": {},
     "output_type": "execute_result"
    }
   ],
   "source": [
    "sentence_generation('뭐라는거야')"
   ]
  },
  {
   "cell_type": "code",
   "execution_count": 39,
   "id": "f46474db",
   "metadata": {},
   "outputs": [
    {
     "name": "stdout",
     "output_type": "stream",
     "text": [
      "입력 : 뻔뻔하네\n",
      "출력 : 한가지만 보면 몰라요 .\n"
     ]
    },
    {
     "data": {
      "text/plain": [
       "'한가지만 보면 몰라요 .'"
      ]
     },
     "execution_count": 39,
     "metadata": {},
     "output_type": "execute_result"
    }
   ],
   "source": [
    "sentence_generation('뻔뻔하네')"
   ]
  },
  {
   "cell_type": "code",
   "execution_count": 40,
   "id": "23d06087",
   "metadata": {},
   "outputs": [
    {
     "name": "stdout",
     "output_type": "stream",
     "text": [
      "입력 : 너 괜찮은거지?\n",
      "출력 : 혼자가 되는 거겠죠 .\n"
     ]
    },
    {
     "data": {
      "text/plain": [
       "'혼자가 되는 거겠죠 .'"
      ]
     },
     "execution_count": 40,
     "metadata": {},
     "output_type": "execute_result"
    }
   ],
   "source": [
    "sentence_generation('너 괜찮은거지?')"
   ]
  },
  {
   "cell_type": "code",
   "execution_count": 41,
   "id": "1965e3c8",
   "metadata": {},
   "outputs": [
    {
     "name": "stdout",
     "output_type": "stream",
     "text": [
      "입력 : 이대로 과제 제출 해버린다???\n",
      "출력 : 충분히 지인 사람 만날 수 있을 거예요 .\n"
     ]
    },
    {
     "data": {
      "text/plain": [
       "'충분히 지인 사람 만날 수 있을 거예요 .'"
      ]
     },
     "execution_count": 41,
     "metadata": {},
     "output_type": "execute_result"
    }
   ],
   "source": [
    "sentence_generation('이대로 과제 제출 해버린다???')"
   ]
  },
  {
   "cell_type": "code",
   "execution_count": 43,
   "id": "cc6dde3b",
   "metadata": {},
   "outputs": [
    {
     "name": "stdout",
     "output_type": "stream",
     "text": [
      "입력 : 하... 말을 똑바로 해\n",
      "출력 : 자신의 아무래도 비례하지 않는 거죠 .\n"
     ]
    },
    {
     "data": {
      "text/plain": [
       "'자신의 아무래도 비례하지 않는 거죠 .'"
      ]
     },
     "execution_count": 43,
     "metadata": {},
     "output_type": "execute_result"
    }
   ],
   "source": [
    "sentence_generation('하... 말을 똑바로 해')"
   ]
  },
  {
   "cell_type": "markdown",
   "id": "2090a029",
   "metadata": {},
   "source": [
    "### 회고\n",
    "\n",
    "\n",
    "##### 어려웠던 점, 해결을 위해 시도한 방법, 문제해결에 성공한 이유 또는 실패한 이유\n",
    "    : 프로젝트를 진행하기 전에 영화 데이터를 이용했었는데, path_to_zip 변수가 어떻게 사용된 건지, 파일을 읽는 방식을 이해하는 게 어려웠다. 그래서 챗봇 데이터를 어떻게 가져와야 하는 지 고민을 했다.\n",
    "    \n",
    "##### 프로젝트를 진행하면서 알아낸 점 혹은 아직 모호한 점\n",
    "    : 리스트에는 split을 적용할 수 없다. split은 str에서 사용할 수 있다.\n",
    "     이번 프로젝트에는 validation 데이터를 사용하지 않아도 괜찮을까? 사용해야만 할 것 같은 예감이 드는데 그냥 제출해버리고 싶다.\n",
    "    \n",
    "##### 루브릭 평가 지표를 맞추기 위해 시도한 내용\n",
    "    : 로스가 수렴하도록 학습을 오래 시켰고, 모델 구조에서 num_layers의 수를 6으로 바꿨다.\n",
    "    \n",
    "##### 자기 다짐, 프로젝트를 진행하면서 느낀점\n",
    "    : 그냥 validation 데이터를 사용해줄까...?\n",
    "    이번 프로젝트를 진행하면서 loss가 굉장히 낮아짐에도 불구하고 accuracy가 너무 낮아서 놀랐다. 이런 학습 결과가 나올 수도 있구나 싶었고, 트랜스포머 모형을 좀 더 봐야 accuracy가 올라갈 것 같다는 느낌이 든다."
   ]
  }
 ],
 "metadata": {
  "kernelspec": {
   "display_name": "Python 3 (ipykernel)",
   "language": "python",
   "name": "python3"
  },
  "language_info": {
   "codemirror_mode": {
    "name": "ipython",
    "version": 3
   },
   "file_extension": ".py",
   "mimetype": "text/x-python",
   "name": "python",
   "nbconvert_exporter": "python",
   "pygments_lexer": "ipython3",
   "version": "3.9.7"
  }
 },
 "nbformat": 4,
 "nbformat_minor": 5
}
