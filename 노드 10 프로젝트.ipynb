{
 "cells": [
  {
   "cell_type": "markdown",
   "id": "5a17b029",
   "metadata": {},
   "source": [
    "# 10-2"
   ]
  },
  {
   "cell_type": "code",
   "execution_count": 1,
   "id": "2f3c3ddd",
   "metadata": {},
   "outputs": [],
   "source": [
    "def change_num(numbers):\n",
    "    answer = numbers.replace(numbers[-5:], '#####')\n",
    "    return answer"
   ]
  },
  {
   "cell_type": "code",
   "execution_count": 2,
   "id": "a554d3a1",
   "metadata": {},
   "outputs": [
    {
     "data": {
      "text/plain": [
       "'010-13579-#####'"
      ]
     },
     "execution_count": 2,
     "metadata": {},
     "output_type": "execute_result"
    }
   ],
   "source": [
    "change_num('010-13579-24688')"
   ]
  },
  {
   "cell_type": "markdown",
   "id": "a186b1b8",
   "metadata": {},
   "source": [
    "# 10-3"
   ]
  },
  {
   "cell_type": "code",
   "execution_count": 3,
   "id": "d10b4dc9",
   "metadata": {},
   "outputs": [],
   "source": [
    "def flatten(data):\n",
    "    output = []\n",
    "    for element in data:\n",
    "        if type(element) == list:\n",
    "            output += flatten(element)\n",
    "        else:\n",
    "            output.append(element)\n",
    "    return output"
   ]
  },
  {
   "cell_type": "code",
   "execution_count": 4,
   "id": "b7ffdfe3",
   "metadata": {},
   "outputs": [
    {
     "data": {
      "text/plain": [
       "[1, 2, 3, 4, 5, 6, 7, 8, 9]"
      ]
     },
     "execution_count": 4,
     "metadata": {},
     "output_type": "execute_result"
    }
   ],
   "source": [
    "a = [[1, 2], 3, [[4, 5, 6], 7], 8, 9]\n",
    "flatten(a)"
   ]
  },
  {
   "cell_type": "markdown",
   "id": "0bae8822",
   "metadata": {},
   "source": [
    "# 10-4 연습문제"
   ]
  },
  {
   "cell_type": "code",
   "execution_count": 5,
   "id": "76e83858",
   "metadata": {},
   "outputs": [],
   "source": [
    "def int_divider(x, y):\n",
    "    if x % 1 == 0 and y % 1 == 0:\n",
    "        answer = x/y\n",
    "        return answer\n",
    "    else:\n",
    "        print('정수만 계산 가능합니다.')\n",
    "    return None"
   ]
  },
  {
   "cell_type": "code",
   "execution_count": 6,
   "id": "3807813f",
   "metadata": {},
   "outputs": [
    {
     "data": {
      "text/plain": [
       "3.3333333333333335"
      ]
     },
     "execution_count": 6,
     "metadata": {},
     "output_type": "execute_result"
    }
   ],
   "source": [
    "int_divider(10,3)"
   ]
  },
  {
   "cell_type": "code",
   "execution_count": 7,
   "id": "2af89343",
   "metadata": {},
   "outputs": [
    {
     "name": "stdout",
     "output_type": "stream",
     "text": [
      "정수만 계산 가능합니다.\n"
     ]
    }
   ],
   "source": [
    "int_divider(-1, 0.9)"
   ]
  },
  {
   "cell_type": "code",
   "execution_count": 8,
   "id": "22a39f11",
   "metadata": {},
   "outputs": [
    {
     "data": {
      "text/plain": [
       "3.0"
      ]
     },
     "execution_count": 8,
     "metadata": {},
     "output_type": "execute_result"
    }
   ],
   "source": [
    "int_divider(6.0, 2)"
   ]
  },
  {
   "cell_type": "markdown",
   "id": "523ae6be",
   "metadata": {},
   "source": [
    "# 10-4 실전문제"
   ]
  },
  {
   "cell_type": "code",
   "execution_count": 9,
   "id": "b8e7d5db",
   "metadata": {},
   "outputs": [],
   "source": [
    "def mul(*values):\n",
    "    output = 1\n",
    "    for num in values:\n",
    "        if num <= 10:\n",
    "            output *= num\n",
    "            \n",
    "        else:\n",
    "            pass\n",
    "    return output"
   ]
  },
  {
   "cell_type": "code",
   "execution_count": 10,
   "id": "4b256a8c",
   "metadata": {},
   "outputs": [
    {
     "data": {
      "text/plain": [
       "120"
      ]
     },
     "execution_count": 10,
     "metadata": {},
     "output_type": "execute_result"
    }
   ],
   "source": [
    "mul(2, 3, 4, 5)"
   ]
  },
  {
   "cell_type": "code",
   "execution_count": 11,
   "id": "c3db38a9",
   "metadata": {},
   "outputs": [
    {
     "data": {
      "text/plain": [
       "30"
      ]
     },
     "execution_count": 11,
     "metadata": {},
     "output_type": "execute_result"
    }
   ],
   "source": [
    "mul(3, 12, 10)"
   ]
  }
 ],
 "metadata": {
  "kernelspec": {
   "display_name": "Python 3 (ipykernel)",
   "language": "python",
   "name": "python3"
  },
  "language_info": {
   "codemirror_mode": {
    "name": "ipython",
    "version": 3
   },
   "file_extension": ".py",
   "mimetype": "text/x-python",
   "name": "python",
   "nbconvert_exporter": "python",
   "pygments_lexer": "ipython3",
   "version": "3.9.7"
  }
 },
 "nbformat": 4,
 "nbformat_minor": 5
}
